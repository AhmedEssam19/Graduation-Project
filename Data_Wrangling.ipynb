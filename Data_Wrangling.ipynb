{
 "cells": [
  {
   "cell_type": "code",
   "execution_count": 1,
   "metadata": {},
   "outputs": [],
   "source": [
    "import glob"
   ]
  },
  {
   "cell_type": "code",
   "execution_count": 2,
   "metadata": {},
   "outputs": [
    {
     "data": {
      "text/plain": [
       "True"
      ]
     },
     "execution_count": 2,
     "metadata": {},
     "output_type": "execute_result"
    }
   ],
   "source": [
    "import cv2 as cv\n",
    "\n",
    "img1 = cv.imread('Subjects/1.jpg')\n",
    "img2 = cv.imread('Subjects/1.jpg')\n",
    "(img1 == img2).all()"
   ]
  },
  {
   "cell_type": "code",
   "execution_count": 3,
   "metadata": {},
   "outputs": [],
   "source": [
    "filename_to_filepath = {}\n",
    "for filepath in glob.glob('Subjects/*/*.jpg'):\n",
    "    filename = filepath.split('/')[-1]\n",
    "    if filename in filename_to_filepath:\n",
    "        filename_to_filepath[filename].append(filepath)\n",
    "    else:\n",
    "        filename_to_filepath[filename] = [filepath]"
   ]
  },
  {
   "cell_type": "code",
   "execution_count": 6,
   "metadata": {},
   "outputs": [
    {
     "name": "stderr",
     "output_type": "stream",
     "text": [
      "  0%|                                         | 1/10638 [00:00<19:00,  9.32it/s]"
     ]
    },
    {
     "name": "stdout",
     "output_type": "stream",
     "text": [
      "3\n",
      "Another Candidate\n",
      "Another Candidate\n",
      "3\n",
      "Another Candidate\n",
      "Another Candidate\n"
     ]
    },
    {
     "name": "stderr",
     "output_type": "stream",
     "text": [
      "  0%|                                         | 4/10638 [00:00<15:28, 11.45it/s]"
     ]
    },
    {
     "name": "stdout",
     "output_type": "stream",
     "text": [
      "2\n",
      "Another Candidate\n",
      "2\n",
      "Another Candidate\n",
      "2\n"
     ]
    },
    {
     "name": "stderr",
     "output_type": "stream",
     "text": [
      "\r",
      "  0%|                                         | 6/10638 [00:00<14:38, 12.10it/s]"
     ]
    },
    {
     "name": "stdout",
     "output_type": "stream",
     "text": [
      "Another Candidate\n",
      "2\n",
      "Another Candidate\n",
      "2\n",
      "Another Candidate\n",
      "2\n"
     ]
    },
    {
     "name": "stderr",
     "output_type": "stream",
     "text": [
      "\r",
      "  0%|                                         | 8/10638 [00:00<14:21, 12.34it/s]"
     ]
    },
    {
     "name": "stdout",
     "output_type": "stream",
     "text": [
      "Another Candidate\n",
      "3\n",
      "Another Candidate\n",
      "Another Candidate\n",
      "3\n",
      "Another Candidate\n",
      "Another Candidate\n"
     ]
    },
    {
     "name": "stderr",
     "output_type": "stream",
     "text": [
      "\r",
      "  0%|                                        | 10/10638 [00:00<15:34, 11.37it/s]"
     ]
    },
    {
     "name": "stdout",
     "output_type": "stream",
     "text": [
      "3\n",
      "Another Candidate\n",
      "Another Candidate\n",
      "3\n",
      "Another Candidate\n",
      "Another Candidate\n"
     ]
    },
    {
     "name": "stderr",
     "output_type": "stream",
     "text": [
      "\r",
      "  0%|                                        | 12/10638 [00:01<16:24, 10.79it/s]"
     ]
    },
    {
     "name": "stdout",
     "output_type": "stream",
     "text": [
      "3\n",
      "Another Candidate\n",
      "Another Candidate\n",
      "3\n",
      "Another Candidate\n",
      "Another Candidate\n"
     ]
    },
    {
     "name": "stderr",
     "output_type": "stream",
     "text": [
      "\r",
      "  0%|                                        | 14/10638 [00:01<17:23, 10.19it/s]"
     ]
    },
    {
     "name": "stdout",
     "output_type": "stream",
     "text": [
      "3\n",
      "Another Candidate\n",
      "Another Candidate\n",
      "3\n",
      "Another Candidate\n",
      "Another Candidate\n"
     ]
    },
    {
     "name": "stderr",
     "output_type": "stream",
     "text": [
      "  0%|                                        | 18/10638 [00:01<17:37, 10.04it/s]"
     ]
    },
    {
     "name": "stdout",
     "output_type": "stream",
     "text": [
      "3\n",
      "Another Candidate\n",
      "Another Candidate\n",
      "3\n",
      "Another Candidate\n",
      "Another Candidate\n",
      "3\n"
     ]
    },
    {
     "name": "stderr",
     "output_type": "stream",
     "text": [
      "\r",
      "  0%|                                        | 20/10638 [00:01<17:47,  9.95it/s]"
     ]
    },
    {
     "name": "stdout",
     "output_type": "stream",
     "text": [
      "Another Candidate\n",
      "Another Candidate\n",
      "3\n",
      "Another Candidate\n",
      "Another Candidate\n",
      "3\n"
     ]
    },
    {
     "name": "stderr",
     "output_type": "stream",
     "text": [
      "\r",
      "  0%|                                        | 22/10638 [00:02<18:04,  9.79it/s]"
     ]
    },
    {
     "name": "stdout",
     "output_type": "stream",
     "text": [
      "Another Candidate\n",
      "Another Candidate\n",
      "3\n",
      "Another Candidate\n",
      "Another Candidate\n",
      "3\n"
     ]
    },
    {
     "name": "stderr",
     "output_type": "stream",
     "text": [
      "\r",
      "  0%|                                        | 23/10638 [00:02<18:13,  9.71it/s]"
     ]
    },
    {
     "name": "stdout",
     "output_type": "stream",
     "text": [
      "Another Candidate\n",
      "Another Candidate\n",
      "3\n",
      "Another Candidate\n",
      "Another Candidate\n",
      "3\n",
      "Another Candidate\n"
     ]
    },
    {
     "name": "stderr",
     "output_type": "stream",
     "text": [
      "  0%|                                        | 26/10638 [00:02<17:58,  9.84it/s]"
     ]
    },
    {
     "name": "stdout",
     "output_type": "stream",
     "text": [
      "Another Candidate\n",
      "3\n",
      "Another Candidate\n",
      "Another Candidate\n",
      "3\n",
      "Another Candidate\n"
     ]
    },
    {
     "name": "stderr",
     "output_type": "stream",
     "text": [
      "  0%|                                        | 28/10638 [00:02<18:30,  9.55it/s]"
     ]
    },
    {
     "name": "stdout",
     "output_type": "stream",
     "text": [
      "Another Candidate\n",
      "3\n",
      "Another Candidate\n",
      "Another Candidate\n",
      "3\n",
      "Another Candidate\n"
     ]
    },
    {
     "name": "stderr",
     "output_type": "stream",
     "text": [
      "  0%|                                        | 30/10638 [00:02<19:06,  9.25it/s]"
     ]
    },
    {
     "name": "stdout",
     "output_type": "stream",
     "text": [
      "Another Candidate\n",
      "3\n",
      "Another Candidate\n",
      "Another Candidate\n",
      "2\n",
      "Another Candidate\n"
     ]
    },
    {
     "name": "stderr",
     "output_type": "stream",
     "text": [
      "\r",
      "  0%|                                        | 32/10638 [00:03<16:34, 10.67it/s]"
     ]
    },
    {
     "name": "stdout",
     "output_type": "stream",
     "text": [
      "2\n",
      "Another Candidate\n",
      "2\n",
      "Another Candidate\n",
      "2\n",
      "Another Candidate\n"
     ]
    },
    {
     "name": "stderr",
     "output_type": "stream",
     "text": [
      "  0%|▏                                       | 43/10638 [00:03<06:26, 27.41it/s]"
     ]
    },
    {
     "name": "stdout",
     "output_type": "stream",
     "text": [
      "Unique\n",
      "Unique\n",
      "Unique\n",
      "Unique\n",
      "Unique\n",
      "Unique\n",
      "Unique\n",
      "2\n",
      "Another Candidate\n",
      "2\n",
      "Another Candidate\n",
      "3\n",
      "Another Candidate\n",
      "Another Candidate\n",
      "3\n",
      "Another Candidate\n",
      "Another Candidate\n",
      "3\n",
      "Another Candidate\n",
      "Another Candidate\n"
     ]
    },
    {
     "name": "stderr",
     "output_type": "stream",
     "text": [
      "\r",
      "  0%|▏                                       | 46/10638 [00:03<09:19, 18.94it/s]"
     ]
    },
    {
     "name": "stdout",
     "output_type": "stream",
     "text": [
      "3\n",
      "Another Candidate\n",
      "Another Candidate\n",
      "3\n",
      "Another Candidate\n",
      "Another Candidate\n",
      "3\n"
     ]
    },
    {
     "name": "stderr",
     "output_type": "stream",
     "text": [
      "\r",
      "  0%|▏                                       | 49/10638 [00:04<11:24, 15.47it/s]"
     ]
    },
    {
     "name": "stdout",
     "output_type": "stream",
     "text": [
      "Another Candidate\n",
      "Another Candidate\n",
      "3\n",
      "Another Candidate\n",
      "Another Candidate\n",
      "3\n",
      "Another Candidate\n"
     ]
    },
    {
     "name": "stderr",
     "output_type": "stream",
     "text": [
      "\r",
      "  0%|▏                                       | 51/10638 [00:04<12:39, 13.94it/s]"
     ]
    },
    {
     "name": "stdout",
     "output_type": "stream",
     "text": [
      "Another Candidate\n",
      "3\n",
      "Another Candidate\n",
      "Another Candidate\n",
      "3\n",
      "Another Candidate\n",
      "Another Candidate\n"
     ]
    },
    {
     "name": "stderr",
     "output_type": "stream",
     "text": [
      "\r",
      "  0%|▏                                       | 53/10638 [00:04<13:48, 12.78it/s]"
     ]
    },
    {
     "name": "stdout",
     "output_type": "stream",
     "text": [
      "3\n",
      "Another Candidate\n",
      "Another Candidate\n",
      "3\n",
      "Another Candidate\n",
      "Another Candidate\n"
     ]
    },
    {
     "name": "stderr",
     "output_type": "stream",
     "text": [
      "\r",
      "  1%|▏                                       | 55/10638 [00:04<15:05, 11.69it/s]"
     ]
    },
    {
     "name": "stdout",
     "output_type": "stream",
     "text": [
      "3\n",
      "Another Candidate\n",
      "Another Candidate\n",
      "3\n"
     ]
    },
    {
     "name": "stderr",
     "output_type": "stream",
     "text": [
      "\r",
      "  1%|▏                                       | 57/10638 [00:04<18:02,  9.77it/s]"
     ]
    },
    {
     "name": "stdout",
     "output_type": "stream",
     "text": [
      "Another Candidate\n",
      "Another Candidate\n",
      "3\n",
      "Another Candidate\n",
      "Another Candidate\n"
     ]
    },
    {
     "name": "stderr",
     "output_type": "stream",
     "text": [
      "\r",
      "  1%|▏                                       | 59/10638 [00:05<19:08,  9.21it/s]"
     ]
    },
    {
     "name": "stdout",
     "output_type": "stream",
     "text": [
      "3\n",
      "Another Candidate\n",
      "Another Candidate\n",
      "2\n",
      "Another Candidate\n",
      "2\n"
     ]
    },
    {
     "name": "stderr",
     "output_type": "stream",
     "text": [
      "\r",
      "  1%|▏                                       | 61/10638 [00:05<17:46,  9.92it/s]"
     ]
    },
    {
     "name": "stdout",
     "output_type": "stream",
     "text": [
      "Another Candidate\n",
      "2\n",
      "Another Candidate\n",
      "3\n",
      "Another Candidate\n",
      "Another Candidate\n"
     ]
    },
    {
     "name": "stderr",
     "output_type": "stream",
     "text": [
      "  1%|▏                                       | 65/10638 [00:05<17:28, 10.08it/s]"
     ]
    },
    {
     "name": "stdout",
     "output_type": "stream",
     "text": [
      "3\n",
      "Another Candidate\n",
      "Another Candidate\n",
      "3\n",
      "Another Candidate\n",
      "Another Candidate\n",
      "3\n"
     ]
    },
    {
     "name": "stderr",
     "output_type": "stream",
     "text": [
      "\r",
      "  1%|▎                                       | 67/10638 [00:05<17:35, 10.01it/s]"
     ]
    },
    {
     "name": "stdout",
     "output_type": "stream",
     "text": [
      "Another Candidate\n",
      "Another Candidate\n",
      "3\n",
      "Another Candidate\n",
      "Another Candidate\n",
      "3\n"
     ]
    },
    {
     "name": "stderr",
     "output_type": "stream",
     "text": [
      "\r",
      "  1%|▎                                       | 69/10638 [00:06<18:21,  9.59it/s]"
     ]
    },
    {
     "name": "stdout",
     "output_type": "stream",
     "text": [
      "Another Candidate\n",
      "Another Candidate\n",
      "3\n",
      "Another Candidate\n",
      "Another Candidate\n",
      "3\n"
     ]
    },
    {
     "name": "stderr",
     "output_type": "stream",
     "text": [
      "  1%|▎                                       | 71/10638 [00:06<19:17,  9.13it/s]"
     ]
    },
    {
     "name": "stdout",
     "output_type": "stream",
     "text": [
      "Another Candidate\n",
      "Another Candidate\n",
      "3\n",
      "Another Candidate\n",
      "Another Candidate\n",
      "3\n"
     ]
    },
    {
     "name": "stderr",
     "output_type": "stream",
     "text": [
      "\r",
      "  1%|▎                                       | 72/10638 [00:06<20:47,  8.47it/s]"
     ]
    },
    {
     "name": "stdout",
     "output_type": "stream",
     "text": [
      "Another Candidate\n",
      "Another Candidate\n",
      "3\n",
      "Another Candidate\n",
      "Another Candidate\n"
     ]
    },
    {
     "name": "stderr",
     "output_type": "stream",
     "text": [
      "\r",
      "  1%|▎                                       | 73/10638 [00:06<21:17,  8.27it/s]"
     ]
    },
    {
     "name": "stdout",
     "output_type": "stream",
     "text": [
      "3\n",
      "Another Candidate\n",
      "Another Candidate\n"
     ]
    },
    {
     "name": "stderr",
     "output_type": "stream",
     "text": [
      "  1%|▎                                       | 75/10638 [00:07<25:15,  6.97it/s]"
     ]
    },
    {
     "name": "stdout",
     "output_type": "stream",
     "text": [
      "3\n",
      "Another Candidate\n",
      "Another Candidate\n",
      "3\n",
      "Another Candidate\n"
     ]
    },
    {
     "name": "stderr",
     "output_type": "stream",
     "text": [
      "  1%|▎                                       | 77/10638 [00:07<22:46,  7.73it/s]"
     ]
    },
    {
     "name": "stdout",
     "output_type": "stream",
     "text": [
      "Another Candidate\n",
      "3\n",
      "Another Candidate\n",
      "Another Candidate\n",
      "3\n"
     ]
    },
    {
     "name": "stderr",
     "output_type": "stream",
     "text": [
      "  1%|▎                                       | 79/10638 [00:07<21:34,  8.15it/s]"
     ]
    },
    {
     "name": "stdout",
     "output_type": "stream",
     "text": [
      "Another Candidate\n",
      "Another Candidate\n",
      "3\n",
      "Another Candidate\n",
      "Another Candidate\n",
      "3\n"
     ]
    },
    {
     "name": "stderr",
     "output_type": "stream",
     "text": [
      "  1%|▎                                       | 81/10638 [00:07<20:32,  8.56it/s]"
     ]
    },
    {
     "name": "stdout",
     "output_type": "stream",
     "text": [
      "Another Candidate\n",
      "Another Candidate\n",
      "3\n",
      "Another Candidate\n",
      "Another Candidate\n",
      "3\n"
     ]
    },
    {
     "name": "stderr",
     "output_type": "stream",
     "text": [
      "  1%|▎                                       | 83/10638 [00:07<20:08,  8.74it/s]"
     ]
    },
    {
     "name": "stdout",
     "output_type": "stream",
     "text": [
      "Another Candidate\n",
      "Another Candidate\n",
      "3\n",
      "Another Candidate\n",
      "Another Candidate\n",
      "3\n"
     ]
    },
    {
     "name": "stderr",
     "output_type": "stream",
     "text": [
      "  1%|▎                                       | 85/10638 [00:08<19:34,  8.99it/s]"
     ]
    },
    {
     "name": "stdout",
     "output_type": "stream",
     "text": [
      "Another Candidate\n",
      "Another Candidate\n",
      "3\n",
      "Another Candidate\n",
      "Another Candidate\n",
      "3\n"
     ]
    },
    {
     "name": "stderr",
     "output_type": "stream",
     "text": [
      "\r",
      "  1%|▎                                       | 86/10638 [00:08<19:05,  9.21it/s]"
     ]
    },
    {
     "name": "stdout",
     "output_type": "stream",
     "text": [
      "Another Candidate\n",
      "Another Candidate\n",
      "3\n",
      "Another Candidate\n",
      "Another Candidate\n",
      "3\n",
      "Another Candidate\n"
     ]
    },
    {
     "name": "stderr",
     "output_type": "stream",
     "text": [
      "\r",
      "  1%|▎                                       | 88/10638 [00:08<18:17,  9.61it/s]"
     ]
    },
    {
     "name": "stdout",
     "output_type": "stream",
     "text": [
      "Another Candidate\n",
      "3\n",
      "Another Candidate\n",
      "Another Candidate\n",
      "3\n",
      "Another Candidate\n",
      "Another Candidate\n"
     ]
    },
    {
     "name": "stderr",
     "output_type": "stream",
     "text": [
      "  1%|▎                                       | 91/10638 [00:08<17:47,  9.88it/s]"
     ]
    },
    {
     "name": "stdout",
     "output_type": "stream",
     "text": [
      "3\n",
      "Another Candidate\n",
      "Another Candidate\n",
      "3\n",
      "Another Candidate\n",
      "Another Candidate\n"
     ]
    },
    {
     "name": "stderr",
     "output_type": "stream",
     "text": [
      "  1%|▎                                       | 93/10638 [00:08<18:13,  9.64it/s]"
     ]
    },
    {
     "name": "stdout",
     "output_type": "stream",
     "text": [
      "3\n",
      "Another Candidate\n",
      "Another Candidate\n",
      "3\n",
      "Another Candidate\n",
      "Another Candidate\n"
     ]
    },
    {
     "name": "stderr",
     "output_type": "stream",
     "text": [
      "  1%|▎                                       | 95/10638 [00:09<18:20,  9.58it/s]"
     ]
    },
    {
     "name": "stdout",
     "output_type": "stream",
     "text": [
      "3\n",
      "Another Candidate\n",
      "Another Candidate\n",
      "3\n",
      "Another Candidate\n",
      "Another Candidate\n"
     ]
    },
    {
     "name": "stderr",
     "output_type": "stream",
     "text": [
      "\r",
      "  1%|▎                                       | 98/10638 [00:09<14:39, 11.98it/s]"
     ]
    },
    {
     "name": "stdout",
     "output_type": "stream",
     "text": [
      "Unique\n",
      "3\n",
      "Another Candidate\n",
      "Another Candidate\n",
      "3\n",
      "Another Candidate\n",
      "Another Candidate\n",
      "2\n"
     ]
    },
    {
     "name": "stderr",
     "output_type": "stream",
     "text": [
      "\r",
      "  1%|▎                                      | 100/10638 [00:09<14:52, 11.81it/s]"
     ]
    },
    {
     "name": "stdout",
     "output_type": "stream",
     "text": [
      "Another Candidate\n",
      "3\n",
      "Another Candidate\n",
      "Another Candidate\n",
      "2\n",
      "Another Candidate\n"
     ]
    },
    {
     "name": "stderr",
     "output_type": "stream",
     "text": [
      "  1%|▍                                      | 104/10638 [00:09<14:56, 11.75it/s]"
     ]
    },
    {
     "name": "stdout",
     "output_type": "stream",
     "text": [
      "2\n",
      "Another Candidate\n",
      "2\n",
      "Another Candidate\n",
      "2\n"
     ]
    },
    {
     "name": "stderr",
     "output_type": "stream",
     "text": [
      "\r",
      "  1%|▍                                      | 106/10638 [00:10<14:33, 12.06it/s]"
     ]
    },
    {
     "name": "stdout",
     "output_type": "stream",
     "text": [
      "Another Candidate\n",
      "2\n",
      "Another Candidate\n",
      "Unique\n",
      "2\n",
      "Another Candidate\n",
      "2\n"
     ]
    },
    {
     "name": "stderr",
     "output_type": "stream",
     "text": [
      "  1%|▍                                      | 113/10638 [00:10<10:09, 17.27it/s]"
     ]
    },
    {
     "name": "stdout",
     "output_type": "stream",
     "text": [
      "Another Candidate\n",
      "Unique\n",
      "Unique\n",
      "2\n",
      "Another Candidate\n",
      "2\n",
      "Another Candidate\n",
      "2\n"
     ]
    },
    {
     "name": "stderr",
     "output_type": "stream",
     "text": [
      "\r",
      "  1%|▍                                      | 115/10638 [00:10<10:51, 16.16it/s]"
     ]
    },
    {
     "name": "stdout",
     "output_type": "stream",
     "text": [
      "Another Candidate\n",
      "2\n",
      "Another Candidate\n",
      "2\n",
      "Another Candidate\n",
      "3\n"
     ]
    },
    {
     "name": "stderr",
     "output_type": "stream",
     "text": [
      "  1%|▍                                      | 119/10638 [00:10<12:20, 14.21it/s]"
     ]
    },
    {
     "name": "stdout",
     "output_type": "stream",
     "text": [
      "Another Candidate\n",
      "Another Candidate\n",
      "2\n",
      "Another Candidate\n",
      "2\n",
      "Another Candidate\n"
     ]
    },
    {
     "name": "stderr",
     "output_type": "stream",
     "text": [
      "\r",
      "  1%|▍                                      | 121/10638 [00:11<12:50, 13.66it/s]"
     ]
    },
    {
     "name": "stdout",
     "output_type": "stream",
     "text": [
      "2\n",
      "Another Candidate\n",
      "2\n",
      "Another Candidate\n",
      "2\n",
      "Another Candidate\n",
      "2\n"
     ]
    },
    {
     "name": "stderr",
     "output_type": "stream",
     "text": [
      "  1%|▍                                      | 125/10638 [00:11<12:58, 13.50it/s]"
     ]
    },
    {
     "name": "stdout",
     "output_type": "stream",
     "text": [
      "Another Candidate\n",
      "2\n",
      "Another Candidate\n",
      "2\n",
      "Another Candidate\n",
      "2\n"
     ]
    },
    {
     "name": "stderr",
     "output_type": "stream",
     "text": [
      "\r",
      "  1%|▍                                      | 127/10638 [00:11<13:49, 12.68it/s]"
     ]
    },
    {
     "name": "stdout",
     "output_type": "stream",
     "text": [
      "Another Candidate\n",
      "3\n",
      "Another Candidate\n",
      "Another Candidate\n",
      "3\n",
      "Another Candidate\n"
     ]
    },
    {
     "name": "stderr",
     "output_type": "stream",
     "text": [
      "\r",
      "  1%|▍                                      | 129/10638 [00:11<15:04, 11.62it/s]"
     ]
    },
    {
     "name": "stdout",
     "output_type": "stream",
     "text": [
      "Another Candidate\n",
      "3\n",
      "Another Candidate\n",
      "Another Candidate\n",
      "3\n",
      "Another Candidate\n"
     ]
    },
    {
     "name": "stderr",
     "output_type": "stream",
     "text": [
      "\r",
      "  1%|▍                                      | 131/10638 [00:11<16:00, 10.94it/s]"
     ]
    },
    {
     "name": "stdout",
     "output_type": "stream",
     "text": [
      "Another Candidate\n",
      "3\n",
      "Another Candidate\n",
      "Another Candidate\n",
      "3\n",
      "Another Candidate\n"
     ]
    },
    {
     "name": "stderr",
     "output_type": "stream",
     "text": [
      "\r",
      "  1%|▍                                      | 133/10638 [00:12<16:33, 10.57it/s]"
     ]
    },
    {
     "name": "stdout",
     "output_type": "stream",
     "text": [
      "Another Candidate\n",
      "3\n",
      "Another Candidate\n",
      "Another Candidate\n",
      "3\n",
      "Another Candidate\n"
     ]
    },
    {
     "name": "stderr",
     "output_type": "stream",
     "text": [
      "\r",
      "  1%|▍                                      | 135/10638 [00:12<17:00, 10.29it/s]"
     ]
    },
    {
     "name": "stdout",
     "output_type": "stream",
     "text": [
      "Another Candidate\n",
      "3\n",
      "Another Candidate\n",
      "Another Candidate\n",
      "3\n",
      "Another Candidate\n"
     ]
    },
    {
     "name": "stderr",
     "output_type": "stream",
     "text": [
      "\r",
      "  1%|▌                                      | 137/10638 [00:12<17:26, 10.04it/s]"
     ]
    },
    {
     "name": "stdout",
     "output_type": "stream",
     "text": [
      "Another Candidate\n",
      "3\n",
      "Another Candidate\n",
      "Another Candidate\n",
      "3\n",
      "Another Candidate\n"
     ]
    },
    {
     "name": "stderr",
     "output_type": "stream",
     "text": [
      "\r",
      "  1%|▌                                      | 139/10638 [00:12<17:57,  9.75it/s]"
     ]
    },
    {
     "name": "stdout",
     "output_type": "stream",
     "text": [
      "Another Candidate\n",
      "3\n",
      "Another Candidate\n",
      "Another Candidate\n",
      "3\n",
      "Another Candidate\n"
     ]
    },
    {
     "name": "stderr",
     "output_type": "stream",
     "text": [
      "  1%|▌                                      | 141/10638 [00:12<18:08,  9.65it/s]"
     ]
    },
    {
     "name": "stdout",
     "output_type": "stream",
     "text": [
      "Another Candidate\n",
      "3\n",
      "Another Candidate\n",
      "Another Candidate\n",
      "3\n",
      "Another Candidate\n"
     ]
    },
    {
     "name": "stderr",
     "output_type": "stream",
     "text": [
      "  1%|▌                                      | 143/10638 [00:13<18:22,  9.52it/s]"
     ]
    },
    {
     "name": "stdout",
     "output_type": "stream",
     "text": [
      "Another Candidate\n",
      "3\n",
      "Another Candidate\n",
      "Another Candidate\n",
      "3\n",
      "Another Candidate\n"
     ]
    },
    {
     "name": "stderr",
     "output_type": "stream",
     "text": [
      "\r",
      "  1%|▌                                      | 144/10638 [00:13<18:41,  9.36it/s]"
     ]
    },
    {
     "name": "stdout",
     "output_type": "stream",
     "text": [
      "Another Candidate\n",
      "2\n",
      "Another Candidate\n",
      "3\n",
      "Another Candidate\n",
      "Another Candidate\n"
     ]
    },
    {
     "name": "stderr",
     "output_type": "stream",
     "text": [
      "  1%|▌                                      | 147/10638 [00:13<17:43,  9.86it/s]"
     ]
    },
    {
     "name": "stdout",
     "output_type": "stream",
     "text": [
      "3\n",
      "Another Candidate\n",
      "Another Candidate\n",
      "2\n",
      "Another Candidate\n",
      "2\n"
     ]
    },
    {
     "name": "stderr",
     "output_type": "stream",
     "text": [
      "  1%|▌                                      | 151/10638 [00:13<15:11, 11.50it/s]"
     ]
    },
    {
     "name": "stdout",
     "output_type": "stream",
     "text": [
      "Another Candidate\n",
      "2\n",
      "Another Candidate\n",
      "2\n",
      "Another Candidate\n",
      "2\n"
     ]
    },
    {
     "name": "stderr",
     "output_type": "stream",
     "text": [
      "\r",
      "  1%|▌                                      | 153/10638 [00:14<14:49, 11.79it/s]"
     ]
    },
    {
     "name": "stdout",
     "output_type": "stream",
     "text": [
      "Another Candidate\n",
      "2\n",
      "Another Candidate\n",
      "2\n",
      "Another Candidate\n",
      "2\n"
     ]
    },
    {
     "name": "stderr",
     "output_type": "stream",
     "text": [
      "  1%|▌                                      | 157/10638 [00:14<14:18, 12.21it/s]"
     ]
    },
    {
     "name": "stdout",
     "output_type": "stream",
     "text": [
      "Another Candidate\n",
      "2\n",
      "Another Candidate\n",
      "2\n",
      "Another Candidate\n",
      "2\n"
     ]
    },
    {
     "name": "stderr",
     "output_type": "stream",
     "text": [
      "\r",
      "  1%|▌                                      | 159/10638 [00:14<14:05, 12.39it/s]"
     ]
    },
    {
     "name": "stdout",
     "output_type": "stream",
     "text": [
      "Another Candidate\n",
      "2\n",
      "Another Candidate\n",
      "2\n",
      "Another Candidate\n",
      "2\n"
     ]
    },
    {
     "name": "stderr",
     "output_type": "stream",
     "text": [
      "  2%|▌                                      | 163/10638 [00:14<13:44, 12.71it/s]"
     ]
    },
    {
     "name": "stdout",
     "output_type": "stream",
     "text": [
      "Another Candidate\n",
      "2\n",
      "Another Candidate\n",
      "2\n",
      "Another Candidate\n",
      "2\n"
     ]
    },
    {
     "name": "stderr",
     "output_type": "stream",
     "text": [
      "\r",
      "  2%|▌                                      | 165/10638 [00:15<13:44, 12.70it/s]"
     ]
    },
    {
     "name": "stdout",
     "output_type": "stream",
     "text": [
      "Another Candidate\n",
      "2\n",
      "Another Candidate\n",
      "2\n",
      "Another Candidate\n",
      "2\n"
     ]
    },
    {
     "name": "stderr",
     "output_type": "stream",
     "text": [
      "\r",
      "  2%|▌                                      | 167/10638 [00:15<13:44, 12.70it/s]"
     ]
    },
    {
     "name": "stdout",
     "output_type": "stream",
     "text": [
      "Another Candidate\n",
      "2\n",
      "Another Candidate\n",
      "2\n",
      "Another Candidate\n"
     ]
    },
    {
     "name": "stderr",
     "output_type": "stream",
     "text": [
      "  2%|▋                                      | 171/10638 [00:15<14:43, 11.84it/s]"
     ]
    },
    {
     "name": "stdout",
     "output_type": "stream",
     "text": [
      "2\n",
      "Another Candidate\n",
      "2\n",
      "Another Candidate\n",
      "2\n"
     ]
    },
    {
     "name": "stderr",
     "output_type": "stream",
     "text": [
      "\r",
      "  2%|▋                                      | 173/10638 [00:15<15:32, 11.23it/s]"
     ]
    },
    {
     "name": "stdout",
     "output_type": "stream",
     "text": [
      "Another Candidate\n",
      "3\n",
      "Another Candidate\n",
      "Another Candidate\n",
      "3\n",
      "Another Candidate\n"
     ]
    },
    {
     "name": "stderr",
     "output_type": "stream",
     "text": [
      "\r",
      "  2%|▋                                      | 175/10638 [00:15<16:07, 10.82it/s]"
     ]
    },
    {
     "name": "stdout",
     "output_type": "stream",
     "text": [
      "Another Candidate\n",
      "2\n",
      "Another Candidate\n",
      "2\n",
      "Another Candidate\n",
      "2\n"
     ]
    },
    {
     "name": "stderr",
     "output_type": "stream",
     "text": [
      "  2%|▋                                      | 179/10638 [00:16<14:45, 11.81it/s]"
     ]
    },
    {
     "name": "stdout",
     "output_type": "stream",
     "text": [
      "Another Candidate\n",
      "2\n",
      "Another Candidate\n",
      "2\n",
      "Another Candidate\n",
      "2\n"
     ]
    },
    {
     "name": "stderr",
     "output_type": "stream",
     "text": [
      "\r",
      "  2%|▋                                      | 181/10638 [00:16<14:17, 12.19it/s]"
     ]
    },
    {
     "name": "stdout",
     "output_type": "stream",
     "text": [
      "Another Candidate\n",
      "2\n",
      "Another Candidate\n",
      "2\n",
      "Another Candidate\n",
      "2\n"
     ]
    },
    {
     "name": "stderr",
     "output_type": "stream",
     "text": [
      "  2%|▋                                      | 185/10638 [00:16<13:56, 12.50it/s]"
     ]
    },
    {
     "name": "stdout",
     "output_type": "stream",
     "text": [
      "Another Candidate\n",
      "2\n",
      "Another Candidate\n",
      "2\n",
      "Another Candidate\n",
      "2\n"
     ]
    },
    {
     "name": "stderr",
     "output_type": "stream",
     "text": [
      "\r",
      "  2%|▋                                      | 187/10638 [00:16<13:57, 12.47it/s]"
     ]
    },
    {
     "name": "stdout",
     "output_type": "stream",
     "text": [
      "Another Candidate\n",
      "2\n",
      "Another Candidate\n",
      "2\n",
      "Another Candidate\n",
      "2\n"
     ]
    },
    {
     "name": "stderr",
     "output_type": "stream",
     "text": [
      "  2%|▋                                      | 191/10638 [00:17<14:05, 12.36it/s]"
     ]
    },
    {
     "name": "stdout",
     "output_type": "stream",
     "text": [
      "Another Candidate\n",
      "2\n",
      "Another Candidate\n",
      "2\n",
      "Another Candidate\n",
      "2\n"
     ]
    },
    {
     "name": "stderr",
     "output_type": "stream",
     "text": [
      "\r",
      "  2%|▋                                      | 193/10638 [00:17<14:09, 12.30it/s]"
     ]
    },
    {
     "name": "stdout",
     "output_type": "stream",
     "text": [
      "Another Candidate\n",
      "2\n",
      "Another Candidate\n",
      "2\n",
      "Another Candidate\n",
      "2\n"
     ]
    },
    {
     "name": "stderr",
     "output_type": "stream",
     "text": [
      "  2%|▋                                      | 197/10638 [00:17<14:25, 12.06it/s]"
     ]
    },
    {
     "name": "stdout",
     "output_type": "stream",
     "text": [
      "Another Candidate\n",
      "2\n",
      "Another Candidate\n",
      "2\n",
      "Another Candidate\n"
     ]
    },
    {
     "name": "stderr",
     "output_type": "stream",
     "text": [
      "\r",
      "  2%|▋                                      | 199/10638 [00:17<14:05, 12.34it/s]"
     ]
    },
    {
     "name": "stdout",
     "output_type": "stream",
     "text": [
      "2\n",
      "Another Candidate\n",
      "2\n",
      "Another Candidate\n",
      "2\n"
     ]
    },
    {
     "name": "stderr",
     "output_type": "stream",
     "text": [
      "\r",
      "  2%|▋                                      | 201/10638 [00:17<13:57, 12.46it/s]"
     ]
    },
    {
     "name": "stdout",
     "output_type": "stream",
     "text": [
      "Another Candidate\n",
      "2\n",
      "Another Candidate\n",
      "2\n",
      "Another Candidate\n",
      "2\n"
     ]
    },
    {
     "name": "stderr",
     "output_type": "stream",
     "text": [
      "  2%|▊                                      | 205/10638 [00:18<13:21, 13.01it/s]"
     ]
    },
    {
     "name": "stdout",
     "output_type": "stream",
     "text": [
      "Another Candidate\n",
      "2\n",
      "Another Candidate\n",
      "2\n",
      "Another Candidate\n",
      "2\n"
     ]
    },
    {
     "name": "stderr",
     "output_type": "stream",
     "text": [
      "\r",
      "  2%|▊                                      | 207/10638 [00:18<14:01, 12.40it/s]"
     ]
    },
    {
     "name": "stdout",
     "output_type": "stream",
     "text": [
      "Another Candidate\n",
      "2\n",
      "Another Candidate\n",
      "2\n"
     ]
    },
    {
     "name": "stderr",
     "output_type": "stream",
     "text": [
      "\r",
      "  2%|▊                                      | 209/10638 [00:18<15:30, 11.21it/s]"
     ]
    },
    {
     "name": "stdout",
     "output_type": "stream",
     "text": [
      "Another Candidate\n",
      "2\n",
      "Another Candidate\n",
      "2\n"
     ]
    },
    {
     "name": "stderr",
     "output_type": "stream",
     "text": [
      "\r",
      "  2%|▊                                      | 211/10638 [00:18<17:32,  9.91it/s]"
     ]
    },
    {
     "name": "stdout",
     "output_type": "stream",
     "text": [
      "Another Candidate\n",
      "2\n",
      "Another Candidate\n",
      "2\n"
     ]
    },
    {
     "name": "stderr",
     "output_type": "stream",
     "text": [
      "\r",
      "  2%|▊                                      | 213/10638 [00:19<17:10, 10.11it/s]"
     ]
    },
    {
     "name": "stdout",
     "output_type": "stream",
     "text": [
      "Another Candidate\n",
      "2\n",
      "Another Candidate\n",
      "2\n",
      "Another Candidate\n",
      "2\n"
     ]
    },
    {
     "name": "stderr",
     "output_type": "stream",
     "text": [
      "  2%|▊                                      | 217/10638 [00:19<15:30, 11.20it/s]"
     ]
    },
    {
     "name": "stdout",
     "output_type": "stream",
     "text": [
      "Another Candidate\n",
      "2\n",
      "Another Candidate\n",
      "2\n",
      "Another Candidate\n",
      "2\n"
     ]
    },
    {
     "name": "stderr",
     "output_type": "stream",
     "text": [
      "\r",
      "  2%|▊                                      | 219/10638 [00:19<14:45, 11.77it/s]"
     ]
    },
    {
     "name": "stdout",
     "output_type": "stream",
     "text": [
      "Another Candidate\n",
      "2\n",
      "Another Candidate\n",
      "2\n",
      "Another Candidate\n",
      "2\n"
     ]
    },
    {
     "name": "stderr",
     "output_type": "stream",
     "text": [
      "  2%|▊                                      | 223/10638 [00:19<13:53, 12.50it/s]"
     ]
    },
    {
     "name": "stdout",
     "output_type": "stream",
     "text": [
      "Another Candidate\n",
      "2\n",
      "Another Candidate\n",
      "2\n",
      "Another Candidate\n",
      "2\n"
     ]
    },
    {
     "name": "stderr",
     "output_type": "stream",
     "text": [
      "\r",
      "  2%|▊                                      | 225/10638 [00:20<13:40, 12.69it/s]"
     ]
    },
    {
     "name": "stdout",
     "output_type": "stream",
     "text": [
      "Another Candidate\n",
      "2\n",
      "Another Candidate\n",
      "2\n",
      "Another Candidate\n",
      "2\n"
     ]
    },
    {
     "name": "stderr",
     "output_type": "stream",
     "text": [
      "  2%|▊                                      | 229/10638 [00:20<13:37, 12.73it/s]"
     ]
    },
    {
     "name": "stdout",
     "output_type": "stream",
     "text": [
      "Another Candidate\n",
      "2\n",
      "Another Candidate\n",
      "2\n",
      "Another Candidate\n",
      "2\n"
     ]
    },
    {
     "name": "stderr",
     "output_type": "stream",
     "text": [
      "\r",
      "  2%|▉                                      | 259/10638 [00:20<02:36, 66.45it/s]"
     ]
    },
    {
     "name": "stdout",
     "output_type": "stream",
     "text": [
      "Another Candidate\n",
      "Unique\n",
      "Unique\n",
      "Unique\n",
      "Unique\n",
      "Unique\n",
      "Unique\n",
      "Unique\n",
      "Unique\n",
      "Unique\n",
      "Unique\n",
      "Unique\n",
      "Unique\n",
      "Unique\n",
      "Unique\n",
      "Unique\n",
      "Unique\n",
      "Unique\n",
      "Unique\n",
      "Unique\n",
      "Unique\n",
      "Unique\n",
      "Unique\n",
      "Unique\n",
      "Unique\n",
      "Unique\n",
      "Unique\n",
      "Unique\n",
      "Unique\n",
      "2\n",
      "Another Candidate\n",
      "2\n",
      "Another Candidate\n",
      "2\n",
      "Another Candidate\n",
      "2\n",
      "Another Candidate\n",
      "2\n",
      "Another Candidate\n",
      "2\n"
     ]
    },
    {
     "name": "stderr",
     "output_type": "stream",
     "text": [
      "\r",
      "  3%|▉                                      | 266/10638 [00:21<04:58, 34.72it/s]"
     ]
    },
    {
     "name": "stdout",
     "output_type": "stream",
     "text": [
      "Another Candidate\n",
      "2\n",
      "Another Candidate\n",
      "2\n",
      "Another Candidate\n",
      "2\n",
      "Another Candidate\n",
      "2\n",
      "Another Candidate\n",
      "2\n",
      "Another Candidate\n",
      "2\n"
     ]
    },
    {
     "name": "stderr",
     "output_type": "stream",
     "text": [
      "\r",
      "  3%|▉                                      | 272/10638 [00:21<06:56, 24.91it/s]"
     ]
    },
    {
     "name": "stdout",
     "output_type": "stream",
     "text": [
      "Another Candidate\n",
      "2\n",
      "Another Candidate\n",
      "2\n",
      "Another Candidate\n",
      "2\n",
      "Another Candidate\n",
      "2\n",
      "Another Candidate\n",
      "2\n",
      "Another Candidate\n",
      "2\n"
     ]
    },
    {
     "name": "stderr",
     "output_type": "stream",
     "text": [
      "\r",
      "  3%|█                                      | 276/10638 [00:21<08:26, 20.44it/s]"
     ]
    },
    {
     "name": "stdout",
     "output_type": "stream",
     "text": [
      "Another Candidate\n",
      "2\n",
      "Another Candidate\n",
      "2\n",
      "Another Candidate\n"
     ]
    },
    {
     "name": "stderr",
     "output_type": "stream",
     "text": [
      "\r",
      "  3%|█                                      | 280/10638 [00:22<09:40, 17.86it/s]"
     ]
    },
    {
     "name": "stdout",
     "output_type": "stream",
     "text": [
      "2\n",
      "Another Candidate\n",
      "2\n",
      "Another Candidate\n",
      "2\n"
     ]
    },
    {
     "name": "stderr",
     "output_type": "stream",
     "text": [
      "\r",
      "  3%|█                                      | 283/10638 [00:22<10:26, 16.53it/s]"
     ]
    },
    {
     "name": "stdout",
     "output_type": "stream",
     "text": [
      "Another Candidate\n",
      "2\n",
      "Another Candidate\n",
      "2\n",
      "Another Candidate\n",
      "2\n"
     ]
    },
    {
     "name": "stderr",
     "output_type": "stream",
     "text": [
      "\r",
      "  3%|█                                      | 286/10638 [00:22<10:58, 15.73it/s]"
     ]
    },
    {
     "name": "stdout",
     "output_type": "stream",
     "text": [
      "Another Candidate\n",
      "2\n",
      "Another Candidate\n",
      "2\n",
      "Another Candidate\n",
      "2\n"
     ]
    },
    {
     "name": "stderr",
     "output_type": "stream",
     "text": [
      "\r",
      "  3%|█                                      | 288/10638 [00:22<11:35, 14.88it/s]"
     ]
    },
    {
     "name": "stdout",
     "output_type": "stream",
     "text": [
      "Another Candidate\n",
      "2\n",
      "Another Candidate\n",
      "2\n",
      "Another Candidate\n"
     ]
    },
    {
     "name": "stderr",
     "output_type": "stream",
     "text": [
      "\r",
      "  3%|█                                      | 290/10638 [00:23<12:55, 13.35it/s]"
     ]
    },
    {
     "name": "stdout",
     "output_type": "stream",
     "text": [
      "2\n",
      "Another Candidate\n",
      "2\n",
      "Another Candidate\n"
     ]
    },
    {
     "name": "stderr",
     "output_type": "stream",
     "text": [
      "\r",
      "  3%|█                                      | 292/10638 [00:23<14:05, 12.23it/s]"
     ]
    },
    {
     "name": "stdout",
     "output_type": "stream",
     "text": [
      "2\n",
      "Another Candidate\n",
      "2\n",
      "Another Candidate\n",
      "Unique\n",
      "Unique\n",
      "Unique\n",
      "Unique\n",
      "Unique\n",
      "Unique\n",
      "Unique\n",
      "Unique\n",
      "Unique\n",
      "Unique\n",
      "Unique\n",
      "2\n"
     ]
    },
    {
     "name": "stderr",
     "output_type": "stream",
     "text": [
      "\r",
      "  3%|█                                      | 305/10638 [00:23<06:14, 27.62it/s]"
     ]
    },
    {
     "name": "stdout",
     "output_type": "stream",
     "text": [
      "Another Candidate\n",
      "2\n",
      "Another Candidate\n",
      "2\n",
      "Another Candidate\n",
      "2\n",
      "Another Candidate\n",
      "2\n"
     ]
    },
    {
     "name": "stderr",
     "output_type": "stream",
     "text": [
      "\r",
      "  3%|█▏                                     | 309/10638 [00:23<09:10, 18.75it/s]"
     ]
    },
    {
     "name": "stdout",
     "output_type": "stream",
     "text": [
      "Another Candidate\n",
      "2\n",
      "Another Candidate\n",
      "2\n",
      "Another Candidate\n"
     ]
    },
    {
     "name": "stderr",
     "output_type": "stream",
     "text": [
      "\r",
      "  3%|█▏                                     | 312/10638 [00:24<10:12, 16.85it/s]"
     ]
    },
    {
     "name": "stdout",
     "output_type": "stream",
     "text": [
      "2\n",
      "Another Candidate\n",
      "2\n",
      "Another Candidate\n",
      "2\n"
     ]
    },
    {
     "name": "stderr",
     "output_type": "stream",
     "text": [
      "\r",
      "  3%|█▏                                     | 315/10638 [00:24<11:01, 15.61it/s]"
     ]
    },
    {
     "name": "stdout",
     "output_type": "stream",
     "text": [
      "Another Candidate\n",
      "2\n",
      "Another Candidate\n",
      "2\n",
      "Another Candidate\n",
      "2\n"
     ]
    },
    {
     "name": "stderr",
     "output_type": "stream",
     "text": [
      "\r",
      "  3%|█▏                                     | 317/10638 [00:24<11:52, 14.49it/s]"
     ]
    },
    {
     "name": "stdout",
     "output_type": "stream",
     "text": [
      "Another Candidate\n",
      "2\n",
      "Another Candidate\n",
      "Unique\n",
      "Unique\n",
      "Unique\n",
      "Unique\n",
      "Unique\n",
      "Unique\n",
      "Unique\n",
      "Unique\n",
      "Unique\n",
      "Unique\n",
      "Unique\n",
      "Unique\n",
      "Unique\n",
      "2\n"
     ]
    },
    {
     "name": "stderr",
     "output_type": "stream",
     "text": [
      "\r",
      "  3%|█▏                                     | 332/10638 [00:24<05:44, 29.92it/s]"
     ]
    },
    {
     "name": "stdout",
     "output_type": "stream",
     "text": [
      "Another Candidate\n",
      "2\n",
      "Another Candidate\n",
      "2\n"
     ]
    },
    {
     "name": "stderr",
     "output_type": "stream",
     "text": [
      "\r",
      "  3%|█▏                                     | 336/10638 [00:25<07:52, 21.79it/s]"
     ]
    },
    {
     "name": "stdout",
     "output_type": "stream",
     "text": [
      "Another Candidate\n",
      "2\n",
      "Another Candidate\n",
      "2\n",
      "Another Candidate\n",
      "2\n"
     ]
    },
    {
     "name": "stderr",
     "output_type": "stream",
     "text": [
      "\r",
      "  3%|█▏                                     | 339/10638 [00:25<08:51, 19.39it/s]"
     ]
    },
    {
     "name": "stdout",
     "output_type": "stream",
     "text": [
      "Another Candidate\n",
      "2\n",
      "Another Candidate\n",
      "2\n",
      "Another Candidate\n",
      "2\n"
     ]
    },
    {
     "name": "stderr",
     "output_type": "stream",
     "text": [
      "\r",
      "  3%|█▎                                     | 342/10638 [00:25<09:41, 17.72it/s]"
     ]
    },
    {
     "name": "stdout",
     "output_type": "stream",
     "text": [
      "Another Candidate\n",
      "2\n",
      "Another Candidate\n",
      "2\n",
      "Another Candidate\n",
      "2\n"
     ]
    },
    {
     "name": "stderr",
     "output_type": "stream",
     "text": [
      "\r",
      "  3%|█▎                                     | 344/10638 [00:25<10:17, 16.66it/s]"
     ]
    },
    {
     "name": "stdout",
     "output_type": "stream",
     "text": [
      "Another Candidate\n",
      "2\n",
      "Another Candidate\n",
      "2\n",
      "Another Candidate\n",
      "2\n"
     ]
    },
    {
     "name": "stderr",
     "output_type": "stream",
     "text": [
      "\r",
      "  3%|█▎                                     | 346/10638 [00:26<10:49, 15.84it/s]"
     ]
    },
    {
     "name": "stdout",
     "output_type": "stream",
     "text": [
      "Another Candidate\n",
      "2\n",
      "Another Candidate\n",
      "2\n",
      "Another Candidate\n"
     ]
    },
    {
     "name": "stderr",
     "output_type": "stream",
     "text": [
      "  3%|█▎                                     | 350/10638 [00:26<12:34, 13.63it/s]"
     ]
    },
    {
     "name": "stdout",
     "output_type": "stream",
     "text": [
      "2\n",
      "2\n",
      "2\n"
     ]
    },
    {
     "name": "stderr",
     "output_type": "stream",
     "text": [
      "\r",
      "  3%|█▎                                     | 352/10638 [00:26<13:19, 12.86it/s]"
     ]
    },
    {
     "name": "stdout",
     "output_type": "stream",
     "text": [
      "2\n",
      "Unique\n",
      "Unique\n",
      "Unique\n",
      "Unique\n",
      "Unique\n",
      "Unique\n",
      "Unique\n",
      "Unique\n",
      "Unique\n",
      "Unique\n",
      "Unique\n",
      "Unique\n",
      "Unique\n",
      "Unique\n",
      "Unique\n",
      "Unique\n",
      "Unique\n",
      "Unique\n",
      "Unique\n",
      "Unique\n",
      "Unique\n",
      "Unique\n",
      "Unique\n",
      "Unique\n",
      "2\n",
      "2\n"
     ]
    },
    {
     "name": "stderr",
     "output_type": "stream",
     "text": [
      "\r",
      "  4%|█▍                                     | 378/10638 [00:26<03:10, 53.89it/s]"
     ]
    },
    {
     "name": "stdout",
     "output_type": "stream",
     "text": [
      "2\n",
      "2\n",
      "2\n",
      "2\n"
     ]
    },
    {
     "name": "stderr",
     "output_type": "stream",
     "text": [
      "\r",
      "  4%|█▍                                     | 385/10638 [00:27<04:54, 34.77it/s]"
     ]
    },
    {
     "name": "stdout",
     "output_type": "stream",
     "text": [
      "2\n",
      "2\n",
      "2\n",
      "2\n",
      "2\n",
      "2\n",
      "2\n",
      "2\n"
     ]
    },
    {
     "name": "stderr",
     "output_type": "stream",
     "text": [
      "\r",
      "  4%|█▍                                     | 390/10638 [00:27<06:02, 28.29it/s]"
     ]
    },
    {
     "name": "stdout",
     "output_type": "stream",
     "text": [
      "2\n",
      "2\n",
      "2\n"
     ]
    },
    {
     "name": "stderr",
     "output_type": "stream",
     "text": [
      "\r",
      "  4%|█▍                                     | 394/10638 [00:27<07:29, 22.81it/s]"
     ]
    },
    {
     "name": "stdout",
     "output_type": "stream",
     "text": [
      "2\n",
      "2\n",
      "2\n"
     ]
    },
    {
     "name": "stderr",
     "output_type": "stream",
     "text": [
      "\r",
      "  4%|█▍                                     | 398/10638 [00:28<08:56, 19.09it/s]"
     ]
    },
    {
     "name": "stdout",
     "output_type": "stream",
     "text": [
      "2\n",
      "2\n",
      "2\n"
     ]
    },
    {
     "name": "stderr",
     "output_type": "stream",
     "text": [
      "\r",
      "  4%|█▍                                     | 401/10638 [00:28<09:20, 18.25it/s]"
     ]
    },
    {
     "name": "stdout",
     "output_type": "stream",
     "text": [
      "2\n",
      "2\n",
      "2\n",
      "2\n"
     ]
    },
    {
     "name": "stderr",
     "output_type": "stream",
     "text": [
      "\r",
      "  4%|█▍                                     | 404/10638 [00:28<09:33, 17.86it/s]"
     ]
    },
    {
     "name": "stdout",
     "output_type": "stream",
     "text": [
      "2\n",
      "2\n",
      "2\n",
      "2\n"
     ]
    },
    {
     "name": "stderr",
     "output_type": "stream",
     "text": [
      "  4%|█▍                                     | 409/10638 [00:28<09:37, 17.70it/s]"
     ]
    },
    {
     "name": "stdout",
     "output_type": "stream",
     "text": [
      "2\n",
      "2\n",
      "2\n",
      "2\n"
     ]
    },
    {
     "name": "stderr",
     "output_type": "stream",
     "text": [
      "  4%|█▌                                     | 413/10638 [00:29<09:53, 17.22it/s]"
     ]
    },
    {
     "name": "stdout",
     "output_type": "stream",
     "text": [
      "2\n",
      "2\n",
      "2\n"
     ]
    },
    {
     "name": "stderr",
     "output_type": "stream",
     "text": [
      "\r",
      "  4%|█▌                                     | 415/10638 [00:29<10:55, 15.61it/s]"
     ]
    },
    {
     "name": "stdout",
     "output_type": "stream",
     "text": [
      "2\n",
      "2\n",
      "2\n"
     ]
    },
    {
     "name": "stderr",
     "output_type": "stream",
     "text": [
      "  4%|█▌                                     | 419/10638 [00:29<12:59, 13.11it/s]"
     ]
    },
    {
     "name": "stdout",
     "output_type": "stream",
     "text": [
      "2\n",
      "2\n",
      "2\n"
     ]
    },
    {
     "name": "stderr",
     "output_type": "stream",
     "text": [
      "  4%|█▌                                     | 423/10638 [00:29<11:39, 14.61it/s]"
     ]
    },
    {
     "name": "stdout",
     "output_type": "stream",
     "text": [
      "2\n",
      "2\n",
      "2\n",
      "2\n"
     ]
    },
    {
     "name": "stderr",
     "output_type": "stream",
     "text": [
      "  4%|█▌                                     | 427/10638 [00:30<11:25, 14.89it/s]"
     ]
    },
    {
     "name": "stdout",
     "output_type": "stream",
     "text": [
      "2\n",
      "2\n",
      "2\n",
      "2\n"
     ]
    },
    {
     "name": "stderr",
     "output_type": "stream",
     "text": [
      "\r",
      "  4%|█▌                                     | 429/10638 [00:30<11:22, 14.97it/s]"
     ]
    },
    {
     "name": "stdout",
     "output_type": "stream",
     "text": [
      "2\n",
      "2\n",
      "2\n"
     ]
    },
    {
     "name": "stderr",
     "output_type": "stream",
     "text": [
      "  4%|█▌                                     | 433/10638 [00:30<12:44, 13.34it/s]"
     ]
    },
    {
     "name": "stdout",
     "output_type": "stream",
     "text": [
      "2\n",
      "2\n",
      "2\n"
     ]
    },
    {
     "name": "stderr",
     "output_type": "stream",
     "text": [
      "\r",
      "  4%|█▌                                     | 435/10638 [00:30<14:01, 12.13it/s]"
     ]
    },
    {
     "name": "stdout",
     "output_type": "stream",
     "text": [
      "2\n",
      "2\n",
      "2\n"
     ]
    },
    {
     "name": "stderr",
     "output_type": "stream",
     "text": [
      "  4%|█▌                                     | 439/10638 [00:31<14:01, 12.12it/s]"
     ]
    },
    {
     "name": "stdout",
     "output_type": "stream",
     "text": [
      "2\n",
      "2\n",
      "2\n"
     ]
    },
    {
     "name": "stderr",
     "output_type": "stream",
     "text": [
      "\r",
      "  4%|█▌                                     | 441/10638 [00:31<13:39, 12.45it/s]"
     ]
    },
    {
     "name": "stdout",
     "output_type": "stream",
     "text": [
      "2\n",
      "2\n",
      "2\n"
     ]
    },
    {
     "name": "stderr",
     "output_type": "stream",
     "text": [
      "  4%|█▋                                     | 447/10638 [00:31<10:52, 15.62it/s]"
     ]
    },
    {
     "name": "stdout",
     "output_type": "stream",
     "text": [
      "Unique\n",
      "Unique\n",
      "2\n",
      "2\n",
      "Unique\n",
      "Unique\n",
      "Unique\n",
      "Unique\n",
      "Unique\n",
      "Unique\n",
      "Unique\n",
      "2\n"
     ]
    },
    {
     "name": "stderr",
     "output_type": "stream",
     "text": [
      "\r",
      "  4%|█▋                                     | 456/10638 [00:31<06:14, 27.21it/s]"
     ]
    },
    {
     "name": "stdout",
     "output_type": "stream",
     "text": [
      "2\n",
      "2\n",
      "2\n",
      "2\n"
     ]
    },
    {
     "name": "stderr",
     "output_type": "stream",
     "text": [
      "\r",
      "  4%|█▋                                     | 459/10638 [00:31<07:11, 23.61it/s]"
     ]
    },
    {
     "name": "stdout",
     "output_type": "stream",
     "text": [
      "2\n",
      "2\n",
      "2\n"
     ]
    },
    {
     "name": "stderr",
     "output_type": "stream",
     "text": [
      "\r",
      "  4%|█▋                                     | 462/10638 [00:32<08:23, 20.21it/s]"
     ]
    },
    {
     "name": "stdout",
     "output_type": "stream",
     "text": [
      "2\n",
      "2\n",
      "2\n"
     ]
    },
    {
     "name": "stderr",
     "output_type": "stream",
     "text": [
      "  4%|█▋                                     | 467/10638 [00:32<09:53, 17.14it/s]"
     ]
    },
    {
     "name": "stdout",
     "output_type": "stream",
     "text": [
      "2\n",
      "2\n",
      "2\n",
      "2\n"
     ]
    },
    {
     "name": "stderr",
     "output_type": "stream",
     "text": [
      "  4%|█▋                                     | 471/10638 [00:32<10:11, 16.62it/s]"
     ]
    },
    {
     "name": "stdout",
     "output_type": "stream",
     "text": [
      "2\n",
      "2\n",
      "2\n"
     ]
    },
    {
     "name": "stderr",
     "output_type": "stream",
     "text": [
      "\r",
      "  4%|█▋                                     | 473/10638 [00:32<10:57, 15.47it/s]"
     ]
    },
    {
     "name": "stdout",
     "output_type": "stream",
     "text": [
      "2\n",
      "2\n",
      "2\n"
     ]
    },
    {
     "name": "stderr",
     "output_type": "stream",
     "text": [
      "  4%|█▋                                     | 477/10638 [00:33<12:22, 13.68it/s]"
     ]
    },
    {
     "name": "stdout",
     "output_type": "stream",
     "text": [
      "2\n",
      "2\n",
      "2\n"
     ]
    },
    {
     "name": "stderr",
     "output_type": "stream",
     "text": [
      "\r",
      "  5%|█▊                                     | 479/10638 [00:33<12:54, 13.12it/s]"
     ]
    },
    {
     "name": "stdout",
     "output_type": "stream",
     "text": [
      "2\n",
      "2\n",
      "2\n"
     ]
    },
    {
     "name": "stderr",
     "output_type": "stream",
     "text": [
      "  5%|█▊                                     | 483/10638 [00:33<12:29, 13.54it/s]"
     ]
    },
    {
     "name": "stdout",
     "output_type": "stream",
     "text": [
      "2\n",
      "2\n",
      "2\n"
     ]
    },
    {
     "name": "stderr",
     "output_type": "stream",
     "text": [
      "\r",
      "  5%|█▊                                     | 485/10638 [00:33<11:54, 14.21it/s]"
     ]
    },
    {
     "name": "stdout",
     "output_type": "stream",
     "text": [
      "2\n",
      "2\n",
      "2\n"
     ]
    },
    {
     "name": "stderr",
     "output_type": "stream",
     "text": [
      "  5%|█▊                                     | 489/10638 [00:34<11:45, 14.38it/s]"
     ]
    },
    {
     "name": "stdout",
     "output_type": "stream",
     "text": [
      "2\n",
      "2\n",
      "2\n"
     ]
    },
    {
     "name": "stderr",
     "output_type": "stream",
     "text": [
      "\r",
      "  5%|█▊                                     | 491/10638 [00:34<12:10, 13.89it/s]"
     ]
    },
    {
     "name": "stdout",
     "output_type": "stream",
     "text": [
      "2\n",
      "2\n",
      "Unique\n",
      "Unique\n",
      "Unique\n",
      "Unique\n",
      "Unique\n",
      "Unique\n",
      "Unique\n",
      "Unique\n",
      "Unique\n",
      "Unique\n",
      "Unique\n",
      "Unique\n",
      "2\n"
     ]
    },
    {
     "name": "stderr",
     "output_type": "stream",
     "text": [
      "\r",
      "  5%|█▊                                     | 505/10638 [00:34<04:36, 36.68it/s]"
     ]
    },
    {
     "name": "stdout",
     "output_type": "stream",
     "text": [
      "2\n",
      "2\n",
      "2\n"
     ]
    },
    {
     "name": "stderr",
     "output_type": "stream",
     "text": [
      "\r",
      "  5%|█▊                                     | 509/10638 [00:34<06:39, 25.34it/s]"
     ]
    },
    {
     "name": "stdout",
     "output_type": "stream",
     "text": [
      "2\n",
      "2\n",
      "3\n"
     ]
    },
    {
     "name": "stderr",
     "output_type": "stream",
     "text": [
      "\r",
      "  5%|█▉                                     | 512/10638 [00:34<07:50, 21.54it/s]"
     ]
    },
    {
     "name": "stdout",
     "output_type": "stream",
     "text": [
      "2\n",
      "2\n",
      "2\n",
      "2\n"
     ]
    },
    {
     "name": "stderr",
     "output_type": "stream",
     "text": [
      "  5%|█▉                                     | 518/10638 [00:35<09:11, 18.35it/s]"
     ]
    },
    {
     "name": "stdout",
     "output_type": "stream",
     "text": [
      "2\n",
      "2\n",
      "2\n",
      "2\n"
     ]
    },
    {
     "name": "stderr",
     "output_type": "stream",
     "text": [
      "\r",
      "  5%|█▉                                     | 520/10638 [00:35<09:49, 17.17it/s]"
     ]
    },
    {
     "name": "stdout",
     "output_type": "stream",
     "text": [
      "3\n",
      "2\n",
      "2\n"
     ]
    },
    {
     "name": "stderr",
     "output_type": "stream",
     "text": [
      "  5%|█▉                                     | 524/10638 [00:35<10:44, 15.69it/s]"
     ]
    },
    {
     "name": "stdout",
     "output_type": "stream",
     "text": [
      "2\n",
      "2\n",
      "2\n",
      "2\n"
     ]
    },
    {
     "name": "stderr",
     "output_type": "stream",
     "text": [
      "  5%|█▉                                     | 528/10638 [00:36<11:30, 14.64it/s]"
     ]
    },
    {
     "name": "stdout",
     "output_type": "stream",
     "text": [
      "2\n",
      "2\n",
      "2\n"
     ]
    },
    {
     "name": "stderr",
     "output_type": "stream",
     "text": [
      "  5%|█▉                                     | 532/10638 [00:36<11:16, 14.94it/s]"
     ]
    },
    {
     "name": "stdout",
     "output_type": "stream",
     "text": [
      "3\n",
      "2\n",
      "2\n",
      "2\n"
     ]
    },
    {
     "name": "stderr",
     "output_type": "stream",
     "text": [
      "  5%|█▉                                     | 536/10638 [00:36<10:35, 15.91it/s]"
     ]
    },
    {
     "name": "stdout",
     "output_type": "stream",
     "text": [
      "2\n",
      "2\n",
      "2\n",
      "2\n"
     ]
    },
    {
     "name": "stderr",
     "output_type": "stream",
     "text": [
      "  5%|█▉                                     | 540/10638 [00:36<10:44, 15.67it/s]"
     ]
    },
    {
     "name": "stdout",
     "output_type": "stream",
     "text": [
      "2\n",
      "3\n",
      "2\n",
      "2\n"
     ]
    },
    {
     "name": "stderr",
     "output_type": "stream",
     "text": [
      "  5%|█▉                                     | 544/10638 [00:37<10:56, 15.38it/s]"
     ]
    },
    {
     "name": "stdout",
     "output_type": "stream",
     "text": [
      "2\n",
      "2\n",
      "2\n",
      "2\n"
     ]
    },
    {
     "name": "stderr",
     "output_type": "stream",
     "text": [
      "  5%|██                                     | 548/10638 [00:37<10:33, 15.93it/s]"
     ]
    },
    {
     "name": "stdout",
     "output_type": "stream",
     "text": [
      "2\n",
      "2\n",
      "2\n",
      "2\n"
     ]
    },
    {
     "name": "stderr",
     "output_type": "stream",
     "text": [
      "\r",
      "  5%|██                                     | 550/10638 [00:37<10:50, 15.52it/s]"
     ]
    },
    {
     "name": "stdout",
     "output_type": "stream",
     "text": [
      "2\n",
      "2\n",
      "2\n"
     ]
    },
    {
     "name": "stderr",
     "output_type": "stream",
     "text": [
      "  5%|██                                     | 554/10638 [00:37<12:30, 13.44it/s]"
     ]
    },
    {
     "name": "stdout",
     "output_type": "stream",
     "text": [
      "2\n",
      "2\n",
      "2\n"
     ]
    },
    {
     "name": "stderr",
     "output_type": "stream",
     "text": [
      "\r",
      "  5%|██                                     | 556/10638 [00:37<13:16, 12.66it/s]"
     ]
    },
    {
     "name": "stdout",
     "output_type": "stream",
     "text": [
      "2\n",
      "3\n",
      "2\n"
     ]
    },
    {
     "name": "stderr",
     "output_type": "stream",
     "text": [
      "  5%|██                                     | 560/10638 [00:38<12:52, 13.05it/s]"
     ]
    },
    {
     "name": "stdout",
     "output_type": "stream",
     "text": [
      "2\n",
      "2\n",
      "Unique\n",
      "2\n",
      "Unique\n",
      "Unique\n",
      "Unique\n",
      "Unique\n",
      "Unique\n",
      "Unique\n",
      "2\n"
     ]
    },
    {
     "name": "stderr",
     "output_type": "stream",
     "text": [
      "\r",
      "  5%|██                                     | 569/10638 [00:38<05:51, 28.62it/s]"
     ]
    },
    {
     "name": "stdout",
     "output_type": "stream",
     "text": [
      "2\n",
      "2\n",
      "2\n",
      "2\n"
     ]
    },
    {
     "name": "stderr",
     "output_type": "stream",
     "text": [
      "  5%|██                                     | 576/10638 [00:38<07:50, 21.38it/s]"
     ]
    },
    {
     "name": "stdout",
     "output_type": "stream",
     "text": [
      "2\n",
      "2\n",
      "2\n",
      "2\n"
     ]
    },
    {
     "name": "stderr",
     "output_type": "stream",
     "text": [
      "\r",
      "  5%|██                                     | 579/10638 [00:39<09:15, 18.11it/s]"
     ]
    },
    {
     "name": "stdout",
     "output_type": "stream",
     "text": [
      "3\n",
      "2\n",
      "2\n"
     ]
    },
    {
     "name": "stderr",
     "output_type": "stream",
     "text": [
      "\r",
      "  5%|██▏                                    | 582/10638 [00:39<09:50, 17.04it/s]"
     ]
    },
    {
     "name": "stdout",
     "output_type": "stream",
     "text": [
      "2\n",
      "2\n",
      "2\n",
      "2\n"
     ]
    },
    {
     "name": "stderr",
     "output_type": "stream",
     "text": [
      "  6%|██▏                                    | 586/10638 [00:39<09:49, 17.06it/s]"
     ]
    },
    {
     "name": "stdout",
     "output_type": "stream",
     "text": [
      "2\n",
      "2\n",
      "2\n",
      "Unique\n",
      "Unique\n",
      "Unique\n",
      "2\n"
     ]
    },
    {
     "name": "stderr",
     "output_type": "stream",
     "text": [
      "  6%|██▏                                    | 610/10638 [00:39<03:18, 50.59it/s]"
     ]
    },
    {
     "name": "stdout",
     "output_type": "stream",
     "text": [
      "Unique\n",
      "Unique\n",
      "Unique\n",
      "Unique\n",
      "Unique\n",
      "Unique\n",
      "Unique\n",
      "Unique\n",
      "Unique\n",
      "2\n",
      "Unique\n",
      "Unique\n",
      "Unique\n",
      "Unique\n",
      "Unique\n",
      "Unique\n",
      "Unique\n",
      "Unique\n",
      "2\n",
      "Unique\n",
      "Unique\n",
      "Unique\n",
      "Unique\n",
      "Unique\n",
      "Unique\n",
      "Unique\n",
      "Unique\n",
      "2\n"
     ]
    },
    {
     "name": "stderr",
     "output_type": "stream",
     "text": [
      "\r",
      "  6%|██▎                                    | 620/10638 [00:39<03:06, 53.78it/s]"
     ]
    },
    {
     "name": "stdout",
     "output_type": "stream",
     "text": [
      "2\n",
      "3\n",
      "2\n",
      "2\n",
      "2\n",
      "2\n",
      "2\n"
     ]
    },
    {
     "name": "stderr",
     "output_type": "stream",
     "text": [
      "\r",
      "  6%|██▎                                    | 626/10638 [00:40<04:34, 36.51it/s]"
     ]
    },
    {
     "name": "stdout",
     "output_type": "stream",
     "text": [
      "2\n",
      "2\n",
      "2\n"
     ]
    },
    {
     "name": "stderr",
     "output_type": "stream",
     "text": [
      "\r",
      "  6%|██▎                                    | 631/10638 [00:40<06:15, 26.64it/s]"
     ]
    },
    {
     "name": "stdout",
     "output_type": "stream",
     "text": [
      "3\n",
      "2\n",
      "2\n"
     ]
    },
    {
     "name": "stderr",
     "output_type": "stream",
     "text": [
      "\r",
      "  6%|██▎                                    | 635/10638 [00:40<07:05, 23.50it/s]"
     ]
    },
    {
     "name": "stdout",
     "output_type": "stream",
     "text": [
      "2\n",
      "2\n",
      "3\n",
      "2\n"
     ]
    },
    {
     "name": "stderr",
     "output_type": "stream",
     "text": [
      "\r",
      "  6%|██▎                                    | 638/10638 [00:41<07:38, 21.83it/s]"
     ]
    },
    {
     "name": "stdout",
     "output_type": "stream",
     "text": [
      "2\n",
      "2\n",
      "2\n",
      "Unique\n",
      "Unique\n",
      "Unique\n",
      "Unique\n",
      "Unique\n",
      "Unique\n",
      "Unique\n",
      "Unique\n",
      "Unique\n",
      "Unique\n",
      "Unique\n",
      "Unique\n",
      "Unique\n",
      "Unique\n",
      "2\n"
     ]
    },
    {
     "name": "stderr",
     "output_type": "stream",
     "text": [
      "  6%|██▍                                    | 660/10638 [00:41<04:01, 41.30it/s]"
     ]
    },
    {
     "name": "stdout",
     "output_type": "stream",
     "text": [
      "Unique\n",
      "Unique\n",
      "Unique\n",
      "Unique\n",
      "Unique\n",
      "2\n",
      "2\n",
      "2\n"
     ]
    },
    {
     "name": "stderr",
     "output_type": "stream",
     "text": [
      "\r",
      "  6%|██▍                                    | 665/10638 [00:41<05:28, 30.34it/s]"
     ]
    },
    {
     "name": "stdout",
     "output_type": "stream",
     "text": [
      "2\n",
      "2\n",
      "2\n",
      "2\n"
     ]
    },
    {
     "name": "stderr",
     "output_type": "stream",
     "text": [
      "\r",
      "  6%|██▍                                    | 669/10638 [00:41<06:21, 26.14it/s]"
     ]
    },
    {
     "name": "stdout",
     "output_type": "stream",
     "text": [
      "2\n",
      "2\n",
      "2\n",
      "2\n"
     ]
    },
    {
     "name": "stderr",
     "output_type": "stream",
     "text": [
      "\r",
      "  6%|██▍                                    | 673/10638 [00:42<07:14, 22.96it/s]"
     ]
    },
    {
     "name": "stdout",
     "output_type": "stream",
     "text": [
      "2\n",
      "2\n",
      "3\n",
      "2\n"
     ]
    },
    {
     "name": "stderr",
     "output_type": "stream",
     "text": [
      "\r",
      "  6%|██▍                                    | 676/10638 [00:42<07:46, 21.34it/s]"
     ]
    },
    {
     "name": "stdout",
     "output_type": "stream",
     "text": [
      "2\n",
      "2\n",
      "2\n",
      "2\n"
     ]
    },
    {
     "name": "stderr",
     "output_type": "stream",
     "text": [
      "\r",
      "  6%|██▍                                    | 679/10638 [00:42<08:23, 19.77it/s]"
     ]
    },
    {
     "name": "stdout",
     "output_type": "stream",
     "text": [
      "2\n",
      "2\n",
      "2\n"
     ]
    },
    {
     "name": "stderr",
     "output_type": "stream",
     "text": [
      "  6%|██▌                                    | 684/10638 [00:42<09:25, 17.62it/s]"
     ]
    },
    {
     "name": "stdout",
     "output_type": "stream",
     "text": [
      "2\n",
      "2\n",
      "2\n",
      "2\n"
     ]
    },
    {
     "name": "stderr",
     "output_type": "stream",
     "text": [
      "  6%|██▌                                    | 688/10638 [00:43<09:55, 16.70it/s]"
     ]
    },
    {
     "name": "stdout",
     "output_type": "stream",
     "text": [
      "2\n",
      "2\n",
      "2\n",
      "2\n"
     ]
    },
    {
     "name": "stderr",
     "output_type": "stream",
     "text": [
      "\r",
      "  7%|██▌                                    | 692/10638 [00:43<08:28, 19.55it/s]"
     ]
    },
    {
     "name": "stdout",
     "output_type": "stream",
     "text": [
      "Unique\n",
      "Unique\n",
      "2\n",
      "Unique\n",
      "Unique\n",
      "Unique\n",
      "Unique\n",
      "2\n",
      "2\n"
     ]
    },
    {
     "name": "stderr",
     "output_type": "stream",
     "text": [
      "\r",
      "  7%|██▌                                    | 698/10638 [00:43<06:16, 26.38it/s]"
     ]
    },
    {
     "name": "stdout",
     "output_type": "stream",
     "text": [
      "2\n",
      "2\n",
      "2\n"
     ]
    },
    {
     "name": "stderr",
     "output_type": "stream",
     "text": [
      "  7%|██▌                                    | 704/10638 [00:43<08:20, 19.86it/s]"
     ]
    },
    {
     "name": "stdout",
     "output_type": "stream",
     "text": [
      "2\n",
      "2\n",
      "2\n",
      "2\n"
     ]
    },
    {
     "name": "stderr",
     "output_type": "stream",
     "text": [
      "\r",
      "  7%|██▌                                    | 707/10638 [00:44<08:57, 18.49it/s]"
     ]
    },
    {
     "name": "stdout",
     "output_type": "stream",
     "text": [
      "2\n",
      "2\n",
      "2\n",
      "Unique\n",
      "Unique\n",
      "Unique\n",
      "Unique\n",
      "Unique\n",
      "Unique\n",
      "Unique\n",
      "2\n"
     ]
    },
    {
     "name": "stderr",
     "output_type": "stream",
     "text": [
      "  7%|██▋                                    | 722/10638 [00:44<04:50, 34.09it/s]"
     ]
    },
    {
     "name": "stdout",
     "output_type": "stream",
     "text": [
      "Unique\n",
      "Unique\n",
      "Unique\n",
      "Unique\n",
      "2\n",
      "2\n",
      "2\n",
      "2\n",
      "2\n",
      "2\n"
     ]
    },
    {
     "name": "stderr",
     "output_type": "stream",
     "text": [
      "  7%|██▋                                    | 730/10638 [00:44<07:08, 23.10it/s]"
     ]
    },
    {
     "name": "stdout",
     "output_type": "stream",
     "text": [
      "Unique\n",
      "2\n",
      "2\n",
      "2\n",
      "2\n"
     ]
    },
    {
     "name": "stderr",
     "output_type": "stream",
     "text": [
      "\r",
      "  7%|██▋                                    | 734/10638 [00:44<06:30, 25.35it/s]"
     ]
    },
    {
     "name": "stdout",
     "output_type": "stream",
     "text": [
      "Unique\n",
      "Unique\n",
      "2\n",
      "2\n",
      "3\n",
      "3\n"
     ]
    },
    {
     "name": "stderr",
     "output_type": "stream",
     "text": [
      "  7%|██▋                                    | 740/10638 [00:45<07:14, 22.79it/s]"
     ]
    },
    {
     "name": "stdout",
     "output_type": "stream",
     "text": [
      "Unique\n",
      "2\n",
      "2\n",
      "2\n",
      "2\n"
     ]
    },
    {
     "name": "stderr",
     "output_type": "stream",
     "text": [
      "\r",
      "  7%|██▋                                    | 743/10638 [00:45<07:50, 21.05it/s]"
     ]
    },
    {
     "name": "stdout",
     "output_type": "stream",
     "text": [
      "2\n",
      "2\n",
      "2\n",
      "2\n"
     ]
    },
    {
     "name": "stderr",
     "output_type": "stream",
     "text": [
      "  7%|██▋                                    | 749/10638 [00:45<08:50, 18.64it/s]"
     ]
    },
    {
     "name": "stdout",
     "output_type": "stream",
     "text": [
      "2\n",
      "2\n",
      "2\n",
      "2\n"
     ]
    },
    {
     "name": "stderr",
     "output_type": "stream",
     "text": [
      "  7%|██▊                                    | 753/10638 [00:46<08:51, 18.61it/s]"
     ]
    },
    {
     "name": "stdout",
     "output_type": "stream",
     "text": [
      "2\n",
      "2\n",
      "2\n",
      "2\n"
     ]
    },
    {
     "name": "stderr",
     "output_type": "stream",
     "text": [
      "  7%|██▊                                    | 757/10638 [00:46<09:17, 17.73it/s]"
     ]
    },
    {
     "name": "stdout",
     "output_type": "stream",
     "text": [
      "2\n",
      "2\n",
      "2\n",
      "2\n"
     ]
    },
    {
     "name": "stderr",
     "output_type": "stream",
     "text": [
      "  7%|██▊                                    | 767/10638 [00:46<05:10, 31.78it/s]"
     ]
    },
    {
     "name": "stdout",
     "output_type": "stream",
     "text": [
      "2\n",
      "2\n",
      "Unique\n",
      "Unique\n",
      "Unique\n",
      "Unique\n",
      "Unique\n",
      "Unique\n",
      "2\n",
      "2\n"
     ]
    },
    {
     "name": "stderr",
     "output_type": "stream",
     "text": [
      "\r",
      "  7%|██▊                                    | 771/10638 [00:46<06:22, 25.81it/s]"
     ]
    },
    {
     "name": "stdout",
     "output_type": "stream",
     "text": [
      "2\n",
      "2\n",
      "2\n",
      "2\n"
     ]
    },
    {
     "name": "stderr",
     "output_type": "stream",
     "text": [
      "\r",
      "  7%|██▊                                    | 774/10638 [00:46<07:24, 22.17it/s]"
     ]
    },
    {
     "name": "stdout",
     "output_type": "stream",
     "text": [
      "2\n",
      "2\n",
      "2\n",
      "2\n"
     ]
    },
    {
     "name": "stderr",
     "output_type": "stream",
     "text": [
      "\r",
      "  7%|██▊                                    | 777/10638 [00:47<08:12, 20.01it/s]"
     ]
    },
    {
     "name": "stdout",
     "output_type": "stream",
     "text": [
      "2\n",
      "2\n",
      "2\n",
      "3\n"
     ]
    },
    {
     "name": "stderr",
     "output_type": "stream",
     "text": [
      "  7%|██▊                                    | 782/10638 [00:47<09:40, 16.98it/s]"
     ]
    },
    {
     "name": "stdout",
     "output_type": "stream",
     "text": [
      "Another Candidate\n",
      "2\n",
      "2\n",
      "2\n"
     ]
    },
    {
     "name": "stderr",
     "output_type": "stream",
     "text": [
      "  7%|██▉                                    | 786/10638 [00:47<09:26, 17.38it/s]"
     ]
    },
    {
     "name": "stdout",
     "output_type": "stream",
     "text": [
      "2\n",
      "2\n",
      "2\n",
      "Unique\n",
      "Unique\n",
      "Unique\n",
      "Unique\n",
      "Unique\n",
      "Unique\n",
      "Unique\n",
      "Unique\n",
      "Unique\n",
      "Unique\n",
      "Unique\n",
      "2\n"
     ]
    },
    {
     "name": "stderr",
     "output_type": "stream",
     "text": [
      "  8%|██▉                                    | 808/10638 [00:47<03:15, 50.35it/s]"
     ]
    },
    {
     "name": "stdout",
     "output_type": "stream",
     "text": [
      "Another Candidate\n",
      "Unique\n",
      "Unique\n",
      "Unique\n",
      "Unique\n",
      "Unique\n",
      "Unique\n",
      "Unique\n",
      "Unique\n",
      "Unique\n",
      "2\n",
      "Another Candidate\n",
      "Unique\n",
      "Unique\n",
      "Unique\n",
      "Unique\n",
      "Unique\n",
      "Unique\n",
      "Unique\n",
      "Unique\n",
      "2\n"
     ]
    },
    {
     "name": "stderr",
     "output_type": "stream",
     "text": [
      "  8%|███                                    | 827/10638 [00:48<02:27, 66.44it/s]"
     ]
    },
    {
     "name": "stdout",
     "output_type": "stream",
     "text": [
      "Another Candidate\n",
      "Unique\n",
      "Unique\n",
      "Unique\n",
      "Unique\n",
      "Unique\n",
      "Unique\n",
      "Unique\n",
      "Unique\n",
      "Unique\n",
      "2\n",
      "Another Candidate\n",
      "Unique\n",
      "Unique\n",
      "Unique\n",
      "Unique\n",
      "Unique\n",
      "Unique\n",
      "Unique\n",
      "Unique\n",
      "Unique\n",
      "Unique\n",
      "2\n"
     ]
    },
    {
     "name": "stderr",
     "output_type": "stream",
     "text": [
      "  8%|███                                    | 848/10638 [00:48<02:09, 75.33it/s]"
     ]
    },
    {
     "name": "stdout",
     "output_type": "stream",
     "text": [
      "Another Candidate\n",
      "Unique\n",
      "Unique\n",
      "Unique\n",
      "Unique\n",
      "Unique\n",
      "Unique\n",
      "Unique\n",
      "Unique\n",
      "Unique\n",
      "2\n",
      "Another Candidate\n",
      "Unique\n",
      "Unique\n",
      "Unique\n",
      "Unique\n",
      "Unique\n",
      "Unique\n",
      "Unique\n",
      "Unique\n",
      "2\n"
     ]
    },
    {
     "name": "stderr",
     "output_type": "stream",
     "text": [
      "  8%|███▏                                   | 865/10638 [00:48<02:12, 73.82it/s]"
     ]
    },
    {
     "name": "stdout",
     "output_type": "stream",
     "text": [
      "Another Candidate\n",
      "Unique\n",
      "Unique\n",
      "Unique\n",
      "Unique\n",
      "2\n",
      "Another Candidate\n",
      "Unique\n",
      "Unique\n",
      "Unique\n",
      "Unique\n",
      "Unique\n",
      "Unique\n",
      "Unique\n",
      "Unique\n",
      "2\n"
     ]
    },
    {
     "name": "stderr",
     "output_type": "stream",
     "text": [
      "  8%|███▏                                   | 881/10638 [00:48<02:15, 72.06it/s]"
     ]
    },
    {
     "name": "stdout",
     "output_type": "stream",
     "text": [
      "Another Candidate\n",
      "Unique\n",
      "Unique\n",
      "Unique\n",
      "Unique\n",
      "Unique\n",
      "Unique\n",
      "Unique\n",
      "Unique\n",
      "Unique\n",
      "2\n",
      "Another Candidate\n",
      "Unique\n",
      "Unique\n",
      "Unique\n",
      "Unique\n",
      "Unique\n",
      "Unique\n",
      "Unique\n",
      "Unique\n",
      "2\n"
     ]
    },
    {
     "name": "stderr",
     "output_type": "stream",
     "text": [
      "  9%|███▍                                  | 951/10638 [00:49<00:50, 191.55it/s]"
     ]
    },
    {
     "name": "stdout",
     "output_type": "stream",
     "text": [
      "Another Candidate\n",
      "Unique\n",
      "Unique\n",
      "Unique\n",
      "Unique\n",
      "Unique\n",
      "Unique\n",
      "Unique\n",
      "Unique\n",
      "Unique\n",
      "Unique\n",
      "Unique\n",
      "Unique\n",
      "Unique\n",
      "Unique\n",
      "Unique\n",
      "Unique\n",
      "Unique\n",
      "Unique\n",
      "Unique\n",
      "Unique\n",
      "Unique\n",
      "Unique\n",
      "Unique\n",
      "Unique\n",
      "Unique\n",
      "Unique\n",
      "Unique\n",
      "Unique\n",
      "Unique\n",
      "Unique\n",
      "Unique\n",
      "Unique\n",
      "Unique\n",
      "Unique\n",
      "Unique\n",
      "Unique\n",
      "Unique\n",
      "Unique\n",
      "Unique\n",
      "Unique\n",
      "Unique\n",
      "Unique\n",
      "Unique\n",
      "Unique\n",
      "Unique\n",
      "Unique\n",
      "Unique\n",
      "Unique\n",
      "Unique\n",
      "Unique\n",
      "Unique\n",
      "2\n",
      "Unique\n",
      "Unique\n",
      "Unique\n",
      "Unique\n",
      "Unique\n",
      "Unique\n",
      "Unique\n",
      "Unique\n",
      "2\n",
      "Unique\n",
      "Unique\n",
      "2\n"
     ]
    },
    {
     "name": "stderr",
     "output_type": "stream",
     "text": [
      "  9%|███▌                                  | 986/10638 [00:49<00:56, 170.33it/s]"
     ]
    },
    {
     "name": "stdout",
     "output_type": "stream",
     "text": [
      "Unique\n",
      "Unique\n",
      "Unique\n",
      "Unique\n",
      "Unique\n",
      "Unique\n",
      "Unique\n",
      "Unique\n",
      "Unique\n",
      "2\n",
      "Unique\n",
      "Unique\n",
      "Unique\n",
      "Unique\n",
      "Unique\n",
      "Unique\n",
      "Unique\n",
      "Unique\n",
      "2\n",
      "Unique\n",
      "Unique\n",
      "Unique\n",
      "Unique\n",
      "Unique\n",
      "Unique\n",
      "Unique\n",
      "Unique\n",
      "Unique\n",
      "2\n",
      "Unique\n",
      "Unique\n",
      "Unique\n",
      "Unique\n",
      "Unique\n",
      "Unique\n",
      "Unique\n",
      "Unique\n",
      "2\n"
     ]
    },
    {
     "name": "stderr",
     "output_type": "stream",
     "text": [
      " 10%|███▌                                 | 1035/10638 [00:49<00:52, 182.42it/s]"
     ]
    },
    {
     "name": "stdout",
     "output_type": "stream",
     "text": [
      "Unique\n",
      "Unique\n",
      "Unique\n",
      "Unique\n",
      "Unique\n",
      "Unique\n",
      "Unique\n",
      "Unique\n",
      "Unique\n",
      "Unique\n",
      "2\n",
      "Unique\n",
      "Unique\n",
      "Unique\n",
      "Unique\n",
      "2\n",
      "Unique\n",
      "Unique\n",
      "Unique\n",
      "Unique\n",
      "Unique\n",
      "Unique\n",
      "Unique\n",
      "Unique\n",
      "Unique\n",
      "Unique\n",
      "Unique\n",
      "Unique\n",
      "Unique\n",
      "Unique\n",
      "Unique\n",
      "Unique\n",
      "Unique\n",
      "Unique\n",
      "Unique\n",
      "Unique\n",
      "Unique\n",
      "Unique\n",
      "Unique\n",
      "Unique\n",
      "Unique\n",
      "Unique\n",
      "2\n",
      "Unique\n",
      "Unique\n",
      "Unique\n",
      "Unique\n",
      "Unique\n",
      "Unique\n",
      "Unique\n",
      "Unique\n",
      "2\n"
     ]
    },
    {
     "name": "stderr",
     "output_type": "stream",
     "text": [
      " 10%|███▋                                 | 1073/10638 [00:49<00:56, 169.31it/s]"
     ]
    },
    {
     "name": "stdout",
     "output_type": "stream",
     "text": [
      "Unique\n",
      "Unique\n",
      "Unique\n",
      "Unique\n",
      "Unique\n",
      "Unique\n",
      "Unique\n",
      "Unique\n",
      "Unique\n",
      "2\n",
      "Unique\n",
      "Unique\n",
      "Unique\n",
      "Unique\n",
      "Unique\n",
      "Unique\n",
      "Unique\n",
      "Unique\n",
      "2\n",
      "Unique\n",
      "Unique\n",
      "Unique\n",
      "Unique\n",
      "Unique\n",
      "Unique\n",
      "Unique\n",
      "Unique\n",
      "Unique\n",
      "2\n",
      "Unique\n",
      "Unique\n",
      "Unique\n",
      "Unique\n",
      "Unique\n",
      "Unique\n",
      "Unique\n",
      "2\n"
     ]
    },
    {
     "name": "stderr",
     "output_type": "stream",
     "text": [
      " 10%|███▊                                 | 1109/10638 [00:50<00:59, 159.37it/s]"
     ]
    },
    {
     "name": "stdout",
     "output_type": "stream",
     "text": [
      "2\n",
      "Unique\n",
      "Unique\n",
      "Unique\n",
      "Unique\n",
      "Unique\n",
      "Unique\n",
      "Unique\n",
      "Unique\n",
      "Unique\n",
      "Unique\n",
      "Unique\n",
      "Unique\n",
      "Unique\n",
      "Unique\n",
      "Unique\n",
      "Unique\n",
      "2\n",
      "Unique\n",
      "Unique\n",
      "Unique\n",
      "Unique\n",
      "Unique\n",
      "Unique\n",
      "Unique\n",
      "Unique\n",
      "Unique\n",
      "2\n",
      "Unique\n",
      "Unique\n",
      "Unique\n",
      "Unique\n",
      "Unique\n",
      "Unique\n",
      "Unique\n",
      "Unique\n",
      "2\n"
     ]
    },
    {
     "name": "stderr",
     "output_type": "stream",
     "text": [
      " 11%|███▉                                 | 1144/10638 [00:50<01:04, 146.84it/s]"
     ]
    },
    {
     "name": "stdout",
     "output_type": "stream",
     "text": [
      "Unique\n",
      "Unique\n",
      "Unique\n",
      "Unique\n",
      "Unique\n",
      "Unique\n",
      "Unique\n",
      "Unique\n",
      "Unique\n",
      "2\n",
      "Unique\n",
      "Unique\n",
      "Unique\n",
      "Unique\n",
      "Unique\n",
      "Unique\n",
      "Unique\n",
      "Unique\n",
      "2\n",
      "Unique\n",
      "Unique\n",
      "2\n",
      "Unique\n",
      "Unique\n",
      "Unique\n",
      "Unique\n",
      "Unique\n",
      "Unique\n",
      "Unique\n",
      "Unique\n",
      "Unique\n",
      "2\n"
     ]
    },
    {
     "name": "stderr",
     "output_type": "stream",
     "text": [
      "\r",
      " 11%|████▏                                | 1208/10638 [00:50<00:38, 243.24it/s]"
     ]
    },
    {
     "name": "stdout",
     "output_type": "stream",
     "text": [
      "Unique\n",
      "Unique\n",
      "Unique\n",
      "Unique\n",
      "Unique\n",
      "Unique\n",
      "Unique\n",
      "Unique\n",
      "Unique\n",
      "Unique\n",
      "Unique\n",
      "Unique\n",
      "Unique\n",
      "Unique\n",
      "Unique\n",
      "Unique\n",
      "Unique\n",
      "Unique\n",
      "Unique\n",
      "Unique\n",
      "Unique\n",
      "Unique\n",
      "Unique\n",
      "Unique\n",
      "Unique\n",
      "Unique\n",
      "Unique\n",
      "Unique\n",
      "Unique\n",
      "Unique\n",
      "Unique\n",
      "Unique\n",
      "Unique\n",
      "Unique\n",
      "Unique\n",
      "Unique\n",
      "Unique\n",
      "Unique\n",
      "Unique\n",
      "Unique\n",
      "Unique\n",
      "Unique\n",
      "Unique\n",
      "Unique\n",
      "Unique\n",
      "Unique\n",
      "Unique\n",
      "Unique\n",
      "Unique\n",
      "Unique\n",
      "Unique\n",
      "Unique\n",
      "Unique\n",
      "Unique\n",
      "Unique\n",
      "Unique\n",
      "Unique\n",
      "2\n",
      "Unique\n",
      "Unique\n",
      "Unique\n",
      "Unique\n",
      "Unique\n",
      "Unique\n",
      "Unique\n",
      "Unique\n",
      "2\n",
      "Unique\n",
      "Unique\n",
      "Unique\n",
      "Unique\n",
      "Unique\n",
      "Unique\n",
      "Unique\n",
      "Unique\n",
      "Unique\n",
      "2\n"
     ]
    },
    {
     "name": "stderr",
     "output_type": "stream",
     "text": [
      " 12%|████▎                                | 1254/10638 [00:50<00:52, 178.72it/s]"
     ]
    },
    {
     "name": "stdout",
     "output_type": "stream",
     "text": [
      "Unique\n",
      "Unique\n",
      "Unique\n",
      "Unique\n",
      "Unique\n",
      "Unique\n",
      "Unique\n",
      "Unique\n",
      "2\n",
      "Unique\n",
      "Unique\n",
      "Unique\n",
      "Unique\n",
      "Unique\n",
      "Unique\n",
      "Unique\n",
      "Unique\n",
      "Unique\n",
      "2\n",
      "Unique\n",
      "Unique\n",
      "Unique\n",
      "Unique\n",
      "Unique\n",
      "2\n",
      "Unique\n",
      "Unique\n",
      "Unique\n",
      "Unique\n",
      "Unique\n",
      "Unique\n",
      "Unique\n",
      "Unique\n",
      "Unique\n",
      "2\n"
     ]
    },
    {
     "name": "stderr",
     "output_type": "stream",
     "text": [
      " 12%|████▍                                | 1291/10638 [00:51<00:58, 160.39it/s]"
     ]
    },
    {
     "name": "stdout",
     "output_type": "stream",
     "text": [
      "Unique\n",
      "Unique\n",
      "Unique\n",
      "Unique\n",
      "Unique\n",
      "Unique\n",
      "Unique\n",
      "Unique\n",
      "2\n",
      "Unique\n",
      "Unique\n",
      "Unique\n",
      "Unique\n",
      "Unique\n",
      "Unique\n",
      "Unique\n",
      "Unique\n",
      "Unique\n",
      "Unique\n",
      "Unique\n",
      "2\n",
      "Unique\n",
      "Unique\n",
      "Unique\n",
      "Unique\n",
      "2\n",
      "Unique\n",
      "Unique\n",
      "Unique\n",
      "Unique\n",
      "Unique\n",
      "Unique\n",
      "Unique\n",
      "Unique\n",
      "Unique\n",
      "2\n"
     ]
    },
    {
     "name": "stderr",
     "output_type": "stream",
     "text": [
      "\r",
      " 12%|████▌                                | 1308/10638 [00:51<00:59, 156.21it/s]"
     ]
    },
    {
     "name": "stdout",
     "output_type": "stream",
     "text": [
      "Unique\n",
      "Unique\n",
      "Unique\n",
      "Unique\n",
      "Unique\n",
      "Unique\n",
      "Unique\n",
      "Unique\n",
      "2\n",
      "Unique\n",
      "Unique\n",
      "Unique\n",
      "Unique\n",
      "Unique\n",
      "Unique\n",
      "Unique\n",
      "Unique\n",
      "Unique\n",
      "Unique\n",
      "Unique\n",
      "Unique\n",
      "Unique\n",
      "Unique\n",
      "Unique\n",
      "Unique\n",
      "Unique\n",
      "Unique\n",
      "Unique\n",
      "Unique\n",
      "Unique\n",
      "Unique\n",
      "Unique\n",
      "Unique\n",
      "Unique\n",
      "Unique\n",
      "Unique\n",
      "Unique\n",
      "Unique\n",
      "Unique\n",
      "Unique\n",
      "Unique\n",
      "Unique\n",
      "Unique\n",
      "Unique\n",
      "Unique\n",
      "2\n",
      "Unique\n",
      "Unique\n",
      "Unique\n",
      "Unique\n",
      "Unique\n",
      "Unique\n",
      "Unique\n",
      "Unique\n",
      "Unique\n",
      "2\n"
     ]
    },
    {
     "name": "stderr",
     "output_type": "stream",
     "text": [
      " 13%|████▊                                | 1374/10638 [00:51<00:49, 186.55it/s]"
     ]
    },
    {
     "name": "stdout",
     "output_type": "stream",
     "text": [
      "Unique\n",
      "Unique\n",
      "Unique\n",
      "Unique\n",
      "Unique\n",
      "Unique\n",
      "Unique\n",
      "Unique\n",
      "2\n",
      "Unique\n",
      "Unique\n",
      "Unique\n",
      "Unique\n",
      "Unique\n",
      "Unique\n",
      "Unique\n",
      "Unique\n",
      "Unique\n",
      "2\n",
      "Unique\n",
      "Unique\n",
      "Unique\n",
      "Unique\n",
      "Unique\n",
      "Unique\n",
      "Unique\n",
      "Unique\n",
      "2\n",
      "Unique\n",
      "Unique\n",
      "Unique\n",
      "Unique\n",
      "Unique\n",
      "Unique\n",
      "Unique\n",
      "Unique\n",
      "Unique\n",
      "2\n"
     ]
    },
    {
     "name": "stderr",
     "output_type": "stream",
     "text": [
      " 13%|████▉                                | 1411/10638 [00:51<00:55, 167.04it/s]"
     ]
    },
    {
     "name": "stdout",
     "output_type": "stream",
     "text": [
      "Unique\n",
      "Unique\n",
      "Unique\n",
      "Unique\n",
      "Unique\n",
      "Unique\n",
      "Unique\n",
      "Unique\n",
      "2\n",
      "Unique\n",
      "Unique\n",
      "2\n",
      "Unique\n",
      "Unique\n",
      "Unique\n",
      "Unique\n",
      "Unique\n",
      "Unique\n",
      "Unique\n",
      "Unique\n",
      "Unique\n",
      "2\n",
      "Unique\n",
      "Unique\n",
      "Unique\n",
      "Unique\n",
      "Unique\n",
      "Unique\n",
      "Unique\n",
      "Unique\n",
      "2\n"
     ]
    },
    {
     "name": "stderr",
     "output_type": "stream",
     "text": [
      " 14%|█████                                | 1459/10638 [00:52<00:48, 187.94it/s]"
     ]
    },
    {
     "name": "stdout",
     "output_type": "stream",
     "text": [
      "Unique\n",
      "Unique\n",
      "Unique\n",
      "Unique\n",
      "Unique\n",
      "Unique\n",
      "Unique\n",
      "Unique\n",
      "Unique\n",
      "2\n",
      "Unique\n",
      "Unique\n",
      "Unique\n",
      "Unique\n",
      "Unique\n",
      "Unique\n",
      "Unique\n",
      "Unique\n",
      "Unique\n",
      "Unique\n",
      "Unique\n",
      "Unique\n",
      "Unique\n",
      "Unique\n",
      "Unique\n",
      "Unique\n",
      "Unique\n",
      "Unique\n",
      "Unique\n",
      "Unique\n",
      "Unique\n",
      "Unique\n",
      "Unique\n",
      "Unique\n",
      "Unique\n",
      "2\n",
      "Unique\n",
      "Unique\n",
      "Unique\n",
      "Unique\n",
      "Unique\n",
      "Unique\n",
      "Unique\n",
      "Unique\n",
      "Unique\n",
      "Unique\n",
      "Unique\n",
      "Unique\n",
      "Unique\n",
      "Unique\n",
      "Unique\n",
      "Unique\n",
      "Unique\n",
      "Unique\n",
      "Unique\n",
      "Unique\n",
      "Unique\n",
      "Unique\n",
      "Unique\n",
      "Unique\n",
      "Unique\n",
      "Unique\n",
      "Unique\n",
      "Unique\n",
      "Unique\n",
      "Unique\n",
      "Unique\n",
      "Unique\n",
      "Unique\n",
      "Unique\n",
      "Unique\n",
      "Unique\n",
      "Unique\n",
      "Unique\n",
      "Unique\n",
      "Unique\n",
      "Unique\n",
      "Unique\n",
      "Unique\n",
      "Unique\n",
      "Unique\n",
      "Unique\n",
      "Unique\n",
      "Unique\n",
      "Unique\n",
      "Unique\n",
      "Unique\n",
      "Unique\n",
      "Unique\n",
      "Unique\n",
      "Unique\n",
      "Unique\n",
      "Unique\n",
      "Unique\n",
      "Unique\n",
      "Unique\n",
      "Unique\n",
      "Unique\n",
      "Unique\n",
      "Unique\n",
      "Unique\n",
      "Unique\n",
      "Unique\n",
      "Unique\n",
      "Unique\n",
      "Unique\n",
      "Unique\n",
      "Unique\n",
      "Unique\n",
      "Unique\n",
      "Unique\n",
      "Unique\n",
      "Unique\n",
      "Unique\n",
      "Unique\n",
      "Unique\n",
      "Unique\n",
      "Unique\n",
      "Unique\n",
      "Unique\n",
      "Unique\n",
      "Unique\n",
      "Unique\n",
      "2\n",
      "Unique\n",
      "Unique\n",
      "Unique\n",
      "Unique\n",
      "Unique\n",
      "Unique\n",
      "Unique\n",
      "Unique\n",
      "2\n"
     ]
    },
    {
     "name": "stderr",
     "output_type": "stream",
     "text": [
      "\r",
      " 15%|█████▍                               | 1556/10638 [00:52<00:25, 351.25it/s]"
     ]
    },
    {
     "name": "stdout",
     "output_type": "stream",
     "text": [
      "Unique\n",
      "Unique\n",
      "Unique\n",
      "Unique\n",
      "Unique\n",
      "Unique\n",
      "Unique\n",
      "Unique\n",
      "Unique\n",
      "2\n",
      "Unique\n",
      "Unique\n",
      "Unique\n",
      "Unique\n",
      "Unique\n",
      "Unique\n",
      "Unique\n",
      "Unique\n",
      "2\n",
      "Unique\n",
      "Unique\n",
      "Unique\n",
      "Unique\n",
      "Unique\n",
      "Unique\n",
      "Unique\n",
      "Unique\n",
      "Unique\n",
      "3\n",
      "Another Candidate\n"
     ]
    },
    {
     "name": "stderr",
     "output_type": "stream",
     "text": [
      "\r",
      " 15%|█████▌                               | 1591/10638 [00:52<00:39, 226.41it/s]"
     ]
    },
    {
     "name": "stdout",
     "output_type": "stream",
     "text": [
      "2\n",
      "Unique\n",
      "Unique\n",
      "Unique\n",
      "Unique\n",
      "Unique\n",
      "Unique\n",
      "Unique\n",
      "Unique\n",
      "3\n",
      "Another Candidate\n",
      "2\n",
      "Unique\n",
      "Unique\n",
      "Unique\n",
      "Unique\n",
      "Unique\n",
      "Unique\n",
      "Unique\n",
      "Unique\n",
      "Unique\n",
      "3\n",
      "Another Candidate\n",
      "2\n",
      "Unique\n",
      "Unique\n",
      "Unique\n",
      "Unique\n",
      "Unique\n",
      "Unique\n",
      "Unique\n",
      "3\n"
     ]
    },
    {
     "name": "stderr",
     "output_type": "stream",
     "text": [
      "\r",
      " 15%|█████▋                               | 1619/10638 [00:53<01:12, 124.53it/s]"
     ]
    },
    {
     "name": "stdout",
     "output_type": "stream",
     "text": [
      "Another Candidate\n",
      "2\n",
      "Unique\n",
      "Unique\n",
      "Unique\n",
      "Unique\n",
      "Unique\n",
      "Unique\n",
      "Unique\n",
      "Unique\n",
      "Unique\n",
      "3\n",
      "Another Candidate\n",
      "2\n",
      "Unique\n",
      "Unique\n",
      "Unique\n",
      "Unique\n",
      "Unique\n",
      "Unique\n",
      "3\n",
      "Another Candidate\n",
      "2\n"
     ]
    },
    {
     "name": "stderr",
     "output_type": "stream",
     "text": [
      "\r",
      " 15%|█████▋                               | 1640/10638 [00:53<01:26, 104.27it/s]"
     ]
    },
    {
     "name": "stdout",
     "output_type": "stream",
     "text": [
      "Unique\n",
      "Unique\n",
      "Unique\n",
      "Unique\n",
      "Unique\n",
      "Unique\n",
      "Unique\n",
      "Unique\n",
      "Unique\n",
      "3\n",
      "Another Candidate\n",
      "2\n",
      "Unique\n",
      "Unique\n",
      "Unique\n",
      "Unique\n",
      "Unique\n",
      "Unique\n",
      "Unique\n",
      "Unique\n",
      "3\n"
     ]
    },
    {
     "name": "stderr",
     "output_type": "stream",
     "text": [
      "\r",
      " 16%|█████▉                                | 1657/10638 [00:53<01:43, 86.76it/s]"
     ]
    },
    {
     "name": "stdout",
     "output_type": "stream",
     "text": [
      "Another Candidate\n",
      "2\n",
      "Unique\n",
      "Unique\n",
      "Unique\n",
      "Unique\n",
      "Unique\n",
      "Unique\n",
      "Unique\n",
      "Unique\n",
      "Unique\n",
      "3\n",
      "Another Candidate\n"
     ]
    },
    {
     "name": "stderr",
     "output_type": "stream",
     "text": [
      " 16%|██████                                | 1682/10638 [00:54<01:41, 88.13it/s]"
     ]
    },
    {
     "name": "stdout",
     "output_type": "stream",
     "text": [
      "2\n",
      "Unique\n",
      "Unique\n",
      "Unique\n",
      "Unique\n",
      "Unique\n",
      "Unique\n",
      "3\n",
      "Another Candidate\n",
      "Unique\n",
      "Unique\n",
      "Unique\n",
      "Unique\n",
      "Unique\n",
      "Unique\n",
      "Unique\n",
      "Unique\n",
      "Unique\n",
      "3\n"
     ]
    },
    {
     "name": "stderr",
     "output_type": "stream",
     "text": [
      "\r",
      " 16%|██████                                | 1694/10638 [00:54<01:50, 81.07it/s]"
     ]
    },
    {
     "name": "stdout",
     "output_type": "stream",
     "text": [
      "Another Candidate\n",
      "2\n",
      "Unique\n",
      "Unique\n",
      "Unique\n",
      "Unique\n",
      "Unique\n",
      "Unique\n",
      "Unique\n",
      "Unique\n",
      "Unique\n",
      "3\n",
      "Another Candidate\n"
     ]
    },
    {
     "name": "stderr",
     "output_type": "stream",
     "text": [
      "\r",
      " 16%|██████                                | 1704/10638 [00:54<02:06, 70.52it/s]"
     ]
    },
    {
     "name": "stdout",
     "output_type": "stream",
     "text": [
      "Unique\n",
      "Unique\n",
      "Unique\n",
      "Unique\n",
      "Unique\n",
      "Unique\n",
      "Unique\n",
      "Unique\n",
      "3\n",
      "Another Candidate\n",
      "3\n",
      "Another Candidate\n",
      "3\n",
      "Another Candidate\n",
      "3\n",
      "Another Candidate\n",
      "3\n",
      "Another Candidate\n",
      "2\n"
     ]
    },
    {
     "name": "stderr",
     "output_type": "stream",
     "text": [
      "\r",
      " 16%|██████                                | 1713/10638 [00:55<04:00, 37.10it/s]"
     ]
    },
    {
     "name": "stdout",
     "output_type": "stream",
     "text": [
      "Another Candidate\n",
      "Unique\n",
      "Unique\n",
      "Unique\n",
      "Unique\n",
      "2\n",
      "Another Candidate\n"
     ]
    },
    {
     "name": "stderr",
     "output_type": "stream",
     "text": [
      "\r",
      " 16%|██████▏                               | 1720/10638 [00:55<04:11, 35.49it/s]"
     ]
    },
    {
     "name": "stdout",
     "output_type": "stream",
     "text": [
      "2\n",
      "Unique\n",
      "Unique\n",
      "Unique\n",
      "Unique\n",
      "Unique\n",
      "Unique\n",
      "Unique\n",
      "Unique\n",
      "2\n",
      "Another Candidate\n",
      "2\n"
     ]
    },
    {
     "name": "stderr",
     "output_type": "stream",
     "text": [
      " 16%|██████▏                               | 1735/10638 [00:55<03:39, 40.63it/s]"
     ]
    },
    {
     "name": "stdout",
     "output_type": "stream",
     "text": [
      "Unique\n",
      "Unique\n",
      "Unique\n",
      "Unique\n",
      "Unique\n",
      "Unique\n",
      "Unique\n",
      "Unique\n",
      "Unique\n",
      "2\n",
      "Another Candidate\n",
      "2\n",
      "Unique\n",
      "Unique\n",
      "Unique\n",
      "Unique\n",
      "Unique\n",
      "Unique\n",
      "Unique\n",
      "Unique\n",
      "2\n"
     ]
    },
    {
     "name": "stderr",
     "output_type": "stream",
     "text": [
      "\r",
      " 16%|██████▏                               | 1745/10638 [00:55<03:18, 44.85it/s]"
     ]
    },
    {
     "name": "stdout",
     "output_type": "stream",
     "text": [
      "Another Candidate\n",
      "2\n",
      "Unique\n",
      "Unique\n",
      "Unique\n",
      "Unique\n",
      "Unique\n",
      "Unique\n",
      "Unique\n",
      "Unique\n",
      "Unique\n",
      "2\n"
     ]
    },
    {
     "name": "stderr",
     "output_type": "stream",
     "text": [
      "\r",
      " 17%|██████▎                               | 1756/10638 [00:56<03:10, 46.59it/s]"
     ]
    },
    {
     "name": "stdout",
     "output_type": "stream",
     "text": [
      "Another Candidate\n",
      "2\n",
      "Unique\n",
      "Unique\n",
      "Unique\n",
      "Unique\n",
      "Unique\n",
      "2\n",
      "Another Candidate\n"
     ]
    },
    {
     "name": "stderr",
     "output_type": "stream",
     "text": [
      " 17%|██████▎                               | 1773/10638 [00:56<03:06, 47.50it/s]"
     ]
    },
    {
     "name": "stdout",
     "output_type": "stream",
     "text": [
      "2\n",
      "Unique\n",
      "Unique\n",
      "Unique\n",
      "Unique\n",
      "Unique\n",
      "Unique\n",
      "Unique\n",
      "Unique\n",
      "2\n",
      "Another Candidate\n",
      "Unique\n",
      "Unique\n",
      "Unique\n",
      "Unique\n",
      "Unique\n",
      "Unique\n",
      "Unique\n",
      "Unique\n",
      "Unique\n",
      "Unique\n",
      "2\n"
     ]
    },
    {
     "name": "stderr",
     "output_type": "stream",
     "text": [
      " 17%|██████▍                               | 1794/10638 [00:56<02:15, 65.09it/s]"
     ]
    },
    {
     "name": "stdout",
     "output_type": "stream",
     "text": [
      "Another Candidate\n",
      "Unique\n",
      "Unique\n",
      "Unique\n",
      "Unique\n",
      "Unique\n",
      "Unique\n",
      "Unique\n",
      "Unique\n",
      "Unique\n",
      "2\n",
      "Another Candidate\n",
      "Unique\n",
      "Unique\n",
      "Unique\n",
      "Unique\n",
      "Unique\n",
      "Unique\n",
      "Unique\n",
      "Unique\n",
      "Unique\n",
      "Unique\n",
      "2\n"
     ]
    },
    {
     "name": "stderr",
     "output_type": "stream",
     "text": [
      " 17%|██████▍                               | 1815/10638 [00:56<01:51, 79.00it/s]"
     ]
    },
    {
     "name": "stdout",
     "output_type": "stream",
     "text": [
      "Another Candidate\n",
      "Unique\n",
      "Unique\n",
      "Unique\n",
      "Unique\n",
      "Unique\n",
      "Unique\n",
      "Unique\n",
      "Unique\n",
      "Unique\n",
      "2\n",
      "Another Candidate\n",
      "2\n",
      "Another Candidate\n",
      "Unique\n",
      "Unique\n",
      "Unique\n",
      "Unique\n",
      "2\n",
      "Another Candidate\n",
      "2\n"
     ]
    },
    {
     "name": "stderr",
     "output_type": "stream",
     "text": [
      "\r",
      " 17%|██████▌                               | 1824/10638 [00:57<03:09, 46.50it/s]"
     ]
    },
    {
     "name": "stdout",
     "output_type": "stream",
     "text": [
      "Another Candidate\n",
      "Unique\n",
      "Unique\n",
      "Unique\n",
      "Unique\n",
      "Unique\n",
      "Unique\n",
      "Unique\n",
      "Unique\n",
      "Unique\n",
      "Unique\n",
      "Unique\n",
      "Unique\n",
      "Unique\n",
      "Unique\n",
      "Unique\n",
      "Unique\n",
      "2\n",
      "2\n"
     ]
    },
    {
     "name": "stderr",
     "output_type": "stream",
     "text": [
      " 17%|██████▌                               | 1854/10638 [00:57<02:14, 65.13it/s]"
     ]
    },
    {
     "name": "stdout",
     "output_type": "stream",
     "text": [
      "Unique\n",
      "Unique\n",
      "Unique\n",
      "Unique\n",
      "Unique\n",
      "Unique\n",
      "3\n",
      "Unique\n",
      "Unique\n",
      "Unique\n",
      "Unique\n",
      "Unique\n",
      "Unique\n",
      "2\n",
      "Another Candidate\n",
      "2\n"
     ]
    },
    {
     "name": "stderr",
     "output_type": "stream",
     "text": [
      "\r",
      " 18%|██████▋                               | 1862/10638 [00:57<02:18, 63.16it/s]"
     ]
    },
    {
     "name": "stdout",
     "output_type": "stream",
     "text": [
      "Another Candidate\n",
      "Unique\n",
      "Unique\n",
      "Unique\n",
      "Unique\n",
      "Unique\n",
      "Unique\n",
      "Unique\n",
      "Unique\n",
      "Unique\n",
      "2\n",
      "Another Candidate\n",
      "2\n"
     ]
    },
    {
     "name": "stderr",
     "output_type": "stream",
     "text": [
      "\r",
      " 18%|██████▋                               | 1870/10638 [00:57<02:41, 54.35it/s]"
     ]
    },
    {
     "name": "stdout",
     "output_type": "stream",
     "text": [
      "Another Candidate\n",
      "Unique\n",
      "Unique\n",
      "Unique\n",
      "Unique\n",
      "Unique\n",
      "Unique\n",
      "Unique\n",
      "Unique\n",
      "2\n",
      "Another Candidate\n",
      "2\n"
     ]
    },
    {
     "name": "stderr",
     "output_type": "stream",
     "text": [
      " 18%|██████▋                               | 1886/10638 [00:58<02:44, 53.22it/s]"
     ]
    },
    {
     "name": "stdout",
     "output_type": "stream",
     "text": [
      "Another Candidate\n",
      "Unique\n",
      "Unique\n",
      "Unique\n",
      "Unique\n",
      "Unique\n",
      "Unique\n",
      "Unique\n",
      "Unique\n",
      "Unique\n",
      "2\n",
      "Another Candidate\n",
      "2\n"
     ]
    },
    {
     "name": "stderr",
     "output_type": "stream",
     "text": [
      " 18%|██████▊                               | 1898/10638 [00:58<02:53, 50.35it/s]"
     ]
    },
    {
     "name": "stdout",
     "output_type": "stream",
     "text": [
      "Another Candidate\n",
      "Unique\n",
      "Unique\n",
      "Unique\n",
      "Unique\n",
      "Unique\n",
      "Unique\n",
      "Unique\n",
      "Unique\n",
      "2\n",
      "Another Candidate\n",
      "Unique\n",
      "Unique\n",
      "Unique\n",
      "Unique\n",
      "Unique\n",
      "Unique\n",
      "Unique\n",
      "Unique\n",
      "Unique\n",
      "2\n"
     ]
    },
    {
     "name": "stderr",
     "output_type": "stream",
     "text": [
      "\r",
      " 18%|██████▊                               | 1906/10638 [00:58<02:45, 52.70it/s]"
     ]
    },
    {
     "name": "stdout",
     "output_type": "stream",
     "text": [
      "Another Candidate\n",
      "Unique\n",
      "Unique\n",
      "Unique\n",
      "Unique\n",
      "Unique\n",
      "Unique\n",
      "Unique\n",
      "Unique\n",
      "2\n",
      "Another Candidate\n"
     ]
    },
    {
     "name": "stderr",
     "output_type": "stream",
     "text": [
      " 18%|██████▊                               | 1921/10638 [00:59<03:03, 47.61it/s]"
     ]
    },
    {
     "name": "stdout",
     "output_type": "stream",
     "text": [
      "Unique\n",
      "Unique\n",
      "2\n",
      "Another Candidate\n",
      "Unique\n",
      "Unique\n",
      "Unique\n",
      "Unique\n",
      "Unique\n",
      "Unique\n",
      "Unique\n",
      "Unique\n",
      "Unique\n",
      "3\n"
     ]
    },
    {
     "name": "stderr",
     "output_type": "stream",
     "text": [
      "\r",
      " 18%|██████▉                               | 1928/10638 [00:59<03:21, 43.26it/s]"
     ]
    },
    {
     "name": "stdout",
     "output_type": "stream",
     "text": [
      "Another Candidate\n",
      "Another Candidate\n",
      "2\n",
      "Another Candidate\n"
     ]
    },
    {
     "name": "stderr",
     "output_type": "stream",
     "text": [
      " 18%|██████▉                               | 1938/10638 [00:59<03:41, 39.36it/s]"
     ]
    },
    {
     "name": "stdout",
     "output_type": "stream",
     "text": [
      "Unique\n",
      "Unique\n",
      "Unique\n",
      "Unique\n",
      "Unique\n",
      "Unique\n",
      "Unique\n",
      "Unique\n",
      "3\n",
      "Another Candidate\n",
      "Another Candidate\n",
      "Unique\n",
      "Unique\n",
      "Unique\n",
      "Unique\n",
      "Unique\n",
      "Unique\n",
      "Unique\n",
      "Unique\n",
      "3\n"
     ]
    },
    {
     "name": "stderr",
     "output_type": "stream",
     "text": [
      "\r",
      " 18%|██████▉                               | 1947/10638 [00:59<03:18, 43.68it/s]"
     ]
    },
    {
     "name": "stdout",
     "output_type": "stream",
     "text": [
      "Another Candidate\n",
      "Another Candidate\n",
      "2\n",
      "Another Candidate\n"
     ]
    },
    {
     "name": "stderr",
     "output_type": "stream",
     "text": [
      " 18%|██████▉                               | 1957/10638 [00:59<03:42, 38.94it/s]"
     ]
    },
    {
     "name": "stdout",
     "output_type": "stream",
     "text": [
      "Unique\n",
      "Unique\n",
      "Unique\n",
      "Unique\n",
      "Unique\n",
      "Unique\n",
      "Unique\n",
      "Unique\n",
      "3\n",
      "Another Candidate\n",
      "Another Candidate\n",
      "2\n"
     ]
    },
    {
     "name": "stderr",
     "output_type": "stream",
     "text": [
      "\r",
      " 18%|███████                               | 1961/10638 [01:00<03:51, 37.53it/s]"
     ]
    },
    {
     "name": "stdout",
     "output_type": "stream",
     "text": [
      "Another Candidate\n",
      "Unique\n",
      "Unique\n",
      "Unique\n",
      "Unique\n",
      "Unique\n",
      "Unique\n",
      "Unique\n",
      "Unique\n",
      "3\n",
      "Another Candidate\n",
      "Another Candidate\n"
     ]
    },
    {
     "name": "stderr",
     "output_type": "stream",
     "text": [
      " 19%|███████                               | 1971/10638 [01:00<04:14, 34.04it/s]"
     ]
    },
    {
     "name": "stdout",
     "output_type": "stream",
     "text": [
      "2\n",
      "Another Candidate\n",
      "Unique\n",
      "Unique\n",
      "Unique\n",
      "Unique\n",
      "Unique\n",
      "Unique\n",
      "Unique\n",
      "Unique\n",
      "3\n"
     ]
    },
    {
     "name": "stderr",
     "output_type": "stream",
     "text": [
      "\r",
      " 19%|███████                               | 1977/10638 [01:00<04:02, 35.66it/s]"
     ]
    },
    {
     "name": "stdout",
     "output_type": "stream",
     "text": [
      "Another Candidate\n",
      "Another Candidate\n",
      "2\n",
      "Another Candidate\n"
     ]
    },
    {
     "name": "stderr",
     "output_type": "stream",
     "text": [
      " 19%|███████                               | 1988/10638 [01:00<03:58, 36.24it/s]"
     ]
    },
    {
     "name": "stdout",
     "output_type": "stream",
     "text": [
      "Unique\n",
      "Unique\n",
      "Unique\n",
      "Unique\n",
      "Unique\n",
      "Unique\n",
      "Unique\n",
      "Unique\n",
      "Unique\n",
      "3\n",
      "Another Candidate\n",
      "Another Candidate\n",
      "2\n"
     ]
    },
    {
     "name": "stderr",
     "output_type": "stream",
     "text": [
      "\r",
      " 19%|███████                               | 1992/10638 [01:01<04:24, 32.74it/s]"
     ]
    },
    {
     "name": "stdout",
     "output_type": "stream",
     "text": [
      "Another Candidate\n",
      "Unique\n",
      "Unique\n",
      "Unique\n",
      "Unique\n",
      "Unique\n",
      "Unique\n",
      "Unique\n",
      "Unique\n",
      "3\n",
      "Another Candidate\n"
     ]
    },
    {
     "name": "stderr",
     "output_type": "stream",
     "text": [
      "\r",
      " 19%|███████▏                              | 1998/10638 [01:01<04:33, 31.56it/s]"
     ]
    },
    {
     "name": "stdout",
     "output_type": "stream",
     "text": [
      "Another Candidate\n",
      "2\n"
     ]
    },
    {
     "name": "stderr",
     "output_type": "stream",
     "text": [
      "\r",
      " 19%|███████▏                              | 2002/10638 [01:01<05:35, 25.71it/s]"
     ]
    },
    {
     "name": "stdout",
     "output_type": "stream",
     "text": [
      "Another Candidate\n",
      "Unique\n",
      "Unique\n",
      "Unique\n",
      "Unique\n",
      "Unique\n",
      "3\n",
      "Another Candidate\n",
      "Another Candidate\n"
     ]
    },
    {
     "name": "stderr",
     "output_type": "stream",
     "text": [
      "\r",
      " 19%|███████▏                              | 2005/10638 [01:01<06:25, 22.41it/s]"
     ]
    },
    {
     "name": "stdout",
     "output_type": "stream",
     "text": [
      "3\n",
      "Another Candidate\n",
      "Another Candidate\n",
      "3\n",
      "Another Candidate\n",
      "Another Candidate\n"
     ]
    },
    {
     "name": "stderr",
     "output_type": "stream",
     "text": [
      "\r",
      " 19%|███████▏                              | 2008/10638 [01:02<11:25, 12.59it/s]"
     ]
    },
    {
     "name": "stdout",
     "output_type": "stream",
     "text": [
      "3\n",
      "Another Candidate\n",
      "Another Candidate\n",
      "3\n",
      "Another Candidate\n",
      "Another Candidate\n",
      "3\n",
      "Another Candidate\n",
      "Another Candidate\n"
     ]
    },
    {
     "name": "stderr",
     "output_type": "stream",
     "text": [
      "\r",
      " 19%|███████▏                              | 2010/10638 [01:02<13:12, 10.88it/s]"
     ]
    },
    {
     "name": "stdout",
     "output_type": "stream",
     "text": [
      "3\n",
      "Another Candidate\n",
      "Another Candidate\n",
      "3\n"
     ]
    },
    {
     "name": "stderr",
     "output_type": "stream",
     "text": [
      "\r",
      " 19%|███████▏                              | 2012/10638 [01:02<14:55,  9.63it/s]"
     ]
    },
    {
     "name": "stdout",
     "output_type": "stream",
     "text": [
      "Another Candidate\n",
      "Another Candidate\n",
      "3\n",
      "Another Candidate\n",
      "Another Candidate\n"
     ]
    },
    {
     "name": "stderr",
     "output_type": "stream",
     "text": [
      "\r",
      " 19%|███████▏                              | 2014/10638 [01:03<16:31,  8.69it/s]"
     ]
    },
    {
     "name": "stdout",
     "output_type": "stream",
     "text": [
      "3\n",
      "Another Candidate\n",
      "Another Candidate\n",
      "3\n"
     ]
    },
    {
     "name": "stderr",
     "output_type": "stream",
     "text": [
      "\r",
      " 19%|███████▏                              | 2016/10638 [01:03<15:44,  9.13it/s]"
     ]
    },
    {
     "name": "stdout",
     "output_type": "stream",
     "text": [
      "3\n",
      "3\n",
      "3\n"
     ]
    },
    {
     "name": "stderr",
     "output_type": "stream",
     "text": [
      " 19%|███████▏                              | 2020/10638 [01:03<12:46, 11.25it/s]"
     ]
    },
    {
     "name": "stdout",
     "output_type": "stream",
     "text": [
      "3\n",
      "3\n",
      "3\n"
     ]
    },
    {
     "name": "stderr",
     "output_type": "stream",
     "text": [
      "\r",
      " 19%|███████▏                              | 2022/10638 [01:03<12:12, 11.77it/s]"
     ]
    },
    {
     "name": "stdout",
     "output_type": "stream",
     "text": [
      "3\n",
      "3\n",
      "3\n"
     ]
    },
    {
     "name": "stderr",
     "output_type": "stream",
     "text": [
      " 19%|███████▏                              | 2026/10638 [01:04<11:23, 12.59it/s]"
     ]
    },
    {
     "name": "stdout",
     "output_type": "stream",
     "text": [
      "3\n",
      "2\n",
      "2\n"
     ]
    },
    {
     "name": "stderr",
     "output_type": "stream",
     "text": [
      " 19%|███████▎                              | 2030/10638 [01:04<10:08, 14.16it/s]"
     ]
    },
    {
     "name": "stdout",
     "output_type": "stream",
     "text": [
      "2\n",
      "2\n",
      "2\n",
      "2\n",
      "2\n"
     ]
    },
    {
     "name": "stderr",
     "output_type": "stream",
     "text": [
      " 19%|███████▎                              | 2035/10638 [01:04<08:17, 17.31it/s]"
     ]
    },
    {
     "name": "stdout",
     "output_type": "stream",
     "text": [
      "2\n",
      "Unique\n",
      "2\n",
      "2\n",
      "2\n"
     ]
    },
    {
     "name": "stderr",
     "output_type": "stream",
     "text": [
      " 19%|███████▎                              | 2039/10638 [01:04<08:45, 16.37it/s]"
     ]
    },
    {
     "name": "stdout",
     "output_type": "stream",
     "text": [
      "3\n",
      "3\n",
      "3\n",
      "3\n"
     ]
    },
    {
     "name": "stderr",
     "output_type": "stream",
     "text": [
      " 19%|███████▎                              | 2043/10638 [01:05<09:03, 15.82it/s]"
     ]
    },
    {
     "name": "stdout",
     "output_type": "stream",
     "text": [
      "3\n",
      "3\n",
      "3\n",
      "3\n"
     ]
    },
    {
     "name": "stderr",
     "output_type": "stream",
     "text": [
      " 19%|███████▎                              | 2047/10638 [01:05<09:09, 15.65it/s]"
     ]
    },
    {
     "name": "stdout",
     "output_type": "stream",
     "text": [
      "3\n",
      "3\n",
      "3\n",
      "3\n"
     ]
    },
    {
     "name": "stderr",
     "output_type": "stream",
     "text": [
      " 19%|███████▎                              | 2051/10638 [01:05<08:55, 16.05it/s]"
     ]
    },
    {
     "name": "stdout",
     "output_type": "stream",
     "text": [
      "3\n",
      "3\n",
      "3\n",
      "3\n"
     ]
    },
    {
     "name": "stderr",
     "output_type": "stream",
     "text": [
      " 19%|███████▎                              | 2055/10638 [01:05<09:08, 15.66it/s]"
     ]
    },
    {
     "name": "stdout",
     "output_type": "stream",
     "text": [
      "3\n",
      "3\n",
      "3\n",
      "3\n"
     ]
    },
    {
     "name": "stderr",
     "output_type": "stream",
     "text": [
      " 19%|███████▎                              | 2059/10638 [01:06<09:33, 14.95it/s]"
     ]
    },
    {
     "name": "stdout",
     "output_type": "stream",
     "text": [
      "3\n",
      "3\n",
      "3\n"
     ]
    },
    {
     "name": "stderr",
     "output_type": "stream",
     "text": [
      " 19%|███████▎                              | 2063/10638 [01:06<09:37, 14.84it/s]"
     ]
    },
    {
     "name": "stdout",
     "output_type": "stream",
     "text": [
      "2\n",
      "2\n",
      "2\n",
      "3\n"
     ]
    },
    {
     "name": "stderr",
     "output_type": "stream",
     "text": [
      "\r",
      " 19%|███████▍                              | 2065/10638 [01:06<09:30, 15.04it/s]"
     ]
    },
    {
     "name": "stdout",
     "output_type": "stream",
     "text": [
      "3\n",
      "3\n",
      "3\n"
     ]
    },
    {
     "name": "stderr",
     "output_type": "stream",
     "text": [
      " 19%|███████▍                              | 2069/10638 [01:06<09:35, 14.89it/s]"
     ]
    },
    {
     "name": "stdout",
     "output_type": "stream",
     "text": [
      "3\n",
      "2\n",
      "2\n"
     ]
    },
    {
     "name": "stderr",
     "output_type": "stream",
     "text": [
      " 19%|███████▍                              | 2073/10638 [01:07<09:29, 15.05it/s]"
     ]
    },
    {
     "name": "stdout",
     "output_type": "stream",
     "text": [
      "2\n",
      "2\n",
      "2\n",
      "2\n"
     ]
    },
    {
     "name": "stderr",
     "output_type": "stream",
     "text": [
      " 20%|███████▍                              | 2077/10638 [01:07<09:51, 14.46it/s]"
     ]
    },
    {
     "name": "stdout",
     "output_type": "stream",
     "text": [
      "3\n",
      "3\n",
      "3\n",
      "3\n"
     ]
    },
    {
     "name": "stderr",
     "output_type": "stream",
     "text": [
      " 20%|███████▍                              | 2081/10638 [01:07<09:47, 14.57it/s]"
     ]
    },
    {
     "name": "stdout",
     "output_type": "stream",
     "text": [
      "3\n",
      "3\n",
      "3\n",
      "3\n"
     ]
    },
    {
     "name": "stderr",
     "output_type": "stream",
     "text": [
      " 20%|███████▍                              | 2085/10638 [01:07<09:01, 15.80it/s]"
     ]
    },
    {
     "name": "stdout",
     "output_type": "stream",
     "text": [
      "3\n",
      "3\n",
      "3\n",
      "3\n"
     ]
    },
    {
     "name": "stderr",
     "output_type": "stream",
     "text": [
      " 20%|███████▍                              | 2089/10638 [01:08<08:30, 16.76it/s]"
     ]
    },
    {
     "name": "stdout",
     "output_type": "stream",
     "text": [
      "3\n",
      "3\n",
      "3\n",
      "3\n"
     ]
    },
    {
     "name": "stderr",
     "output_type": "stream",
     "text": [
      " 20%|███████▍                              | 2093/10638 [01:08<08:27, 16.84it/s]"
     ]
    },
    {
     "name": "stdout",
     "output_type": "stream",
     "text": [
      "3\n",
      "3\n",
      "3\n",
      "2\n"
     ]
    },
    {
     "name": "stderr",
     "output_type": "stream",
     "text": [
      " 20%|███████▍                              | 2097/10638 [01:08<08:22, 17.01it/s]"
     ]
    },
    {
     "name": "stdout",
     "output_type": "stream",
     "text": [
      "2\n",
      "2\n",
      "2\n",
      "2\n"
     ]
    },
    {
     "name": "stderr",
     "output_type": "stream",
     "text": [
      " 20%|███████▌                              | 2101/10638 [01:08<08:13, 17.31it/s]"
     ]
    },
    {
     "name": "stdout",
     "output_type": "stream",
     "text": [
      "3\n",
      "3\n",
      "3\n",
      "3\n"
     ]
    },
    {
     "name": "stderr",
     "output_type": "stream",
     "text": [
      " 20%|███████▌                              | 2105/10638 [01:09<07:56, 17.90it/s]"
     ]
    },
    {
     "name": "stdout",
     "output_type": "stream",
     "text": [
      "3\n",
      "3\n",
      "3\n",
      "3\n"
     ]
    },
    {
     "name": "stderr",
     "output_type": "stream",
     "text": [
      "\r",
      " 20%|███████▌                              | 2107/10638 [01:09<08:09, 17.44it/s]"
     ]
    },
    {
     "name": "stdout",
     "output_type": "stream",
     "text": [
      "3\n",
      "3\n",
      "Another Candidate\n",
      "3\n"
     ]
    },
    {
     "name": "stderr",
     "output_type": "stream",
     "text": [
      "\r",
      " 20%|███████▌                              | 2109/10638 [01:09<10:57, 12.97it/s]"
     ]
    },
    {
     "name": "stdout",
     "output_type": "stream",
     "text": [
      "Another Candidate\n",
      "3\n",
      "Another Candidate\n",
      "3\n"
     ]
    },
    {
     "name": "stderr",
     "output_type": "stream",
     "text": [
      "\r",
      " 20%|███████▌                              | 2111/10638 [01:09<11:44, 12.10it/s]"
     ]
    },
    {
     "name": "stdout",
     "output_type": "stream",
     "text": [
      "Another Candidate\n",
      "3\n",
      "Another Candidate\n",
      "3\n",
      "Another Candidate\n"
     ]
    },
    {
     "name": "stderr",
     "output_type": "stream",
     "text": [
      "\r",
      " 20%|███████▌                              | 2113/10638 [01:09<13:15, 10.71it/s]"
     ]
    },
    {
     "name": "stdout",
     "output_type": "stream",
     "text": [
      "3\n",
      "Another Candidate\n",
      "3\n"
     ]
    },
    {
     "name": "stderr",
     "output_type": "stream",
     "text": [
      "\r",
      " 20%|███████▌                              | 2115/10638 [01:10<15:05,  9.41it/s]"
     ]
    },
    {
     "name": "stdout",
     "output_type": "stream",
     "text": [
      "Another Candidate\n",
      "3\n",
      "Another Candidate\n",
      "3\n"
     ]
    },
    {
     "name": "stderr",
     "output_type": "stream",
     "text": [
      "\r",
      " 20%|███████▌                              | 2117/10638 [01:10<15:13,  9.32it/s]"
     ]
    },
    {
     "name": "stdout",
     "output_type": "stream",
     "text": [
      "Another Candidate\n",
      "3\n",
      "Another Candidate\n",
      "3\n"
     ]
    },
    {
     "name": "stderr",
     "output_type": "stream",
     "text": [
      " 20%|███████▌                              | 2120/10638 [01:10<16:15,  8.73it/s]"
     ]
    },
    {
     "name": "stdout",
     "output_type": "stream",
     "text": [
      "Another Candidate\n",
      "3\n",
      "Another Candidate\n",
      "3\n"
     ]
    },
    {
     "name": "stderr",
     "output_type": "stream",
     "text": [
      "\r",
      " 20%|███████▌                              | 2121/10638 [01:10<16:59,  8.35it/s]"
     ]
    },
    {
     "name": "stdout",
     "output_type": "stream",
     "text": [
      "Another Candidate\n",
      "3\n",
      "Another Candidate\n"
     ]
    },
    {
     "name": "stderr",
     "output_type": "stream",
     "text": [
      " 20%|███████▌                              | 2123/10638 [01:11<20:05,  7.07it/s]"
     ]
    },
    {
     "name": "stdout",
     "output_type": "stream",
     "text": [
      "3\n",
      "Another Candidate\n",
      "Another Candidate\n",
      "3\n"
     ]
    },
    {
     "name": "stderr",
     "output_type": "stream",
     "text": [
      "\r",
      " 20%|███████▌                              | 2124/10638 [01:11<21:23,  6.63it/s]"
     ]
    },
    {
     "name": "stdout",
     "output_type": "stream",
     "text": [
      "Another Candidate\n",
      "Another Candidate\n",
      "3\n",
      "Another Candidate\n"
     ]
    },
    {
     "name": "stderr",
     "output_type": "stream",
     "text": [
      "\r",
      " 20%|███████▌                              | 2125/10638 [01:11<21:52,  6.49it/s]"
     ]
    },
    {
     "name": "stdout",
     "output_type": "stream",
     "text": [
      "Another Candidate\n",
      "3\n",
      "Another Candidate\n",
      "Another Candidate\n"
     ]
    },
    {
     "name": "stderr",
     "output_type": "stream",
     "text": [
      " 20%|███████▌                              | 2127/10638 [01:11<23:28,  6.04it/s]"
     ]
    },
    {
     "name": "stdout",
     "output_type": "stream",
     "text": [
      "3\n",
      "Another Candidate\n",
      "Another Candidate\n",
      "3\n"
     ]
    },
    {
     "name": "stderr",
     "output_type": "stream",
     "text": [
      "\r",
      " 20%|███████▌                              | 2128/10638 [01:12<24:19,  5.83it/s]"
     ]
    },
    {
     "name": "stdout",
     "output_type": "stream",
     "text": [
      "Another Candidate\n",
      "Another Candidate\n",
      "3\n",
      "Another Candidate\n"
     ]
    },
    {
     "name": "stderr",
     "output_type": "stream",
     "text": [
      "\r",
      " 20%|███████▌                              | 2129/10638 [01:12<26:25,  5.37it/s]"
     ]
    },
    {
     "name": "stdout",
     "output_type": "stream",
     "text": [
      "Another Candidate\n",
      "2\n",
      "Another Candidate\n"
     ]
    },
    {
     "name": "stderr",
     "output_type": "stream",
     "text": [
      " 20%|███████▌                              | 2131/10638 [01:12<24:15,  5.84it/s]"
     ]
    },
    {
     "name": "stdout",
     "output_type": "stream",
     "text": [
      "2\n",
      "Another Candidate\n",
      "2\n"
     ]
    },
    {
     "name": "stderr",
     "output_type": "stream",
     "text": [
      " 20%|███████▌                              | 2133/10638 [01:12<21:29,  6.60it/s]"
     ]
    },
    {
     "name": "stdout",
     "output_type": "stream",
     "text": [
      "Another Candidate\n",
      "2\n",
      "Another Candidate\n",
      "2\n"
     ]
    },
    {
     "name": "stderr",
     "output_type": "stream",
     "text": [
      " 20%|███████▋                              | 2135/10638 [01:13<21:06,  6.71it/s]"
     ]
    },
    {
     "name": "stdout",
     "output_type": "stream",
     "text": [
      "Another Candidate\n",
      "2\n",
      "Another Candidate\n"
     ]
    },
    {
     "name": "stderr",
     "output_type": "stream",
     "text": [
      "\r",
      " 20%|███████▋                              | 2136/10638 [01:13<21:34,  6.57it/s]"
     ]
    },
    {
     "name": "stdout",
     "output_type": "stream",
     "text": [
      "2\n",
      "Another Candidate\n",
      "3\n",
      "Another Candidate\n"
     ]
    },
    {
     "name": "stderr",
     "output_type": "stream",
     "text": [
      "\r",
      " 20%|███████▋                              | 2137/10638 [01:13<26:00,  5.45it/s]"
     ]
    },
    {
     "name": "stdout",
     "output_type": "stream",
     "text": [
      "Another Candidate\n",
      "3\n",
      "Another Candidate\n"
     ]
    },
    {
     "name": "stderr",
     "output_type": "stream",
     "text": [
      "\r",
      " 20%|███████▋                              | 2138/10638 [01:13<26:15,  5.39it/s]"
     ]
    },
    {
     "name": "stdout",
     "output_type": "stream",
     "text": [
      "Another Candidate\n",
      "3\n",
      "Another Candidate\n"
     ]
    },
    {
     "name": "stderr",
     "output_type": "stream",
     "text": [
      "\r",
      " 20%|███████▋                              | 2139/10638 [01:13<28:59,  4.89it/s]"
     ]
    },
    {
     "name": "stdout",
     "output_type": "stream",
     "text": [
      "Another Candidate\n",
      "3\n",
      "Another Candidate\n"
     ]
    },
    {
     "name": "stderr",
     "output_type": "stream",
     "text": [
      "\r",
      " 20%|███████▋                              | 2140/10638 [01:14<30:30,  4.64it/s]"
     ]
    },
    {
     "name": "stdout",
     "output_type": "stream",
     "text": [
      "Another Candidate\n",
      "3\n",
      "Another Candidate\n"
     ]
    },
    {
     "name": "stderr",
     "output_type": "stream",
     "text": [
      "\r",
      " 20%|███████▋                              | 2141/10638 [01:14<30:53,  4.58it/s]"
     ]
    },
    {
     "name": "stdout",
     "output_type": "stream",
     "text": [
      "Another Candidate\n",
      "3\n",
      "Another Candidate\n",
      "Another Candidate\n"
     ]
    },
    {
     "name": "stderr",
     "output_type": "stream",
     "text": [
      "\r",
      " 20%|███████▋                              | 2142/10638 [01:14<29:52,  4.74it/s]"
     ]
    },
    {
     "name": "stdout",
     "output_type": "stream",
     "text": [
      "3\n",
      "Another Candidate\n",
      "Another Candidate\n"
     ]
    },
    {
     "name": "stderr",
     "output_type": "stream",
     "text": [
      "\r",
      " 20%|███████▋                              | 2143/10638 [01:14<32:46,  4.32it/s]"
     ]
    },
    {
     "name": "stdout",
     "output_type": "stream",
     "text": [
      "3\n",
      "Another Candidate\n",
      "Another Candidate\n"
     ]
    },
    {
     "name": "stderr",
     "output_type": "stream",
     "text": [
      "\r",
      " 20%|███████▋                              | 2144/10638 [01:15<34:19,  4.12it/s]"
     ]
    },
    {
     "name": "stdout",
     "output_type": "stream",
     "text": [
      "3\n",
      "Another Candidate\n",
      "Another Candidate\n"
     ]
    },
    {
     "name": "stderr",
     "output_type": "stream",
     "text": [
      "\r",
      " 20%|███████▋                              | 2145/10638 [01:15<32:43,  4.33it/s]"
     ]
    },
    {
     "name": "stdout",
     "output_type": "stream",
     "text": [
      "3\n",
      "Another Candidate\n",
      "Another Candidate\n"
     ]
    },
    {
     "name": "stderr",
     "output_type": "stream",
     "text": [
      " 20%|███████▋                              | 2147/10638 [01:15<30:52,  4.58it/s]"
     ]
    },
    {
     "name": "stdout",
     "output_type": "stream",
     "text": [
      "3\n",
      "Another Candidate\n",
      "Another Candidate\n",
      "3\n"
     ]
    },
    {
     "name": "stderr",
     "output_type": "stream",
     "text": [
      "\r",
      " 20%|███████▋                              | 2148/10638 [01:16<30:17,  4.67it/s]"
     ]
    },
    {
     "name": "stdout",
     "output_type": "stream",
     "text": [
      "Another Candidate\n",
      "Another Candidate\n",
      "3\n"
     ]
    },
    {
     "name": "stderr",
     "output_type": "stream",
     "text": [
      "\r",
      " 20%|███████▋                              | 2149/10638 [01:16<30:33,  4.63it/s]"
     ]
    },
    {
     "name": "stdout",
     "output_type": "stream",
     "text": [
      "Another Candidate\n",
      "Another Candidate\n",
      "3\n"
     ]
    },
    {
     "name": "stderr",
     "output_type": "stream",
     "text": [
      "\r",
      " 20%|███████▋                              | 2150/10638 [01:16<31:38,  4.47it/s]"
     ]
    },
    {
     "name": "stdout",
     "output_type": "stream",
     "text": [
      "Another Candidate\n",
      "Another Candidate\n",
      "3\n"
     ]
    },
    {
     "name": "stderr",
     "output_type": "stream",
     "text": [
      "\r",
      " 20%|███████▋                              | 2151/10638 [01:16<32:11,  4.39it/s]"
     ]
    },
    {
     "name": "stdout",
     "output_type": "stream",
     "text": [
      "Another Candidate\n",
      "Another Candidate\n",
      "3\n"
     ]
    },
    {
     "name": "stderr",
     "output_type": "stream",
     "text": [
      "\r",
      " 20%|███████▋                              | 2152/10638 [01:16<31:10,  4.54it/s]"
     ]
    },
    {
     "name": "stdout",
     "output_type": "stream",
     "text": [
      "Another Candidate\n",
      "Another Candidate\n",
      "3\n"
     ]
    },
    {
     "name": "stderr",
     "output_type": "stream",
     "text": [
      "\r",
      " 20%|███████▋                              | 2153/10638 [01:17<31:00,  4.56it/s]"
     ]
    },
    {
     "name": "stdout",
     "output_type": "stream",
     "text": [
      "Another Candidate\n",
      "Another Candidate\n",
      "3\n"
     ]
    },
    {
     "name": "stderr",
     "output_type": "stream",
     "text": [
      "\r",
      " 20%|███████▋                              | 2154/10638 [01:17<31:54,  4.43it/s]"
     ]
    },
    {
     "name": "stdout",
     "output_type": "stream",
     "text": [
      "Another Candidate\n",
      "Another Candidate\n",
      "3\n"
     ]
    },
    {
     "name": "stderr",
     "output_type": "stream",
     "text": [
      "\r",
      " 20%|███████▋                              | 2155/10638 [01:17<30:58,  4.56it/s]"
     ]
    },
    {
     "name": "stdout",
     "output_type": "stream",
     "text": [
      "Another Candidate\n",
      "Another Candidate\n",
      "2\n"
     ]
    },
    {
     "name": "stderr",
     "output_type": "stream",
     "text": [
      "\r",
      " 20%|███████▋                              | 2156/10638 [01:17<28:29,  4.96it/s]"
     ]
    },
    {
     "name": "stdout",
     "output_type": "stream",
     "text": [
      "Another Candidate\n",
      "2\n",
      "Another Candidate\n"
     ]
    },
    {
     "name": "stderr",
     "output_type": "stream",
     "text": [
      " 20%|███████▋                              | 2158/10638 [01:18<25:51,  5.47it/s]"
     ]
    },
    {
     "name": "stdout",
     "output_type": "stream",
     "text": [
      "2\n",
      "Another Candidate\n",
      "2\n"
     ]
    },
    {
     "name": "stderr",
     "output_type": "stream",
     "text": [
      " 20%|███████▋                              | 2160/10638 [01:18<22:04,  6.40it/s]"
     ]
    },
    {
     "name": "stdout",
     "output_type": "stream",
     "text": [
      "Another Candidate\n",
      "2\n",
      "Another Candidate\n",
      "3\n"
     ]
    },
    {
     "name": "stderr",
     "output_type": "stream",
     "text": [
      "\r",
      " 20%|███████▋                              | 2161/10638 [01:18<24:19,  5.81it/s]"
     ]
    },
    {
     "name": "stdout",
     "output_type": "stream",
     "text": [
      "Another Candidate\n",
      "Another Candidate\n",
      "3\n",
      "Another Candidate\n"
     ]
    },
    {
     "name": "stderr",
     "output_type": "stream",
     "text": [
      "\r",
      " 20%|███████▋                              | 2162/10638 [01:18<25:16,  5.59it/s]"
     ]
    },
    {
     "name": "stdout",
     "output_type": "stream",
     "text": [
      "Another Candidate\n",
      "3\n",
      "Another Candidate\n"
     ]
    },
    {
     "name": "stderr",
     "output_type": "stream",
     "text": [
      "\r",
      " 20%|███████▋                              | 2163/10638 [01:18<26:40,  5.30it/s]"
     ]
    },
    {
     "name": "stdout",
     "output_type": "stream",
     "text": [
      "Another Candidate\n",
      "3\n",
      "Another Candidate\n",
      "Another Candidate\n"
     ]
    },
    {
     "name": "stderr",
     "output_type": "stream",
     "text": [
      " 20%|███████▋                              | 2165/10638 [01:19<27:25,  5.15it/s]"
     ]
    },
    {
     "name": "stdout",
     "output_type": "stream",
     "text": [
      "3\n",
      "Another Candidate\n",
      "Another Candidate\n",
      "3\n"
     ]
    },
    {
     "name": "stderr",
     "output_type": "stream",
     "text": [
      "\r",
      " 20%|███████▋                              | 2166/10638 [01:19<28:13,  5.00it/s]"
     ]
    },
    {
     "name": "stdout",
     "output_type": "stream",
     "text": [
      "Another Candidate\n",
      "Another Candidate\n",
      "3\n"
     ]
    },
    {
     "name": "stderr",
     "output_type": "stream",
     "text": [
      "\r",
      " 20%|███████▋                              | 2167/10638 [01:19<30:32,  4.62it/s]"
     ]
    },
    {
     "name": "stdout",
     "output_type": "stream",
     "text": [
      "Another Candidate\n",
      "Another Candidate\n",
      "3\n"
     ]
    },
    {
     "name": "stderr",
     "output_type": "stream",
     "text": [
      "\r",
      " 20%|███████▋                              | 2168/10638 [01:20<30:00,  4.70it/s]"
     ]
    },
    {
     "name": "stdout",
     "output_type": "stream",
     "text": [
      "Another Candidate\n",
      "Another Candidate\n",
      "3\n",
      "Another Candidate\n"
     ]
    },
    {
     "name": "stderr",
     "output_type": "stream",
     "text": [
      "\r",
      " 20%|███████▋                              | 2169/10638 [01:20<29:46,  4.74it/s]"
     ]
    },
    {
     "name": "stdout",
     "output_type": "stream",
     "text": [
      "Another Candidate\n",
      "3\n",
      "Another Candidate\n"
     ]
    },
    {
     "name": "stderr",
     "output_type": "stream",
     "text": [
      "\r",
      " 20%|███████▊                              | 2170/10638 [01:20<29:43,  4.75it/s]"
     ]
    },
    {
     "name": "stdout",
     "output_type": "stream",
     "text": [
      "Another Candidate\n",
      "3\n",
      "Another Candidate\n"
     ]
    },
    {
     "name": "stderr",
     "output_type": "stream",
     "text": [
      "\r",
      " 20%|███████▊                              | 2171/10638 [01:20<30:07,  4.68it/s]"
     ]
    },
    {
     "name": "stdout",
     "output_type": "stream",
     "text": [
      "Another Candidate\n",
      "3\n",
      "Another Candidate\n"
     ]
    },
    {
     "name": "stderr",
     "output_type": "stream",
     "text": [
      "\r",
      " 20%|███████▊                              | 2172/10638 [01:20<30:23,  4.64it/s]"
     ]
    },
    {
     "name": "stdout",
     "output_type": "stream",
     "text": [
      "Another Candidate\n",
      "3\n",
      "Another Candidate\n",
      "Another Candidate\n"
     ]
    },
    {
     "name": "stderr",
     "output_type": "stream",
     "text": [
      "\r",
      " 20%|███████▊                              | 2173/10638 [01:21<29:32,  4.77it/s]"
     ]
    },
    {
     "name": "stdout",
     "output_type": "stream",
     "text": [
      "3\n",
      "Another Candidate\n",
      "Another Candidate\n"
     ]
    },
    {
     "name": "stderr",
     "output_type": "stream",
     "text": [
      " 20%|███████▊                              | 2175/10638 [01:21<28:05,  5.02it/s]"
     ]
    },
    {
     "name": "stdout",
     "output_type": "stream",
     "text": [
      "2\n",
      "Another Candidate\n",
      "2\n"
     ]
    },
    {
     "name": "stderr",
     "output_type": "stream",
     "text": [
      "\r",
      " 20%|███████▊                              | 2176/10638 [01:21<27:17,  5.17it/s]"
     ]
    },
    {
     "name": "stdout",
     "output_type": "stream",
     "text": [
      "Another Candidate\n",
      "2\n",
      "Another Candidate\n"
     ]
    },
    {
     "name": "stderr",
     "output_type": "stream",
     "text": [
      " 20%|███████▊                              | 2178/10638 [01:21<25:00,  5.64it/s]"
     ]
    },
    {
     "name": "stdout",
     "output_type": "stream",
     "text": [
      "2\n",
      "Another Candidate\n",
      "2\n"
     ]
    },
    {
     "name": "stderr",
     "output_type": "stream",
     "text": [
      "\r",
      " 20%|███████▊                              | 2179/10638 [01:22<27:15,  5.17it/s]"
     ]
    },
    {
     "name": "stdout",
     "output_type": "stream",
     "text": [
      "Another Candidate\n",
      "2\n"
     ]
    },
    {
     "name": "stderr",
     "output_type": "stream",
     "text": [
      "\r",
      " 20%|███████▊                              | 2180/10638 [01:22<28:14,  4.99it/s]"
     ]
    },
    {
     "name": "stdout",
     "output_type": "stream",
     "text": [
      "Another Candidate\n",
      "3\n"
     ]
    },
    {
     "name": "stderr",
     "output_type": "stream",
     "text": [
      "\r",
      " 21%|███████▊                              | 2181/10638 [01:22<31:39,  4.45it/s]"
     ]
    },
    {
     "name": "stdout",
     "output_type": "stream",
     "text": [
      "Another Candidate\n",
      "Another Candidate\n",
      "2\n"
     ]
    },
    {
     "name": "stderr",
     "output_type": "stream",
     "text": [
      "\r",
      " 21%|███████▊                              | 2182/10638 [01:22<30:50,  4.57it/s]"
     ]
    },
    {
     "name": "stdout",
     "output_type": "stream",
     "text": [
      "Another Candidate\n",
      "2\n",
      "Another Candidate\n"
     ]
    },
    {
     "name": "stderr",
     "output_type": "stream",
     "text": [
      " 21%|███████▊                              | 2184/10638 [01:23<26:53,  5.24it/s]"
     ]
    },
    {
     "name": "stdout",
     "output_type": "stream",
     "text": [
      "2\n",
      "Another Candidate\n",
      "2\n"
     ]
    },
    {
     "name": "stderr",
     "output_type": "stream",
     "text": [
      "\r",
      " 21%|███████▊                              | 2185/10638 [01:23<27:42,  5.09it/s]"
     ]
    },
    {
     "name": "stdout",
     "output_type": "stream",
     "text": [
      "Another Candidate\n",
      "2\n"
     ]
    },
    {
     "name": "stderr",
     "output_type": "stream",
     "text": [
      "\r",
      " 21%|███████▊                              | 2186/10638 [01:23<27:57,  5.04it/s]"
     ]
    },
    {
     "name": "stdout",
     "output_type": "stream",
     "text": [
      "Another Candidate\n",
      "2\n",
      "Another Candidate\n"
     ]
    },
    {
     "name": "stderr",
     "output_type": "stream",
     "text": [
      " 21%|███████▊                              | 2188/10638 [01:23<25:13,  5.58it/s]"
     ]
    },
    {
     "name": "stdout",
     "output_type": "stream",
     "text": [
      "2\n",
      "Another Candidate\n",
      "2\n"
     ]
    },
    {
     "name": "stderr",
     "output_type": "stream",
     "text": [
      "\r",
      " 21%|███████▊                              | 2189/10638 [01:24<25:24,  5.54it/s]"
     ]
    },
    {
     "name": "stdout",
     "output_type": "stream",
     "text": [
      "Another Candidate\n",
      "2\n"
     ]
    },
    {
     "name": "stderr",
     "output_type": "stream",
     "text": [
      "\r",
      " 21%|███████▊                              | 2190/10638 [01:24<25:33,  5.51it/s]"
     ]
    },
    {
     "name": "stdout",
     "output_type": "stream",
     "text": [
      "Another Candidate\n",
      "2\n",
      "Another Candidate\n"
     ]
    },
    {
     "name": "stderr",
     "output_type": "stream",
     "text": [
      " 21%|███████▊                              | 2192/10638 [01:24<25:06,  5.61it/s]"
     ]
    },
    {
     "name": "stdout",
     "output_type": "stream",
     "text": [
      "2\n",
      "Another Candidate\n",
      "3\n"
     ]
    },
    {
     "name": "stderr",
     "output_type": "stream",
     "text": [
      "\r",
      " 21%|███████▊                              | 2193/10638 [01:24<26:02,  5.40it/s]"
     ]
    },
    {
     "name": "stdout",
     "output_type": "stream",
     "text": [
      "Another Candidate\n",
      "3\n"
     ]
    },
    {
     "name": "stderr",
     "output_type": "stream",
     "text": [
      "\r",
      " 21%|███████▊                              | 2194/10638 [01:25<28:04,  5.01it/s]"
     ]
    },
    {
     "name": "stdout",
     "output_type": "stream",
     "text": [
      "Another Candidate\n",
      "3\n"
     ]
    },
    {
     "name": "stderr",
     "output_type": "stream",
     "text": [
      "\r",
      " 21%|███████▊                              | 2195/10638 [01:25<29:49,  4.72it/s]"
     ]
    },
    {
     "name": "stdout",
     "output_type": "stream",
     "text": [
      "Another Candidate\n",
      "3\n"
     ]
    },
    {
     "name": "stderr",
     "output_type": "stream",
     "text": [
      "\r",
      " 21%|███████▊                              | 2196/10638 [01:25<30:43,  4.58it/s]"
     ]
    },
    {
     "name": "stdout",
     "output_type": "stream",
     "text": [
      "Another Candidate\n",
      "3\n"
     ]
    },
    {
     "name": "stderr",
     "output_type": "stream",
     "text": [
      "\r",
      " 21%|███████▊                              | 2197/10638 [01:25<30:45,  4.57it/s]"
     ]
    },
    {
     "name": "stdout",
     "output_type": "stream",
     "text": [
      "Another Candidate\n",
      "3\n",
      "Another Candidate\n"
     ]
    },
    {
     "name": "stderr",
     "output_type": "stream",
     "text": [
      "\r",
      " 21%|███████▊                              | 2198/10638 [01:26<29:46,  4.72it/s]"
     ]
    },
    {
     "name": "stdout",
     "output_type": "stream",
     "text": [
      "3\n",
      "Another Candidate\n"
     ]
    },
    {
     "name": "stderr",
     "output_type": "stream",
     "text": [
      " 21%|███████▊                              | 2200/10638 [01:26<29:20,  4.79it/s]"
     ]
    },
    {
     "name": "stdout",
     "output_type": "stream",
     "text": [
      "3\n",
      "Another Candidate\n",
      "3\n"
     ]
    },
    {
     "name": "stderr",
     "output_type": "stream",
     "text": [
      "\r",
      " 21%|███████▊                              | 2201/10638 [01:26<27:30,  5.11it/s]"
     ]
    },
    {
     "name": "stdout",
     "output_type": "stream",
     "text": [
      "Another Candidate\n",
      "3\n",
      "Another Candidate\n"
     ]
    },
    {
     "name": "stderr",
     "output_type": "stream",
     "text": [
      " 21%|███████▊                              | 2203/10638 [01:26<25:15,  5.56it/s]"
     ]
    },
    {
     "name": "stdout",
     "output_type": "stream",
     "text": [
      "3\n",
      "Another Candidate\n",
      "3\n"
     ]
    },
    {
     "name": "stderr",
     "output_type": "stream",
     "text": [
      "\r",
      " 21%|███████▊                              | 2204/10638 [01:27<27:19,  5.14it/s]"
     ]
    },
    {
     "name": "stdout",
     "output_type": "stream",
     "text": [
      "Another Candidate\n",
      "3\n"
     ]
    },
    {
     "name": "stderr",
     "output_type": "stream",
     "text": [
      "\r",
      " 21%|███████▉                              | 2205/10638 [01:27<31:01,  4.53it/s]"
     ]
    },
    {
     "name": "stdout",
     "output_type": "stream",
     "text": [
      "Another Candidate\n",
      "3\n"
     ]
    },
    {
     "name": "stderr",
     "output_type": "stream",
     "text": [
      "\r",
      " 21%|███████▉                              | 2206/10638 [01:27<35:41,  3.94it/s]"
     ]
    },
    {
     "name": "stdout",
     "output_type": "stream",
     "text": [
      "Another Candidate\n",
      "3\n"
     ]
    },
    {
     "name": "stderr",
     "output_type": "stream",
     "text": [
      "\r",
      " 21%|███████▉                              | 2207/10638 [01:28<40:39,  3.46it/s]"
     ]
    },
    {
     "name": "stdout",
     "output_type": "stream",
     "text": [
      "Another Candidate\n",
      "3\n"
     ]
    },
    {
     "name": "stderr",
     "output_type": "stream",
     "text": [
      "\r",
      " 21%|███████▉                              | 2208/10638 [01:28<42:49,  3.28it/s]"
     ]
    },
    {
     "name": "stdout",
     "output_type": "stream",
     "text": [
      "Another Candidate\n",
      "3\n"
     ]
    },
    {
     "name": "stderr",
     "output_type": "stream",
     "text": [
      "\r",
      " 21%|███████▉                              | 2209/10638 [01:28<44:02,  3.19it/s]"
     ]
    },
    {
     "name": "stdout",
     "output_type": "stream",
     "text": [
      "Another Candidate\n",
      "3\n"
     ]
    },
    {
     "name": "stderr",
     "output_type": "stream",
     "text": [
      "\r",
      " 21%|███████▉                              | 2210/10638 [01:29<46:46,  3.00it/s]"
     ]
    },
    {
     "name": "stdout",
     "output_type": "stream",
     "text": [
      "Another Candidate\n",
      "3\n"
     ]
    },
    {
     "name": "stderr",
     "output_type": "stream",
     "text": [
      "\r",
      " 21%|███████▉                              | 2211/10638 [01:29<44:50,  3.13it/s]"
     ]
    },
    {
     "name": "stdout",
     "output_type": "stream",
     "text": [
      "Another Candidate\n",
      "3\n"
     ]
    },
    {
     "name": "stderr",
     "output_type": "stream",
     "text": [
      "\r",
      " 21%|███████▉                              | 2212/10638 [01:29<43:03,  3.26it/s]"
     ]
    },
    {
     "name": "stdout",
     "output_type": "stream",
     "text": [
      "Another Candidate\n",
      "3\n"
     ]
    },
    {
     "name": "stderr",
     "output_type": "stream",
     "text": [
      "\r",
      " 21%|███████▉                              | 2213/10638 [01:30<44:55,  3.13it/s]"
     ]
    },
    {
     "name": "stdout",
     "output_type": "stream",
     "text": [
      "Another Candidate\n",
      "2\n"
     ]
    },
    {
     "name": "stderr",
     "output_type": "stream",
     "text": [
      " 21%|███████▉                              | 2215/10638 [01:30<33:56,  4.14it/s]"
     ]
    },
    {
     "name": "stdout",
     "output_type": "stream",
     "text": [
      "2\n"
     ]
    },
    {
     "name": "stderr",
     "output_type": "stream",
     "text": [
      "\r",
      " 21%|███████▉                              | 2216/10638 [01:30<32:47,  4.28it/s]"
     ]
    },
    {
     "name": "stdout",
     "output_type": "stream",
     "text": [
      "2\n",
      "2\n"
     ]
    },
    {
     "name": "stderr",
     "output_type": "stream",
     "text": [
      " 21%|███████▉                              | 2218/10638 [01:31<29:15,  4.80it/s]"
     ]
    },
    {
     "name": "stdout",
     "output_type": "stream",
     "text": [
      "2\n",
      "2\n"
     ]
    },
    {
     "name": "stderr",
     "output_type": "stream",
     "text": [
      "\r",
      " 21%|███████▉                              | 2219/10638 [01:31<28:05,  5.00it/s]"
     ]
    },
    {
     "name": "stdout",
     "output_type": "stream",
     "text": [
      "3\n",
      "Another Candidate\n"
     ]
    },
    {
     "name": "stderr",
     "output_type": "stream",
     "text": [
      "\r",
      " 21%|███████▉                              | 2220/10638 [01:31<33:24,  4.20it/s]"
     ]
    },
    {
     "name": "stdout",
     "output_type": "stream",
     "text": [
      "3\n",
      "Another Candidate\n"
     ]
    },
    {
     "name": "stderr",
     "output_type": "stream",
     "text": [
      "\r",
      " 21%|███████▉                              | 2221/10638 [01:31<37:48,  3.71it/s]"
     ]
    },
    {
     "name": "stdout",
     "output_type": "stream",
     "text": [
      "3\n",
      "Another Candidate\n"
     ]
    },
    {
     "name": "stderr",
     "output_type": "stream",
     "text": [
      "\r",
      " 21%|███████▉                              | 2222/10638 [01:32<41:00,  3.42it/s]"
     ]
    },
    {
     "name": "stdout",
     "output_type": "stream",
     "text": [
      "2\n",
      "Another Candidate\n"
     ]
    },
    {
     "name": "stderr",
     "output_type": "stream",
     "text": [
      "\r",
      " 21%|███████▉                              | 2223/10638 [01:32<38:20,  3.66it/s]"
     ]
    },
    {
     "name": "stdout",
     "output_type": "stream",
     "text": [
      "2\n",
      "Another Candidate\n"
     ]
    },
    {
     "name": "stderr",
     "output_type": "stream",
     "text": [
      "\r",
      " 21%|███████▉                              | 2224/10638 [01:32<41:33,  3.37it/s]"
     ]
    },
    {
     "name": "stdout",
     "output_type": "stream",
     "text": [
      "2\n",
      "Another Candidate\n"
     ]
    },
    {
     "name": "stderr",
     "output_type": "stream",
     "text": [
      "\r",
      " 21%|███████▉                              | 2225/10638 [01:33<41:21,  3.39it/s]"
     ]
    },
    {
     "name": "stdout",
     "output_type": "stream",
     "text": [
      "2\n",
      "Another Candidate\n"
     ]
    },
    {
     "name": "stderr",
     "output_type": "stream",
     "text": [
      "\r",
      " 21%|███████▉                              | 2226/10638 [01:33<40:50,  3.43it/s]"
     ]
    },
    {
     "name": "stdout",
     "output_type": "stream",
     "text": [
      "2\n",
      "Another Candidate\n"
     ]
    },
    {
     "name": "stderr",
     "output_type": "stream",
     "text": [
      "\r",
      " 21%|███████▉                              | 2227/10638 [01:33<39:50,  3.52it/s]"
     ]
    },
    {
     "name": "stdout",
     "output_type": "stream",
     "text": [
      "2\n",
      "Another Candidate\n"
     ]
    },
    {
     "name": "stderr",
     "output_type": "stream",
     "text": [
      "\r",
      " 21%|███████▉                              | 2228/10638 [01:33<39:30,  3.55it/s]"
     ]
    },
    {
     "name": "stdout",
     "output_type": "stream",
     "text": [
      "2\n",
      "Another Candidate\n"
     ]
    },
    {
     "name": "stderr",
     "output_type": "stream",
     "text": [
      "\r",
      " 21%|███████▉                              | 2229/10638 [01:34<39:36,  3.54it/s]"
     ]
    },
    {
     "name": "stdout",
     "output_type": "stream",
     "text": [
      "2\n",
      "Another Candidate\n"
     ]
    },
    {
     "name": "stderr",
     "output_type": "stream",
     "text": [
      "\r",
      " 21%|███████▉                              | 2230/10638 [01:34<39:11,  3.58it/s]"
     ]
    },
    {
     "name": "stdout",
     "output_type": "stream",
     "text": [
      "3\n",
      "Another Candidate\n"
     ]
    },
    {
     "name": "stderr",
     "output_type": "stream",
     "text": [
      "\r",
      " 21%|███████▉                              | 2231/10638 [01:34<41:18,  3.39it/s]"
     ]
    },
    {
     "name": "stdout",
     "output_type": "stream",
     "text": [
      "3\n",
      "Another Candidate\n"
     ]
    },
    {
     "name": "stderr",
     "output_type": "stream",
     "text": [
      "\r",
      " 21%|███████▉                              | 2232/10638 [01:35<41:48,  3.35it/s]"
     ]
    },
    {
     "name": "stdout",
     "output_type": "stream",
     "text": [
      "3\n",
      "Another Candidate\n"
     ]
    },
    {
     "name": "stderr",
     "output_type": "stream",
     "text": [
      "\r",
      " 21%|███████▉                              | 2233/10638 [01:35<40:10,  3.49it/s]"
     ]
    },
    {
     "name": "stdout",
     "output_type": "stream",
     "text": [
      "3\n",
      "Another Candidate\n"
     ]
    },
    {
     "name": "stderr",
     "output_type": "stream",
     "text": [
      "\r",
      " 21%|███████▉                              | 2234/10638 [01:35<40:42,  3.44it/s]"
     ]
    },
    {
     "name": "stdout",
     "output_type": "stream",
     "text": [
      "Unique\n",
      "Unique\n",
      "Unique\n",
      "Unique\n",
      "Unique\n",
      "Unique\n",
      "Unique\n",
      "3\n",
      "Another Candidate\n"
     ]
    },
    {
     "name": "stderr",
     "output_type": "stream",
     "text": [
      "\r",
      " 21%|████████                              | 2242/10638 [01:35<13:26, 10.41it/s]"
     ]
    },
    {
     "name": "stdout",
     "output_type": "stream",
     "text": [
      "Another Candidate\n",
      "3\n"
     ]
    },
    {
     "name": "stderr",
     "output_type": "stream",
     "text": [
      "\r",
      " 21%|████████                              | 2244/10638 [01:36<14:17,  9.78it/s]"
     ]
    },
    {
     "name": "stdout",
     "output_type": "stream",
     "text": [
      "Unique\n",
      "3\n"
     ]
    },
    {
     "name": "stderr",
     "output_type": "stream",
     "text": [
      "\r",
      " 21%|████████                              | 2245/10638 [01:36<18:08,  7.71it/s]"
     ]
    },
    {
     "name": "stdout",
     "output_type": "stream",
     "text": [
      "2\n"
     ]
    },
    {
     "name": "stderr",
     "output_type": "stream",
     "text": [
      "\r",
      " 21%|████████                              | 2246/10638 [01:36<22:03,  6.34it/s]"
     ]
    },
    {
     "name": "stdout",
     "output_type": "stream",
     "text": [
      "2\n"
     ]
    },
    {
     "name": "stderr",
     "output_type": "stream",
     "text": [
      "\r",
      " 21%|████████                              | 2247/10638 [01:37<27:04,  5.16it/s]"
     ]
    },
    {
     "name": "stdout",
     "output_type": "stream",
     "text": [
      "3\n",
      "Another Candidate\n"
     ]
    },
    {
     "name": "stderr",
     "output_type": "stream",
     "text": [
      "\r",
      " 21%|████████                              | 2248/10638 [01:37<40:21,  3.46it/s]"
     ]
    },
    {
     "name": "stdout",
     "output_type": "stream",
     "text": [
      "2\n",
      "Another Candidate\n"
     ]
    },
    {
     "name": "stderr",
     "output_type": "stream",
     "text": [
      "\r",
      " 21%|████████                              | 2249/10638 [01:38<55:34,  2.52it/s]"
     ]
    },
    {
     "name": "stdout",
     "output_type": "stream",
     "text": [
      "3\n",
      "Another Candidate\n"
     ]
    },
    {
     "name": "stderr",
     "output_type": "stream",
     "text": [
      "\r",
      " 21%|███████▌                            | 2250/10638 [01:39<1:08:45,  2.03it/s]"
     ]
    },
    {
     "name": "stdout",
     "output_type": "stream",
     "text": [
      "Another Candidate\n",
      "2\n",
      "Another Candidate\n"
     ]
    },
    {
     "name": "stderr",
     "output_type": "stream",
     "text": [
      "\r",
      " 21%|███████▌                            | 2251/10638 [01:39<1:11:41,  1.95it/s]"
     ]
    },
    {
     "name": "stdout",
     "output_type": "stream",
     "text": [
      "3\n",
      "Another Candidate\n"
     ]
    },
    {
     "name": "stderr",
     "output_type": "stream",
     "text": [
      "\r",
      " 21%|███████▌                            | 2252/10638 [01:40<1:22:48,  1.69it/s]"
     ]
    },
    {
     "name": "stdout",
     "output_type": "stream",
     "text": [
      "2\n"
     ]
    },
    {
     "name": "stderr",
     "output_type": "stream",
     "text": [
      "\r",
      " 21%|███████▌                            | 2253/10638 [01:41<1:10:38,  1.98it/s]"
     ]
    },
    {
     "name": "stdout",
     "output_type": "stream",
     "text": [
      "3\n"
     ]
    },
    {
     "name": "stderr",
     "output_type": "stream",
     "text": [
      "\r",
      " 21%|███████▋                            | 2254/10638 [01:41<1:04:38,  2.16it/s]"
     ]
    },
    {
     "name": "stdout",
     "output_type": "stream",
     "text": [
      "Another Candidate\n",
      "2\n"
     ]
    },
    {
     "name": "stderr",
     "output_type": "stream",
     "text": [
      "\r",
      " 21%|███████▋                            | 2255/10638 [01:41<1:03:59,  2.18it/s]"
     ]
    },
    {
     "name": "stdout",
     "output_type": "stream",
     "text": [
      "2\n"
     ]
    },
    {
     "name": "stderr",
     "output_type": "stream",
     "text": [
      "\r",
      " 21%|████████                              | 2256/10638 [01:42<59:21,  2.35it/s]"
     ]
    },
    {
     "name": "stdout",
     "output_type": "stream",
     "text": [
      "Another Candidate\n",
      "3\n"
     ]
    },
    {
     "name": "stderr",
     "output_type": "stream",
     "text": [
      "\r",
      " 21%|███████▋                            | 2257/10638 [01:42<1:01:26,  2.27it/s]"
     ]
    },
    {
     "name": "stdout",
     "output_type": "stream",
     "text": [
      "Another Candidate\n",
      "2\n"
     ]
    },
    {
     "name": "stderr",
     "output_type": "stream",
     "text": [
      "\r",
      " 21%|███████▋                            | 2258/10638 [01:43<1:02:20,  2.24it/s]"
     ]
    },
    {
     "name": "stdout",
     "output_type": "stream",
     "text": [
      "Another Candidate\n",
      "3\n",
      "Another Candidate\n"
     ]
    },
    {
     "name": "stderr",
     "output_type": "stream",
     "text": [
      "\r",
      " 21%|████████                              | 2259/10638 [01:43<55:18,  2.52it/s]"
     ]
    },
    {
     "name": "stdout",
     "output_type": "stream",
     "text": [
      "Another Candidate\n",
      "2\n"
     ]
    },
    {
     "name": "stderr",
     "output_type": "stream",
     "text": [
      " 21%|████████                              | 2261/10638 [01:43<37:13,  3.75it/s]"
     ]
    },
    {
     "name": "stdout",
     "output_type": "stream",
     "text": [
      "2\n",
      "2\n"
     ]
    },
    {
     "name": "stderr",
     "output_type": "stream",
     "text": [
      "\r",
      " 21%|████████                              | 2262/10638 [01:43<33:44,  4.14it/s]"
     ]
    },
    {
     "name": "stdout",
     "output_type": "stream",
     "text": [
      "3\n"
     ]
    },
    {
     "name": "stderr",
     "output_type": "stream",
     "text": [
      "\r",
      " 21%|████████                              | 2263/10638 [01:44<32:40,  4.27it/s]"
     ]
    },
    {
     "name": "stdout",
     "output_type": "stream",
     "text": [
      "3\n",
      "Another Candidate\n"
     ]
    },
    {
     "name": "stderr",
     "output_type": "stream",
     "text": [
      "\r",
      " 21%|████████                              | 2264/10638 [01:44<33:14,  4.20it/s]"
     ]
    },
    {
     "name": "stdout",
     "output_type": "stream",
     "text": [
      "3\n",
      "Another Candidate\n"
     ]
    },
    {
     "name": "stderr",
     "output_type": "stream",
     "text": [
      "\r",
      " 21%|████████                              | 2265/10638 [01:44<34:24,  4.06it/s]"
     ]
    },
    {
     "name": "stdout",
     "output_type": "stream",
     "text": [
      "3\n",
      "Another Candidate\n"
     ]
    },
    {
     "name": "stderr",
     "output_type": "stream",
     "text": [
      "\r",
      " 21%|████████                              | 2266/10638 [01:44<33:55,  4.11it/s]"
     ]
    },
    {
     "name": "stdout",
     "output_type": "stream",
     "text": [
      "3\n",
      "Another Candidate\n"
     ]
    },
    {
     "name": "stderr",
     "output_type": "stream",
     "text": [
      " 21%|████████                              | 2268/10638 [01:45<32:58,  4.23it/s]"
     ]
    },
    {
     "name": "stdout",
     "output_type": "stream",
     "text": [
      "3\n",
      "Another Candidate\n",
      "2\n"
     ]
    },
    {
     "name": "stderr",
     "output_type": "stream",
     "text": [
      " 21%|████████                              | 2270/10638 [01:45<24:13,  5.76it/s]"
     ]
    },
    {
     "name": "stdout",
     "output_type": "stream",
     "text": [
      "2\n",
      "2\n"
     ]
    },
    {
     "name": "stderr",
     "output_type": "stream",
     "text": [
      "\r",
      " 21%|████████                              | 2271/10638 [01:45<22:21,  6.23it/s]"
     ]
    },
    {
     "name": "stdout",
     "output_type": "stream",
     "text": [
      "2\n"
     ]
    },
    {
     "name": "stderr",
     "output_type": "stream",
     "text": [
      "\r",
      " 21%|████████                              | 2272/10638 [01:45<26:00,  5.36it/s]"
     ]
    },
    {
     "name": "stdout",
     "output_type": "stream",
     "text": [
      "2\n"
     ]
    },
    {
     "name": "stderr",
     "output_type": "stream",
     "text": [
      "\r",
      " 21%|████████                              | 2273/10638 [01:46<29:29,  4.73it/s]"
     ]
    },
    {
     "name": "stdout",
     "output_type": "stream",
     "text": [
      "2\n"
     ]
    },
    {
     "name": "stderr",
     "output_type": "stream",
     "text": [
      "\r",
      " 21%|████████                              | 2274/10638 [01:46<31:32,  4.42it/s]"
     ]
    },
    {
     "name": "stdout",
     "output_type": "stream",
     "text": [
      "2\n"
     ]
    },
    {
     "name": "stderr",
     "output_type": "stream",
     "text": [
      "\r",
      " 21%|████████▏                             | 2275/10638 [01:46<33:10,  4.20it/s]"
     ]
    },
    {
     "name": "stdout",
     "output_type": "stream",
     "text": [
      "2\n"
     ]
    },
    {
     "name": "stderr",
     "output_type": "stream",
     "text": [
      "\r",
      " 21%|████████▏                             | 2276/10638 [01:47<35:11,  3.96it/s]"
     ]
    },
    {
     "name": "stdout",
     "output_type": "stream",
     "text": [
      "2\n"
     ]
    },
    {
     "name": "stderr",
     "output_type": "stream",
     "text": [
      "\r",
      " 21%|████████▏                             | 2277/10638 [01:47<39:19,  3.54it/s]"
     ]
    },
    {
     "name": "stdout",
     "output_type": "stream",
     "text": [
      "2\n"
     ]
    },
    {
     "name": "stderr",
     "output_type": "stream",
     "text": [
      "\r",
      " 21%|████████▏                             | 2278/10638 [01:47<40:15,  3.46it/s]"
     ]
    },
    {
     "name": "stdout",
     "output_type": "stream",
     "text": [
      "2\n"
     ]
    },
    {
     "name": "stderr",
     "output_type": "stream",
     "text": [
      "\r",
      " 21%|████████▏                             | 2279/10638 [01:47<41:47,  3.33it/s]"
     ]
    },
    {
     "name": "stdout",
     "output_type": "stream",
     "text": [
      "2\n"
     ]
    },
    {
     "name": "stderr",
     "output_type": "stream",
     "text": [
      "\r",
      " 21%|████████▏                             | 2280/10638 [01:48<42:59,  3.24it/s]"
     ]
    },
    {
     "name": "stdout",
     "output_type": "stream",
     "text": [
      "2\n"
     ]
    },
    {
     "name": "stderr",
     "output_type": "stream",
     "text": [
      "\r",
      " 21%|████████▏                             | 2281/10638 [01:48<43:58,  3.17it/s]"
     ]
    },
    {
     "name": "stdout",
     "output_type": "stream",
     "text": [
      "2\n"
     ]
    },
    {
     "name": "stderr",
     "output_type": "stream",
     "text": [
      "\r",
      " 21%|████████▏                             | 2282/10638 [01:48<42:43,  3.26it/s]"
     ]
    },
    {
     "name": "stdout",
     "output_type": "stream",
     "text": [
      "2\n"
     ]
    },
    {
     "name": "stderr",
     "output_type": "stream",
     "text": [
      "\r",
      " 21%|████████▏                             | 2283/10638 [01:49<45:00,  3.09it/s]"
     ]
    },
    {
     "name": "stdout",
     "output_type": "stream",
     "text": [
      "2\n"
     ]
    },
    {
     "name": "stderr",
     "output_type": "stream",
     "text": [
      "\r",
      " 21%|████████▏                             | 2284/10638 [01:49<42:19,  3.29it/s]"
     ]
    },
    {
     "name": "stdout",
     "output_type": "stream",
     "text": [
      "2\n"
     ]
    },
    {
     "name": "stderr",
     "output_type": "stream",
     "text": [
      "\r",
      " 21%|████████▏                             | 2285/10638 [01:49<44:54,  3.10it/s]"
     ]
    },
    {
     "name": "stdout",
     "output_type": "stream",
     "text": [
      "3\n",
      "Another Candidate\n"
     ]
    },
    {
     "name": "stderr",
     "output_type": "stream",
     "text": [
      "\r",
      " 21%|████████▏                             | 2286/10638 [01:50<46:04,  3.02it/s]"
     ]
    },
    {
     "name": "stdout",
     "output_type": "stream",
     "text": [
      "3\n"
     ]
    },
    {
     "name": "stderr",
     "output_type": "stream",
     "text": [
      "\r",
      " 21%|████████▏                             | 2287/10638 [01:50<51:28,  2.70it/s]"
     ]
    },
    {
     "name": "stdout",
     "output_type": "stream",
     "text": [
      "Another Candidate\n",
      "3\n"
     ]
    },
    {
     "name": "stderr",
     "output_type": "stream",
     "text": [
      "\r",
      " 22%|████████▏                             | 2288/10638 [01:51<52:22,  2.66it/s]"
     ]
    },
    {
     "name": "stdout",
     "output_type": "stream",
     "text": [
      "Another Candidate\n",
      "3\n"
     ]
    },
    {
     "name": "stderr",
     "output_type": "stream",
     "text": [
      "\r",
      " 22%|████████▏                             | 2289/10638 [01:51<54:48,  2.54it/s]"
     ]
    },
    {
     "name": "stdout",
     "output_type": "stream",
     "text": [
      "Another Candidate\n",
      "2\n"
     ]
    },
    {
     "name": "stderr",
     "output_type": "stream",
     "text": [
      "\r",
      " 22%|████████▏                             | 2290/10638 [01:51<54:52,  2.54it/s]"
     ]
    },
    {
     "name": "stdout",
     "output_type": "stream",
     "text": [
      "Another Candidate\n",
      "2\n"
     ]
    },
    {
     "name": "stderr",
     "output_type": "stream",
     "text": [
      "\r",
      " 22%|████████▏                             | 2291/10638 [01:52<54:31,  2.55it/s]"
     ]
    },
    {
     "name": "stdout",
     "output_type": "stream",
     "text": [
      "Another Candidate\n",
      "2\n"
     ]
    },
    {
     "name": "stderr",
     "output_type": "stream",
     "text": [
      "\r",
      " 22%|████████▏                             | 2292/10638 [01:52<51:00,  2.73it/s]"
     ]
    },
    {
     "name": "stdout",
     "output_type": "stream",
     "text": [
      "Another Candidate\n",
      "2\n"
     ]
    },
    {
     "name": "stderr",
     "output_type": "stream",
     "text": [
      "\r",
      " 22%|████████▏                             | 2293/10638 [01:52<48:17,  2.88it/s]"
     ]
    },
    {
     "name": "stdout",
     "output_type": "stream",
     "text": [
      "Another Candidate\n",
      "2\n"
     ]
    },
    {
     "name": "stderr",
     "output_type": "stream",
     "text": [
      "\r",
      " 22%|████████▏                             | 2294/10638 [01:53<47:42,  2.91it/s]"
     ]
    },
    {
     "name": "stdout",
     "output_type": "stream",
     "text": [
      "Another Candidate\n",
      "2\n"
     ]
    },
    {
     "name": "stderr",
     "output_type": "stream",
     "text": [
      "\r",
      " 22%|████████▏                             | 2295/10638 [01:53<46:49,  2.97it/s]"
     ]
    },
    {
     "name": "stdout",
     "output_type": "stream",
     "text": [
      "Another Candidate\n",
      "2\n"
     ]
    },
    {
     "name": "stderr",
     "output_type": "stream",
     "text": [
      "\r",
      " 22%|████████▏                             | 2296/10638 [01:53<42:48,  3.25it/s]"
     ]
    },
    {
     "name": "stdout",
     "output_type": "stream",
     "text": [
      "Another Candidate\n",
      "2\n"
     ]
    },
    {
     "name": "stderr",
     "output_type": "stream",
     "text": [
      "\r",
      " 22%|████████▏                             | 2297/10638 [01:54<40:18,  3.45it/s]"
     ]
    },
    {
     "name": "stdout",
     "output_type": "stream",
     "text": [
      "Another Candidate\n",
      "2\n"
     ]
    },
    {
     "name": "stderr",
     "output_type": "stream",
     "text": [
      "\r",
      " 22%|████████▏                             | 2298/10638 [01:54<41:54,  3.32it/s]"
     ]
    },
    {
     "name": "stdout",
     "output_type": "stream",
     "text": [
      "Another Candidate\n",
      "2\n"
     ]
    },
    {
     "name": "stderr",
     "output_type": "stream",
     "text": [
      "\r",
      " 22%|████████▏                             | 2299/10638 [01:54<45:26,  3.06it/s]"
     ]
    },
    {
     "name": "stdout",
     "output_type": "stream",
     "text": [
      "Another Candidate\n",
      "2\n"
     ]
    },
    {
     "name": "stderr",
     "output_type": "stream",
     "text": [
      "\r",
      " 22%|████████▏                             | 2300/10638 [01:55<48:07,  2.89it/s]"
     ]
    },
    {
     "name": "stdout",
     "output_type": "stream",
     "text": [
      "Another Candidate\n",
      "2\n"
     ]
    },
    {
     "name": "stderr",
     "output_type": "stream",
     "text": [
      "\r",
      " 22%|████████▏                             | 2301/10638 [01:55<49:15,  2.82it/s]"
     ]
    },
    {
     "name": "stdout",
     "output_type": "stream",
     "text": [
      "Another Candidate\n",
      "2\n"
     ]
    },
    {
     "name": "stderr",
     "output_type": "stream",
     "text": [
      "\r",
      " 22%|████████▏                             | 2302/10638 [01:55<46:19,  3.00it/s]"
     ]
    },
    {
     "name": "stdout",
     "output_type": "stream",
     "text": [
      "Another Candidate\n",
      "2\n"
     ]
    },
    {
     "name": "stderr",
     "output_type": "stream",
     "text": [
      "\r",
      " 22%|████████▏                             | 2303/10638 [01:56<48:58,  2.84it/s]"
     ]
    },
    {
     "name": "stdout",
     "output_type": "stream",
     "text": [
      "Another Candidate\n",
      "2\n"
     ]
    },
    {
     "name": "stderr",
     "output_type": "stream",
     "text": [
      "\r",
      " 22%|████████▏                             | 2304/10638 [01:56<49:16,  2.82it/s]"
     ]
    },
    {
     "name": "stdout",
     "output_type": "stream",
     "text": [
      "Another Candidate\n",
      "2\n"
     ]
    },
    {
     "name": "stderr",
     "output_type": "stream",
     "text": [
      "\r",
      " 22%|████████▏                             | 2305/10638 [01:56<47:32,  2.92it/s]"
     ]
    },
    {
     "name": "stdout",
     "output_type": "stream",
     "text": [
      "Another Candidate\n",
      "2\n"
     ]
    },
    {
     "name": "stderr",
     "output_type": "stream",
     "text": [
      "\r",
      " 22%|████████▏                             | 2306/10638 [01:57<47:56,  2.90it/s]"
     ]
    },
    {
     "name": "stdout",
     "output_type": "stream",
     "text": [
      "Another Candidate\n",
      "2\n"
     ]
    },
    {
     "name": "stderr",
     "output_type": "stream",
     "text": [
      "\r",
      " 22%|████████▏                             | 2307/10638 [01:57<47:29,  2.92it/s]"
     ]
    },
    {
     "name": "stdout",
     "output_type": "stream",
     "text": [
      "Another Candidate\n",
      "2\n"
     ]
    },
    {
     "name": "stderr",
     "output_type": "stream",
     "text": [
      "\r",
      " 22%|████████▏                             | 2308/10638 [01:57<44:57,  3.09it/s]"
     ]
    },
    {
     "name": "stdout",
     "output_type": "stream",
     "text": [
      "Another Candidate\n",
      "2\n"
     ]
    },
    {
     "name": "stderr",
     "output_type": "stream",
     "text": [
      "\r",
      " 22%|████████▏                             | 2309/10638 [01:58<47:43,  2.91it/s]"
     ]
    },
    {
     "name": "stdout",
     "output_type": "stream",
     "text": [
      "Another Candidate\n",
      "3\n"
     ]
    },
    {
     "name": "stderr",
     "output_type": "stream",
     "text": [
      "\r",
      " 22%|████████▎                             | 2310/10638 [01:58<48:44,  2.85it/s]"
     ]
    },
    {
     "name": "stdout",
     "output_type": "stream",
     "text": [
      "Another Candidate\n",
      "3\n"
     ]
    },
    {
     "name": "stderr",
     "output_type": "stream",
     "text": [
      "\r",
      " 22%|████████▎                             | 2311/10638 [01:59<54:01,  2.57it/s]"
     ]
    },
    {
     "name": "stdout",
     "output_type": "stream",
     "text": [
      "Another Candidate\n",
      "3\n",
      "Another Candidate\n"
     ]
    },
    {
     "name": "stderr",
     "output_type": "stream",
     "text": [
      "\r",
      " 22%|████████▎                             | 2312/10638 [01:59<54:20,  2.55it/s]"
     ]
    },
    {
     "name": "stdout",
     "output_type": "stream",
     "text": [
      "3\n"
     ]
    },
    {
     "name": "stderr",
     "output_type": "stream",
     "text": [
      "\r",
      " 22%|████████▎                             | 2313/10638 [01:59<55:18,  2.51it/s]"
     ]
    },
    {
     "name": "stdout",
     "output_type": "stream",
     "text": [
      "Another Candidate\n",
      "3\n"
     ]
    },
    {
     "name": "stderr",
     "output_type": "stream",
     "text": [
      "\r",
      " 22%|████████▎                             | 2314/10638 [02:00<59:36,  2.33it/s]"
     ]
    },
    {
     "name": "stdout",
     "output_type": "stream",
     "text": [
      "Another Candidate\n",
      "3\n"
     ]
    },
    {
     "name": "stderr",
     "output_type": "stream",
     "text": [
      "\r",
      " 22%|████████▎                             | 2315/10638 [02:00<58:55,  2.35it/s]"
     ]
    },
    {
     "name": "stdout",
     "output_type": "stream",
     "text": [
      "Another Candidate\n",
      "3\n"
     ]
    },
    {
     "name": "stderr",
     "output_type": "stream",
     "text": [
      "\r",
      " 22%|████████▎                             | 2316/10638 [02:01<56:20,  2.46it/s]"
     ]
    },
    {
     "name": "stdout",
     "output_type": "stream",
     "text": [
      "Another Candidate\n",
      "3\n"
     ]
    },
    {
     "name": "stderr",
     "output_type": "stream",
     "text": [
      "\r",
      " 22%|████████▎                             | 2317/10638 [02:01<57:27,  2.41it/s]"
     ]
    },
    {
     "name": "stdout",
     "output_type": "stream",
     "text": [
      "Another Candidate\n",
      "3\n"
     ]
    },
    {
     "name": "stderr",
     "output_type": "stream",
     "text": [
      "\r",
      " 22%|████████▎                             | 2318/10638 [02:02<57:32,  2.41it/s]"
     ]
    },
    {
     "name": "stdout",
     "output_type": "stream",
     "text": [
      "Another Candidate\n",
      "3\n",
      "Another Candidate\n"
     ]
    },
    {
     "name": "stderr",
     "output_type": "stream",
     "text": [
      "\r",
      " 22%|███████▊                            | 2319/10638 [02:02<1:03:59,  2.17it/s]"
     ]
    },
    {
     "name": "stdout",
     "output_type": "stream",
     "text": [
      "3\n",
      "Another Candidate\n"
     ]
    },
    {
     "name": "stderr",
     "output_type": "stream",
     "text": [
      "\r",
      " 22%|███████▊                            | 2320/10638 [02:03<1:10:50,  1.96it/s]"
     ]
    },
    {
     "name": "stdout",
     "output_type": "stream",
     "text": [
      "3\n"
     ]
    },
    {
     "name": "stderr",
     "output_type": "stream",
     "text": [
      "\r",
      " 22%|███████▊                            | 2321/10638 [02:03<1:11:49,  1.93it/s]"
     ]
    },
    {
     "name": "stdout",
     "output_type": "stream",
     "text": [
      "Another Candidate\n",
      "3\n"
     ]
    },
    {
     "name": "stderr",
     "output_type": "stream",
     "text": [
      "\r",
      " 22%|███████▊                            | 2322/10638 [02:04<1:10:32,  1.96it/s]"
     ]
    },
    {
     "name": "stdout",
     "output_type": "stream",
     "text": [
      "Another Candidate\n",
      "3\n",
      "Another Candidate\n"
     ]
    },
    {
     "name": "stderr",
     "output_type": "stream",
     "text": [
      "\r",
      " 22%|███████▊                            | 2323/10638 [02:04<1:11:20,  1.94it/s]"
     ]
    },
    {
     "name": "stdout",
     "output_type": "stream",
     "text": [
      "2\n"
     ]
    },
    {
     "name": "stderr",
     "output_type": "stream",
     "text": [
      "\r",
      " 22%|███████▊                            | 2324/10638 [02:05<1:07:39,  2.05it/s]"
     ]
    },
    {
     "name": "stdout",
     "output_type": "stream",
     "text": [
      "2\n"
     ]
    },
    {
     "name": "stderr",
     "output_type": "stream",
     "text": [
      "\r",
      " 22%|███████▊                            | 2325/10638 [02:05<1:10:23,  1.97it/s]"
     ]
    },
    {
     "name": "stdout",
     "output_type": "stream",
     "text": [
      "2\n"
     ]
    },
    {
     "name": "stderr",
     "output_type": "stream",
     "text": [
      "\r",
      " 22%|███████▊                            | 2326/10638 [02:06<1:11:18,  1.94it/s]"
     ]
    },
    {
     "name": "stdout",
     "output_type": "stream",
     "text": [
      "2\n"
     ]
    },
    {
     "name": "stderr",
     "output_type": "stream",
     "text": [
      "\r",
      " 22%|███████▊                            | 2327/10638 [02:06<1:08:18,  2.03it/s]"
     ]
    },
    {
     "name": "stdout",
     "output_type": "stream",
     "text": [
      "2\n"
     ]
    },
    {
     "name": "stderr",
     "output_type": "stream",
     "text": [
      "\r",
      " 22%|███████▉                            | 2328/10638 [02:07<1:07:26,  2.05it/s]"
     ]
    },
    {
     "name": "stdout",
     "output_type": "stream",
     "text": [
      "2\n"
     ]
    },
    {
     "name": "stderr",
     "output_type": "stream",
     "text": [
      "\r",
      " 22%|███████▉                            | 2329/10638 [02:07<1:00:26,  2.29it/s]"
     ]
    },
    {
     "name": "stdout",
     "output_type": "stream",
     "text": [
      "2\n"
     ]
    },
    {
     "name": "stderr",
     "output_type": "stream",
     "text": [
      "\r",
      " 22%|████████▎                             | 2330/10638 [02:07<53:14,  2.60it/s]"
     ]
    },
    {
     "name": "stdout",
     "output_type": "stream",
     "text": [
      "2\n"
     ]
    },
    {
     "name": "stderr",
     "output_type": "stream",
     "text": [
      "\r",
      " 22%|████████▎                             | 2331/10638 [02:08<49:14,  2.81it/s]"
     ]
    },
    {
     "name": "stdout",
     "output_type": "stream",
     "text": [
      "3\n"
     ]
    },
    {
     "name": "stderr",
     "output_type": "stream",
     "text": [
      "\r",
      " 22%|████████▎                             | 2332/10638 [02:08<51:31,  2.69it/s]"
     ]
    },
    {
     "name": "stdout",
     "output_type": "stream",
     "text": [
      "Another Candidate\n",
      "2\n"
     ]
    },
    {
     "name": "stderr",
     "output_type": "stream",
     "text": [
      "\r",
      " 22%|███████▉                            | 2333/10638 [02:10<1:41:06,  1.37it/s]"
     ]
    },
    {
     "name": "stdout",
     "output_type": "stream",
     "text": [
      "Another Candidate\n",
      "2\n"
     ]
    },
    {
     "name": "stderr",
     "output_type": "stream",
     "text": [
      "\r",
      " 22%|███████▉                            | 2334/10638 [02:10<1:28:53,  1.56it/s]"
     ]
    },
    {
     "name": "stdout",
     "output_type": "stream",
     "text": [
      "Another Candidate\n",
      "2\n"
     ]
    },
    {
     "name": "stderr",
     "output_type": "stream",
     "text": [
      "\r",
      " 22%|███████▉                            | 2335/10638 [02:11<1:22:59,  1.67it/s]"
     ]
    },
    {
     "name": "stdout",
     "output_type": "stream",
     "text": [
      "Another Candidate\n",
      "3\n",
      "Another Candidate\n",
      "Another Candidate\n"
     ]
    },
    {
     "name": "stderr",
     "output_type": "stream",
     "text": [
      "\r",
      " 22%|███████▉                            | 2336/10638 [02:11<1:18:54,  1.75it/s]"
     ]
    },
    {
     "name": "stdout",
     "output_type": "stream",
     "text": [
      "3\n",
      "Another Candidate\n",
      "Another Candidate\n"
     ]
    },
    {
     "name": "stderr",
     "output_type": "stream",
     "text": [
      "\r",
      " 22%|███████▉                            | 2337/10638 [02:12<1:15:38,  1.83it/s]"
     ]
    },
    {
     "name": "stdout",
     "output_type": "stream",
     "text": [
      "3\n",
      "Another Candidate\n",
      "Another Candidate\n"
     ]
    },
    {
     "name": "stderr",
     "output_type": "stream",
     "text": [
      "\r",
      " 22%|███████▉                            | 2338/10638 [02:12<1:13:28,  1.88it/s]"
     ]
    },
    {
     "name": "stdout",
     "output_type": "stream",
     "text": [
      "3\n",
      "Another Candidate\n",
      "Another Candidate\n"
     ]
    },
    {
     "name": "stderr",
     "output_type": "stream",
     "text": [
      "\r",
      " 22%|███████▉                            | 2339/10638 [02:12<1:08:43,  2.01it/s]"
     ]
    },
    {
     "name": "stdout",
     "output_type": "stream",
     "text": [
      "2\n"
     ]
    },
    {
     "name": "stderr",
     "output_type": "stream",
     "text": [
      "\r",
      " 22%|███████▉                            | 2340/10638 [02:13<1:03:08,  2.19it/s]"
     ]
    },
    {
     "name": "stdout",
     "output_type": "stream",
     "text": [
      "Another Candidate\n",
      "2\n"
     ]
    },
    {
     "name": "stderr",
     "output_type": "stream",
     "text": [
      "\r",
      " 22%|████████▎                             | 2341/10638 [02:13<57:12,  2.42it/s]"
     ]
    },
    {
     "name": "stdout",
     "output_type": "stream",
     "text": [
      "Another Candidate\n",
      "2\n"
     ]
    },
    {
     "name": "stderr",
     "output_type": "stream",
     "text": [
      "\r",
      " 22%|████████▎                             | 2342/10638 [02:13<55:57,  2.47it/s]"
     ]
    },
    {
     "name": "stdout",
     "output_type": "stream",
     "text": [
      "Another Candidate\n",
      "2\n"
     ]
    },
    {
     "name": "stderr",
     "output_type": "stream",
     "text": [
      "\r",
      " 22%|████████▎                             | 2343/10638 [02:14<50:51,  2.72it/s]"
     ]
    },
    {
     "name": "stdout",
     "output_type": "stream",
     "text": [
      "Another Candidate\n",
      "2\n"
     ]
    },
    {
     "name": "stderr",
     "output_type": "stream",
     "text": [
      "\r",
      " 22%|████████▎                             | 2344/10638 [02:14<52:27,  2.64it/s]"
     ]
    },
    {
     "name": "stdout",
     "output_type": "stream",
     "text": [
      "Another Candidate\n",
      "2\n"
     ]
    },
    {
     "name": "stderr",
     "output_type": "stream",
     "text": [
      "\r",
      " 22%|████████▍                             | 2345/10638 [02:15<50:34,  2.73it/s]"
     ]
    },
    {
     "name": "stdout",
     "output_type": "stream",
     "text": [
      "Another Candidate\n",
      "3\n",
      "Another Candidate\n",
      "Another Candidate\n"
     ]
    },
    {
     "name": "stderr",
     "output_type": "stream",
     "text": [
      "\r",
      " 22%|████████▍                             | 2346/10638 [02:15<56:18,  2.45it/s]"
     ]
    },
    {
     "name": "stdout",
     "output_type": "stream",
     "text": [
      "3\n",
      "Another Candidate\n"
     ]
    },
    {
     "name": "stderr",
     "output_type": "stream",
     "text": [
      "\r",
      " 22%|████████▍                             | 2347/10638 [02:15<55:43,  2.48it/s]"
     ]
    },
    {
     "name": "stdout",
     "output_type": "stream",
     "text": [
      "Another Candidate\n",
      "3\n",
      "Another Candidate\n",
      "Another Candidate\n"
     ]
    },
    {
     "name": "stderr",
     "output_type": "stream",
     "text": [
      "\r",
      " 22%|████████▍                             | 2348/10638 [02:16<58:28,  2.36it/s]"
     ]
    },
    {
     "name": "stdout",
     "output_type": "stream",
     "text": [
      "3\n",
      "Another Candidate\n",
      "Another Candidate\n"
     ]
    },
    {
     "name": "stderr",
     "output_type": "stream",
     "text": [
      "\r",
      " 22%|████████▍                             | 2349/10638 [02:16<59:20,  2.33it/s]"
     ]
    },
    {
     "name": "stdout",
     "output_type": "stream",
     "text": [
      "3\n"
     ]
    },
    {
     "name": "stderr",
     "output_type": "stream",
     "text": [
      "\r",
      " 22%|████████▍                             | 2350/10638 [02:17<58:55,  2.34it/s]"
     ]
    },
    {
     "name": "stdout",
     "output_type": "stream",
     "text": [
      "Another Candidate\n",
      "Another Candidate\n",
      "3\n",
      "Another Candidate\n",
      "Another Candidate\n"
     ]
    },
    {
     "name": "stderr",
     "output_type": "stream",
     "text": [
      "\r",
      " 22%|████████▍                             | 2351/10638 [02:17<58:57,  2.34it/s]"
     ]
    },
    {
     "name": "stdout",
     "output_type": "stream",
     "text": [
      "3\n",
      "Another Candidate\n"
     ]
    },
    {
     "name": "stderr",
     "output_type": "stream",
     "text": [
      "\r",
      " 22%|████████▍                             | 2352/10638 [02:18<54:50,  2.52it/s]"
     ]
    },
    {
     "name": "stdout",
     "output_type": "stream",
     "text": [
      "Another Candidate\n",
      "3\n"
     ]
    },
    {
     "name": "stderr",
     "output_type": "stream",
     "text": [
      "\r",
      " 22%|████████▍                             | 2353/10638 [02:18<54:53,  2.52it/s]"
     ]
    },
    {
     "name": "stdout",
     "output_type": "stream",
     "text": [
      "Another Candidate\n",
      "Another Candidate\n",
      "3\n",
      "Another Candidate\n",
      "Another Candidate\n"
     ]
    },
    {
     "name": "stderr",
     "output_type": "stream",
     "text": [
      "\r",
      " 22%|████████▍                             | 2354/10638 [02:18<55:53,  2.47it/s]"
     ]
    },
    {
     "name": "stdout",
     "output_type": "stream",
     "text": [
      "3\n",
      "Another Candidate\n"
     ]
    },
    {
     "name": "stderr",
     "output_type": "stream",
     "text": [
      "\r",
      " 22%|████████▍                             | 2355/10638 [02:19<54:22,  2.54it/s]"
     ]
    },
    {
     "name": "stdout",
     "output_type": "stream",
     "text": [
      "Another Candidate\n",
      "3\n",
      "Another Candidate\n",
      "Another Candidate\n"
     ]
    },
    {
     "name": "stderr",
     "output_type": "stream",
     "text": [
      "\r",
      " 22%|████████▍                             | 2356/10638 [02:19<54:13,  2.55it/s]"
     ]
    },
    {
     "name": "stdout",
     "output_type": "stream",
     "text": [
      "3\n",
      "Another Candidate\n"
     ]
    },
    {
     "name": "stderr",
     "output_type": "stream",
     "text": [
      "\r",
      " 22%|████████▍                             | 2357/10638 [02:19<51:44,  2.67it/s]"
     ]
    },
    {
     "name": "stdout",
     "output_type": "stream",
     "text": [
      "Another Candidate\n",
      "3\n",
      "Another Candidate\n",
      "Another Candidate\n"
     ]
    },
    {
     "name": "stderr",
     "output_type": "stream",
     "text": [
      "\r",
      " 22%|████████▍                             | 2358/10638 [02:20<54:09,  2.55it/s]"
     ]
    },
    {
     "name": "stdout",
     "output_type": "stream",
     "text": [
      "3\n",
      "Another Candidate\n",
      "Another Candidate\n"
     ]
    },
    {
     "name": "stderr",
     "output_type": "stream",
     "text": [
      "\r",
      " 22%|████████▍                             | 2359/10638 [02:20<55:51,  2.47it/s]"
     ]
    },
    {
     "name": "stdout",
     "output_type": "stream",
     "text": [
      "3\n",
      "Another Candidate\n"
     ]
    },
    {
     "name": "stderr",
     "output_type": "stream",
     "text": [
      "\r",
      " 22%|████████▍                             | 2360/10638 [02:21<55:48,  2.47it/s]"
     ]
    },
    {
     "name": "stdout",
     "output_type": "stream",
     "text": [
      "Another Candidate\n",
      "3\n"
     ]
    },
    {
     "name": "stderr",
     "output_type": "stream",
     "text": [
      "\r",
      " 22%|████████▍                             | 2361/10638 [02:21<51:26,  2.68it/s]"
     ]
    },
    {
     "name": "stdout",
     "output_type": "stream",
     "text": [
      "Another Candidate\n",
      "Another Candidate\n",
      "3\n"
     ]
    },
    {
     "name": "stderr",
     "output_type": "stream",
     "text": [
      "\r",
      " 22%|████████▍                             | 2362/10638 [02:21<49:23,  2.79it/s]"
     ]
    },
    {
     "name": "stdout",
     "output_type": "stream",
     "text": [
      "Another Candidate\n",
      "Another Candidate\n",
      "3\n",
      "Another Candidate\n",
      "Another Candidate\n"
     ]
    },
    {
     "name": "stderr",
     "output_type": "stream",
     "text": [
      "\r",
      " 22%|████████▍                             | 2363/10638 [02:22<57:16,  2.41it/s]"
     ]
    },
    {
     "name": "stdout",
     "output_type": "stream",
     "text": [
      "3\n",
      "Another Candidate\n"
     ]
    },
    {
     "name": "stderr",
     "output_type": "stream",
     "text": [
      "\r",
      " 22%|████████▍                             | 2364/10638 [02:22<57:27,  2.40it/s]"
     ]
    },
    {
     "name": "stdout",
     "output_type": "stream",
     "text": [
      "Another Candidate\n",
      "3\n",
      "Another Candidate\n",
      "Another Candidate\n"
     ]
    },
    {
     "name": "stderr",
     "output_type": "stream",
     "text": [
      "\r",
      " 22%|████████                            | 2365/10638 [02:23<1:01:03,  2.26it/s]"
     ]
    },
    {
     "name": "stdout",
     "output_type": "stream",
     "text": [
      "3\n",
      "Another Candidate\n",
      "Another Candidate\n"
     ]
    },
    {
     "name": "stderr",
     "output_type": "stream",
     "text": [
      "\r",
      " 22%|████████                            | 2366/10638 [02:23<1:02:48,  2.20it/s]"
     ]
    },
    {
     "name": "stdout",
     "output_type": "stream",
     "text": [
      "3\n",
      "Another Candidate\n",
      "Another Candidate\n"
     ]
    },
    {
     "name": "stderr",
     "output_type": "stream",
     "text": [
      "\r",
      " 22%|████████                            | 2367/10638 [02:24<1:07:03,  2.06it/s]"
     ]
    },
    {
     "name": "stdout",
     "output_type": "stream",
     "text": [
      "3\n",
      "Another Candidate\n",
      "Another Candidate\n"
     ]
    },
    {
     "name": "stderr",
     "output_type": "stream",
     "text": [
      "\r",
      " 22%|████████                            | 2368/10638 [02:24<1:08:18,  2.02it/s]"
     ]
    },
    {
     "name": "stdout",
     "output_type": "stream",
     "text": [
      "3\n",
      "Another Candidate\n"
     ]
    },
    {
     "name": "stderr",
     "output_type": "stream",
     "text": [
      "\r",
      " 22%|████████                            | 2369/10638 [02:25<1:04:11,  2.15it/s]"
     ]
    },
    {
     "name": "stdout",
     "output_type": "stream",
     "text": [
      "Another Candidate\n",
      "3\n",
      "Another Candidate\n",
      "Another Candidate\n"
     ]
    },
    {
     "name": "stderr",
     "output_type": "stream",
     "text": [
      "\r",
      " 22%|████████                            | 2370/10638 [02:25<1:03:01,  2.19it/s]"
     ]
    },
    {
     "name": "stdout",
     "output_type": "stream",
     "text": [
      "2\n"
     ]
    },
    {
     "name": "stderr",
     "output_type": "stream",
     "text": [
      "\r",
      " 22%|████████▍                             | 2371/10638 [02:26<57:43,  2.39it/s]"
     ]
    },
    {
     "name": "stdout",
     "output_type": "stream",
     "text": [
      "Another Candidate\n",
      "2\n"
     ]
    },
    {
     "name": "stderr",
     "output_type": "stream",
     "text": [
      "\r",
      " 22%|████████▍                             | 2372/10638 [02:26<53:51,  2.56it/s]"
     ]
    },
    {
     "name": "stdout",
     "output_type": "stream",
     "text": [
      "Another Candidate\n",
      "3\n",
      "Another Candidate\n",
      "Another Candidate\n"
     ]
    },
    {
     "name": "stderr",
     "output_type": "stream",
     "text": [
      "\r",
      " 22%|████████▍                             | 2373/10638 [02:26<54:36,  2.52it/s]"
     ]
    },
    {
     "name": "stdout",
     "output_type": "stream",
     "text": [
      "3\n"
     ]
    },
    {
     "name": "stderr",
     "output_type": "stream",
     "text": [
      "\r",
      " 22%|████████▍                             | 2374/10638 [02:27<54:26,  2.53it/s]"
     ]
    },
    {
     "name": "stdout",
     "output_type": "stream",
     "text": [
      "Another Candidate\n",
      "Another Candidate\n",
      "2\n"
     ]
    },
    {
     "name": "stderr",
     "output_type": "stream",
     "text": [
      " 22%|████████▍                             | 2376/10638 [02:27<39:13,  3.51it/s]"
     ]
    },
    {
     "name": "stdout",
     "output_type": "stream",
     "text": [
      "2\n",
      "2\n"
     ]
    },
    {
     "name": "stderr",
     "output_type": "stream",
     "text": [
      " 22%|████████▍                             | 2378/10638 [02:27<34:31,  3.99it/s]"
     ]
    },
    {
     "name": "stdout",
     "output_type": "stream",
     "text": [
      "2\n",
      "2\n"
     ]
    },
    {
     "name": "stderr",
     "output_type": "stream",
     "text": [
      " 22%|████████▌                             | 2380/10638 [02:28<31:44,  4.34it/s]"
     ]
    },
    {
     "name": "stdout",
     "output_type": "stream",
     "text": [
      "2\n",
      "2\n"
     ]
    },
    {
     "name": "stderr",
     "output_type": "stream",
     "text": [
      " 22%|████████▌                             | 2382/10638 [02:28<26:15,  5.24it/s]"
     ]
    },
    {
     "name": "stdout",
     "output_type": "stream",
     "text": [
      "2\n",
      "2\n"
     ]
    },
    {
     "name": "stderr",
     "output_type": "stream",
     "text": [
      " 22%|████████▌                             | 2384/10638 [02:28<23:20,  5.89it/s]"
     ]
    },
    {
     "name": "stdout",
     "output_type": "stream",
     "text": [
      "2\n",
      "Unique\n",
      "2\n"
     ]
    },
    {
     "name": "stderr",
     "output_type": "stream",
     "text": [
      "\r",
      " 22%|████████▌                             | 2386/10638 [02:29<15:52,  8.66it/s]"
     ]
    },
    {
     "name": "stdout",
     "output_type": "stream",
     "text": [
      "2\n"
     ]
    },
    {
     "name": "stderr",
     "output_type": "stream",
     "text": [
      "\r",
      " 22%|████████▌                             | 2388/10638 [02:29<20:15,  6.79it/s]"
     ]
    },
    {
     "name": "stdout",
     "output_type": "stream",
     "text": [
      "2\n",
      "2\n"
     ]
    },
    {
     "name": "stderr",
     "output_type": "stream",
     "text": [
      " 22%|████████▌                             | 2390/10638 [02:29<19:16,  7.13it/s]"
     ]
    },
    {
     "name": "stdout",
     "output_type": "stream",
     "text": [
      "2\n",
      "Unique\n",
      "Unique\n",
      "Unique\n",
      "Unique\n",
      "2\n",
      "2\n"
     ]
    },
    {
     "name": "stderr",
     "output_type": "stream",
     "text": [
      " 23%|████████▌                             | 2398/10638 [02:29<08:22, 16.41it/s]"
     ]
    },
    {
     "name": "stdout",
     "output_type": "stream",
     "text": [
      "2\n",
      "2\n",
      "2\n",
      "2\n"
     ]
    },
    {
     "name": "stderr",
     "output_type": "stream",
     "text": [
      " 23%|████████▌                             | 2402/10638 [02:30<08:27, 16.22it/s]"
     ]
    },
    {
     "name": "stdout",
     "output_type": "stream",
     "text": [
      "2\n",
      "2\n",
      "2\n",
      "2\n"
     ]
    },
    {
     "name": "stderr",
     "output_type": "stream",
     "text": [
      " 23%|████████▌                             | 2406/10638 [02:30<08:56, 15.35it/s]"
     ]
    },
    {
     "name": "stdout",
     "output_type": "stream",
     "text": [
      "2\n",
      "2\n",
      "2\n"
     ]
    },
    {
     "name": "stderr",
     "output_type": "stream",
     "text": [
      " 23%|████████▌                             | 2410/10638 [02:30<08:15, 16.60it/s]"
     ]
    },
    {
     "name": "stdout",
     "output_type": "stream",
     "text": [
      "2\n",
      "2\n",
      "2\n",
      "2\n"
     ]
    },
    {
     "name": "stderr",
     "output_type": "stream",
     "text": [
      " 23%|████████▌                             | 2414/10638 [02:30<08:09, 16.80it/s]"
     ]
    },
    {
     "name": "stdout",
     "output_type": "stream",
     "text": [
      "2\n",
      "2\n",
      "3\n",
      "3\n"
     ]
    },
    {
     "name": "stderr",
     "output_type": "stream",
     "text": [
      "\r",
      " 23%|████████▋                             | 2416/10638 [02:31<08:18, 16.48it/s]"
     ]
    },
    {
     "name": "stdout",
     "output_type": "stream",
     "text": [
      "3\n",
      "3\n",
      "3\n"
     ]
    },
    {
     "name": "stderr",
     "output_type": "stream",
     "text": [
      " 23%|████████▋                             | 2420/10638 [02:31<08:29, 16.12it/s]"
     ]
    },
    {
     "name": "stdout",
     "output_type": "stream",
     "text": [
      "3\n",
      "3\n",
      "3\n",
      "3\n"
     ]
    },
    {
     "name": "stderr",
     "output_type": "stream",
     "text": [
      " 23%|████████▋                             | 2424/10638 [02:31<08:18, 16.46it/s]"
     ]
    },
    {
     "name": "stdout",
     "output_type": "stream",
     "text": [
      "2\n",
      "2\n",
      "2\n",
      "2\n"
     ]
    },
    {
     "name": "stderr",
     "output_type": "stream",
     "text": [
      " 23%|████████▋                             | 2429/10638 [02:31<07:50, 17.45it/s]"
     ]
    },
    {
     "name": "stdout",
     "output_type": "stream",
     "text": [
      "2\n",
      "2\n",
      "2\n",
      "2\n"
     ]
    },
    {
     "name": "stderr",
     "output_type": "stream",
     "text": [
      " 23%|████████▋                             | 2433/10638 [02:32<08:10, 16.73it/s]"
     ]
    },
    {
     "name": "stdout",
     "output_type": "stream",
     "text": [
      "2\n",
      "2\n",
      "3\n",
      "3\n"
     ]
    },
    {
     "name": "stderr",
     "output_type": "stream",
     "text": [
      " 23%|████████▋                             | 2437/10638 [02:32<08:08, 16.79it/s]"
     ]
    },
    {
     "name": "stdout",
     "output_type": "stream",
     "text": [
      "3\n",
      "2\n",
      "2\n",
      "2\n"
     ]
    },
    {
     "name": "stderr",
     "output_type": "stream",
     "text": [
      " 23%|████████▋                             | 2441/10638 [02:32<08:24, 16.25it/s]"
     ]
    },
    {
     "name": "stdout",
     "output_type": "stream",
     "text": [
      "2\n",
      "3\n",
      "3\n",
      "3\n"
     ]
    },
    {
     "name": "stderr",
     "output_type": "stream",
     "text": [
      " 23%|████████▋                             | 2445/10638 [02:32<08:01, 17.03it/s]"
     ]
    },
    {
     "name": "stdout",
     "output_type": "stream",
     "text": [
      "3\n",
      "3\n",
      "3\n",
      "3\n"
     ]
    },
    {
     "name": "stderr",
     "output_type": "stream",
     "text": [
      " 23%|████████▋                             | 2449/10638 [02:33<08:24, 16.24it/s]"
     ]
    },
    {
     "name": "stdout",
     "output_type": "stream",
     "text": [
      "3\n",
      "3\n",
      "3\n",
      "2\n"
     ]
    },
    {
     "name": "stderr",
     "output_type": "stream",
     "text": [
      " 23%|████████▊                             | 2453/10638 [02:33<08:36, 15.83it/s]"
     ]
    },
    {
     "name": "stdout",
     "output_type": "stream",
     "text": [
      "2\n",
      "2\n",
      "2\n",
      "2\n"
     ]
    },
    {
     "name": "stderr",
     "output_type": "stream",
     "text": [
      " 23%|████████▊                             | 2457/10638 [02:33<08:21, 16.32it/s]"
     ]
    },
    {
     "name": "stdout",
     "output_type": "stream",
     "text": [
      "2\n",
      "3\n",
      "3\n",
      "3\n"
     ]
    },
    {
     "name": "stderr",
     "output_type": "stream",
     "text": [
      " 23%|████████▊                             | 2461/10638 [02:33<08:29, 16.05it/s]"
     ]
    },
    {
     "name": "stdout",
     "output_type": "stream",
     "text": [
      "3\n",
      "3\n",
      "3\n",
      "3\n"
     ]
    },
    {
     "name": "stderr",
     "output_type": "stream",
     "text": [
      "\r",
      " 23%|████████▊                             | 2463/10638 [02:33<08:34, 15.90it/s]"
     ]
    },
    {
     "name": "stdout",
     "output_type": "stream",
     "text": [
      "3\n",
      "3\n",
      "3\n",
      "Another Candidate\n"
     ]
    },
    {
     "name": "stderr",
     "output_type": "stream",
     "text": [
      "\r",
      " 23%|████████▊                             | 2465/10638 [02:34<11:00, 12.38it/s]"
     ]
    },
    {
     "name": "stdout",
     "output_type": "stream",
     "text": [
      "Another Candidate\n",
      "3\n",
      "Another Candidate\n",
      "Another Candidate\n"
     ]
    },
    {
     "name": "stderr",
     "output_type": "stream",
     "text": [
      "\r",
      " 23%|████████▊                             | 2467/10638 [02:34<14:04,  9.68it/s]"
     ]
    },
    {
     "name": "stdout",
     "output_type": "stream",
     "text": [
      "3\n",
      "Another Candidate\n",
      "Another Candidate\n",
      "3\n",
      "Another Candidate\n",
      "Another Candidate\n",
      "3\n",
      "Another Candidate\n"
     ]
    },
    {
     "name": "stderr",
     "output_type": "stream",
     "text": [
      " 23%|████████▊                             | 2470/10638 [02:35<17:54,  7.60it/s]"
     ]
    },
    {
     "name": "stdout",
     "output_type": "stream",
     "text": [
      "Another Candidate\n",
      "3\n",
      "Another Candidate\n",
      "Another Candidate\n"
     ]
    },
    {
     "name": "stderr",
     "output_type": "stream",
     "text": [
      "\r",
      " 23%|████████▊                             | 2471/10638 [02:35<18:51,  7.22it/s]"
     ]
    },
    {
     "name": "stdout",
     "output_type": "stream",
     "text": [
      "3\n",
      "Another Candidate\n",
      "Another Candidate\n",
      "2\n"
     ]
    },
    {
     "name": "stderr",
     "output_type": "stream",
     "text": [
      " 23%|████████▊                             | 2473/10638 [02:35<17:34,  7.74it/s]"
     ]
    },
    {
     "name": "stdout",
     "output_type": "stream",
     "text": [
      "Another Candidate\n",
      "2\n",
      "Another Candidate\n",
      "2\n"
     ]
    },
    {
     "name": "stderr",
     "output_type": "stream",
     "text": [
      " 23%|████████▊                             | 2475/10638 [02:35<17:09,  7.93it/s]"
     ]
    },
    {
     "name": "stdout",
     "output_type": "stream",
     "text": [
      "Another Candidate\n",
      "2\n",
      "Another Candidate\n",
      "3\n"
     ]
    },
    {
     "name": "stderr",
     "output_type": "stream",
     "text": [
      "\r",
      " 23%|████████▊                             | 2476/10638 [02:35<21:10,  6.43it/s]"
     ]
    },
    {
     "name": "stdout",
     "output_type": "stream",
     "text": [
      "Another Candidate\n",
      "Another Candidate\n",
      "3\n"
     ]
    },
    {
     "name": "stderr",
     "output_type": "stream",
     "text": [
      "\r",
      " 23%|████████▊                             | 2477/10638 [02:36<24:20,  5.59it/s]"
     ]
    },
    {
     "name": "stdout",
     "output_type": "stream",
     "text": [
      "Another Candidate\n",
      "Another Candidate\n",
      "2\n"
     ]
    },
    {
     "name": "stderr",
     "output_type": "stream",
     "text": [
      "\r",
      " 23%|████████▊                             | 2478/10638 [02:36<24:39,  5.51it/s]"
     ]
    },
    {
     "name": "stdout",
     "output_type": "stream",
     "text": [
      "Another Candidate\n",
      "2\n",
      "Another Candidate\n"
     ]
    },
    {
     "name": "stderr",
     "output_type": "stream",
     "text": [
      " 23%|████████▊                             | 2480/10638 [02:36<25:02,  5.43it/s]"
     ]
    },
    {
     "name": "stdout",
     "output_type": "stream",
     "text": [
      "2\n",
      "Another Candidate\n",
      "3\n"
     ]
    },
    {
     "name": "stderr",
     "output_type": "stream",
     "text": [
      "\r",
      " 23%|████████▊                             | 2481/10638 [02:36<24:53,  5.46it/s]"
     ]
    },
    {
     "name": "stdout",
     "output_type": "stream",
     "text": [
      "Another Candidate\n",
      "Another Candidate\n",
      "3\n",
      "Another Candidate\n"
     ]
    },
    {
     "name": "stderr",
     "output_type": "stream",
     "text": [
      "\r",
      " 23%|████████▊                             | 2482/10638 [02:37<24:13,  5.61it/s]"
     ]
    },
    {
     "name": "stdout",
     "output_type": "stream",
     "text": [
      "Another Candidate\n",
      "3\n",
      "Another Candidate\n",
      "Another Candidate\n"
     ]
    },
    {
     "name": "stderr",
     "output_type": "stream",
     "text": [
      "\r",
      " 23%|████████▊                             | 2483/10638 [02:37<23:41,  5.74it/s]"
     ]
    },
    {
     "name": "stdout",
     "output_type": "stream",
     "text": [
      "3\n",
      "Another Candidate\n",
      "Another Candidate\n"
     ]
    },
    {
     "name": "stderr",
     "output_type": "stream",
     "text": [
      "\r",
      " 23%|████████▊                             | 2484/10638 [02:37<25:24,  5.35it/s]"
     ]
    },
    {
     "name": "stdout",
     "output_type": "stream",
     "text": [
      "3\n",
      "Another Candidate\n",
      "Another Candidate\n"
     ]
    },
    {
     "name": "stderr",
     "output_type": "stream",
     "text": [
      "\r",
      " 23%|████████▉                             | 2485/10638 [02:37<26:38,  5.10it/s]"
     ]
    },
    {
     "name": "stdout",
     "output_type": "stream",
     "text": [
      "3\n",
      "Another Candidate\n",
      "Another Candidate\n"
     ]
    },
    {
     "name": "stderr",
     "output_type": "stream",
     "text": [
      " 23%|████████▉                             | 2487/10638 [02:38<26:34,  5.11it/s]"
     ]
    },
    {
     "name": "stdout",
     "output_type": "stream",
     "text": [
      "3\n",
      "Another Candidate\n",
      "Another Candidate\n",
      "3\n"
     ]
    },
    {
     "name": "stderr",
     "output_type": "stream",
     "text": [
      "\r",
      " 23%|████████▉                             | 2488/10638 [02:38<24:53,  5.46it/s]"
     ]
    },
    {
     "name": "stdout",
     "output_type": "stream",
     "text": [
      "Another Candidate\n",
      "Another Candidate\n",
      "3\n",
      "Another Candidate\n",
      "Another Candidate\n"
     ]
    },
    {
     "name": "stderr",
     "output_type": "stream",
     "text": [
      "\r",
      " 23%|████████▉                             | 2489/10638 [02:38<23:31,  5.77it/s]"
     ]
    },
    {
     "name": "stdout",
     "output_type": "stream",
     "text": [
      "3\n",
      "Another Candidate\n",
      "Another Candidate\n"
     ]
    },
    {
     "name": "stderr",
     "output_type": "stream",
     "text": [
      "\r",
      " 23%|████████▉                             | 2490/10638 [02:38<25:07,  5.40it/s]"
     ]
    },
    {
     "name": "stdout",
     "output_type": "stream",
     "text": [
      "3\n",
      "Another Candidate\n",
      "Another Candidate\n"
     ]
    },
    {
     "name": "stderr",
     "output_type": "stream",
     "text": [
      " 23%|████████▉                             | 2492/10638 [02:38<25:05,  5.41it/s]"
     ]
    },
    {
     "name": "stdout",
     "output_type": "stream",
     "text": [
      "3\n",
      "Another Candidate\n",
      "Another Candidate\n",
      "2\n"
     ]
    },
    {
     "name": "stderr",
     "output_type": "stream",
     "text": [
      " 23%|████████▉                             | 2494/10638 [02:39<19:42,  6.89it/s]"
     ]
    },
    {
     "name": "stdout",
     "output_type": "stream",
     "text": [
      "Another Candidate\n",
      "2\n",
      "Another Candidate\n",
      "2\n"
     ]
    },
    {
     "name": "stderr",
     "output_type": "stream",
     "text": [
      " 23%|████████▉                             | 2496/10638 [02:39<19:07,  7.10it/s]"
     ]
    },
    {
     "name": "stdout",
     "output_type": "stream",
     "text": [
      "Another Candidate\n",
      "2\n",
      "Another Candidate\n",
      "2\n"
     ]
    },
    {
     "name": "stderr",
     "output_type": "stream",
     "text": [
      " 23%|████████▉                             | 2498/10638 [02:39<17:46,  7.63it/s]"
     ]
    },
    {
     "name": "stdout",
     "output_type": "stream",
     "text": [
      "Another Candidate\n",
      "2\n",
      "Another Candidate\n",
      "2\n"
     ]
    },
    {
     "name": "stderr",
     "output_type": "stream",
     "text": [
      "\r",
      " 23%|████████▉                             | 2499/10638 [02:39<17:52,  7.59it/s]"
     ]
    },
    {
     "name": "stdout",
     "output_type": "stream",
     "text": [
      "Another Candidate\n",
      "2\n",
      "Another Candidate\n"
     ]
    },
    {
     "name": "stderr",
     "output_type": "stream",
     "text": [
      " 24%|████████▉                             | 2501/10638 [02:40<18:26,  7.35it/s]"
     ]
    },
    {
     "name": "stdout",
     "output_type": "stream",
     "text": [
      "2\n",
      "Another Candidate\n",
      "3\n",
      "Another Candidate\n"
     ]
    },
    {
     "name": "stderr",
     "output_type": "stream",
     "text": [
      " 24%|████████▉                             | 2504/10638 [02:40<13:30, 10.04it/s]"
     ]
    },
    {
     "name": "stdout",
     "output_type": "stream",
     "text": [
      "2\n",
      "2\n",
      "2\n",
      "2\n"
     ]
    },
    {
     "name": "stderr",
     "output_type": "stream",
     "text": [
      " 24%|████████▉                             | 2508/10638 [02:40<10:49, 12.52it/s]"
     ]
    },
    {
     "name": "stdout",
     "output_type": "stream",
     "text": [
      "2\n",
      "2\n",
      "3\n"
     ]
    },
    {
     "name": "stderr",
     "output_type": "stream",
     "text": [
      "\r",
      " 24%|████████▉                             | 2510/10638 [02:40<11:24, 11.88it/s]"
     ]
    },
    {
     "name": "stdout",
     "output_type": "stream",
     "text": [
      "3\n",
      "3\n",
      "3\n"
     ]
    },
    {
     "name": "stderr",
     "output_type": "stream",
     "text": [
      "\r",
      " 24%|████████▉                             | 2512/10638 [02:40<11:08, 12.16it/s]"
     ]
    },
    {
     "name": "stdout",
     "output_type": "stream",
     "text": [
      "3\n",
      "3\n"
     ]
    },
    {
     "name": "stderr",
     "output_type": "stream",
     "text": [
      "\r",
      " 24%|████████▉                             | 2514/10638 [02:41<13:15, 10.22it/s]"
     ]
    },
    {
     "name": "stdout",
     "output_type": "stream",
     "text": [
      "3\n",
      "3\n"
     ]
    },
    {
     "name": "stderr",
     "output_type": "stream",
     "text": [
      "\r",
      " 24%|████████▉                             | 2516/10638 [02:41<16:07,  8.40it/s]"
     ]
    },
    {
     "name": "stdout",
     "output_type": "stream",
     "text": [
      "3\n"
     ]
    },
    {
     "name": "stderr",
     "output_type": "stream",
     "text": [
      " 24%|████████▉                             | 2518/10638 [02:42<20:26,  6.62it/s]"
     ]
    },
    {
     "name": "stdout",
     "output_type": "stream",
     "text": [
      "3\n",
      "3\n"
     ]
    },
    {
     "name": "stderr",
     "output_type": "stream",
     "text": [
      "\r",
      " 24%|████████▉                             | 2519/10638 [02:42<19:15,  7.03it/s]"
     ]
    },
    {
     "name": "stdout",
     "output_type": "stream",
     "text": [
      "3\n",
      "3\n"
     ]
    },
    {
     "name": "stderr",
     "output_type": "stream",
     "text": [
      " 24%|█████████                             | 2522/10638 [02:42<16:46,  8.06it/s]"
     ]
    },
    {
     "name": "stdout",
     "output_type": "stream",
     "text": [
      "3\n",
      "3\n",
      "2\n"
     ]
    },
    {
     "name": "stderr",
     "output_type": "stream",
     "text": [
      "\r",
      " 24%|█████████                             | 2524/10638 [02:42<15:26,  8.76it/s]"
     ]
    },
    {
     "name": "stdout",
     "output_type": "stream",
     "text": [
      "Another Candidate\n",
      "Unique\n",
      "3\n"
     ]
    },
    {
     "name": "stderr",
     "output_type": "stream",
     "text": [
      " 24%|█████████                             | 2528/10638 [02:42<12:47, 10.57it/s]"
     ]
    },
    {
     "name": "stdout",
     "output_type": "stream",
     "text": [
      "3\n",
      "2\n",
      "2\n"
     ]
    },
    {
     "name": "stderr",
     "output_type": "stream",
     "text": [
      "\r",
      " 24%|█████████                             | 2530/10638 [02:43<12:02, 11.23it/s]"
     ]
    },
    {
     "name": "stdout",
     "output_type": "stream",
     "text": [
      "2\n",
      "2\n",
      "2\n"
     ]
    },
    {
     "name": "stderr",
     "output_type": "stream",
     "text": [
      " 24%|█████████                             | 2534/10638 [02:43<11:07, 12.15it/s]"
     ]
    },
    {
     "name": "stdout",
     "output_type": "stream",
     "text": [
      "2\n",
      "3\n",
      "3\n"
     ]
    },
    {
     "name": "stderr",
     "output_type": "stream",
     "text": [
      " 24%|█████████                             | 2538/10638 [02:43<10:13, 13.20it/s]"
     ]
    },
    {
     "name": "stdout",
     "output_type": "stream",
     "text": [
      "3\n",
      "3\n",
      "3\n",
      "3\n"
     ]
    },
    {
     "name": "stderr",
     "output_type": "stream",
     "text": [
      " 24%|█████████                             | 2542/10638 [02:43<09:09, 14.75it/s]"
     ]
    },
    {
     "name": "stdout",
     "output_type": "stream",
     "text": [
      "3\n",
      "3\n",
      "3\n",
      "3\n"
     ]
    },
    {
     "name": "stderr",
     "output_type": "stream",
     "text": [
      "\r",
      " 24%|█████████                             | 2544/10638 [02:44<09:14, 14.59it/s]"
     ]
    },
    {
     "name": "stdout",
     "output_type": "stream",
     "text": [
      "3\n",
      "3\n",
      "3\n"
     ]
    },
    {
     "name": "stderr",
     "output_type": "stream",
     "text": [
      " 24%|█████████                             | 2548/10638 [02:44<10:58, 12.28it/s]"
     ]
    },
    {
     "name": "stdout",
     "output_type": "stream",
     "text": [
      "3\n",
      "3\n",
      "3\n"
     ]
    },
    {
     "name": "stderr",
     "output_type": "stream",
     "text": [
      "\r",
      " 24%|█████████                             | 2550/10638 [02:44<10:52, 12.40it/s]"
     ]
    },
    {
     "name": "stdout",
     "output_type": "stream",
     "text": [
      "3\n",
      "3\n",
      "3\n"
     ]
    },
    {
     "name": "stderr",
     "output_type": "stream",
     "text": [
      " 24%|█████████                             | 2554/10638 [02:44<11:13, 12.01it/s]"
     ]
    },
    {
     "name": "stdout",
     "output_type": "stream",
     "text": [
      "3\n",
      "3\n",
      "3\n"
     ]
    },
    {
     "name": "stderr",
     "output_type": "stream",
     "text": [
      " 24%|█████████▏                            | 2558/10638 [02:45<09:44, 13.82it/s]"
     ]
    },
    {
     "name": "stdout",
     "output_type": "stream",
     "text": [
      "2\n",
      "2\n",
      "2\n",
      "2\n"
     ]
    },
    {
     "name": "stderr",
     "output_type": "stream",
     "text": [
      "\r",
      " 24%|█████████▏                            | 2560/10638 [02:45<11:10, 12.05it/s]"
     ]
    },
    {
     "name": "stdout",
     "output_type": "stream",
     "text": [
      "3\n",
      "3\n",
      "3\n"
     ]
    },
    {
     "name": "stderr",
     "output_type": "stream",
     "text": [
      " 24%|█████████▏                            | 2564/10638 [02:45<09:56, 13.53it/s]"
     ]
    },
    {
     "name": "stdout",
     "output_type": "stream",
     "text": [
      "3\n",
      "3\n",
      "3\n",
      "3\n"
     ]
    },
    {
     "name": "stderr",
     "output_type": "stream",
     "text": [
      " 24%|█████████▏                            | 2568/10638 [02:45<09:18, 14.44it/s]"
     ]
    },
    {
     "name": "stdout",
     "output_type": "stream",
     "text": [
      "3\n",
      "3\n",
      "3\n",
      "3\n"
     ]
    },
    {
     "name": "stderr",
     "output_type": "stream",
     "text": [
      " 24%|█████████▏                            | 2572/10638 [02:46<09:34, 14.05it/s]"
     ]
    },
    {
     "name": "stdout",
     "output_type": "stream",
     "text": [
      "3\n",
      "3\n",
      "3\n"
     ]
    },
    {
     "name": "stderr",
     "output_type": "stream",
     "text": [
      " 24%|█████████▏                            | 2576/10638 [02:46<09:21, 14.36it/s]"
     ]
    },
    {
     "name": "stdout",
     "output_type": "stream",
     "text": [
      "3\n",
      "3\n",
      "2\n",
      "2\n"
     ]
    },
    {
     "name": "stderr",
     "output_type": "stream",
     "text": [
      "\r",
      " 24%|█████████▏                            | 2578/10638 [02:46<10:41, 12.56it/s]"
     ]
    },
    {
     "name": "stdout",
     "output_type": "stream",
     "text": [
      "2\n",
      "Unique\n",
      "Unique\n",
      "Unique\n",
      "Unique\n",
      "Unique\n",
      "3\n"
     ]
    },
    {
     "name": "stderr",
     "output_type": "stream",
     "text": [
      "\r",
      " 24%|█████████▏                            | 2584/10638 [02:46<06:00, 22.32it/s]"
     ]
    },
    {
     "name": "stdout",
     "output_type": "stream",
     "text": [
      "3\n",
      "3\n",
      "3\n"
     ]
    },
    {
     "name": "stderr",
     "output_type": "stream",
     "text": [
      " 24%|█████████▎                            | 2590/10638 [02:47<07:37, 17.58it/s]"
     ]
    },
    {
     "name": "stdout",
     "output_type": "stream",
     "text": [
      "3\n",
      "3\n",
      "3\n",
      "2\n",
      "2\n",
      "2\n"
     ]
    },
    {
     "name": "stderr",
     "output_type": "stream",
     "text": [
      "\r",
      " 24%|█████████▎                            | 2593/10638 [02:47<09:51, 13.60it/s]"
     ]
    },
    {
     "name": "stdout",
     "output_type": "stream",
     "text": [
      "2\n",
      "2\n"
     ]
    },
    {
     "name": "stderr",
     "output_type": "stream",
     "text": [
      "\r",
      " 24%|█████████▎                            | 2595/10638 [02:47<10:55, 12.28it/s]"
     ]
    },
    {
     "name": "stdout",
     "output_type": "stream",
     "text": [
      "2\n",
      "2\n"
     ]
    },
    {
     "name": "stderr",
     "output_type": "stream",
     "text": [
      " 24%|█████████▎                            | 2599/10638 [02:48<11:55, 11.23it/s]"
     ]
    },
    {
     "name": "stdout",
     "output_type": "stream",
     "text": [
      "3\n",
      "3\n",
      "3\n"
     ]
    },
    {
     "name": "stderr",
     "output_type": "stream",
     "text": [
      "\r",
      " 24%|█████████▎                            | 2601/10638 [02:48<12:10, 11.00it/s]"
     ]
    },
    {
     "name": "stdout",
     "output_type": "stream",
     "text": [
      "3\n",
      "3\n",
      "3\n"
     ]
    },
    {
     "name": "stderr",
     "output_type": "stream",
     "text": [
      " 24%|█████████▎                            | 2605/10638 [02:48<10:57, 12.21it/s]"
     ]
    },
    {
     "name": "stdout",
     "output_type": "stream",
     "text": [
      "3\n",
      "3\n",
      "3\n",
      "3\n"
     ]
    },
    {
     "name": "stderr",
     "output_type": "stream",
     "text": [
      " 25%|█████████▎                            | 2609/10638 [02:48<09:45, 13.72it/s]"
     ]
    },
    {
     "name": "stdout",
     "output_type": "stream",
     "text": [
      "3\n",
      "3\n",
      "3\n",
      "3\n"
     ]
    },
    {
     "name": "stderr",
     "output_type": "stream",
     "text": [
      " 25%|█████████▎                            | 2613/10638 [02:49<09:25, 14.18it/s]"
     ]
    },
    {
     "name": "stdout",
     "output_type": "stream",
     "text": [
      "3\n",
      "3\n",
      "3\n"
     ]
    },
    {
     "name": "stderr",
     "output_type": "stream",
     "text": [
      "\r",
      " 25%|█████████▎                            | 2615/10638 [02:49<09:32, 14.01it/s]"
     ]
    },
    {
     "name": "stdout",
     "output_type": "stream",
     "text": [
      "3\n",
      "3\n",
      "3\n"
     ]
    },
    {
     "name": "stderr",
     "output_type": "stream",
     "text": [
      " 25%|█████████▎                            | 2619/10638 [02:49<09:12, 14.52it/s]"
     ]
    },
    {
     "name": "stdout",
     "output_type": "stream",
     "text": [
      "3\n",
      "3\n",
      "3\n",
      "3\n"
     ]
    },
    {
     "name": "stderr",
     "output_type": "stream",
     "text": [
      "\r",
      " 25%|█████████▎                            | 2621/10638 [02:49<08:40, 15.40it/s]"
     ]
    },
    {
     "name": "stdout",
     "output_type": "stream",
     "text": [
      "3\n",
      "Unique\n",
      "3\n"
     ]
    },
    {
     "name": "stderr",
     "output_type": "stream",
     "text": [
      " 25%|█████████▍                            | 2626/10638 [02:50<09:07, 14.63it/s]"
     ]
    },
    {
     "name": "stdout",
     "output_type": "stream",
     "text": [
      "3\n",
      "2\n",
      "3\n",
      "2\n"
     ]
    },
    {
     "name": "stderr",
     "output_type": "stream",
     "text": [
      " 25%|█████████▍                            | 2630/10638 [02:50<08:29, 15.70it/s]"
     ]
    },
    {
     "name": "stdout",
     "output_type": "stream",
     "text": [
      "2\n",
      "2\n",
      "2\n",
      "2\n"
     ]
    },
    {
     "name": "stderr",
     "output_type": "stream",
     "text": [
      " 25%|█████████▍                            | 2636/10638 [02:50<06:22, 20.90it/s]"
     ]
    },
    {
     "name": "stdout",
     "output_type": "stream",
     "text": [
      "Unique\n",
      "Unique\n",
      "2\n",
      "2\n",
      "2\n",
      "Another Candidate\n"
     ]
    },
    {
     "name": "stderr",
     "output_type": "stream",
     "text": [
      "\r",
      " 25%|█████████▍                            | 2639/10638 [02:50<07:55, 16.83it/s]"
     ]
    },
    {
     "name": "stdout",
     "output_type": "stream",
     "text": [
      "3\n",
      "3\n",
      "2\n",
      "2\n"
     ]
    },
    {
     "name": "stderr",
     "output_type": "stream",
     "text": [
      " 25%|█████████▍                            | 2643/10638 [02:51<07:54, 16.84it/s]"
     ]
    },
    {
     "name": "stdout",
     "output_type": "stream",
     "text": [
      "2\n",
      "2\n",
      "2\n",
      "3\n"
     ]
    },
    {
     "name": "stderr",
     "output_type": "stream",
     "text": [
      " 25%|█████████▍                            | 2647/10638 [02:51<07:49, 17.01it/s]"
     ]
    },
    {
     "name": "stdout",
     "output_type": "stream",
     "text": [
      "3\n",
      "3\n",
      "2\n",
      "2\n"
     ]
    },
    {
     "name": "stderr",
     "output_type": "stream",
     "text": [
      " 25%|█████████▍                            | 2651/10638 [02:51<08:14, 16.15it/s]"
     ]
    },
    {
     "name": "stdout",
     "output_type": "stream",
     "text": [
      "2\n",
      "2\n",
      "2\n",
      "2\n"
     ]
    },
    {
     "name": "stderr",
     "output_type": "stream",
     "text": [
      " 25%|█████████▍                            | 2655/10638 [02:51<08:49, 15.08it/s]"
     ]
    },
    {
     "name": "stdout",
     "output_type": "stream",
     "text": [
      "2\n",
      "2\n",
      "2\n"
     ]
    },
    {
     "name": "stderr",
     "output_type": "stream",
     "text": [
      "\r",
      " 25%|█████████▍                            | 2657/10638 [02:51<08:54, 14.93it/s]"
     ]
    },
    {
     "name": "stdout",
     "output_type": "stream",
     "text": [
      "2\n",
      "2\n",
      "Unique\n",
      "Unique\n",
      "Unique\n",
      "Unique\n",
      "Unique\n",
      "2\n"
     ]
    },
    {
     "name": "stderr",
     "output_type": "stream",
     "text": [
      "\r",
      " 25%|█████████▌                            | 2664/10638 [02:52<05:12, 25.49it/s]"
     ]
    },
    {
     "name": "stdout",
     "output_type": "stream",
     "text": [
      "2\n",
      "2\n",
      "2\n"
     ]
    },
    {
     "name": "stderr",
     "output_type": "stream",
     "text": [
      "\r",
      " 25%|█████████▌                            | 2667/10638 [02:52<06:32, 20.31it/s]"
     ]
    },
    {
     "name": "stdout",
     "output_type": "stream",
     "text": [
      "2\n",
      "2\n",
      "2\n"
     ]
    },
    {
     "name": "stderr",
     "output_type": "stream",
     "text": [
      " 25%|█████████▌                            | 2672/10638 [02:52<07:57, 16.69it/s]"
     ]
    },
    {
     "name": "stdout",
     "output_type": "stream",
     "text": [
      "3\n",
      "3\n",
      "3\n"
     ]
    },
    {
     "name": "stderr",
     "output_type": "stream",
     "text": [
      " 25%|█████████▌                            | 2676/10638 [02:52<08:13, 16.13it/s]"
     ]
    },
    {
     "name": "stdout",
     "output_type": "stream",
     "text": [
      "3\n",
      "3\n",
      "3\n",
      "3\n"
     ]
    },
    {
     "name": "stderr",
     "output_type": "stream",
     "text": [
      " 25%|█████████▌                            | 2680/10638 [02:53<08:31, 15.56it/s]"
     ]
    },
    {
     "name": "stdout",
     "output_type": "stream",
     "text": [
      "3\n",
      "3\n",
      "3\n",
      "3\n"
     ]
    },
    {
     "name": "stderr",
     "output_type": "stream",
     "text": [
      "\r",
      " 25%|█████████▌                            | 2682/10638 [02:53<08:30, 15.58it/s]"
     ]
    },
    {
     "name": "stdout",
     "output_type": "stream",
     "text": [
      "3\n",
      "3\n",
      "3\n"
     ]
    },
    {
     "name": "stderr",
     "output_type": "stream",
     "text": [
      " 25%|█████████▌                            | 2686/10638 [02:53<09:39, 13.72it/s]"
     ]
    },
    {
     "name": "stdout",
     "output_type": "stream",
     "text": [
      "3\n",
      "3\n",
      "3\n"
     ]
    },
    {
     "name": "stderr",
     "output_type": "stream",
     "text": [
      "\r",
      " 25%|█████████▌                            | 2688/10638 [02:53<11:03, 11.98it/s]"
     ]
    },
    {
     "name": "stdout",
     "output_type": "stream",
     "text": [
      "3\n",
      "2\n"
     ]
    },
    {
     "name": "stderr",
     "output_type": "stream",
     "text": [
      "\r",
      " 25%|█████████▌                            | 2690/10638 [02:54<11:44, 11.28it/s]"
     ]
    },
    {
     "name": "stdout",
     "output_type": "stream",
     "text": [
      "2\n",
      "2\n",
      "2\n"
     ]
    },
    {
     "name": "stderr",
     "output_type": "stream",
     "text": [
      "\r",
      " 25%|█████████▌                            | 2692/10638 [02:54<10:50, 12.22it/s]"
     ]
    },
    {
     "name": "stdout",
     "output_type": "stream",
     "text": [
      "3\n",
      "3\n"
     ]
    },
    {
     "name": "stderr",
     "output_type": "stream",
     "text": [
      " 25%|█████████▋                            | 2696/10638 [02:54<13:56,  9.49it/s]"
     ]
    },
    {
     "name": "stdout",
     "output_type": "stream",
     "text": [
      "2\n",
      "2\n",
      "2\n",
      "2\n"
     ]
    },
    {
     "name": "stderr",
     "output_type": "stream",
     "text": [
      " 25%|█████████▋                            | 2700/10638 [02:55<11:00, 12.01it/s]"
     ]
    },
    {
     "name": "stdout",
     "output_type": "stream",
     "text": [
      "2\n",
      "2\n",
      "2\n",
      "2\n"
     ]
    },
    {
     "name": "stderr",
     "output_type": "stream",
     "text": [
      " 25%|█████████▋                            | 2704/10638 [02:55<09:53, 13.36it/s]"
     ]
    },
    {
     "name": "stdout",
     "output_type": "stream",
     "text": [
      "2\n",
      "2\n",
      "2\n"
     ]
    },
    {
     "name": "stderr",
     "output_type": "stream",
     "text": [
      " 25%|█████████▋                            | 2708/10638 [02:55<09:12, 14.35it/s]"
     ]
    },
    {
     "name": "stdout",
     "output_type": "stream",
     "text": [
      "2\n",
      "2\n",
      "2\n",
      "2\n"
     ]
    },
    {
     "name": "stderr",
     "output_type": "stream",
     "text": [
      " 25%|█████████▋                            | 2712/10638 [02:55<08:19, 15.85it/s]"
     ]
    },
    {
     "name": "stdout",
     "output_type": "stream",
     "text": [
      "2\n",
      "2\n",
      "2\n",
      "2\n"
     ]
    },
    {
     "name": "stderr",
     "output_type": "stream",
     "text": [
      " 26%|█████████▋                            | 2716/10638 [02:56<08:34, 15.40it/s]"
     ]
    },
    {
     "name": "stdout",
     "output_type": "stream",
     "text": [
      "2\n",
      "2\n",
      "2\n",
      "2\n"
     ]
    },
    {
     "name": "stderr",
     "output_type": "stream",
     "text": [
      "\r",
      " 26%|█████████▋                            | 2718/10638 [02:56<08:22, 15.76it/s]"
     ]
    },
    {
     "name": "stdout",
     "output_type": "stream",
     "text": [
      "2\n",
      "2\n",
      "2\n"
     ]
    },
    {
     "name": "stderr",
     "output_type": "stream",
     "text": [
      " 26%|█████████▋                            | 2722/10638 [02:56<08:56, 14.75it/s]"
     ]
    },
    {
     "name": "stdout",
     "output_type": "stream",
     "text": [
      "2\n",
      "2\n",
      "2\n",
      "2\n"
     ]
    },
    {
     "name": "stderr",
     "output_type": "stream",
     "text": [
      " 26%|█████████▋                            | 2726/10638 [02:56<08:31, 15.48it/s]"
     ]
    },
    {
     "name": "stdout",
     "output_type": "stream",
     "text": [
      "2\n",
      "2\n",
      "2\n"
     ]
    },
    {
     "name": "stderr",
     "output_type": "stream",
     "text": [
      "\r",
      " 26%|█████████▋                            | 2728/10638 [02:56<09:33, 13.79it/s]"
     ]
    },
    {
     "name": "stdout",
     "output_type": "stream",
     "text": [
      "2\n",
      "2\n",
      "2\n"
     ]
    },
    {
     "name": "stderr",
     "output_type": "stream",
     "text": [
      " 26%|█████████▊                            | 2732/10638 [02:57<08:44, 15.06it/s]"
     ]
    },
    {
     "name": "stdout",
     "output_type": "stream",
     "text": [
      "2\n",
      "2\n",
      "2\n",
      "2\n"
     ]
    },
    {
     "name": "stderr",
     "output_type": "stream",
     "text": [
      " 26%|█████████▊                            | 2736/10638 [02:57<08:44, 15.07it/s]"
     ]
    },
    {
     "name": "stdout",
     "output_type": "stream",
     "text": [
      "2\n",
      "2\n",
      "2\n",
      "2\n"
     ]
    },
    {
     "name": "stderr",
     "output_type": "stream",
     "text": [
      " 26%|█████████▊                            | 2740/10638 [02:57<08:12, 16.02it/s]"
     ]
    },
    {
     "name": "stdout",
     "output_type": "stream",
     "text": [
      "2\n",
      "2\n",
      "2\n",
      "2\n"
     ]
    },
    {
     "name": "stderr",
     "output_type": "stream",
     "text": [
      " 26%|█████████▊                            | 2744/10638 [02:57<08:13, 15.98it/s]"
     ]
    },
    {
     "name": "stdout",
     "output_type": "stream",
     "text": [
      "2\n",
      "2\n",
      "Unique\n",
      "Unique\n",
      "2\n",
      "2\n"
     ]
    },
    {
     "name": "stderr",
     "output_type": "stream",
     "text": [
      " 26%|█████████▊                            | 2751/10638 [02:58<07:00, 18.74it/s]"
     ]
    },
    {
     "name": "stdout",
     "output_type": "stream",
     "text": [
      "2\n",
      "2\n",
      "2\n",
      "2\n"
     ]
    },
    {
     "name": "stderr",
     "output_type": "stream",
     "text": [
      " 26%|█████████▊                            | 2755/10638 [02:58<06:54, 19.03it/s]"
     ]
    },
    {
     "name": "stdout",
     "output_type": "stream",
     "text": [
      "2\n",
      "2\n",
      "2\n",
      "2\n"
     ]
    },
    {
     "name": "stderr",
     "output_type": "stream",
     "text": [
      "\r",
      " 26%|█████████▊                            | 2757/10638 [02:58<07:02, 18.67it/s]"
     ]
    },
    {
     "name": "stdout",
     "output_type": "stream",
     "text": [
      "2\n",
      "2\n",
      "2\n",
      "2\n"
     ]
    },
    {
     "name": "stderr",
     "output_type": "stream",
     "text": [
      " 26%|█████████▊                            | 2762/10638 [02:58<06:47, 19.34it/s]"
     ]
    },
    {
     "name": "stdout",
     "output_type": "stream",
     "text": [
      "2\n",
      "2\n",
      "2\n",
      "2\n"
     ]
    },
    {
     "name": "stderr",
     "output_type": "stream",
     "text": [
      " 26%|█████████▉                            | 2766/10638 [02:59<06:48, 19.29it/s]"
     ]
    },
    {
     "name": "stdout",
     "output_type": "stream",
     "text": [
      "2\n",
      "2\n",
      "2\n",
      "2\n"
     ]
    },
    {
     "name": "stderr",
     "output_type": "stream",
     "text": [
      " 26%|█████████▉                            | 2771/10638 [02:59<06:43, 19.49it/s]"
     ]
    },
    {
     "name": "stdout",
     "output_type": "stream",
     "text": [
      "2\n",
      "2\n",
      "2\n",
      "2\n"
     ]
    },
    {
     "name": "stderr",
     "output_type": "stream",
     "text": [
      " 26%|█████████▉                            | 2775/10638 [02:59<06:55, 18.92it/s]"
     ]
    },
    {
     "name": "stdout",
     "output_type": "stream",
     "text": [
      "2\n",
      "2\n",
      "2\n",
      "2\n"
     ]
    },
    {
     "name": "stderr",
     "output_type": "stream",
     "text": [
      " 26%|█████████▉                            | 2779/10638 [02:59<07:47, 16.80it/s]"
     ]
    },
    {
     "name": "stdout",
     "output_type": "stream",
     "text": [
      "2\n",
      "2\n",
      "2\n",
      "2\n"
     ]
    },
    {
     "name": "stderr",
     "output_type": "stream",
     "text": [
      " 26%|█████████▉                            | 2784/10638 [03:00<07:15, 18.02it/s]"
     ]
    },
    {
     "name": "stdout",
     "output_type": "stream",
     "text": [
      "2\n",
      "2\n",
      "2\n",
      "2\n",
      "2\n"
     ]
    },
    {
     "name": "stderr",
     "output_type": "stream",
     "text": [
      "\r",
      " 26%|█████████▉                            | 2787/10638 [03:00<06:56, 18.84it/s]"
     ]
    },
    {
     "name": "stdout",
     "output_type": "stream",
     "text": [
      "2\n",
      "2\n",
      "2\n",
      "2\n"
     ]
    },
    {
     "name": "stderr",
     "output_type": "stream",
     "text": [
      " 26%|██████████                            | 2803/10638 [03:00<02:52, 45.31it/s]"
     ]
    },
    {
     "name": "stdout",
     "output_type": "stream",
     "text": [
      "Unique\n",
      "Unique\n",
      "Unique\n",
      "Unique\n",
      "Unique\n",
      "Unique\n",
      "Unique\n",
      "Unique\n",
      "Unique\n",
      "Unique\n",
      "Unique\n",
      "Unique\n",
      "2\n",
      "2\n",
      "2\n",
      "2\n"
     ]
    },
    {
     "name": "stderr",
     "output_type": "stream",
     "text": [
      "\r",
      " 26%|██████████                            | 2808/10638 [03:00<03:42, 35.13it/s]"
     ]
    },
    {
     "name": "stdout",
     "output_type": "stream",
     "text": [
      "2\n",
      "2\n",
      "Unique\n",
      "Unique\n",
      "Unique\n",
      "Unique\n",
      "Unique\n",
      "Unique\n",
      "Unique\n",
      "Unique\n",
      "Unique\n",
      "Unique\n",
      "Unique\n",
      "Unique\n",
      "2\n",
      "2\n"
     ]
    },
    {
     "name": "stderr",
     "output_type": "stream",
     "text": [
      " 27%|██████████                            | 2827/10638 [03:00<02:31, 51.43it/s]"
     ]
    },
    {
     "name": "stdout",
     "output_type": "stream",
     "text": [
      "2\n",
      "Unique\n",
      "Unique\n",
      "Unique\n",
      "Unique\n",
      "2\n",
      "2\n",
      "2\n",
      "2\n",
      "2\n",
      "2\n",
      "2\n"
     ]
    },
    {
     "name": "stderr",
     "output_type": "stream",
     "text": [
      "\r",
      " 27%|██████████                            | 2833/10638 [03:01<03:38, 35.76it/s]"
     ]
    },
    {
     "name": "stdout",
     "output_type": "stream",
     "text": [
      "2\n",
      "2\n",
      "2\n",
      "2\n"
     ]
    },
    {
     "name": "stderr",
     "output_type": "stream",
     "text": [
      " 27%|██████████▏                           | 2843/10638 [03:01<04:01, 32.23it/s]"
     ]
    },
    {
     "name": "stdout",
     "output_type": "stream",
     "text": [
      "2\n",
      "2\n",
      "Unique\n",
      "Unique\n",
      "Unique\n",
      "2\n",
      "2\n"
     ]
    },
    {
     "name": "stderr",
     "output_type": "stream",
     "text": [
      "\r",
      " 27%|██████████▏                           | 2847/10638 [03:01<04:34, 28.36it/s]"
     ]
    },
    {
     "name": "stdout",
     "output_type": "stream",
     "text": [
      "2\n",
      "2\n",
      "2\n",
      "2\n",
      "2\n",
      "Another Candidate\n",
      "2\n",
      "Another Candidate\n"
     ]
    },
    {
     "name": "stderr",
     "output_type": "stream",
     "text": [
      "\r",
      " 27%|██████████▏                           | 2851/10638 [03:02<10:51, 11.95it/s]"
     ]
    },
    {
     "name": "stdout",
     "output_type": "stream",
     "text": [
      "2\n",
      "Another Candidate\n",
      "2\n",
      "Another Candidate\n",
      "2\n"
     ]
    },
    {
     "name": "stderr",
     "output_type": "stream",
     "text": [
      "\r",
      " 27%|██████████▏                           | 2854/10638 [03:03<11:18, 11.47it/s]"
     ]
    },
    {
     "name": "stdout",
     "output_type": "stream",
     "text": [
      "Another Candidate\n",
      "2\n",
      "Another Candidate\n",
      "2\n",
      "Another Candidate\n",
      "2\n",
      "Another Candidate\n",
      "2\n",
      "Another Candidate\n"
     ]
    },
    {
     "name": "stderr",
     "output_type": "stream",
     "text": [
      " 27%|██████████▏                           | 2859/10638 [03:03<11:34, 11.20it/s]"
     ]
    },
    {
     "name": "stdout",
     "output_type": "stream",
     "text": [
      "2\n",
      "Another Candidate\n",
      "2\n",
      "Another Candidate\n",
      "2\n"
     ]
    },
    {
     "name": "stderr",
     "output_type": "stream",
     "text": [
      "\r",
      " 27%|██████████▏                           | 2861/10638 [03:03<11:12, 11.56it/s]"
     ]
    },
    {
     "name": "stdout",
     "output_type": "stream",
     "text": [
      "Another Candidate\n",
      "2\n",
      "Another Candidate\n",
      "2\n",
      "Another Candidate\n",
      "2\n"
     ]
    },
    {
     "name": "stderr",
     "output_type": "stream",
     "text": [
      " 27%|██████████▏                           | 2865/10638 [03:03<11:07, 11.65it/s]"
     ]
    },
    {
     "name": "stdout",
     "output_type": "stream",
     "text": [
      "Another Candidate\n",
      "2\n",
      "Another Candidate\n",
      "2\n",
      "Another Candidate\n",
      "2\n"
     ]
    },
    {
     "name": "stderr",
     "output_type": "stream",
     "text": [
      "\r",
      " 27%|██████████▏                           | 2867/10638 [03:04<11:07, 11.65it/s]"
     ]
    },
    {
     "name": "stdout",
     "output_type": "stream",
     "text": [
      "Another Candidate\n",
      "2\n",
      "Another Candidate\n",
      "2\n",
      "Another Candidate\n"
     ]
    },
    {
     "name": "stderr",
     "output_type": "stream",
     "text": [
      "\r",
      " 27%|██████████▏                           | 2869/10638 [03:04<11:30, 11.25it/s]"
     ]
    },
    {
     "name": "stdout",
     "output_type": "stream",
     "text": [
      "2\n",
      "Another Candidate\n",
      "2\n",
      "Another Candidate\n",
      "2\n"
     ]
    },
    {
     "name": "stderr",
     "output_type": "stream",
     "text": [
      "\r",
      " 27%|██████████▎                           | 2871/10638 [03:04<11:52, 10.89it/s]"
     ]
    },
    {
     "name": "stdout",
     "output_type": "stream",
     "text": [
      "Another Candidate\n",
      "2\n",
      "Another Candidate\n",
      "2\n",
      "Another Candidate\n"
     ]
    },
    {
     "name": "stderr",
     "output_type": "stream",
     "text": [
      " 27%|██████████▎                           | 2875/10638 [03:04<11:33, 11.19it/s]"
     ]
    },
    {
     "name": "stdout",
     "output_type": "stream",
     "text": [
      "2\n",
      "Another Candidate\n",
      "2\n",
      "Another Candidate\n",
      "2\n"
     ]
    },
    {
     "name": "stderr",
     "output_type": "stream",
     "text": [
      "\r",
      " 27%|██████████▎                           | 2877/10638 [03:05<12:17, 10.52it/s]"
     ]
    },
    {
     "name": "stdout",
     "output_type": "stream",
     "text": [
      "Another Candidate\n",
      "2\n",
      "Another Candidate\n",
      "2\n"
     ]
    },
    {
     "name": "stderr",
     "output_type": "stream",
     "text": [
      "\r",
      " 27%|██████████▎                           | 2879/10638 [03:05<12:30, 10.34it/s]"
     ]
    },
    {
     "name": "stdout",
     "output_type": "stream",
     "text": [
      "Another Candidate\n",
      "2\n",
      "Another Candidate\n",
      "Unique\n",
      "Unique\n",
      "Unique\n",
      "2\n",
      "Another Candidate\n"
     ]
    },
    {
     "name": "stderr",
     "output_type": "stream",
     "text": [
      "\r",
      " 27%|██████████▎                           | 2884/10638 [03:05<08:35, 15.05it/s]"
     ]
    },
    {
     "name": "stdout",
     "output_type": "stream",
     "text": [
      "2\n",
      "Another Candidate\n",
      "2\n",
      "Another Candidate\n"
     ]
    },
    {
     "name": "stderr",
     "output_type": "stream",
     "text": [
      "\r",
      " 27%|██████████▎                           | 2886/10638 [03:05<09:47, 13.20it/s]"
     ]
    },
    {
     "name": "stdout",
     "output_type": "stream",
     "text": [
      "2\n",
      "Another Candidate\n",
      "2\n",
      "Another Candidate\n",
      "2\n"
     ]
    },
    {
     "name": "stderr",
     "output_type": "stream",
     "text": [
      "\r",
      " 27%|██████████▎                           | 2888/10638 [03:05<10:10, 12.70it/s]"
     ]
    },
    {
     "name": "stdout",
     "output_type": "stream",
     "text": [
      "Another Candidate\n",
      "2\n",
      "Another Candidate\n",
      "2\n",
      "Another Candidate\n"
     ]
    },
    {
     "name": "stderr",
     "output_type": "stream",
     "text": [
      " 27%|██████████▎                           | 2892/10638 [03:06<10:41, 12.08it/s]"
     ]
    },
    {
     "name": "stdout",
     "output_type": "stream",
     "text": [
      "2\n",
      "Another Candidate\n",
      "2\n",
      "Another Candidate\n",
      "2\n"
     ]
    },
    {
     "name": "stderr",
     "output_type": "stream",
     "text": [
      "\r",
      " 27%|██████████▎                           | 2894/10638 [03:06<10:45, 12.00it/s]"
     ]
    },
    {
     "name": "stdout",
     "output_type": "stream",
     "text": [
      "Another Candidate\n",
      "2\n",
      "Another Candidate\n",
      "2\n",
      "Another Candidate\n"
     ]
    },
    {
     "name": "stderr",
     "output_type": "stream",
     "text": [
      "\r",
      " 27%|██████████▎                           | 2896/10638 [03:06<11:59, 10.75it/s]"
     ]
    },
    {
     "name": "stdout",
     "output_type": "stream",
     "text": [
      "2\n",
      "Another Candidate\n",
      "2\n"
     ]
    },
    {
     "name": "stderr",
     "output_type": "stream",
     "text": [
      "\r",
      " 27%|██████████▎                           | 2898/10638 [03:06<13:18,  9.70it/s]"
     ]
    },
    {
     "name": "stdout",
     "output_type": "stream",
     "text": [
      "Another Candidate\n",
      "2\n",
      "Another Candidate\n",
      "2\n"
     ]
    },
    {
     "name": "stderr",
     "output_type": "stream",
     "text": [
      "\r",
      " 27%|██████████▎                           | 2900/10638 [03:07<12:47, 10.08it/s]"
     ]
    },
    {
     "name": "stdout",
     "output_type": "stream",
     "text": [
      "Another Candidate\n",
      "2\n",
      "Another Candidate\n",
      "2\n",
      "Another Candidate\n",
      "2\n"
     ]
    },
    {
     "name": "stderr",
     "output_type": "stream",
     "text": [
      "\r",
      " 27%|██████████▎                           | 2902/10638 [03:07<12:08, 10.61it/s]"
     ]
    },
    {
     "name": "stdout",
     "output_type": "stream",
     "text": [
      "Another Candidate\n",
      "2\n",
      "Another Candidate\n",
      "2\n"
     ]
    },
    {
     "name": "stderr",
     "output_type": "stream",
     "text": [
      "\r",
      " 27%|██████████▎                           | 2904/10638 [03:07<13:40,  9.43it/s]"
     ]
    },
    {
     "name": "stdout",
     "output_type": "stream",
     "text": [
      "Another Candidate\n",
      "2\n",
      "Another Candidate\n"
     ]
    },
    {
     "name": "stderr",
     "output_type": "stream",
     "text": [
      " 27%|██████████▍                           | 2907/10638 [03:07<13:57,  9.23it/s]"
     ]
    },
    {
     "name": "stdout",
     "output_type": "stream",
     "text": [
      "2\n",
      "Another Candidate\n",
      "2\n",
      "Another Candidate\n",
      "2\n"
     ]
    },
    {
     "name": "stderr",
     "output_type": "stream",
     "text": [
      "\r",
      " 27%|██████████▍                           | 2909/10638 [03:08<13:59,  9.21it/s]"
     ]
    },
    {
     "name": "stdout",
     "output_type": "stream",
     "text": [
      "Another Candidate\n",
      "2\n",
      "Another Candidate\n",
      "2\n"
     ]
    },
    {
     "name": "stderr",
     "output_type": "stream",
     "text": [
      " 27%|██████████▍                           | 2911/10638 [03:08<14:32,  8.85it/s]"
     ]
    },
    {
     "name": "stdout",
     "output_type": "stream",
     "text": [
      "Another Candidate\n",
      "2\n",
      "Another Candidate\n",
      "2\n"
     ]
    },
    {
     "name": "stderr",
     "output_type": "stream",
     "text": [
      "\r",
      " 27%|██████████▍                           | 2913/10638 [03:08<13:02,  9.87it/s]"
     ]
    },
    {
     "name": "stdout",
     "output_type": "stream",
     "text": [
      "Another Candidate\n",
      "2\n",
      "Another Candidate\n",
      "2\n",
      "Another Candidate\n"
     ]
    },
    {
     "name": "stderr",
     "output_type": "stream",
     "text": [
      "\r",
      " 27%|██████████▍                           | 2915/10638 [03:08<13:28,  9.55it/s]"
     ]
    },
    {
     "name": "stdout",
     "output_type": "stream",
     "text": [
      "2\n",
      "Another Candidate\n",
      "2\n",
      "Another Candidate\n"
     ]
    },
    {
     "name": "stderr",
     "output_type": "stream",
     "text": [
      " 27%|██████████▍                           | 2918/10638 [03:09<12:55,  9.95it/s]"
     ]
    },
    {
     "name": "stdout",
     "output_type": "stream",
     "text": [
      "2\n",
      "Another Candidate\n",
      "2\n",
      "Another Candidate\n",
      "2\n"
     ]
    },
    {
     "name": "stderr",
     "output_type": "stream",
     "text": [
      "\r",
      " 27%|██████████▍                           | 2919/10638 [03:09<13:03,  9.86it/s]"
     ]
    },
    {
     "name": "stdout",
     "output_type": "stream",
     "text": [
      "Another Candidate\n",
      "2\n",
      "Another Candidate\n",
      "2\n",
      "Another Candidate\n"
     ]
    },
    {
     "name": "stderr",
     "output_type": "stream",
     "text": [
      " 27%|██████████▍                           | 2922/10638 [03:09<15:30,  8.29it/s]"
     ]
    },
    {
     "name": "stdout",
     "output_type": "stream",
     "text": [
      "2\n",
      "Another Candidate\n",
      "2\n"
     ]
    },
    {
     "name": "stderr",
     "output_type": "stream",
     "text": [
      "\r",
      " 27%|██████████▍                           | 2923/10638 [03:09<14:56,  8.61it/s]"
     ]
    },
    {
     "name": "stdout",
     "output_type": "stream",
     "text": [
      "Another Candidate\n",
      "2\n",
      "Another Candidate\n",
      "2\n",
      "Another Candidate\n"
     ]
    },
    {
     "name": "stderr",
     "output_type": "stream",
     "text": [
      "\r",
      " 27%|██████████▍                           | 2925/10638 [03:09<13:31,  9.50it/s]"
     ]
    },
    {
     "name": "stdout",
     "output_type": "stream",
     "text": [
      "2\n",
      "Another Candidate\n",
      "2\n",
      "Another Candidate\n"
     ]
    },
    {
     "name": "stderr",
     "output_type": "stream",
     "text": [
      " 28%|██████████▍                           | 2928/10638 [03:10<14:12,  9.05it/s]"
     ]
    },
    {
     "name": "stdout",
     "output_type": "stream",
     "text": [
      "2\n",
      "Another Candidate\n",
      "2\n",
      "Another Candidate\n",
      "2\n"
     ]
    },
    {
     "name": "stderr",
     "output_type": "stream",
     "text": [
      " 28%|██████████▍                           | 2931/10638 [03:10<14:10,  9.07it/s]"
     ]
    },
    {
     "name": "stdout",
     "output_type": "stream",
     "text": [
      "Another Candidate\n",
      "2\n",
      "Another Candidate\n",
      "2\n"
     ]
    },
    {
     "name": "stderr",
     "output_type": "stream",
     "text": [
      "\r",
      " 28%|██████████▍                           | 2932/10638 [03:10<15:13,  8.44it/s]"
     ]
    },
    {
     "name": "stdout",
     "output_type": "stream",
     "text": [
      "Another Candidate\n",
      "2\n",
      "Another Candidate\n"
     ]
    },
    {
     "name": "stderr",
     "output_type": "stream",
     "text": [
      " 28%|██████████▍                           | 2935/10638 [03:10<14:38,  8.77it/s]"
     ]
    },
    {
     "name": "stdout",
     "output_type": "stream",
     "text": [
      "2\n",
      "Another Candidate\n",
      "2\n",
      "Another Candidate\n",
      "2\n"
     ]
    },
    {
     "name": "stderr",
     "output_type": "stream",
     "text": [
      "\r",
      " 28%|██████████▍                           | 2937/10638 [03:11<14:32,  8.83it/s]"
     ]
    },
    {
     "name": "stdout",
     "output_type": "stream",
     "text": [
      "Another Candidate\n",
      "2\n",
      "Another Candidate\n",
      "2\n"
     ]
    },
    {
     "name": "stderr",
     "output_type": "stream",
     "text": [
      " 28%|██████████▍                           | 2939/10638 [03:11<14:11,  9.04it/s]"
     ]
    },
    {
     "name": "stdout",
     "output_type": "stream",
     "text": [
      "Another Candidate\n",
      "2\n",
      "Another Candidate\n",
      "2\n"
     ]
    },
    {
     "name": "stderr",
     "output_type": "stream",
     "text": [
      "\r",
      " 28%|██████████▌                           | 2941/10638 [03:11<13:07,  9.77it/s]"
     ]
    },
    {
     "name": "stdout",
     "output_type": "stream",
     "text": [
      "Another Candidate\n",
      "2\n",
      "Another Candidate\n",
      "2\n",
      "Another Candidate\n"
     ]
    },
    {
     "name": "stderr",
     "output_type": "stream",
     "text": [
      "\r",
      " 28%|██████████▌                           | 2943/10638 [03:11<12:59,  9.88it/s]"
     ]
    },
    {
     "name": "stdout",
     "output_type": "stream",
     "text": [
      "2\n",
      "Another Candidate\n",
      "2\n",
      "Another Candidate\n"
     ]
    },
    {
     "name": "stderr",
     "output_type": "stream",
     "text": [
      "\r",
      " 28%|██████████▌                           | 2945/10638 [03:11<12:48, 10.02it/s]"
     ]
    },
    {
     "name": "stdout",
     "output_type": "stream",
     "text": [
      "2\n",
      "Another Candidate\n",
      "2\n",
      "Another Candidate\n"
     ]
    },
    {
     "name": "stderr",
     "output_type": "stream",
     "text": [
      "\r",
      " 28%|██████████▌                           | 2947/10638 [03:12<12:32, 10.22it/s]"
     ]
    },
    {
     "name": "stdout",
     "output_type": "stream",
     "text": [
      "2\n",
      "Another Candidate\n",
      "2\n",
      "Another Candidate\n",
      "2\n"
     ]
    },
    {
     "name": "stderr",
     "output_type": "stream",
     "text": [
      "\r",
      " 28%|██████████▌                           | 2949/10638 [03:12<12:23, 10.34it/s]"
     ]
    },
    {
     "name": "stdout",
     "output_type": "stream",
     "text": [
      "Another Candidate\n",
      "2\n",
      "Another Candidate\n",
      "2\n"
     ]
    },
    {
     "name": "stderr",
     "output_type": "stream",
     "text": [
      "\r",
      " 28%|██████████▌                           | 2951/10638 [03:12<12:45, 10.04it/s]"
     ]
    },
    {
     "name": "stdout",
     "output_type": "stream",
     "text": [
      "Another Candidate\n",
      "2\n",
      "Another Candidate\n"
     ]
    },
    {
     "name": "stderr",
     "output_type": "stream",
     "text": [
      " 28%|██████████▌                           | 2954/10638 [03:12<13:52,  9.23it/s]"
     ]
    },
    {
     "name": "stdout",
     "output_type": "stream",
     "text": [
      "2\n",
      "Another Candidate\n",
      "2\n",
      "Another Candidate\n",
      "2\n"
     ]
    },
    {
     "name": "stderr",
     "output_type": "stream",
     "text": [
      " 28%|██████████▌                           | 2956/10638 [03:13<13:58,  9.16it/s]"
     ]
    },
    {
     "name": "stdout",
     "output_type": "stream",
     "text": [
      "Another Candidate\n",
      "2\n",
      "Another Candidate\n",
      "2\n"
     ]
    },
    {
     "name": "stderr",
     "output_type": "stream",
     "text": [
      " 28%|██████████▌                           | 2958/10638 [03:13<15:43,  8.14it/s]"
     ]
    },
    {
     "name": "stdout",
     "output_type": "stream",
     "text": [
      "Another Candidate\n",
      "2\n",
      "Another Candidate\n",
      "2\n"
     ]
    },
    {
     "name": "stderr",
     "output_type": "stream",
     "text": [
      "\r",
      " 28%|██████████▌                           | 2959/10638 [03:13<14:58,  8.55it/s]"
     ]
    },
    {
     "name": "stdout",
     "output_type": "stream",
     "text": [
      "Another Candidate\n",
      "2\n",
      "Another Candidate\n"
     ]
    },
    {
     "name": "stderr",
     "output_type": "stream",
     "text": [
      " 28%|██████████▌                           | 2961/10638 [03:13<16:38,  7.69it/s]"
     ]
    },
    {
     "name": "stdout",
     "output_type": "stream",
     "text": [
      "2\n",
      "Another Candidate\n",
      "2\n",
      "Another Candidate\n"
     ]
    },
    {
     "name": "stderr",
     "output_type": "stream",
     "text": [
      " 28%|██████████▌                           | 2963/10638 [03:14<15:25,  8.30it/s]"
     ]
    },
    {
     "name": "stdout",
     "output_type": "stream",
     "text": [
      "2\n",
      "Another Candidate\n",
      "2\n",
      "Another Candidate\n"
     ]
    },
    {
     "name": "stderr",
     "output_type": "stream",
     "text": [
      " 28%|██████████▌                           | 2966/10638 [03:14<13:06,  9.75it/s]"
     ]
    },
    {
     "name": "stdout",
     "output_type": "stream",
     "text": [
      "2\n",
      "Another Candidate\n",
      "2\n",
      "Another Candidate\n",
      "2\n"
     ]
    },
    {
     "name": "stderr",
     "output_type": "stream",
     "text": [
      "\r",
      " 28%|██████████▌                           | 2967/10638 [03:14<13:06,  9.75it/s]"
     ]
    },
    {
     "name": "stdout",
     "output_type": "stream",
     "text": [
      "Another Candidate\n",
      "2\n",
      "Another Candidate\n",
      "3\n",
      "Another Candidate\n"
     ]
    },
    {
     "name": "stderr",
     "output_type": "stream",
     "text": [
      " 28%|██████████▌                           | 2971/10638 [03:14<12:22, 10.33it/s]"
     ]
    },
    {
     "name": "stdout",
     "output_type": "stream",
     "text": [
      "2\n",
      "Another Candidate\n",
      "2\n",
      "Another Candidate\n",
      "2\n"
     ]
    },
    {
     "name": "stderr",
     "output_type": "stream",
     "text": [
      "\r",
      " 28%|██████████▌                           | 2973/10638 [03:14<11:58, 10.66it/s]"
     ]
    },
    {
     "name": "stdout",
     "output_type": "stream",
     "text": [
      "Another Candidate\n",
      "2\n",
      "Another Candidate\n",
      "2\n",
      "Another Candidate\n"
     ]
    },
    {
     "name": "stderr",
     "output_type": "stream",
     "text": [
      "\r",
      " 28%|██████████▋                           | 2975/10638 [03:15<11:32, 11.06it/s]"
     ]
    },
    {
     "name": "stdout",
     "output_type": "stream",
     "text": [
      "2\n",
      "Another Candidate\n",
      "2\n",
      "Another Candidate\n",
      "2\n"
     ]
    },
    {
     "name": "stderr",
     "output_type": "stream",
     "text": [
      "\r",
      " 28%|██████████▋                           | 2977/10638 [03:15<12:07, 10.53it/s]"
     ]
    },
    {
     "name": "stdout",
     "output_type": "stream",
     "text": [
      "Another Candidate\n",
      "2\n",
      "Another Candidate\n",
      "3\n",
      "Another Candidate\n"
     ]
    },
    {
     "name": "stderr",
     "output_type": "stream",
     "text": [
      "\r",
      " 28%|██████████▋                           | 2979/10638 [03:15<11:53, 10.73it/s]"
     ]
    },
    {
     "name": "stdout",
     "output_type": "stream",
     "text": [
      "2\n",
      "Another Candidate\n",
      "2\n",
      "Another Candidate\n"
     ]
    },
    {
     "name": "stderr",
     "output_type": "stream",
     "text": [
      " 28%|██████████▋                           | 2983/10638 [03:15<12:20, 10.34it/s]"
     ]
    },
    {
     "name": "stdout",
     "output_type": "stream",
     "text": [
      "2\n",
      "Another Candidate\n",
      "2\n",
      "Another Candidate\n",
      "2\n"
     ]
    },
    {
     "name": "stderr",
     "output_type": "stream",
     "text": [
      "\r",
      " 28%|██████████▋                           | 2985/10638 [03:16<11:55, 10.70it/s]"
     ]
    },
    {
     "name": "stdout",
     "output_type": "stream",
     "text": [
      "Another Candidate\n",
      "2\n",
      "Another Candidate\n",
      "2\n",
      "Another Candidate\n"
     ]
    },
    {
     "name": "stderr",
     "output_type": "stream",
     "text": [
      "\r",
      " 28%|██████████▋                           | 2987/10638 [03:16<12:37, 10.11it/s]"
     ]
    },
    {
     "name": "stdout",
     "output_type": "stream",
     "text": [
      "2\n",
      "Another Candidate\n",
      "3\n",
      "Another Candidate\n"
     ]
    },
    {
     "name": "stderr",
     "output_type": "stream",
     "text": [
      "\r",
      " 28%|██████████▋                           | 2989/10638 [03:16<12:38, 10.08it/s]"
     ]
    },
    {
     "name": "stdout",
     "output_type": "stream",
     "text": [
      "2\n",
      "Another Candidate\n",
      "2\n",
      "Another Candidate\n",
      "2\n"
     ]
    },
    {
     "name": "stderr",
     "output_type": "stream",
     "text": [
      " 28%|██████████▋                           | 2993/10638 [03:16<11:53, 10.72it/s]"
     ]
    },
    {
     "name": "stdout",
     "output_type": "stream",
     "text": [
      "Another Candidate\n",
      "2\n",
      "Another Candidate\n",
      "2\n",
      "Another Candidate\n",
      "2\n",
      "Another Candidate\n",
      "2\n",
      "Another Candidate\n"
     ]
    },
    {
     "name": "stderr",
     "output_type": "stream",
     "text": [
      " 28%|██████████▋                           | 2997/10638 [03:17<12:24, 10.26it/s]"
     ]
    },
    {
     "name": "stdout",
     "output_type": "stream",
     "text": [
      "2\n",
      "Another Candidate\n",
      "2\n",
      "Another Candidate\n",
      "3\n"
     ]
    },
    {
     "name": "stderr",
     "output_type": "stream",
     "text": [
      "\r",
      " 28%|██████████▋                           | 2999/10638 [03:17<12:07, 10.50it/s]"
     ]
    },
    {
     "name": "stdout",
     "output_type": "stream",
     "text": [
      "Another Candidate\n",
      "2\n",
      "Another Candidate\n",
      "2\n",
      "Another Candidate\n"
     ]
    },
    {
     "name": "stderr",
     "output_type": "stream",
     "text": [
      "\r",
      " 28%|██████████▋                           | 3001/10638 [03:17<12:11, 10.44it/s]"
     ]
    },
    {
     "name": "stdout",
     "output_type": "stream",
     "text": [
      "2\n",
      "Another Candidate\n",
      "2\n",
      "Another Candidate\n"
     ]
    },
    {
     "name": "stderr",
     "output_type": "stream",
     "text": [
      "\r",
      " 28%|██████████▋                           | 3003/10638 [03:17<12:26, 10.22it/s]"
     ]
    },
    {
     "name": "stdout",
     "output_type": "stream",
     "text": [
      "2\n",
      "Another Candidate\n",
      "2\n",
      "Another Candidate\n"
     ]
    },
    {
     "name": "stderr",
     "output_type": "stream",
     "text": [
      "\r",
      " 28%|██████████▋                           | 3005/10638 [03:18<12:05, 10.52it/s]"
     ]
    },
    {
     "name": "stdout",
     "output_type": "stream",
     "text": [
      "2\n",
      "Another Candidate\n",
      "2\n",
      "Another Candidate\n",
      "2\n"
     ]
    },
    {
     "name": "stderr",
     "output_type": "stream",
     "text": [
      " 28%|██████████▋                           | 3009/10638 [03:18<11:18, 11.25it/s]"
     ]
    },
    {
     "name": "stdout",
     "output_type": "stream",
     "text": [
      "2\n",
      "Another Candidate\n",
      "2\n",
      "Another Candidate\n",
      "2\n"
     ]
    },
    {
     "name": "stderr",
     "output_type": "stream",
     "text": [
      "\r",
      " 28%|██████████▊                           | 3011/10638 [03:18<11:33, 11.00it/s]"
     ]
    },
    {
     "name": "stdout",
     "output_type": "stream",
     "text": [
      "Another Candidate\n",
      "2\n",
      "Another Candidate\n",
      "2\n",
      "Another Candidate\n"
     ]
    },
    {
     "name": "stderr",
     "output_type": "stream",
     "text": [
      "\r",
      " 28%|██████████▊                           | 3013/10638 [03:18<11:38, 10.91it/s]"
     ]
    },
    {
     "name": "stdout",
     "output_type": "stream",
     "text": [
      "2\n",
      "Another Candidate\n",
      "2\n",
      "Another Candidate\n",
      "2\n"
     ]
    },
    {
     "name": "stderr",
     "output_type": "stream",
     "text": [
      "\r",
      " 28%|██████████▊                           | 3015/10638 [03:18<11:11, 11.36it/s]"
     ]
    },
    {
     "name": "stdout",
     "output_type": "stream",
     "text": [
      "Another Candidate\n",
      "2\n",
      "Another Candidate\n",
      "3\n",
      "Another Candidate\n"
     ]
    },
    {
     "name": "stderr",
     "output_type": "stream",
     "text": [
      " 28%|██████████▊                           | 3019/10638 [03:19<10:11, 12.47it/s]"
     ]
    },
    {
     "name": "stdout",
     "output_type": "stream",
     "text": [
      "2\n",
      "Another Candidate\n",
      "Unique\n",
      "Unique\n",
      "Unique\n",
      "Unique\n",
      "Unique\n",
      "2\n",
      "Another Candidate\n",
      "2\n"
     ]
    },
    {
     "name": "stderr",
     "output_type": "stream",
     "text": [
      "\r",
      " 28%|██████████▊                           | 3025/10638 [03:19<06:20, 20.00it/s]"
     ]
    },
    {
     "name": "stdout",
     "output_type": "stream",
     "text": [
      "Another Candidate\n",
      "2\n",
      "Another Candidate\n",
      "2\n",
      "Another Candidate\n"
     ]
    },
    {
     "name": "stderr",
     "output_type": "stream",
     "text": [
      " 28%|██████████▊                           | 3031/10638 [03:19<06:48, 18.62it/s]"
     ]
    },
    {
     "name": "stdout",
     "output_type": "stream",
     "text": [
      "2\n",
      "Unique\n",
      "Unique\n",
      "2\n",
      "Another Candidate\n",
      "2\n"
     ]
    },
    {
     "name": "stderr",
     "output_type": "stream",
     "text": [
      "\r",
      " 29%|██████████▊                           | 3033/10638 [03:19<08:04, 15.70it/s]"
     ]
    },
    {
     "name": "stdout",
     "output_type": "stream",
     "text": [
      "Another Candidate\n",
      "2\n",
      "Another Candidate\n",
      "2\n",
      "Another Candidate\n"
     ]
    },
    {
     "name": "stderr",
     "output_type": "stream",
     "text": [
      "\r",
      " 29%|██████████▊                           | 3035/10638 [03:20<08:50, 14.34it/s]"
     ]
    },
    {
     "name": "stdout",
     "output_type": "stream",
     "text": [
      "2\n",
      "Another Candidate\n",
      "2\n",
      "Another Candidate\n",
      "3\n"
     ]
    },
    {
     "name": "stderr",
     "output_type": "stream",
     "text": [
      "\r",
      " 29%|██████████▊                           | 3037/10638 [03:20<09:12, 13.75it/s]"
     ]
    },
    {
     "name": "stdout",
     "output_type": "stream",
     "text": [
      "Another Candidate\n",
      "2\n",
      "Another Candidate\n",
      "2\n",
      "Another Candidate\n"
     ]
    },
    {
     "name": "stderr",
     "output_type": "stream",
     "text": [
      " 29%|██████████▊                           | 3041/10638 [03:20<10:33, 11.99it/s]"
     ]
    },
    {
     "name": "stdout",
     "output_type": "stream",
     "text": [
      "2\n",
      "Another Candidate\n",
      "2\n",
      "Another Candidate\n",
      "2\n"
     ]
    },
    {
     "name": "stderr",
     "output_type": "stream",
     "text": [
      "\r",
      " 29%|██████████▊                           | 3043/10638 [03:20<10:43, 11.81it/s]"
     ]
    },
    {
     "name": "stdout",
     "output_type": "stream",
     "text": [
      "Another Candidate\n",
      "2\n",
      "Another Candidate\n",
      "Unique\n",
      "Unique\n",
      "Unique\n",
      "2\n",
      "Unique\n",
      "Unique\n",
      "Unique\n",
      "Unique\n",
      "2\n"
     ]
    },
    {
     "name": "stderr",
     "output_type": "stream",
     "text": [
      "\r",
      " 29%|██████████▉                           | 3052/10638 [03:21<05:15, 24.03it/s]"
     ]
    },
    {
     "name": "stdout",
     "output_type": "stream",
     "text": [
      "Another Candidate\n",
      "2\n",
      "Another Candidate\n",
      "2\n",
      "Another Candidate\n"
     ]
    },
    {
     "name": "stderr",
     "output_type": "stream",
     "text": [
      " 29%|██████████▉                           | 3061/10638 [03:21<04:55, 25.65it/s]"
     ]
    },
    {
     "name": "stdout",
     "output_type": "stream",
     "text": [
      "Unique\n",
      "Unique\n",
      "Unique\n",
      "Unique\n",
      "Unique\n",
      "2\n",
      "Another Candidate\n",
      "2\n",
      "Another Candidate\n",
      "3\n",
      "Another Candidate\n",
      "2\n",
      "Another Candidate\n",
      "2\n",
      "Another Candidate\n"
     ]
    },
    {
     "name": "stderr",
     "output_type": "stream",
     "text": [
      "\r",
      " 29%|██████████▉                           | 3064/10638 [03:21<06:18, 20.02it/s]"
     ]
    },
    {
     "name": "stdout",
     "output_type": "stream",
     "text": [
      "2\n",
      "Another Candidate\n",
      "2\n",
      "Another Candidate\n",
      "2\n"
     ]
    },
    {
     "name": "stderr",
     "output_type": "stream",
     "text": [
      "\r",
      " 29%|██████████▉                           | 3067/10638 [03:21<07:38, 16.51it/s]"
     ]
    },
    {
     "name": "stdout",
     "output_type": "stream",
     "text": [
      "Another Candidate\n",
      "2\n",
      "Another Candidate\n",
      "2\n",
      "Another Candidate\n"
     ]
    },
    {
     "name": "stderr",
     "output_type": "stream",
     "text": [
      " 29%|██████████▉                           | 3071/10638 [03:22<08:53, 14.17it/s]"
     ]
    },
    {
     "name": "stdout",
     "output_type": "stream",
     "text": [
      "2\n",
      "Another Candidate\n",
      "2\n",
      "Another Candidate\n",
      "3\n"
     ]
    },
    {
     "name": "stderr",
     "output_type": "stream",
     "text": [
      "\r",
      " 29%|██████████▉                           | 3073/10638 [03:22<09:48, 12.86it/s]"
     ]
    },
    {
     "name": "stdout",
     "output_type": "stream",
     "text": [
      "Another Candidate\n",
      "2\n",
      "Another Candidate\n",
      "2\n"
     ]
    },
    {
     "name": "stderr",
     "output_type": "stream",
     "text": [
      "\r",
      " 29%|██████████▉                           | 3075/10638 [03:22<10:44, 11.73it/s]"
     ]
    },
    {
     "name": "stdout",
     "output_type": "stream",
     "text": [
      "Another Candidate\n",
      "2\n",
      "Another Candidate\n",
      "Unique\n",
      "Unique\n",
      "Unique\n",
      "Unique\n",
      "Unique\n",
      "2\n"
     ]
    },
    {
     "name": "stderr",
     "output_type": "stream",
     "text": [
      "\r",
      " 29%|███████████                           | 3091/10638 [03:22<03:42, 33.94it/s]"
     ]
    },
    {
     "name": "stdout",
     "output_type": "stream",
     "text": [
      "Unique\n",
      "Unique\n",
      "Unique\n",
      "Unique\n",
      "Unique\n",
      "Unique\n",
      "Unique\n",
      "Unique\n",
      "Unique\n",
      "3\n",
      "Another Candidate\n",
      "2\n",
      "Another Candidate\n",
      "2\n",
      "Another Candidate\n",
      "2\n",
      "Another Candidate\n",
      "2\n"
     ]
    },
    {
     "name": "stderr",
     "output_type": "stream",
     "text": [
      "\r",
      " 29%|███████████                           | 3095/10638 [03:23<05:48, 21.67it/s]"
     ]
    },
    {
     "name": "stdout",
     "output_type": "stream",
     "text": [
      "Another Candidate\n",
      "2\n",
      "Another Candidate\n",
      "2\n",
      "Another Candidate\n",
      "2\n",
      "Another Candidate\n",
      "3\n"
     ]
    },
    {
     "name": "stderr",
     "output_type": "stream",
     "text": [
      "\r",
      " 29%|███████████                           | 3099/10638 [03:23<08:38, 14.54it/s]"
     ]
    },
    {
     "name": "stdout",
     "output_type": "stream",
     "text": [
      "Another Candidate\n",
      "2\n",
      "Another Candidate\n",
      "2\n"
     ]
    },
    {
     "name": "stderr",
     "output_type": "stream",
     "text": [
      "\r",
      " 29%|███████████                           | 3102/10638 [03:24<10:16, 12.23it/s]"
     ]
    },
    {
     "name": "stdout",
     "output_type": "stream",
     "text": [
      "Another Candidate\n",
      "2\n",
      "Another Candidate\n",
      "2\n",
      "Another Candidate\n",
      "2\n",
      "Another Candidate\n"
     ]
    },
    {
     "name": "stderr",
     "output_type": "stream",
     "text": [
      "\r",
      " 29%|███████████                           | 3104/10638 [03:24<11:36, 10.82it/s]"
     ]
    },
    {
     "name": "stdout",
     "output_type": "stream",
     "text": [
      "2\n",
      "Another Candidate\n",
      "2\n"
     ]
    },
    {
     "name": "stderr",
     "output_type": "stream",
     "text": [
      "\r",
      " 29%|███████████                           | 3106/10638 [03:24<12:47,  9.81it/s]"
     ]
    },
    {
     "name": "stdout",
     "output_type": "stream",
     "text": [
      "Another Candidate\n",
      "2\n",
      "Another Candidate\n"
     ]
    },
    {
     "name": "stderr",
     "output_type": "stream",
     "text": [
      "\r",
      " 29%|███████████                           | 3108/10638 [03:25<14:08,  8.87it/s]"
     ]
    },
    {
     "name": "stdout",
     "output_type": "stream",
     "text": [
      "2\n",
      "Another Candidate\n",
      "3\n"
     ]
    },
    {
     "name": "stderr",
     "output_type": "stream",
     "text": [
      "\r",
      " 29%|███████████                           | 3110/10638 [03:25<14:48,  8.48it/s]"
     ]
    },
    {
     "name": "stdout",
     "output_type": "stream",
     "text": [
      "Another Candidate\n",
      "2\n",
      "Another Candidate\n",
      "2\n"
     ]
    },
    {
     "name": "stderr",
     "output_type": "stream",
     "text": [
      " 29%|███████████                           | 3112/10638 [03:25<15:03,  8.33it/s]"
     ]
    },
    {
     "name": "stdout",
     "output_type": "stream",
     "text": [
      "Another Candidate\n",
      "2\n",
      "Another Candidate\n",
      "2\n"
     ]
    },
    {
     "name": "stderr",
     "output_type": "stream",
     "text": [
      " 29%|███████████                           | 3114/10638 [03:25<15:43,  7.97it/s]"
     ]
    },
    {
     "name": "stdout",
     "output_type": "stream",
     "text": [
      "Another Candidate\n",
      "2\n",
      "Another Candidate\n",
      "2\n"
     ]
    },
    {
     "name": "stderr",
     "output_type": "stream",
     "text": [
      " 29%|███████████▏                          | 3116/10638 [03:26<15:40,  8.00it/s]"
     ]
    },
    {
     "name": "stdout",
     "output_type": "stream",
     "text": [
      "Another Candidate\n",
      "2\n",
      "Another Candidate\n",
      "2\n"
     ]
    },
    {
     "name": "stderr",
     "output_type": "stream",
     "text": [
      " 29%|███████████▏                          | 3118/10638 [03:26<16:01,  7.82it/s]"
     ]
    },
    {
     "name": "stdout",
     "output_type": "stream",
     "text": [
      "Another Candidate\n",
      "3\n",
      "Another Candidate\n",
      "2\n"
     ]
    },
    {
     "name": "stderr",
     "output_type": "stream",
     "text": [
      " 29%|███████████▏                          | 3120/10638 [03:26<15:11,  8.25it/s]"
     ]
    },
    {
     "name": "stdout",
     "output_type": "stream",
     "text": [
      "Another Candidate\n",
      "2\n",
      "Another Candidate\n",
      "2\n"
     ]
    },
    {
     "name": "stderr",
     "output_type": "stream",
     "text": [
      "\r",
      " 29%|███████████▏                          | 3121/10638 [03:26<16:22,  7.65it/s]"
     ]
    },
    {
     "name": "stdout",
     "output_type": "stream",
     "text": [
      "Another Candidate\n",
      "2\n",
      "Another Candidate\n"
     ]
    },
    {
     "name": "stderr",
     "output_type": "stream",
     "text": [
      " 29%|███████████▏                          | 3123/10638 [03:27<16:42,  7.49it/s]"
     ]
    },
    {
     "name": "stdout",
     "output_type": "stream",
     "text": [
      "2\n",
      "Another Candidate\n",
      "2\n",
      "Another Candidate\n"
     ]
    },
    {
     "name": "stderr",
     "output_type": "stream",
     "text": [
      " 29%|███████████▏                          | 3125/10638 [03:27<15:57,  7.84it/s]"
     ]
    },
    {
     "name": "stdout",
     "output_type": "stream",
     "text": [
      "2\n",
      "Another Candidate\n",
      "2\n"
     ]
    },
    {
     "name": "stderr",
     "output_type": "stream",
     "text": [
      " 29%|███████████▏                          | 3127/10638 [03:27<15:50,  7.90it/s]"
     ]
    },
    {
     "name": "stdout",
     "output_type": "stream",
     "text": [
      "Another Candidate\n",
      "2\n",
      "Another Candidate\n",
      "2\n"
     ]
    },
    {
     "name": "stderr",
     "output_type": "stream",
     "text": [
      "\r",
      " 29%|███████████▏                          | 3128/10638 [03:27<16:57,  7.38it/s]"
     ]
    },
    {
     "name": "stdout",
     "output_type": "stream",
     "text": [
      "Another Candidate\n",
      "2\n",
      "Another Candidate\n"
     ]
    },
    {
     "name": "stderr",
     "output_type": "stream",
     "text": [
      " 29%|███████████▏                          | 3130/10638 [03:28<17:05,  7.32it/s]"
     ]
    },
    {
     "name": "stdout",
     "output_type": "stream",
     "text": [
      "2\n",
      "Another Candidate\n",
      "3\n"
     ]
    },
    {
     "name": "stderr",
     "output_type": "stream",
     "text": [
      " 29%|███████████▏                          | 3132/10638 [03:28<15:30,  8.06it/s]"
     ]
    },
    {
     "name": "stdout",
     "output_type": "stream",
     "text": [
      "Another Candidate\n",
      "2\n",
      "Another Candidate\n",
      "2\n"
     ]
    },
    {
     "name": "stderr",
     "output_type": "stream",
     "text": [
      "\r",
      " 29%|███████████▏                          | 3133/10638 [03:28<16:20,  7.66it/s]"
     ]
    },
    {
     "name": "stdout",
     "output_type": "stream",
     "text": [
      "Another Candidate\n",
      "2\n",
      "Another Candidate\n"
     ]
    },
    {
     "name": "stderr",
     "output_type": "stream",
     "text": [
      " 29%|███████████▏                          | 3135/10638 [03:28<16:25,  7.61it/s]"
     ]
    },
    {
     "name": "stdout",
     "output_type": "stream",
     "text": [
      "2\n",
      "Another Candidate\n",
      "2\n",
      "Another Candidate\n"
     ]
    },
    {
     "name": "stderr",
     "output_type": "stream",
     "text": [
      " 29%|███████████▏                          | 3137/10638 [03:28<16:25,  7.61it/s]"
     ]
    },
    {
     "name": "stdout",
     "output_type": "stream",
     "text": [
      "2\n",
      "Another Candidate\n",
      "Unique\n",
      "Unique\n",
      "Unique\n",
      "Unique\n",
      "Unique\n",
      "Unique\n",
      "Unique\n",
      "2\n"
     ]
    },
    {
     "name": "stderr",
     "output_type": "stream",
     "text": [
      "\r",
      " 30%|███████████▏                          | 3145/10638 [03:29<04:55, 25.34it/s]"
     ]
    },
    {
     "name": "stdout",
     "output_type": "stream",
     "text": [
      "Another Candidate\n",
      "2\n",
      "Another Candidate\n",
      "2\n",
      "Another Candidate\n"
     ]
    },
    {
     "name": "stderr",
     "output_type": "stream",
     "text": [
      "\r",
      " 30%|███████████▏                          | 3148/10638 [03:29<06:43, 18.58it/s]"
     ]
    },
    {
     "name": "stdout",
     "output_type": "stream",
     "text": [
      "2\n",
      "Another Candidate\n",
      "2\n",
      "Another Candidate\n"
     ]
    },
    {
     "name": "stderr",
     "output_type": "stream",
     "text": [
      "\r",
      " 30%|███████████▎                          | 3151/10638 [03:29<08:10, 15.26it/s]"
     ]
    },
    {
     "name": "stdout",
     "output_type": "stream",
     "text": [
      "2\n",
      "Another Candidate\n",
      "2\n",
      "Another Candidate\n",
      "2\n"
     ]
    },
    {
     "name": "stderr",
     "output_type": "stream",
     "text": [
      "\r",
      " 30%|███████████▎                          | 3153/10638 [03:29<08:41, 14.35it/s]"
     ]
    },
    {
     "name": "stdout",
     "output_type": "stream",
     "text": [
      "Another Candidate\n",
      "2\n",
      "Another Candidate\n",
      "2\n",
      "Another Candidate\n"
     ]
    },
    {
     "name": "stderr",
     "output_type": "stream",
     "text": [
      "\r",
      " 30%|███████████▎                          | 3155/10638 [03:29<09:37, 12.95it/s]"
     ]
    },
    {
     "name": "stdout",
     "output_type": "stream",
     "text": [
      "2\n",
      "Another Candidate\n",
      "2\n",
      "Another Candidate\n",
      "2\n"
     ]
    },
    {
     "name": "stderr",
     "output_type": "stream",
     "text": [
      "\r",
      " 30%|███████████▎                          | 3157/10638 [03:30<10:06, 12.33it/s]"
     ]
    },
    {
     "name": "stdout",
     "output_type": "stream",
     "text": [
      "Another Candidate\n",
      "2\n",
      "Another Candidate\n",
      "2\n",
      "Another Candidate\n"
     ]
    },
    {
     "name": "stderr",
     "output_type": "stream",
     "text": [
      "\r",
      " 30%|███████████▎                          | 3159/10638 [03:30<10:41, 11.66it/s]"
     ]
    },
    {
     "name": "stdout",
     "output_type": "stream",
     "text": [
      "2\n",
      "Another Candidate\n",
      "2\n",
      "Another Candidate\n"
     ]
    },
    {
     "name": "stderr",
     "output_type": "stream",
     "text": [
      " 30%|███████████▎                          | 3163/10638 [03:30<11:19, 11.01it/s]"
     ]
    },
    {
     "name": "stdout",
     "output_type": "stream",
     "text": [
      "2\n",
      "Another Candidate\n",
      "2\n",
      "Another Candidate\n",
      "2\n",
      "Another Candidate\n",
      "2\n",
      "Another Candidate\n"
     ]
    },
    {
     "name": "stderr",
     "output_type": "stream",
     "text": [
      "\r",
      " 30%|███████████▎                          | 3165/10638 [03:31<15:13,  8.18it/s]"
     ]
    },
    {
     "name": "stdout",
     "output_type": "stream",
     "text": [
      "2\n",
      "Another Candidate\n",
      "2\n",
      "Another Candidate\n"
     ]
    },
    {
     "name": "stderr",
     "output_type": "stream",
     "text": [
      " 30%|███████████▎                          | 3172/10638 [03:31<09:04, 13.72it/s]"
     ]
    },
    {
     "name": "stdout",
     "output_type": "stream",
     "text": [
      "Unique\n",
      "Unique\n",
      "Unique\n",
      "Unique\n",
      "2\n",
      "Another Candidate\n",
      "2\n"
     ]
    },
    {
     "name": "stderr",
     "output_type": "stream",
     "text": [
      "\r",
      " 30%|███████████▎                          | 3174/10638 [03:31<10:27, 11.89it/s]"
     ]
    },
    {
     "name": "stdout",
     "output_type": "stream",
     "text": [
      "Another Candidate\n",
      "2\n",
      "Another Candidate\n",
      "2\n"
     ]
    },
    {
     "name": "stderr",
     "output_type": "stream",
     "text": [
      "\r",
      " 30%|███████████▎                          | 3176/10638 [03:32<11:55, 10.44it/s]"
     ]
    },
    {
     "name": "stdout",
     "output_type": "stream",
     "text": [
      "Another Candidate\n",
      "2\n",
      "Another Candidate\n",
      "2\n"
     ]
    },
    {
     "name": "stderr",
     "output_type": "stream",
     "text": [
      " 30%|███████████▎                          | 3182/10638 [03:32<07:49, 15.89it/s]"
     ]
    },
    {
     "name": "stdout",
     "output_type": "stream",
     "text": [
      "Another Candidate\n",
      "Unique\n",
      "Unique\n",
      "Unique\n",
      "Unique\n",
      "2\n",
      "Another Candidate\n",
      "2\n"
     ]
    },
    {
     "name": "stderr",
     "output_type": "stream",
     "text": [
      " 30%|███████████▍                          | 3189/10638 [03:32<05:50, 21.26it/s]"
     ]
    },
    {
     "name": "stdout",
     "output_type": "stream",
     "text": [
      "Another Candidate\n",
      "Unique\n",
      "Unique\n",
      "Unique\n",
      "Unique\n",
      "Unique\n",
      "2\n",
      "Another Candidate\n",
      "2\n",
      "Another Candidate\n",
      "2\n",
      "Another Candidate\n",
      "2\n"
     ]
    },
    {
     "name": "stderr",
     "output_type": "stream",
     "text": [
      "\r",
      " 30%|███████████▍                          | 3192/10638 [03:32<08:26, 14.69it/s]"
     ]
    },
    {
     "name": "stdout",
     "output_type": "stream",
     "text": [
      "Another Candidate\n",
      "3\n",
      "Another Candidate\n"
     ]
    },
    {
     "name": "stderr",
     "output_type": "stream",
     "text": [
      "\r",
      " 30%|███████████▍                          | 3194/10638 [03:33<10:36, 11.70it/s]"
     ]
    },
    {
     "name": "stdout",
     "output_type": "stream",
     "text": [
      "Another Candidate\n",
      "2\n",
      "Another Candidate\n",
      "2\n"
     ]
    },
    {
     "name": "stderr",
     "output_type": "stream",
     "text": [
      "\r",
      " 30%|███████████▍                          | 3196/10638 [03:33<12:14, 10.14it/s]"
     ]
    },
    {
     "name": "stdout",
     "output_type": "stream",
     "text": [
      "Another Candidate\n",
      "2\n",
      "Another Candidate\n",
      "2\n",
      "Another Candidate\n",
      "2\n",
      "Another Candidate\n"
     ]
    },
    {
     "name": "stderr",
     "output_type": "stream",
     "text": [
      "\r",
      " 30%|███████████▍                          | 3198/10638 [03:33<13:23,  9.26it/s]"
     ]
    },
    {
     "name": "stdout",
     "output_type": "stream",
     "text": [
      "2\n",
      "Another Candidate\n",
      "2\n",
      "Another Candidate\n"
     ]
    },
    {
     "name": "stderr",
     "output_type": "stream",
     "text": [
      "\r",
      " 30%|███████████▍                          | 3200/10638 [03:33<13:46,  9.00it/s]"
     ]
    },
    {
     "name": "stdout",
     "output_type": "stream",
     "text": [
      "2\n",
      "Another Candidate\n",
      "2\n",
      "Another Candidate\n"
     ]
    },
    {
     "name": "stderr",
     "output_type": "stream",
     "text": [
      " 30%|███████████▍                          | 3203/10638 [03:34<14:07,  8.77it/s]"
     ]
    },
    {
     "name": "stdout",
     "output_type": "stream",
     "text": [
      "2\n",
      "Another Candidate\n",
      "2\n",
      "Another Candidate\n"
     ]
    },
    {
     "name": "stderr",
     "output_type": "stream",
     "text": [
      " 30%|███████████▍                          | 3209/10638 [03:34<07:40, 16.12it/s]"
     ]
    },
    {
     "name": "stdout",
     "output_type": "stream",
     "text": [
      "Unique\n",
      "Unique\n",
      "Unique\n",
      "Unique\n",
      "2\n",
      "Another Candidate\n",
      "2\n",
      "Another Candidate\n"
     ]
    },
    {
     "name": "stderr",
     "output_type": "stream",
     "text": [
      "\r",
      " 30%|███████████▍                          | 3211/10638 [03:34<09:00, 13.74it/s]"
     ]
    },
    {
     "name": "stdout",
     "output_type": "stream",
     "text": [
      "2\n",
      "Another Candidate\n",
      "2\n",
      "Another Candidate\n"
     ]
    },
    {
     "name": "stderr",
     "output_type": "stream",
     "text": [
      "\r",
      " 30%|███████████▍                          | 3213/10638 [03:35<10:55, 11.33it/s]"
     ]
    },
    {
     "name": "stdout",
     "output_type": "stream",
     "text": [
      "2\n",
      "Another Candidate\n",
      "2\n",
      "Another Candidate\n"
     ]
    },
    {
     "name": "stderr",
     "output_type": "stream",
     "text": [
      "\r",
      " 30%|███████████▍                          | 3215/10638 [03:35<12:21, 10.01it/s]"
     ]
    },
    {
     "name": "stdout",
     "output_type": "stream",
     "text": [
      "2\n",
      "Another Candidate\n",
      "2\n"
     ]
    },
    {
     "name": "stderr",
     "output_type": "stream",
     "text": [
      "\r",
      " 30%|███████████▍                          | 3217/10638 [03:35<13:35,  9.10it/s]"
     ]
    },
    {
     "name": "stdout",
     "output_type": "stream",
     "text": [
      "Another Candidate\n",
      "2\n",
      "Another Candidate\n",
      "2\n"
     ]
    },
    {
     "name": "stderr",
     "output_type": "stream",
     "text": [
      "\r",
      " 30%|███████████▍                          | 3219/10638 [03:35<13:38,  9.06it/s]"
     ]
    },
    {
     "name": "stdout",
     "output_type": "stream",
     "text": [
      "Another Candidate\n",
      "2\n",
      "Another Candidate\n",
      "2\n"
     ]
    },
    {
     "name": "stderr",
     "output_type": "stream",
     "text": [
      "\r",
      " 30%|███████████▌                          | 3221/10638 [03:36<14:20,  8.62it/s]"
     ]
    },
    {
     "name": "stdout",
     "output_type": "stream",
     "text": [
      "Another Candidate\n",
      "2\n",
      "Another Candidate\n",
      "2\n"
     ]
    },
    {
     "name": "stderr",
     "output_type": "stream",
     "text": [
      "\r",
      " 30%|███████████▌                          | 3222/10638 [03:36<14:34,  8.48it/s]"
     ]
    },
    {
     "name": "stdout",
     "output_type": "stream",
     "text": [
      "Another Candidate\n",
      "2\n",
      "Another Candidate\n"
     ]
    },
    {
     "name": "stderr",
     "output_type": "stream",
     "text": [
      " 30%|███████████▌                          | 3224/10638 [03:36<15:50,  7.80it/s]"
     ]
    },
    {
     "name": "stdout",
     "output_type": "stream",
     "text": [
      "2\n",
      "Another Candidate\n",
      "2\n",
      "Another Candidate\n"
     ]
    },
    {
     "name": "stderr",
     "output_type": "stream",
     "text": [
      " 30%|███████████▌                          | 3226/10638 [03:36<15:22,  8.03it/s]"
     ]
    },
    {
     "name": "stdout",
     "output_type": "stream",
     "text": [
      "2\n",
      "Another Candidate\n",
      "2\n",
      "Another Candidate\n"
     ]
    },
    {
     "name": "stderr",
     "output_type": "stream",
     "text": [
      " 30%|███████████▌                          | 3228/10638 [03:36<15:23,  8.03it/s]"
     ]
    },
    {
     "name": "stdout",
     "output_type": "stream",
     "text": [
      "2\n",
      "Another Candidate\n",
      "2\n"
     ]
    },
    {
     "name": "stderr",
     "output_type": "stream",
     "text": [
      "\r",
      " 30%|███████████▌                          | 3229/10638 [03:37<15:47,  7.82it/s]"
     ]
    },
    {
     "name": "stdout",
     "output_type": "stream",
     "text": [
      "Another Candidate\n",
      "2\n",
      "Another Candidate\n"
     ]
    },
    {
     "name": "stderr",
     "output_type": "stream",
     "text": [
      " 30%|███████████▌                          | 3231/10638 [03:37<16:30,  7.48it/s]"
     ]
    },
    {
     "name": "stdout",
     "output_type": "stream",
     "text": [
      "2\n",
      "Another Candidate\n",
      "2\n"
     ]
    },
    {
     "name": "stderr",
     "output_type": "stream",
     "text": [
      " 30%|███████████▌                          | 3233/10638 [03:37<15:35,  7.91it/s]"
     ]
    },
    {
     "name": "stdout",
     "output_type": "stream",
     "text": [
      "Another Candidate\n",
      "2\n",
      "Another Candidate\n",
      "2\n"
     ]
    },
    {
     "name": "stderr",
     "output_type": "stream",
     "text": [
      "\r",
      " 30%|███████████▌                          | 3234/10638 [03:37<16:18,  7.57it/s]"
     ]
    },
    {
     "name": "stdout",
     "output_type": "stream",
     "text": [
      "Another Candidate\n",
      "2\n",
      "Another Candidate\n"
     ]
    },
    {
     "name": "stderr",
     "output_type": "stream",
     "text": [
      " 30%|███████████▌                          | 3236/10638 [03:38<17:39,  6.98it/s]"
     ]
    },
    {
     "name": "stdout",
     "output_type": "stream",
     "text": [
      "2\n",
      "Another Candidate\n",
      "Unique\n",
      "Unique\n",
      "Unique\n",
      "Unique\n",
      "Unique\n",
      "2\n",
      "3\n"
     ]
    },
    {
     "name": "stderr",
     "output_type": "stream",
     "text": [
      "\r",
      " 30%|███████████▌                          | 3243/10638 [03:38<06:00, 20.54it/s]"
     ]
    },
    {
     "name": "stdout",
     "output_type": "stream",
     "text": [
      "3\n",
      "2\n"
     ]
    },
    {
     "name": "stderr",
     "output_type": "stream",
     "text": [
      " 31%|███████████▌                          | 3249/10638 [03:38<06:40, 18.47it/s]"
     ]
    },
    {
     "name": "stdout",
     "output_type": "stream",
     "text": [
      "2\n",
      "Unique\n",
      "Unique\n",
      "2\n",
      "Another Candidate\n",
      "2\n",
      "Another Candidate\n",
      "2\n",
      "Another Candidate\n",
      "2\n",
      "Another Candidate\n"
     ]
    },
    {
     "name": "stderr",
     "output_type": "stream",
     "text": [
      " 31%|███████████▌                          | 3254/10638 [03:39<09:00, 13.66it/s]"
     ]
    },
    {
     "name": "stdout",
     "output_type": "stream",
     "text": [
      "2\n",
      "Another Candidate\n",
      "2\n",
      "Another Candidate\n",
      "2\n"
     ]
    },
    {
     "name": "stderr",
     "output_type": "stream",
     "text": [
      "\r",
      " 31%|███████████▋                          | 3256/10638 [03:39<09:56, 12.37it/s]"
     ]
    },
    {
     "name": "stdout",
     "output_type": "stream",
     "text": [
      "Another Candidate\n",
      "2\n",
      "Another Candidate\n",
      "Unique\n",
      "2\n"
     ]
    },
    {
     "name": "stderr",
     "output_type": "stream",
     "text": [
      "\r",
      " 31%|███████████▋                          | 3258/10638 [03:39<09:22, 13.13it/s]"
     ]
    },
    {
     "name": "stdout",
     "output_type": "stream",
     "text": [
      "Another Candidate\n",
      "2\n",
      "Another Candidate\n",
      "2\n"
     ]
    },
    {
     "name": "stderr",
     "output_type": "stream",
     "text": [
      "\r",
      " 31%|███████████▋                          | 3260/10638 [03:39<10:21, 11.87it/s]"
     ]
    },
    {
     "name": "stdout",
     "output_type": "stream",
     "text": [
      "Another Candidate\n",
      "2\n",
      "Another Candidate\n",
      "2\n"
     ]
    },
    {
     "name": "stderr",
     "output_type": "stream",
     "text": [
      " 31%|███████████▋                          | 3264/10638 [03:40<10:44, 11.45it/s]"
     ]
    },
    {
     "name": "stdout",
     "output_type": "stream",
     "text": [
      "Another Candidate\n",
      "Unique\n",
      "2\n",
      "Another Candidate\n",
      "Unique\n",
      "2\n"
     ]
    },
    {
     "name": "stderr",
     "output_type": "stream",
     "text": [
      "\r",
      " 31%|███████████▋                          | 3270/10638 [03:40<06:36, 18.58it/s]"
     ]
    },
    {
     "name": "stdout",
     "output_type": "stream",
     "text": [
      "Another Candidate\n",
      "Unique\n",
      "Unique\n",
      "Unique\n",
      "2\n",
      "2\n",
      "2\n"
     ]
    },
    {
     "name": "stderr",
     "output_type": "stream",
     "text": [
      "\r",
      " 31%|███████████▋                          | 3273/10638 [03:40<06:58, 17.62it/s]"
     ]
    },
    {
     "name": "stdout",
     "output_type": "stream",
     "text": [
      "2\n",
      "2\n",
      "3\n"
     ]
    },
    {
     "name": "stderr",
     "output_type": "stream",
     "text": [
      " 31%|███████████▋                          | 3277/10638 [03:40<07:27, 16.45it/s]"
     ]
    },
    {
     "name": "stdout",
     "output_type": "stream",
     "text": [
      "3\n",
      "2\n",
      "2\n",
      "2\n"
     ]
    },
    {
     "name": "stderr",
     "output_type": "stream",
     "text": [
      " 31%|███████████▋                          | 3281/10638 [03:40<07:34, 16.20it/s]"
     ]
    },
    {
     "name": "stdout",
     "output_type": "stream",
     "text": [
      "2\n",
      "2\n",
      "2\n",
      "2\n"
     ]
    },
    {
     "name": "stderr",
     "output_type": "stream",
     "text": [
      " 31%|███████████▋                          | 3285/10638 [03:41<07:34, 16.16it/s]"
     ]
    },
    {
     "name": "stdout",
     "output_type": "stream",
     "text": [
      "2\n",
      "2\n",
      "2\n",
      "2\n"
     ]
    },
    {
     "name": "stderr",
     "output_type": "stream",
     "text": [
      " 31%|███████████▋                          | 3289/10638 [03:41<07:27, 16.41it/s]"
     ]
    },
    {
     "name": "stdout",
     "output_type": "stream",
     "text": [
      "2\n",
      "2\n",
      "2\n",
      "2\n"
     ]
    },
    {
     "name": "stderr",
     "output_type": "stream",
     "text": [
      " 31%|███████████▊                          | 3293/10638 [03:41<07:42, 15.90it/s]"
     ]
    },
    {
     "name": "stdout",
     "output_type": "stream",
     "text": [
      "2\n",
      "2\n",
      "3\n",
      "3\n"
     ]
    },
    {
     "name": "stderr",
     "output_type": "stream",
     "text": [
      " 31%|███████████▊                          | 3297/10638 [03:41<07:52, 15.54it/s]"
     ]
    },
    {
     "name": "stdout",
     "output_type": "stream",
     "text": [
      "3\n",
      "3\n",
      "3\n"
     ]
    },
    {
     "name": "stderr",
     "output_type": "stream",
     "text": [
      " 31%|███████████▊                          | 3302/10638 [03:42<07:01, 17.39it/s]"
     ]
    },
    {
     "name": "stdout",
     "output_type": "stream",
     "text": [
      "3\n",
      "3\n",
      "3\n",
      "3\n",
      "3\n"
     ]
    },
    {
     "name": "stderr",
     "output_type": "stream",
     "text": [
      "\r",
      " 31%|███████████▊                          | 3304/10638 [03:42<06:47, 17.99it/s]"
     ]
    },
    {
     "name": "stdout",
     "output_type": "stream",
     "text": [
      "3\n",
      "3\n",
      "3\n"
     ]
    },
    {
     "name": "stderr",
     "output_type": "stream",
     "text": [
      " 31%|███████████▊                          | 3308/10638 [03:42<07:43, 15.81it/s]"
     ]
    },
    {
     "name": "stdout",
     "output_type": "stream",
     "text": [
      "3\n",
      "3\n",
      "3\n",
      "3\n"
     ]
    },
    {
     "name": "stderr",
     "output_type": "stream",
     "text": [
      " 31%|███████████▊                          | 3312/10638 [03:42<07:05, 17.23it/s]"
     ]
    },
    {
     "name": "stdout",
     "output_type": "stream",
     "text": [
      "3\n",
      "3\n",
      "3\n",
      "3\n"
     ]
    },
    {
     "name": "stderr",
     "output_type": "stream",
     "text": [
      " 31%|███████████▊                          | 3316/10638 [03:43<07:32, 16.18it/s]"
     ]
    },
    {
     "name": "stdout",
     "output_type": "stream",
     "text": [
      "2\n",
      "2\n",
      "2\n",
      "2\n"
     ]
    },
    {
     "name": "stderr",
     "output_type": "stream",
     "text": [
      " 31%|███████████▊                          | 3320/10638 [03:43<06:56, 17.55it/s]"
     ]
    },
    {
     "name": "stdout",
     "output_type": "stream",
     "text": [
      "2\n",
      "2\n",
      "2\n",
      "2\n"
     ]
    },
    {
     "name": "stderr",
     "output_type": "stream",
     "text": [
      " 31%|███████████▊                          | 3324/10638 [03:43<07:37, 15.97it/s]"
     ]
    },
    {
     "name": "stdout",
     "output_type": "stream",
     "text": [
      "2\n",
      "2\n",
      "2\n",
      "2\n"
     ]
    },
    {
     "name": "stderr",
     "output_type": "stream",
     "text": [
      " 31%|███████████▉                          | 3328/10638 [03:43<07:05, 17.16it/s]"
     ]
    },
    {
     "name": "stdout",
     "output_type": "stream",
     "text": [
      "2\n",
      "2\n",
      "2\n",
      "2\n"
     ]
    },
    {
     "name": "stderr",
     "output_type": "stream",
     "text": [
      "\r",
      " 31%|███████████▉                          | 3330/10638 [03:43<07:24, 16.44it/s]"
     ]
    },
    {
     "name": "stdout",
     "output_type": "stream",
     "text": [
      "Unique\n",
      "Unique\n",
      "2\n",
      "Another Candidate\n"
     ]
    },
    {
     "name": "stderr",
     "output_type": "stream",
     "text": [
      "\r",
      " 31%|███████████▉                          | 3333/10638 [03:44<13:36,  8.94it/s]"
     ]
    },
    {
     "name": "stdout",
     "output_type": "stream",
     "text": [
      "2\n",
      "Another Candidate\n",
      "2\n"
     ]
    },
    {
     "name": "stderr",
     "output_type": "stream",
     "text": [
      "\r",
      " 31%|███████████▉                          | 3335/10638 [03:45<19:41,  6.18it/s]"
     ]
    },
    {
     "name": "stdout",
     "output_type": "stream",
     "text": [
      "Another Candidate\n",
      "3\n",
      "Another Candidate\n",
      "3\n"
     ]
    },
    {
     "name": "stderr",
     "output_type": "stream",
     "text": [
      " 31%|███████████▉                          | 3338/10638 [03:45<17:26,  6.97it/s]"
     ]
    },
    {
     "name": "stdout",
     "output_type": "stream",
     "text": [
      "Another Candidate\n",
      "3\n",
      "Another Candidate\n",
      "3\n"
     ]
    },
    {
     "name": "stderr",
     "output_type": "stream",
     "text": [
      "\r",
      " 31%|███████████▉                          | 3339/10638 [03:45<17:30,  6.95it/s]"
     ]
    },
    {
     "name": "stdout",
     "output_type": "stream",
     "text": [
      "Another Candidate\n",
      "3\n",
      "Another Candidate\n",
      "3\n",
      "Another Candidate\n"
     ]
    },
    {
     "name": "stderr",
     "output_type": "stream",
     "text": [
      " 31%|███████████▉                          | 3343/10638 [03:45<13:02,  9.32it/s]"
     ]
    },
    {
     "name": "stdout",
     "output_type": "stream",
     "text": [
      "3\n",
      "Another Candidate\n",
      "3\n",
      "Another Candidate\n",
      "3\n"
     ]
    },
    {
     "name": "stderr",
     "output_type": "stream",
     "text": [
      "\r",
      " 31%|███████████▉                          | 3345/10638 [03:46<12:34,  9.67it/s]"
     ]
    },
    {
     "name": "stdout",
     "output_type": "stream",
     "text": [
      "Another Candidate\n",
      "3\n",
      "Another Candidate\n",
      "3\n",
      "Another Candidate\n",
      "3\n"
     ]
    },
    {
     "name": "stderr",
     "output_type": "stream",
     "text": [
      " 31%|███████████▉                          | 3349/10638 [03:46<10:53, 11.15it/s]"
     ]
    },
    {
     "name": "stdout",
     "output_type": "stream",
     "text": [
      "Another Candidate\n",
      "3\n",
      "Another Candidate\n",
      "3\n",
      "Another Candidate\n",
      "3\n"
     ]
    },
    {
     "name": "stderr",
     "output_type": "stream",
     "text": [
      "\r",
      " 32%|███████████▉                          | 3351/10638 [03:46<11:06, 10.94it/s]"
     ]
    },
    {
     "name": "stdout",
     "output_type": "stream",
     "text": [
      "Another Candidate\n",
      "3\n",
      "Another Candidate\n",
      "3\n",
      "Another Candidate\n",
      "3\n"
     ]
    },
    {
     "name": "stderr",
     "output_type": "stream",
     "text": [
      " 32%|███████████▉                          | 3355/10638 [03:46<10:03, 12.07it/s]"
     ]
    },
    {
     "name": "stdout",
     "output_type": "stream",
     "text": [
      "Another Candidate\n",
      "3\n",
      "Another Candidate\n",
      "3\n",
      "Another Candidate\n",
      "3\n"
     ]
    },
    {
     "name": "stderr",
     "output_type": "stream",
     "text": [
      "\r",
      " 32%|███████████▉                          | 3357/10638 [03:47<10:21, 11.71it/s]"
     ]
    },
    {
     "name": "stdout",
     "output_type": "stream",
     "text": [
      "Another Candidate\n",
      "3\n",
      "Another Candidate\n",
      "3\n",
      "Another Candidate\n",
      "3\n"
     ]
    },
    {
     "name": "stderr",
     "output_type": "stream",
     "text": [
      " 32%|████████████                          | 3361/10638 [03:47<09:49, 12.35it/s]"
     ]
    },
    {
     "name": "stdout",
     "output_type": "stream",
     "text": [
      "Another Candidate\n",
      "3\n",
      "Another Candidate\n",
      "3\n",
      "Another Candidate\n",
      "3\n"
     ]
    },
    {
     "name": "stderr",
     "output_type": "stream",
     "text": [
      "\r",
      " 32%|████████████                          | 3363/10638 [03:47<10:14, 11.85it/s]"
     ]
    },
    {
     "name": "stdout",
     "output_type": "stream",
     "text": [
      "Another Candidate\n",
      "3\n",
      "Another Candidate\n",
      "3\n",
      "Another Candidate\n",
      "Another Candidate\n"
     ]
    },
    {
     "name": "stderr",
     "output_type": "stream",
     "text": [
      "\r",
      " 32%|████████████                          | 3365/10638 [03:47<10:49, 11.20it/s]"
     ]
    },
    {
     "name": "stdout",
     "output_type": "stream",
     "text": [
      "2\n",
      "Another Candidate\n",
      "2\n",
      "Another Candidate\n",
      "2\n"
     ]
    },
    {
     "name": "stderr",
     "output_type": "stream",
     "text": [
      "\r",
      " 32%|████████████                          | 3367/10638 [03:47<11:30, 10.52it/s]"
     ]
    },
    {
     "name": "stdout",
     "output_type": "stream",
     "text": [
      "Another Candidate\n",
      "2\n",
      "Another Candidate\n",
      "2\n"
     ]
    },
    {
     "name": "stderr",
     "output_type": "stream",
     "text": [
      " 32%|████████████                          | 3373/10638 [03:48<07:53, 15.34it/s]"
     ]
    },
    {
     "name": "stdout",
     "output_type": "stream",
     "text": [
      "Another Candidate\n",
      "Unique\n",
      "Unique\n",
      "2\n",
      "2\n",
      "2\n"
     ]
    },
    {
     "name": "stderr",
     "output_type": "stream",
     "text": [
      "\r",
      " 32%|████████████                          | 3375/10638 [03:48<07:47, 15.55it/s]"
     ]
    },
    {
     "name": "stdout",
     "output_type": "stream",
     "text": [
      "2\n",
      "3\n",
      "Another Candidate\n",
      "3\n"
     ]
    },
    {
     "name": "stderr",
     "output_type": "stream",
     "text": [
      "\r",
      " 32%|████████████                          | 3377/10638 [03:48<08:56, 13.52it/s]"
     ]
    },
    {
     "name": "stdout",
     "output_type": "stream",
     "text": [
      "Another Candidate\n",
      "3\n",
      "Another Candidate\n",
      "3\n",
      "Another Candidate\n"
     ]
    },
    {
     "name": "stderr",
     "output_type": "stream",
     "text": [
      "\r",
      " 32%|████████████                          | 3379/10638 [03:48<09:25, 12.83it/s]"
     ]
    },
    {
     "name": "stdout",
     "output_type": "stream",
     "text": [
      "3\n",
      "Another Candidate\n",
      "3\n",
      "Another Candidate\n"
     ]
    },
    {
     "name": "stderr",
     "output_type": "stream",
     "text": [
      " 32%|████████████                          | 3383/10638 [03:49<10:36, 11.41it/s]"
     ]
    },
    {
     "name": "stdout",
     "output_type": "stream",
     "text": [
      "3\n",
      "Another Candidate\n",
      "3\n",
      "Another Candidate\n",
      "3\n"
     ]
    },
    {
     "name": "stderr",
     "output_type": "stream",
     "text": [
      "\r",
      " 32%|████████████                          | 3385/10638 [03:49<10:43, 11.27it/s]"
     ]
    },
    {
     "name": "stdout",
     "output_type": "stream",
     "text": [
      "Another Candidate\n",
      "3\n",
      "Another Candidate\n",
      "3\n",
      "Another Candidate\n"
     ]
    },
    {
     "name": "stderr",
     "output_type": "stream",
     "text": [
      "\r",
      " 32%|████████████                          | 3387/10638 [03:49<11:19, 10.66it/s]"
     ]
    },
    {
     "name": "stdout",
     "output_type": "stream",
     "text": [
      "3\n",
      "Another Candidate\n",
      "3\n",
      "Another Candidate\n",
      "3\n"
     ]
    },
    {
     "name": "stderr",
     "output_type": "stream",
     "text": [
      "\r",
      " 32%|████████████                          | 3389/10638 [03:49<11:01, 10.96it/s]"
     ]
    },
    {
     "name": "stdout",
     "output_type": "stream",
     "text": [
      "Another Candidate\n",
      "3\n",
      "Another Candidate\n",
      "3\n",
      "Another Candidate\n"
     ]
    },
    {
     "name": "stderr",
     "output_type": "stream",
     "text": [
      " 32%|████████████                          | 3393/10638 [03:50<10:56, 11.04it/s]"
     ]
    },
    {
     "name": "stdout",
     "output_type": "stream",
     "text": [
      "3\n",
      "Another Candidate\n",
      "3\n",
      "Another Candidate\n",
      "3\n"
     ]
    },
    {
     "name": "stderr",
     "output_type": "stream",
     "text": [
      "\r",
      " 32%|████████████▏                         | 3395/10638 [03:50<10:55, 11.04it/s]"
     ]
    },
    {
     "name": "stdout",
     "output_type": "stream",
     "text": [
      "Another Candidate\n",
      "3\n",
      "Another Candidate\n",
      "3\n",
      "Another Candidate\n"
     ]
    },
    {
     "name": "stderr",
     "output_type": "stream",
     "text": [
      "\r",
      " 32%|████████████▏                         | 3397/10638 [03:50<11:54, 10.14it/s]"
     ]
    },
    {
     "name": "stdout",
     "output_type": "stream",
     "text": [
      "3\n",
      "Another Candidate\n",
      "3\n",
      "Another Candidate\n"
     ]
    },
    {
     "name": "stderr",
     "output_type": "stream",
     "text": [
      "\r",
      " 32%|████████████▏                         | 3399/10638 [03:50<11:33, 10.44it/s]"
     ]
    },
    {
     "name": "stdout",
     "output_type": "stream",
     "text": [
      "3\n",
      "Another Candidate\n",
      "3\n",
      "Another Candidate\n",
      "3\n"
     ]
    },
    {
     "name": "stderr",
     "output_type": "stream",
     "text": [
      "\r",
      " 32%|████████████▏                         | 3401/10638 [03:50<11:12, 10.77it/s]"
     ]
    },
    {
     "name": "stdout",
     "output_type": "stream",
     "text": [
      "Another Candidate\n",
      "2\n",
      "Another Candidate\n",
      "2\n"
     ]
    },
    {
     "name": "stderr",
     "output_type": "stream",
     "text": [
      " 32%|████████████▏                         | 3404/10638 [03:51<13:08,  9.17it/s]"
     ]
    },
    {
     "name": "stdout",
     "output_type": "stream",
     "text": [
      "Another Candidate\n",
      "2\n",
      "Another Candidate\n",
      "3\n"
     ]
    },
    {
     "name": "stderr",
     "output_type": "stream",
     "text": [
      " 32%|████████████▏                         | 3406/10638 [03:51<14:52,  8.11it/s]"
     ]
    },
    {
     "name": "stdout",
     "output_type": "stream",
     "text": [
      "Another Candidate\n",
      "3\n",
      "Another Candidate\n"
     ]
    },
    {
     "name": "stderr",
     "output_type": "stream",
     "text": [
      "\r",
      " 32%|████████████▏                         | 3407/10638 [03:51<15:22,  7.84it/s]"
     ]
    },
    {
     "name": "stdout",
     "output_type": "stream",
     "text": [
      "3\n",
      "Another Candidate\n",
      "3\n"
     ]
    },
    {
     "name": "stderr",
     "output_type": "stream",
     "text": [
      "\r",
      " 32%|████████████▏                         | 3408/10638 [03:51<15:17,  7.88it/s]"
     ]
    },
    {
     "name": "stdout",
     "output_type": "stream",
     "text": [
      "Another Candidate\n",
      "3\n",
      "Another Candidate\n"
     ]
    },
    {
     "name": "stderr",
     "output_type": "stream",
     "text": [
      " 32%|████████████▏                         | 3410/10638 [03:52<17:40,  6.82it/s]"
     ]
    },
    {
     "name": "stdout",
     "output_type": "stream",
     "text": [
      "3\n",
      "Another Candidate\n",
      "3\n"
     ]
    },
    {
     "name": "stderr",
     "output_type": "stream",
     "text": [
      "\r",
      " 32%|████████████▏                         | 3411/10638 [03:52<17:36,  6.84it/s]"
     ]
    },
    {
     "name": "stdout",
     "output_type": "stream",
     "text": [
      "Another Candidate\n",
      "3\n",
      "Another Candidate\n"
     ]
    },
    {
     "name": "stderr",
     "output_type": "stream",
     "text": [
      " 32%|████████████▏                         | 3413/10638 [03:52<18:46,  6.42it/s]"
     ]
    },
    {
     "name": "stdout",
     "output_type": "stream",
     "text": [
      "3\n",
      "Another Candidate\n",
      "3\n"
     ]
    },
    {
     "name": "stderr",
     "output_type": "stream",
     "text": [
      " 32%|████████████▏                         | 3415/10638 [03:52<17:41,  6.81it/s]"
     ]
    },
    {
     "name": "stdout",
     "output_type": "stream",
     "text": [
      "Another Candidate\n",
      "3\n",
      "Another Candidate\n",
      "3\n"
     ]
    },
    {
     "name": "stderr",
     "output_type": "stream",
     "text": [
      " 32%|████████████▏                         | 3417/10638 [03:53<16:56,  7.10it/s]"
     ]
    },
    {
     "name": "stdout",
     "output_type": "stream",
     "text": [
      "Another Candidate\n",
      "3\n",
      "Another Candidate\n",
      "3\n"
     ]
    },
    {
     "name": "stderr",
     "output_type": "stream",
     "text": [
      " 32%|████████████▏                         | 3419/10638 [03:53<15:54,  7.56it/s]"
     ]
    },
    {
     "name": "stdout",
     "output_type": "stream",
     "text": [
      "Another Candidate\n",
      "3\n",
      "Another Candidate\n",
      "3\n"
     ]
    },
    {
     "name": "stderr",
     "output_type": "stream",
     "text": [
      " 32%|████████████▏                         | 3421/10638 [03:53<14:44,  8.16it/s]"
     ]
    },
    {
     "name": "stdout",
     "output_type": "stream",
     "text": [
      "Another Candidate\n",
      "3\n",
      "Another Candidate\n",
      "3\n"
     ]
    },
    {
     "name": "stderr",
     "output_type": "stream",
     "text": [
      "\r",
      " 32%|████████████▏                         | 3422/10638 [03:53<15:19,  7.85it/s]"
     ]
    },
    {
     "name": "stdout",
     "output_type": "stream",
     "text": [
      "Another Candidate\n",
      "3\n",
      "Another Candidate\n"
     ]
    },
    {
     "name": "stderr",
     "output_type": "stream",
     "text": [
      " 32%|████████████▏                         | 3424/10638 [03:54<16:46,  7.17it/s]"
     ]
    },
    {
     "name": "stdout",
     "output_type": "stream",
     "text": [
      "3\n",
      "Another Candidate\n",
      "3\n"
     ]
    },
    {
     "name": "stderr",
     "output_type": "stream",
     "text": [
      "\r",
      " 32%|████████████▏                         | 3425/10638 [03:54<17:11,  6.99it/s]"
     ]
    },
    {
     "name": "stdout",
     "output_type": "stream",
     "text": [
      "Another Candidate\n",
      "3\n",
      "Another Candidate\n"
     ]
    },
    {
     "name": "stderr",
     "output_type": "stream",
     "text": [
      " 32%|████████████▏                         | 3427/10638 [03:54<16:58,  7.08it/s]"
     ]
    },
    {
     "name": "stdout",
     "output_type": "stream",
     "text": [
      "3\n",
      "Another Candidate\n",
      "3\n",
      "Another Candidate\n"
     ]
    },
    {
     "name": "stderr",
     "output_type": "stream",
     "text": [
      " 32%|████████████▎                         | 3430/10638 [03:54<13:38,  8.80it/s]"
     ]
    },
    {
     "name": "stdout",
     "output_type": "stream",
     "text": [
      "3\n",
      "Another Candidate\n",
      "3\n",
      "Another Candidate\n",
      "3\n"
     ]
    },
    {
     "name": "stderr",
     "output_type": "stream",
     "text": [
      "\r",
      " 32%|████████████▎                         | 3431/10638 [03:54<14:46,  8.13it/s]"
     ]
    },
    {
     "name": "stdout",
     "output_type": "stream",
     "text": [
      "Another Candidate\n",
      "2\n",
      "Another Candidate\n",
      "2\n",
      "Another Candidate\n"
     ]
    },
    {
     "name": "stderr",
     "output_type": "stream",
     "text": [
      " 32%|████████████▎                         | 3435/10638 [03:55<12:09,  9.88it/s]"
     ]
    },
    {
     "name": "stdout",
     "output_type": "stream",
     "text": [
      "2\n",
      "Another Candidate\n",
      "2\n",
      "Another Candidate\n",
      "2\n"
     ]
    },
    {
     "name": "stderr",
     "output_type": "stream",
     "text": [
      "\r",
      " 32%|████████████▎                         | 3436/10638 [03:55<12:13,  9.82it/s]"
     ]
    },
    {
     "name": "stdout",
     "output_type": "stream",
     "text": [
      "Another Candidate\n",
      "2\n",
      "Another Candidate\n",
      "2\n",
      "Another Candidate\n"
     ]
    },
    {
     "name": "stderr",
     "output_type": "stream",
     "text": [
      " 32%|████████████▎                         | 3440/10638 [03:55<11:01, 10.87it/s]"
     ]
    },
    {
     "name": "stdout",
     "output_type": "stream",
     "text": [
      "3\n",
      "Another Candidate\n",
      "3\n",
      "Another Candidate\n",
      "3\n"
     ]
    },
    {
     "name": "stderr",
     "output_type": "stream",
     "text": [
      "\r",
      " 32%|████████████▎                         | 3442/10638 [03:55<11:30, 10.42it/s]"
     ]
    },
    {
     "name": "stdout",
     "output_type": "stream",
     "text": [
      "Another Candidate\n",
      "3\n",
      "Another Candidate\n",
      "3\n"
     ]
    },
    {
     "name": "stderr",
     "output_type": "stream",
     "text": [
      "\r",
      " 32%|████████████▎                         | 3444/10638 [03:56<11:06, 10.80it/s]"
     ]
    },
    {
     "name": "stdout",
     "output_type": "stream",
     "text": [
      "Another Candidate\n",
      "3\n",
      "Another Candidate\n",
      "3\n",
      "Another Candidate\n"
     ]
    },
    {
     "name": "stderr",
     "output_type": "stream",
     "text": [
      "\r",
      " 32%|████████████▎                         | 3446/10638 [03:56<11:18, 10.60it/s]"
     ]
    },
    {
     "name": "stdout",
     "output_type": "stream",
     "text": [
      "3\n",
      "Another Candidate\n",
      "2\n",
      "2\n"
     ]
    },
    {
     "name": "stderr",
     "output_type": "stream",
     "text": [
      " 32%|████████████▎                         | 3450/10638 [03:56<10:28, 11.44it/s]"
     ]
    },
    {
     "name": "stdout",
     "output_type": "stream",
     "text": [
      "2\n",
      "3\n",
      "Another Candidate\n",
      "3\n"
     ]
    },
    {
     "name": "stderr",
     "output_type": "stream",
     "text": [
      "\r",
      " 32%|████████████▎                         | 3452/10638 [03:56<10:36, 11.29it/s]"
     ]
    },
    {
     "name": "stdout",
     "output_type": "stream",
     "text": [
      "Another Candidate\n",
      "3\n",
      "Another Candidate\n",
      "3\n",
      "Another Candidate\n"
     ]
    },
    {
     "name": "stderr",
     "output_type": "stream",
     "text": [
      "\r",
      " 32%|████████████▎                         | 3454/10638 [03:57<11:01, 10.86it/s]"
     ]
    },
    {
     "name": "stdout",
     "output_type": "stream",
     "text": [
      "3\n",
      "Another Candidate\n",
      "3\n",
      "Another Candidate\n",
      "3\n"
     ]
    },
    {
     "name": "stderr",
     "output_type": "stream",
     "text": [
      "\r",
      " 32%|████████████▎                         | 3456/10638 [03:57<10:50, 11.04it/s]"
     ]
    },
    {
     "name": "stdout",
     "output_type": "stream",
     "text": [
      "Another Candidate\n",
      "3\n",
      "Another Candidate\n",
      "3\n",
      "Another Candidate\n"
     ]
    },
    {
     "name": "stderr",
     "output_type": "stream",
     "text": [
      " 33%|████████████▎                         | 3460/10638 [03:57<10:59, 10.88it/s]"
     ]
    },
    {
     "name": "stdout",
     "output_type": "stream",
     "text": [
      "3\n",
      "Another Candidate\n",
      "3\n",
      "Another Candidate\n",
      "2\n"
     ]
    },
    {
     "name": "stderr",
     "output_type": "stream",
     "text": [
      "\r",
      " 33%|████████████▎                         | 3462/10638 [03:57<10:43, 11.16it/s]"
     ]
    },
    {
     "name": "stdout",
     "output_type": "stream",
     "text": [
      "Another Candidate\n",
      "2\n",
      "Another Candidate\n",
      "2\n",
      "Another Candidate\n"
     ]
    },
    {
     "name": "stderr",
     "output_type": "stream",
     "text": [
      "\r",
      " 33%|████████████▎                         | 3464/10638 [03:57<10:45, 11.12it/s]"
     ]
    },
    {
     "name": "stdout",
     "output_type": "stream",
     "text": [
      "2\n",
      "Another Candidate\n",
      "2\n",
      "Another Candidate\n",
      "2\n"
     ]
    },
    {
     "name": "stderr",
     "output_type": "stream",
     "text": [
      "\r",
      " 33%|████████████▍                         | 3466/10638 [03:58<10:31, 11.36it/s]"
     ]
    },
    {
     "name": "stdout",
     "output_type": "stream",
     "text": [
      "Another Candidate\n",
      "3\n",
      "Another Candidate\n",
      "Another Candidate\n",
      "3\n"
     ]
    },
    {
     "name": "stderr",
     "output_type": "stream",
     "text": [
      "\r",
      " 33%|████████████▍                         | 3468/10638 [03:58<12:29,  9.57it/s]"
     ]
    },
    {
     "name": "stdout",
     "output_type": "stream",
     "text": [
      "Another Candidate\n",
      "Another Candidate\n",
      "3\n",
      "Another Candidate\n",
      "Another Candidate\n"
     ]
    },
    {
     "name": "stderr",
     "output_type": "stream",
     "text": [
      "\r",
      " 33%|████████████▍                         | 3470/10638 [03:58<13:38,  8.75it/s]"
     ]
    },
    {
     "name": "stdout",
     "output_type": "stream",
     "text": [
      "3\n",
      "Another Candidate\n",
      "Another Candidate\n",
      "3\n",
      "Another Candidate\n"
     ]
    },
    {
     "name": "stderr",
     "output_type": "stream",
     "text": [
      "\r",
      " 33%|████████████▍                         | 3471/10638 [03:58<14:47,  8.07it/s]"
     ]
    },
    {
     "name": "stdout",
     "output_type": "stream",
     "text": [
      "Another Candidate\n",
      "3\n",
      "Another Candidate\n",
      "Another Candidate\n"
     ]
    },
    {
     "name": "stderr",
     "output_type": "stream",
     "text": [
      " 33%|████████████▍                         | 3473/10638 [03:59<15:41,  7.61it/s]"
     ]
    },
    {
     "name": "stdout",
     "output_type": "stream",
     "text": [
      "3\n",
      "Another Candidate\n",
      "Another Candidate\n",
      "3\n"
     ]
    },
    {
     "name": "stderr",
     "output_type": "stream",
     "text": [
      "\r",
      " 33%|████████████▍                         | 3474/10638 [03:59<16:12,  7.37it/s]"
     ]
    },
    {
     "name": "stdout",
     "output_type": "stream",
     "text": [
      "Another Candidate\n",
      "Another Candidate\n",
      "3\n",
      "3\n"
     ]
    },
    {
     "name": "stderr",
     "output_type": "stream",
     "text": [
      " 33%|████████████▍                         | 3478/10638 [03:59<10:39, 11.19it/s]"
     ]
    },
    {
     "name": "stdout",
     "output_type": "stream",
     "text": [
      "3\n",
      "3\n",
      "3\n",
      "3\n"
     ]
    },
    {
     "name": "stderr",
     "output_type": "stream",
     "text": [
      " 33%|████████████▍                         | 3482/10638 [03:59<08:07, 14.66it/s]"
     ]
    },
    {
     "name": "stdout",
     "output_type": "stream",
     "text": [
      "3\n",
      "3\n",
      "3\n",
      "3\n"
     ]
    },
    {
     "name": "stderr",
     "output_type": "stream",
     "text": [
      " 33%|████████████▍                         | 3486/10638 [03:59<07:29, 15.92it/s]"
     ]
    },
    {
     "name": "stdout",
     "output_type": "stream",
     "text": [
      "3\n",
      "3\n",
      "3\n",
      "3\n"
     ]
    },
    {
     "name": "stderr",
     "output_type": "stream",
     "text": [
      " 33%|████████████▍                         | 3490/10638 [04:00<07:02, 16.91it/s]"
     ]
    },
    {
     "name": "stdout",
     "output_type": "stream",
     "text": [
      "3\n",
      "2\n",
      "2\n",
      "2\n"
     ]
    },
    {
     "name": "stderr",
     "output_type": "stream",
     "text": [
      " 33%|████████████▍                         | 3494/10638 [04:00<07:38, 15.60it/s]"
     ]
    },
    {
     "name": "stdout",
     "output_type": "stream",
     "text": [
      "3\n",
      "3\n",
      "3\n",
      "3\n"
     ]
    },
    {
     "name": "stderr",
     "output_type": "stream",
     "text": [
      " 33%|████████████▍                         | 3498/10638 [04:00<06:47, 17.53it/s]"
     ]
    },
    {
     "name": "stdout",
     "output_type": "stream",
     "text": [
      "3\n",
      "3\n",
      "3\n",
      "2\n"
     ]
    },
    {
     "name": "stderr",
     "output_type": "stream",
     "text": [
      " 33%|████████████▌                         | 3502/10638 [04:00<07:08, 16.66it/s]"
     ]
    },
    {
     "name": "stdout",
     "output_type": "stream",
     "text": [
      "2\n",
      "2\n",
      "2\n"
     ]
    },
    {
     "name": "stderr",
     "output_type": "stream",
     "text": [
      " 33%|████████████▌                         | 3507/10638 [04:01<06:01, 19.74it/s]"
     ]
    },
    {
     "name": "stdout",
     "output_type": "stream",
     "text": [
      "2\n",
      "Unique\n",
      "2\n",
      "2\n",
      "3\n"
     ]
    },
    {
     "name": "stderr",
     "output_type": "stream",
     "text": [
      "\r",
      " 33%|████████████▌                         | 3510/10638 [04:01<06:03, 19.63it/s]"
     ]
    },
    {
     "name": "stdout",
     "output_type": "stream",
     "text": [
      "3\n",
      "3\n",
      "3\n",
      "3\n"
     ]
    },
    {
     "name": "stderr",
     "output_type": "stream",
     "text": [
      " 33%|████████████▌                         | 3515/10638 [04:01<06:14, 19.01it/s]"
     ]
    },
    {
     "name": "stdout",
     "output_type": "stream",
     "text": [
      "3\n",
      "3\n",
      "3\n",
      "3\n"
     ]
    },
    {
     "name": "stderr",
     "output_type": "stream",
     "text": [
      " 33%|████████████▌                         | 3519/10638 [04:01<06:21, 18.67it/s]"
     ]
    },
    {
     "name": "stdout",
     "output_type": "stream",
     "text": [
      "3\n",
      "3\n",
      "3\n",
      "3\n"
     ]
    },
    {
     "name": "stderr",
     "output_type": "stream",
     "text": [
      " 33%|████████████▌                         | 3523/10638 [04:02<06:45, 17.56it/s]"
     ]
    },
    {
     "name": "stdout",
     "output_type": "stream",
     "text": [
      "3\n",
      "3\n",
      "3\n",
      "3\n"
     ]
    },
    {
     "name": "stderr",
     "output_type": "stream",
     "text": [
      " 33%|████████████▌                         | 3528/10638 [04:02<06:17, 18.82it/s]"
     ]
    },
    {
     "name": "stdout",
     "output_type": "stream",
     "text": [
      "3\n",
      "3\n",
      "2\n",
      "2\n",
      "2\n"
     ]
    },
    {
     "name": "stderr",
     "output_type": "stream",
     "text": [
      " 33%|████████████▌                         | 3532/10638 [04:02<06:33, 18.06it/s]"
     ]
    },
    {
     "name": "stdout",
     "output_type": "stream",
     "text": [
      "2\n",
      "2\n",
      "3\n",
      "3\n"
     ]
    },
    {
     "name": "stderr",
     "output_type": "stream",
     "text": [
      "\r",
      " 33%|████████████▌                         | 3534/10638 [04:02<06:32, 18.10it/s]"
     ]
    },
    {
     "name": "stdout",
     "output_type": "stream",
     "text": [
      "3\n",
      "3\n",
      "3\n",
      "3\n"
     ]
    },
    {
     "name": "stderr",
     "output_type": "stream",
     "text": [
      " 33%|████████████▋                         | 3539/10638 [04:02<06:54, 17.12it/s]"
     ]
    },
    {
     "name": "stdout",
     "output_type": "stream",
     "text": [
      "3\n",
      "2\n",
      "2\n"
     ]
    },
    {
     "name": "stderr",
     "output_type": "stream",
     "text": [
      " 33%|████████████▋                         | 3543/10638 [04:03<07:02, 16.80it/s]"
     ]
    },
    {
     "name": "stdout",
     "output_type": "stream",
     "text": [
      "2\n",
      "3\n",
      "3\n",
      "3\n"
     ]
    },
    {
     "name": "stderr",
     "output_type": "stream",
     "text": [
      " 33%|████████████▋                         | 3547/10638 [04:03<07:01, 16.82it/s]"
     ]
    },
    {
     "name": "stdout",
     "output_type": "stream",
     "text": [
      "3\n",
      "3\n",
      "3\n",
      "2\n"
     ]
    },
    {
     "name": "stderr",
     "output_type": "stream",
     "text": [
      " 33%|████████████▋                         | 3551/10638 [04:03<07:04, 16.69it/s]"
     ]
    },
    {
     "name": "stdout",
     "output_type": "stream",
     "text": [
      "2\n",
      "2\n",
      "2\n",
      "2\n"
     ]
    },
    {
     "name": "stderr",
     "output_type": "stream",
     "text": [
      "\r",
      " 33%|████████████▋                         | 3556/10638 [04:03<04:42, 25.07it/s]"
     ]
    },
    {
     "name": "stdout",
     "output_type": "stream",
     "text": [
      "Unique\n",
      "Unique\n",
      "Unique\n",
      "2\n",
      "2\n",
      "3\n",
      "3\n"
     ]
    },
    {
     "name": "stderr",
     "output_type": "stream",
     "text": [
      "\r",
      " 33%|████████████▋                         | 3559/10638 [04:04<06:19, 18.66it/s]"
     ]
    },
    {
     "name": "stdout",
     "output_type": "stream",
     "text": [
      "Another Candidate\n",
      "Another Candidate\n",
      "3\n",
      "Another Candidate\n",
      "Another Candidate\n",
      "3\n"
     ]
    },
    {
     "name": "stderr",
     "output_type": "stream",
     "text": [
      "\r",
      " 33%|████████████▋                         | 3562/10638 [04:04<08:25, 14.01it/s]"
     ]
    },
    {
     "name": "stdout",
     "output_type": "stream",
     "text": [
      "Another Candidate\n",
      "Another Candidate\n",
      "3\n",
      "Another Candidate\n",
      "Another Candidate\n",
      "3\n"
     ]
    },
    {
     "name": "stderr",
     "output_type": "stream",
     "text": [
      "\r",
      " 34%|████████████▋                         | 3564/10638 [04:04<09:56, 11.86it/s]"
     ]
    },
    {
     "name": "stdout",
     "output_type": "stream",
     "text": [
      "Another Candidate\n",
      "Another Candidate\n",
      "3\n",
      "Another Candidate\n",
      "Another Candidate\n",
      "3\n"
     ]
    },
    {
     "name": "stderr",
     "output_type": "stream",
     "text": [
      "\r",
      " 34%|████████████▋                         | 3566/10638 [04:04<10:54, 10.81it/s]"
     ]
    },
    {
     "name": "stdout",
     "output_type": "stream",
     "text": [
      "Another Candidate\n",
      "Another Candidate\n",
      "3\n",
      "Another Candidate\n",
      "Another Candidate\n",
      "3\n"
     ]
    },
    {
     "name": "stderr",
     "output_type": "stream",
     "text": [
      "\r",
      " 34%|████████████▋                         | 3568/10638 [04:05<11:35, 10.17it/s]"
     ]
    },
    {
     "name": "stdout",
     "output_type": "stream",
     "text": [
      "Another Candidate\n",
      "Another Candidate\n",
      "3\n",
      "Another Candidate\n",
      "Another Candidate\n",
      "3\n"
     ]
    },
    {
     "name": "stderr",
     "output_type": "stream",
     "text": [
      "\r",
      " 34%|████████████▊                         | 3570/10638 [04:05<11:59,  9.83it/s]"
     ]
    },
    {
     "name": "stdout",
     "output_type": "stream",
     "text": [
      "Another Candidate\n",
      "Another Candidate\n",
      "3\n",
      "Another Candidate\n",
      "Another Candidate\n",
      "3\n"
     ]
    },
    {
     "name": "stderr",
     "output_type": "stream",
     "text": [
      "\r",
      " 34%|████████████▊                         | 3572/10638 [04:05<12:39,  9.31it/s]"
     ]
    },
    {
     "name": "stdout",
     "output_type": "stream",
     "text": [
      "Another Candidate\n",
      "Another Candidate\n",
      "3\n",
      "Another Candidate\n",
      "Another Candidate\n",
      "3\n"
     ]
    },
    {
     "name": "stderr",
     "output_type": "stream",
     "text": [
      "\r",
      " 34%|████████████▊                         | 3574/10638 [04:05<12:57,  9.09it/s]"
     ]
    },
    {
     "name": "stdout",
     "output_type": "stream",
     "text": [
      "Another Candidate\n",
      "Another Candidate\n",
      "3\n",
      "Another Candidate\n",
      "Another Candidate\n",
      "3\n"
     ]
    },
    {
     "name": "stderr",
     "output_type": "stream",
     "text": [
      " 34%|████████████▊                         | 3576/10638 [04:06<13:37,  8.64it/s]"
     ]
    },
    {
     "name": "stdout",
     "output_type": "stream",
     "text": [
      "Another Candidate\n",
      "Another Candidate\n",
      "3\n",
      "Another Candidate\n",
      "Another Candidate\n",
      "3\n"
     ]
    },
    {
     "name": "stderr",
     "output_type": "stream",
     "text": [
      " 34%|████████████▊                         | 3578/10638 [04:06<13:39,  8.61it/s]"
     ]
    },
    {
     "name": "stdout",
     "output_type": "stream",
     "text": [
      "Another Candidate\n",
      "Another Candidate\n",
      "3\n",
      "Another Candidate\n",
      "Another Candidate\n",
      "3\n"
     ]
    },
    {
     "name": "stderr",
     "output_type": "stream",
     "text": [
      "\r",
      " 34%|████████████▊                         | 3579/10638 [04:06<14:20,  8.21it/s]"
     ]
    },
    {
     "name": "stdout",
     "output_type": "stream",
     "text": [
      "Another Candidate\n",
      "Another Candidate\n",
      "2\n",
      "Another Candidate\n",
      "2\n"
     ]
    },
    {
     "name": "stderr",
     "output_type": "stream",
     "text": [
      "\r",
      " 34%|████████████▊                         | 3581/10638 [04:06<12:46,  9.21it/s]"
     ]
    },
    {
     "name": "stdout",
     "output_type": "stream",
     "text": [
      "Another Candidate\n",
      "Unique\n",
      "2\n",
      "Another Candidate\n",
      "2\n",
      "Another Candidate\n"
     ]
    },
    {
     "name": "stderr",
     "output_type": "stream",
     "text": [
      " 34%|████████████▊                         | 3586/10638 [04:06<10:24, 11.29it/s]"
     ]
    },
    {
     "name": "stdout",
     "output_type": "stream",
     "text": [
      "2\n",
      "Another Candidate\n",
      "2\n",
      "Another Candidate\n",
      "3\n"
     ]
    },
    {
     "name": "stderr",
     "output_type": "stream",
     "text": [
      "\r",
      " 34%|████████████▊                         | 3588/10638 [04:07<11:19, 10.37it/s]"
     ]
    },
    {
     "name": "stdout",
     "output_type": "stream",
     "text": [
      "Another Candidate\n",
      "Another Candidate\n",
      "3\n",
      "Another Candidate\n",
      "Another Candidate\n",
      "3\n"
     ]
    },
    {
     "name": "stderr",
     "output_type": "stream",
     "text": [
      "\r",
      " 34%|████████████▊                         | 3590/10638 [04:07<11:59,  9.79it/s]"
     ]
    },
    {
     "name": "stdout",
     "output_type": "stream",
     "text": [
      "Another Candidate\n",
      "Another Candidate\n",
      "2\n",
      "Another Candidate\n",
      "2\n"
     ]
    },
    {
     "name": "stderr",
     "output_type": "stream",
     "text": [
      " 34%|████████████▊                         | 3592/10638 [04:07<12:24,  9.46it/s]"
     ]
    },
    {
     "name": "stdout",
     "output_type": "stream",
     "text": [
      "Another Candidate\n",
      "2\n",
      "Another Candidate\n",
      "2\n"
     ]
    },
    {
     "name": "stderr",
     "output_type": "stream",
     "text": [
      "\r",
      " 34%|████████████▊                         | 3594/10638 [04:07<12:26,  9.44it/s]"
     ]
    },
    {
     "name": "stdout",
     "output_type": "stream",
     "text": [
      "Another Candidate\n",
      "2\n",
      "Another Candidate\n",
      "2\n"
     ]
    },
    {
     "name": "stderr",
     "output_type": "stream",
     "text": [
      " 34%|████████████▊                         | 3596/10638 [04:08<15:08,  7.75it/s]"
     ]
    },
    {
     "name": "stdout",
     "output_type": "stream",
     "text": [
      "Another Candidate\n",
      "2\n",
      "Another Candidate\n",
      "2\n"
     ]
    },
    {
     "name": "stderr",
     "output_type": "stream",
     "text": [
      " 34%|████████████▊                         | 3598/10638 [04:08<14:45,  7.95it/s]"
     ]
    },
    {
     "name": "stdout",
     "output_type": "stream",
     "text": [
      "Another Candidate\n",
      "2\n",
      "Another Candidate\n",
      "3\n"
     ]
    },
    {
     "name": "stderr",
     "output_type": "stream",
     "text": [
      " 34%|████████████▊                         | 3600/10638 [04:08<14:08,  8.29it/s]"
     ]
    },
    {
     "name": "stdout",
     "output_type": "stream",
     "text": [
      "Another Candidate\n",
      "Another Candidate\n",
      "3\n",
      "Another Candidate\n",
      "Another Candidate\n",
      "3\n"
     ]
    },
    {
     "name": "stderr",
     "output_type": "stream",
     "text": [
      "\r",
      " 34%|████████████▊                         | 3601/10638 [04:08<16:08,  7.27it/s]"
     ]
    },
    {
     "name": "stdout",
     "output_type": "stream",
     "text": [
      "Another Candidate\n",
      "Another Candidate\n",
      "3\n",
      "Another Candidate\n",
      "Another Candidate\n"
     ]
    },
    {
     "name": "stderr",
     "output_type": "stream",
     "text": [
      " 34%|████████████▊                         | 3603/10638 [04:09<14:53,  7.87it/s]"
     ]
    },
    {
     "name": "stdout",
     "output_type": "stream",
     "text": [
      "2\n",
      "Another Candidate\n",
      "2\n",
      "Another Candidate\n"
     ]
    },
    {
     "name": "stderr",
     "output_type": "stream",
     "text": [
      " 34%|████████████▉                         | 3605/10638 [04:09<14:06,  8.31it/s]"
     ]
    },
    {
     "name": "stdout",
     "output_type": "stream",
     "text": [
      "2\n",
      "Another Candidate\n",
      "2\n",
      "Another Candidate\n"
     ]
    },
    {
     "name": "stderr",
     "output_type": "stream",
     "text": [
      " 34%|████████████▉                         | 3607/10638 [04:09<14:29,  8.09it/s]"
     ]
    },
    {
     "name": "stdout",
     "output_type": "stream",
     "text": [
      "3\n",
      "Another Candidate\n",
      "Another Candidate\n",
      "3\n",
      "Another Candidate\n"
     ]
    },
    {
     "name": "stderr",
     "output_type": "stream",
     "text": [
      " 34%|████████████▉                         | 3609/10638 [04:09<14:31,  8.06it/s]"
     ]
    },
    {
     "name": "stdout",
     "output_type": "stream",
     "text": [
      "Another Candidate\n",
      "3\n",
      "Another Candidate\n",
      "Another Candidate\n",
      "3\n"
     ]
    },
    {
     "name": "stderr",
     "output_type": "stream",
     "text": [
      " 34%|████████████▉                         | 3611/10638 [04:10<14:42,  7.96it/s]"
     ]
    },
    {
     "name": "stdout",
     "output_type": "stream",
     "text": [
      "Another Candidate\n",
      "Another Candidate\n",
      "3\n",
      "Another Candidate\n",
      "Another Candidate\n",
      "3\n"
     ]
    },
    {
     "name": "stderr",
     "output_type": "stream",
     "text": [
      "\r",
      " 34%|████████████▉                         | 3612/10638 [04:10<14:45,  7.94it/s]"
     ]
    },
    {
     "name": "stdout",
     "output_type": "stream",
     "text": [
      "Another Candidate\n",
      "Another Candidate\n",
      "2\n",
      "Another Candidate\n",
      "2\n"
     ]
    },
    {
     "name": "stderr",
     "output_type": "stream",
     "text": [
      " 34%|████████████▉                         | 3615/10638 [04:10<12:50,  9.11it/s]"
     ]
    },
    {
     "name": "stdout",
     "output_type": "stream",
     "text": [
      "Another Candidate\n",
      "2\n",
      "Another Candidate\n",
      "2\n"
     ]
    },
    {
     "name": "stderr",
     "output_type": "stream",
     "text": [
      " 34%|████████████▉                         | 3617/10638 [04:10<12:23,  9.45it/s]"
     ]
    },
    {
     "name": "stdout",
     "output_type": "stream",
     "text": [
      "Another Candidate\n",
      "2\n",
      "Another Candidate\n",
      "2\n"
     ]
    },
    {
     "name": "stderr",
     "output_type": "stream",
     "text": [
      "\r",
      " 34%|████████████▉                         | 3619/10638 [04:10<12:30,  9.35it/s]"
     ]
    },
    {
     "name": "stdout",
     "output_type": "stream",
     "text": [
      "Another Candidate\n",
      "2\n",
      "Another Candidate\n",
      "2\n"
     ]
    },
    {
     "name": "stderr",
     "output_type": "stream",
     "text": [
      "\r",
      " 34%|████████████▉                         | 3620/10638 [04:11<13:49,  8.46it/s]"
     ]
    },
    {
     "name": "stdout",
     "output_type": "stream",
     "text": [
      "Another Candidate\n",
      "2\n",
      "Another Candidate\n",
      "2\n"
     ]
    },
    {
     "name": "stderr",
     "output_type": "stream",
     "text": [
      "\r",
      " 34%|████████████▉                         | 3622/10638 [04:11<12:29,  9.36it/s]"
     ]
    },
    {
     "name": "stdout",
     "output_type": "stream",
     "text": [
      "Another Candidate\n",
      "2\n",
      "Another Candidate\n",
      "2\n"
     ]
    },
    {
     "name": "stderr",
     "output_type": "stream",
     "text": [
      "\r",
      " 34%|████████████▉                         | 3624/10638 [04:11<12:39,  9.23it/s]"
     ]
    },
    {
     "name": "stdout",
     "output_type": "stream",
     "text": [
      "Another Candidate\n",
      "2\n",
      "Another Candidate\n",
      "2\n",
      "Another Candidate\n"
     ]
    },
    {
     "name": "stderr",
     "output_type": "stream",
     "text": [
      " 34%|████████████▉                         | 3627/10638 [04:11<12:24,  9.42it/s]"
     ]
    },
    {
     "name": "stdout",
     "output_type": "stream",
     "text": [
      "2\n",
      "Another Candidate\n",
      "2\n"
     ]
    },
    {
     "name": "stderr",
     "output_type": "stream",
     "text": [
      " 34%|████████████▉                         | 3629/10638 [04:12<14:00,  8.34it/s]"
     ]
    },
    {
     "name": "stdout",
     "output_type": "stream",
     "text": [
      "Another Candidate\n",
      "2\n",
      "Another Candidate\n",
      "3\n"
     ]
    },
    {
     "name": "stderr",
     "output_type": "stream",
     "text": [
      " 34%|████████████▉                         | 3631/10638 [04:12<13:55,  8.38it/s]"
     ]
    },
    {
     "name": "stdout",
     "output_type": "stream",
     "text": [
      "Another Candidate\n",
      "Another Candidate\n",
      "3\n",
      "Another Candidate\n",
      "Another Candidate\n",
      "3\n"
     ]
    },
    {
     "name": "stderr",
     "output_type": "stream",
     "text": [
      " 34%|████████████▉                         | 3633/10638 [04:12<13:49,  8.45it/s]"
     ]
    },
    {
     "name": "stdout",
     "output_type": "stream",
     "text": [
      "Another Candidate\n",
      "Another Candidate\n",
      "3\n",
      "Another Candidate\n",
      "Another Candidate\n",
      "3\n"
     ]
    },
    {
     "name": "stderr",
     "output_type": "stream",
     "text": [
      " 34%|████████████▉                         | 3635/10638 [04:12<13:44,  8.50it/s]"
     ]
    },
    {
     "name": "stdout",
     "output_type": "stream",
     "text": [
      "Another Candidate\n",
      "Another Candidate\n",
      "3\n",
      "Another Candidate\n",
      "Another Candidate\n",
      "3\n"
     ]
    },
    {
     "name": "stderr",
     "output_type": "stream",
     "text": [
      " 34%|████████████▉                         | 3637/10638 [04:13<13:41,  8.52it/s]"
     ]
    },
    {
     "name": "stdout",
     "output_type": "stream",
     "text": [
      "Another Candidate\n",
      "Another Candidate\n",
      "3\n",
      "Another Candidate\n",
      "Another Candidate\n",
      "3\n"
     ]
    },
    {
     "name": "stderr",
     "output_type": "stream",
     "text": [
      " 34%|████████████▉                         | 3639/10638 [04:13<13:53,  8.39it/s]"
     ]
    },
    {
     "name": "stdout",
     "output_type": "stream",
     "text": [
      "Another Candidate\n",
      "Another Candidate\n",
      "3\n",
      "Another Candidate\n",
      "Another Candidate\n",
      "3\n"
     ]
    },
    {
     "name": "stderr",
     "output_type": "stream",
     "text": [
      " 34%|█████████████                         | 3641/10638 [04:13<13:43,  8.50it/s]"
     ]
    },
    {
     "name": "stdout",
     "output_type": "stream",
     "text": [
      "Another Candidate\n",
      "Another Candidate\n",
      "3\n",
      "Another Candidate\n",
      "Another Candidate\n",
      "3\n"
     ]
    },
    {
     "name": "stderr",
     "output_type": "stream",
     "text": [
      " 34%|█████████████                         | 3643/10638 [04:13<13:59,  8.33it/s]"
     ]
    },
    {
     "name": "stdout",
     "output_type": "stream",
     "text": [
      "Another Candidate\n",
      "Another Candidate\n",
      "3\n",
      "Another Candidate\n",
      "Another Candidate\n",
      "3\n"
     ]
    },
    {
     "name": "stderr",
     "output_type": "stream",
     "text": [
      " 34%|█████████████                         | 3645/10638 [04:13<14:19,  8.14it/s]"
     ]
    },
    {
     "name": "stdout",
     "output_type": "stream",
     "text": [
      "Another Candidate\n",
      "Another Candidate\n",
      "3\n",
      "Another Candidate\n",
      "Another Candidate\n",
      "3\n"
     ]
    },
    {
     "name": "stderr",
     "output_type": "stream",
     "text": [
      "\r",
      " 34%|█████████████                         | 3646/10638 [04:14<16:22,  7.12it/s]"
     ]
    },
    {
     "name": "stdout",
     "output_type": "stream",
     "text": [
      "Another Candidate\n",
      "Another Candidate\n",
      "3\n",
      "Another Candidate\n",
      "Another Candidate\n"
     ]
    },
    {
     "name": "stderr",
     "output_type": "stream",
     "text": [
      " 34%|█████████████                         | 3649/10638 [04:14<13:21,  8.71it/s]"
     ]
    },
    {
     "name": "stdout",
     "output_type": "stream",
     "text": [
      "2\n",
      "Another Candidate\n",
      "2\n",
      "Another Candidate\n",
      "2\n"
     ]
    },
    {
     "name": "stderr",
     "output_type": "stream",
     "text": [
      " 34%|█████████████                         | 3651/10638 [04:14<12:59,  8.96it/s]"
     ]
    },
    {
     "name": "stdout",
     "output_type": "stream",
     "text": [
      "Another Candidate\n",
      "2\n",
      "Another Candidate\n",
      "2\n"
     ]
    },
    {
     "name": "stderr",
     "output_type": "stream",
     "text": [
      "\r",
      " 34%|█████████████                         | 3653/10638 [04:14<12:17,  9.47it/s]"
     ]
    },
    {
     "name": "stdout",
     "output_type": "stream",
     "text": [
      "Another Candidate\n",
      "2\n",
      "Another Candidate\n",
      "2\n"
     ]
    },
    {
     "name": "stderr",
     "output_type": "stream",
     "text": [
      "\r",
      " 34%|█████████████                         | 3654/10638 [04:14<12:15,  9.49it/s]"
     ]
    },
    {
     "name": "stdout",
     "output_type": "stream",
     "text": [
      "Another Candidate\n",
      "2\n",
      "Another Candidate\n",
      "3\n",
      "Another Candidate\n"
     ]
    },
    {
     "name": "stderr",
     "output_type": "stream",
     "text": [
      " 34%|█████████████                         | 3657/10638 [04:15<12:46,  9.10it/s]"
     ]
    },
    {
     "name": "stdout",
     "output_type": "stream",
     "text": [
      "Another Candidate\n",
      "2\n",
      "Another Candidate\n",
      "2\n"
     ]
    },
    {
     "name": "stderr",
     "output_type": "stream",
     "text": [
      " 34%|█████████████                         | 3659/10638 [04:15<12:34,  9.25it/s]"
     ]
    },
    {
     "name": "stdout",
     "output_type": "stream",
     "text": [
      "Another Candidate\n",
      "2\n",
      "Another Candidate\n",
      "2\n"
     ]
    },
    {
     "name": "stderr",
     "output_type": "stream",
     "text": [
      " 34%|█████████████                         | 3661/10638 [04:15<12:57,  8.97it/s]"
     ]
    },
    {
     "name": "stdout",
     "output_type": "stream",
     "text": [
      "Another Candidate\n",
      "2\n",
      "Another Candidate\n",
      "2\n"
     ]
    },
    {
     "name": "stderr",
     "output_type": "stream",
     "text": [
      " 34%|█████████████                         | 3663/10638 [04:15<13:23,  8.69it/s]"
     ]
    },
    {
     "name": "stdout",
     "output_type": "stream",
     "text": [
      "Another Candidate\n",
      "2\n",
      "Another Candidate\n",
      "2\n"
     ]
    },
    {
     "name": "stderr",
     "output_type": "stream",
     "text": [
      " 34%|█████████████                         | 3665/10638 [04:16<14:00,  8.29it/s]"
     ]
    },
    {
     "name": "stdout",
     "output_type": "stream",
     "text": [
      "Another Candidate\n",
      "2\n",
      "Another Candidate\n",
      "2\n"
     ]
    },
    {
     "name": "stderr",
     "output_type": "stream",
     "text": [
      " 34%|█████████████                         | 3668/10638 [04:16<10:19, 11.25it/s]"
     ]
    },
    {
     "name": "stdout",
     "output_type": "stream",
     "text": [
      "Another Candidate\n",
      "2\n",
      "3\n",
      "2\n",
      "3\n"
     ]
    },
    {
     "name": "stderr",
     "output_type": "stream",
     "text": [
      "\r",
      " 34%|█████████████                         | 3670/10638 [04:16<09:08, 12.71it/s]"
     ]
    },
    {
     "name": "stdout",
     "output_type": "stream",
     "text": [
      "Another Candidate\n",
      "2\n",
      "Another Candidate\n",
      "3\n",
      "Another Candidate\n"
     ]
    },
    {
     "name": "stderr",
     "output_type": "stream",
     "text": [
      "\r",
      " 35%|█████████████                         | 3672/10638 [04:16<09:53, 11.74it/s]"
     ]
    },
    {
     "name": "stdout",
     "output_type": "stream",
     "text": [
      "3\n",
      "Another Candidate\n",
      "3\n"
     ]
    },
    {
     "name": "stderr",
     "output_type": "stream",
     "text": [
      "\r",
      " 35%|█████████████                         | 3674/10638 [04:17<11:55,  9.73it/s]"
     ]
    },
    {
     "name": "stdout",
     "output_type": "stream",
     "text": [
      "Another Candidate\n",
      "2\n",
      "3\n",
      "Another Candidate\n"
     ]
    },
    {
     "name": "stderr",
     "output_type": "stream",
     "text": [
      " 35%|█████████████▏                        | 3678/10638 [04:17<10:02, 11.56it/s]"
     ]
    },
    {
     "name": "stdout",
     "output_type": "stream",
     "text": [
      "Another Candidate\n",
      "3\n",
      "2\n",
      "3\n"
     ]
    },
    {
     "name": "stderr",
     "output_type": "stream",
     "text": [
      "\r",
      " 35%|█████████████▏                        | 3680/10638 [04:17<09:06, 12.73it/s]"
     ]
    },
    {
     "name": "stdout",
     "output_type": "stream",
     "text": [
      "3\n",
      "3\n",
      "Another Candidate\n",
      "Another Candidate\n"
     ]
    },
    {
     "name": "stderr",
     "output_type": "stream",
     "text": [
      "\r",
      " 35%|█████████████▏                        | 3682/10638 [04:17<14:10,  8.18it/s]"
     ]
    },
    {
     "name": "stdout",
     "output_type": "stream",
     "text": [
      "2\n",
      "Another Candidate\n",
      "2\n"
     ]
    },
    {
     "name": "stderr",
     "output_type": "stream",
     "text": [
      "\r",
      " 35%|█████████████▏                        | 3684/10638 [04:18<16:22,  7.08it/s]"
     ]
    },
    {
     "name": "stdout",
     "output_type": "stream",
     "text": [
      "Another Candidate\n",
      "2\n",
      "Another Candidate\n",
      "3\n",
      "Another Candidate\n"
     ]
    },
    {
     "name": "stderr",
     "output_type": "stream",
     "text": [
      " 35%|█████████████▏                        | 3687/10638 [04:18<12:40,  9.14it/s]"
     ]
    },
    {
     "name": "stdout",
     "output_type": "stream",
     "text": [
      "Another Candidate\n",
      "3\n",
      "3\n",
      "2\n",
      "3\n"
     ]
    },
    {
     "name": "stderr",
     "output_type": "stream",
     "text": [
      "\r",
      " 35%|█████████████▏                        | 3689/10638 [04:18<11:31, 10.05it/s]"
     ]
    },
    {
     "name": "stdout",
     "output_type": "stream",
     "text": [
      "Another Candidate\n",
      "3\n",
      "Another Candidate\n",
      "3\n"
     ]
    },
    {
     "name": "stderr",
     "output_type": "stream",
     "text": [
      " 35%|█████████████▏                        | 3694/10638 [04:19<08:58, 12.89it/s]"
     ]
    },
    {
     "name": "stdout",
     "output_type": "stream",
     "text": [
      "Another Candidate\n",
      "3\n",
      "3\n",
      "3\n",
      "2\n"
     ]
    },
    {
     "name": "stderr",
     "output_type": "stream",
     "text": [
      " 35%|█████████████▏                        | 3699/10638 [04:19<07:18, 15.82it/s]"
     ]
    },
    {
     "name": "stdout",
     "output_type": "stream",
     "text": [
      "2\n",
      "2\n",
      "2\n",
      "2\n"
     ]
    },
    {
     "name": "stderr",
     "output_type": "stream",
     "text": [
      "\r",
      " 35%|█████████████▏                        | 3701/10638 [04:19<07:02, 16.43it/s]"
     ]
    },
    {
     "name": "stdout",
     "output_type": "stream",
     "text": [
      "2\n",
      "2\n",
      "2\n",
      "2\n"
     ]
    },
    {
     "name": "stderr",
     "output_type": "stream",
     "text": [
      " 35%|█████████████▏                        | 3705/10638 [04:19<10:55, 10.58it/s]"
     ]
    },
    {
     "name": "stdout",
     "output_type": "stream",
     "text": [
      "2\n",
      "2\n",
      "2\n",
      "3\n"
     ]
    },
    {
     "name": "stderr",
     "output_type": "stream",
     "text": [
      " 35%|█████████████▏                        | 3709/10638 [04:20<08:36, 13.43it/s]"
     ]
    },
    {
     "name": "stdout",
     "output_type": "stream",
     "text": [
      "3\n",
      "3\n",
      "3\n",
      "3\n"
     ]
    },
    {
     "name": "stderr",
     "output_type": "stream",
     "text": [
      " 35%|█████████████▎                        | 3713/10638 [04:20<07:42, 14.96it/s]"
     ]
    },
    {
     "name": "stdout",
     "output_type": "stream",
     "text": [
      "3\n",
      "3\n",
      "3\n",
      "3\n"
     ]
    },
    {
     "name": "stderr",
     "output_type": "stream",
     "text": [
      " 35%|█████████████▎                        | 3717/10638 [04:20<07:22, 15.65it/s]"
     ]
    },
    {
     "name": "stdout",
     "output_type": "stream",
     "text": [
      "3\n",
      "3\n",
      "3\n",
      "3\n"
     ]
    },
    {
     "name": "stderr",
     "output_type": "stream",
     "text": [
      " 35%|█████████████▎                        | 3721/10638 [04:20<07:21, 15.67it/s]"
     ]
    },
    {
     "name": "stdout",
     "output_type": "stream",
     "text": [
      "3\n",
      "3\n",
      "3\n",
      "3\n"
     ]
    },
    {
     "name": "stderr",
     "output_type": "stream",
     "text": [
      " 35%|█████████████▎                        | 3725/10638 [04:21<06:43, 17.12it/s]"
     ]
    },
    {
     "name": "stdout",
     "output_type": "stream",
     "text": [
      "3\n",
      "3\n",
      "3\n",
      "3\n",
      "3\n"
     ]
    },
    {
     "name": "stderr",
     "output_type": "stream",
     "text": [
      " 35%|█████████████▎                        | 3730/10638 [04:21<06:09, 18.67it/s]"
     ]
    },
    {
     "name": "stdout",
     "output_type": "stream",
     "text": [
      "3\n",
      "3\n",
      "3\n",
      "2\n",
      "Unique\n",
      "Unique\n",
      "Unique\n",
      "2\n"
     ]
    },
    {
     "name": "stderr",
     "output_type": "stream",
     "text": [
      " 35%|█████████████▎                        | 3739/10638 [04:21<04:52, 23.60it/s]"
     ]
    },
    {
     "name": "stdout",
     "output_type": "stream",
     "text": [
      "2\n",
      "3\n",
      "3\n",
      "2\n"
     ]
    },
    {
     "name": "stderr",
     "output_type": "stream",
     "text": [
      "\r",
      " 35%|█████████████▎                        | 3742/10638 [04:21<05:33, 20.65it/s]"
     ]
    },
    {
     "name": "stdout",
     "output_type": "stream",
     "text": [
      "2\n",
      "2\n",
      "2\n",
      "Another Candidate\n"
     ]
    },
    {
     "name": "stderr",
     "output_type": "stream",
     "text": [
      "\r",
      " 35%|█████████████▍                        | 3745/10638 [04:22<07:03, 16.26it/s]"
     ]
    },
    {
     "name": "stdout",
     "output_type": "stream",
     "text": [
      "2\n",
      "Another Candidate\n",
      "2\n",
      "Another Candidate\n",
      "2\n"
     ]
    },
    {
     "name": "stderr",
     "output_type": "stream",
     "text": [
      "\r",
      " 35%|█████████████▍                        | 3747/10638 [04:22<07:58, 14.40it/s]"
     ]
    },
    {
     "name": "stdout",
     "output_type": "stream",
     "text": [
      "Another Candidate\n",
      "2\n",
      "Another Candidate\n",
      "3\n"
     ]
    },
    {
     "name": "stderr",
     "output_type": "stream",
     "text": [
      "\r",
      " 35%|█████████████▍                        | 3749/10638 [04:22<09:03, 12.68it/s]"
     ]
    },
    {
     "name": "stdout",
     "output_type": "stream",
     "text": [
      "Another Candidate\n",
      "3\n",
      "Another Candidate\n",
      "3\n"
     ]
    },
    {
     "name": "stderr",
     "output_type": "stream",
     "text": [
      "\r",
      " 35%|█████████████▍                        | 3751/10638 [04:22<09:30, 12.07it/s]"
     ]
    },
    {
     "name": "stdout",
     "output_type": "stream",
     "text": [
      "Another Candidate\n",
      "3\n",
      "Another Candidate\n",
      "3\n"
     ]
    },
    {
     "name": "stderr",
     "output_type": "stream",
     "text": [
      "\r",
      " 35%|█████████████▍                        | 3753/10638 [04:22<10:09, 11.29it/s]"
     ]
    },
    {
     "name": "stdout",
     "output_type": "stream",
     "text": [
      "Another Candidate\n",
      "3\n",
      "Another Candidate\n",
      "3\n",
      "Another Candidate\n"
     ]
    },
    {
     "name": "stderr",
     "output_type": "stream",
     "text": [
      "\r",
      " 35%|█████████████▍                        | 3755/10638 [04:23<10:01, 11.43it/s]"
     ]
    },
    {
     "name": "stdout",
     "output_type": "stream",
     "text": [
      "3\n",
      "Another Candidate\n",
      "2\n",
      "Another Candidate\n",
      "2\n"
     ]
    },
    {
     "name": "stderr",
     "output_type": "stream",
     "text": [
      "\r",
      " 35%|█████████████▍                        | 3757/10638 [04:23<09:56, 11.54it/s]"
     ]
    },
    {
     "name": "stdout",
     "output_type": "stream",
     "text": [
      "Another Candidate\n",
      "2\n",
      "Another Candidate\n",
      "2\n",
      "Another Candidate\n"
     ]
    },
    {
     "name": "stderr",
     "output_type": "stream",
     "text": [
      " 35%|█████████████▍                        | 3765/10638 [04:23<06:30, 17.60it/s]"
     ]
    },
    {
     "name": "stdout",
     "output_type": "stream",
     "text": [
      "2\n",
      "Another Candidate\n",
      "Unique\n",
      "Unique\n",
      "Unique\n",
      "Unique\n",
      "2\n",
      "Another Candidate\n",
      "2\n"
     ]
    },
    {
     "name": "stderr",
     "output_type": "stream",
     "text": [
      "\r",
      " 35%|█████████████▍                        | 3767/10638 [04:23<07:42, 14.86it/s]"
     ]
    },
    {
     "name": "stdout",
     "output_type": "stream",
     "text": [
      "Another Candidate\n",
      "2\n",
      "Another Candidate\n",
      "2\n"
     ]
    },
    {
     "name": "stderr",
     "output_type": "stream",
     "text": [
      "\r",
      " 35%|█████████████▍                        | 3769/10638 [04:24<08:27, 13.54it/s]"
     ]
    },
    {
     "name": "stdout",
     "output_type": "stream",
     "text": [
      "Another Candidate\n",
      "2\n",
      "Another Candidate\n",
      "2\n",
      "Another Candidate\n"
     ]
    },
    {
     "name": "stderr",
     "output_type": "stream",
     "text": [
      "\r",
      " 35%|█████████████▍                        | 3771/10638 [04:24<09:07, 12.55it/s]"
     ]
    },
    {
     "name": "stdout",
     "output_type": "stream",
     "text": [
      "3\n",
      "Another Candidate\n",
      "3\n",
      "Another Candidate\n"
     ]
    },
    {
     "name": "stderr",
     "output_type": "stream",
     "text": [
      " 35%|█████████████▍                        | 3775/10638 [04:24<08:55, 12.82it/s]"
     ]
    },
    {
     "name": "stdout",
     "output_type": "stream",
     "text": [
      "2\n",
      "2\n",
      "2\n"
     ]
    },
    {
     "name": "stderr",
     "output_type": "stream",
     "text": [
      "\r",
      " 36%|█████████████▍                        | 3777/10638 [04:24<09:17, 12.31it/s]"
     ]
    },
    {
     "name": "stdout",
     "output_type": "stream",
     "text": [
      "2\n",
      "3\n",
      "Another Candidate\n",
      "3\n"
     ]
    },
    {
     "name": "stderr",
     "output_type": "stream",
     "text": [
      "\r",
      " 36%|█████████████▍                        | 3779/10638 [04:25<10:45, 10.63it/s]"
     ]
    },
    {
     "name": "stdout",
     "output_type": "stream",
     "text": [
      "Another Candidate\n",
      "3\n",
      "Another Candidate\n",
      "3\n"
     ]
    },
    {
     "name": "stderr",
     "output_type": "stream",
     "text": [
      "\r",
      " 36%|█████████████▌                        | 3781/10638 [04:25<10:57, 10.43it/s]"
     ]
    },
    {
     "name": "stdout",
     "output_type": "stream",
     "text": [
      "Another Candidate\n",
      "3\n",
      "Another Candidate\n",
      "3\n"
     ]
    },
    {
     "name": "stderr",
     "output_type": "stream",
     "text": [
      "\r",
      " 36%|█████████████▌                        | 3783/10638 [04:25<12:16,  9.31it/s]"
     ]
    },
    {
     "name": "stdout",
     "output_type": "stream",
     "text": [
      "Another Candidate\n",
      "3\n",
      "Another Candidate\n"
     ]
    },
    {
     "name": "stderr",
     "output_type": "stream",
     "text": [
      "\r",
      " 36%|█████████████▌                        | 3784/10638 [04:25<12:37,  9.04it/s]"
     ]
    },
    {
     "name": "stdout",
     "output_type": "stream",
     "text": [
      "3\n",
      "Another Candidate\n",
      "3\n",
      "Another Candidate\n",
      "3\n",
      "Another Candidate\n"
     ]
    },
    {
     "name": "stderr",
     "output_type": "stream",
     "text": [
      " 36%|█████████████▌                        | 3787/10638 [04:25<12:27,  9.17it/s]"
     ]
    },
    {
     "name": "stdout",
     "output_type": "stream",
     "text": [
      "3\n",
      "Another Candidate\n",
      "3\n",
      "Another Candidate\n"
     ]
    },
    {
     "name": "stderr",
     "output_type": "stream",
     "text": [
      "\r",
      " 36%|█████████████▌                        | 3789/10638 [04:26<11:55,  9.57it/s]"
     ]
    },
    {
     "name": "stdout",
     "output_type": "stream",
     "text": [
      "3\n",
      "Another Candidate\n",
      "3\n",
      "Another Candidate\n",
      "3\n"
     ]
    },
    {
     "name": "stderr",
     "output_type": "stream",
     "text": [
      "\r",
      " 36%|█████████████▌                        | 3791/10638 [04:26<11:41,  9.76it/s]"
     ]
    },
    {
     "name": "stdout",
     "output_type": "stream",
     "text": [
      "Another Candidate\n",
      "3\n",
      "Another Candidate\n",
      "3\n",
      "Another Candidate\n"
     ]
    },
    {
     "name": "stderr",
     "output_type": "stream",
     "text": [
      "\r",
      " 36%|█████████████▌                        | 3793/10638 [04:26<11:14, 10.14it/s]"
     ]
    },
    {
     "name": "stdout",
     "output_type": "stream",
     "text": [
      "3\n",
      "Another Candidate\n",
      "3\n",
      "Another Candidate\n"
     ]
    },
    {
     "name": "stderr",
     "output_type": "stream",
     "text": [
      " 36%|█████████████▌                        | 3797/10638 [04:26<10:55, 10.44it/s]"
     ]
    },
    {
     "name": "stdout",
     "output_type": "stream",
     "text": [
      "2\n",
      "3\n",
      "3\n"
     ]
    },
    {
     "name": "stderr",
     "output_type": "stream",
     "text": [
      " 36%|█████████████▌                        | 3801/10638 [04:27<08:58, 12.71it/s]"
     ]
    },
    {
     "name": "stdout",
     "output_type": "stream",
     "text": [
      "3\n",
      "3\n",
      "3\n",
      "3\n"
     ]
    },
    {
     "name": "stderr",
     "output_type": "stream",
     "text": [
      " 36%|█████████████▌                        | 3805/10638 [04:27<07:40, 14.84it/s]"
     ]
    },
    {
     "name": "stdout",
     "output_type": "stream",
     "text": [
      "3\n",
      "2\n",
      "2\n",
      "2\n"
     ]
    },
    {
     "name": "stderr",
     "output_type": "stream",
     "text": [
      " 36%|█████████████▌                        | 3809/10638 [04:27<06:51, 16.61it/s]"
     ]
    },
    {
     "name": "stdout",
     "output_type": "stream",
     "text": [
      "2\n",
      "3\n",
      "3\n",
      "2\n"
     ]
    },
    {
     "name": "stderr",
     "output_type": "stream",
     "text": [
      "\r",
      " 36%|█████████████▌                        | 3811/10638 [04:27<07:21, 15.47it/s]"
     ]
    },
    {
     "name": "stdout",
     "output_type": "stream",
     "text": [
      "3\n",
      "3\n",
      "2\n"
     ]
    },
    {
     "name": "stderr",
     "output_type": "stream",
     "text": [
      " 36%|█████████████▋                        | 3815/10638 [04:28<08:24, 13.53it/s]"
     ]
    },
    {
     "name": "stdout",
     "output_type": "stream",
     "text": [
      "2\n",
      "2\n",
      "2\n"
     ]
    },
    {
     "name": "stderr",
     "output_type": "stream",
     "text": [
      "\r",
      " 36%|█████████████▋                        | 3817/10638 [04:28<08:54, 12.76it/s]"
     ]
    },
    {
     "name": "stdout",
     "output_type": "stream",
     "text": [
      "2\n",
      "2\n",
      "2\n"
     ]
    },
    {
     "name": "stderr",
     "output_type": "stream",
     "text": [
      " 36%|█████████████▋                        | 3821/10638 [04:28<09:56, 11.43it/s]"
     ]
    },
    {
     "name": "stdout",
     "output_type": "stream",
     "text": [
      "2\n",
      "2\n",
      "2\n"
     ]
    },
    {
     "name": "stderr",
     "output_type": "stream",
     "text": [
      "\r",
      " 36%|█████████████▋                        | 3823/10638 [04:28<09:58, 11.38it/s]"
     ]
    },
    {
     "name": "stdout",
     "output_type": "stream",
     "text": [
      "2\n",
      "2\n",
      "2\n"
     ]
    },
    {
     "name": "stderr",
     "output_type": "stream",
     "text": [
      " 36%|█████████████▋                        | 3827/10638 [04:29<10:01, 11.33it/s]"
     ]
    },
    {
     "name": "stdout",
     "output_type": "stream",
     "text": [
      "2\n",
      "2\n",
      "2\n"
     ]
    },
    {
     "name": "stderr",
     "output_type": "stream",
     "text": [
      "\r",
      " 36%|█████████████▋                        | 3829/10638 [04:29<10:09, 11.17it/s]"
     ]
    },
    {
     "name": "stdout",
     "output_type": "stream",
     "text": [
      "2\n",
      "Another Candidate\n",
      "3\n",
      "Another Candidate\n",
      "3\n"
     ]
    },
    {
     "name": "stderr",
     "output_type": "stream",
     "text": [
      "\r",
      " 36%|█████████████▋                        | 3831/10638 [04:29<09:52, 11.48it/s]"
     ]
    },
    {
     "name": "stdout",
     "output_type": "stream",
     "text": [
      "Another Candidate\n",
      "3\n",
      "Another Candidate\n",
      "3\n",
      "Another Candidate\n"
     ]
    },
    {
     "name": "stderr",
     "output_type": "stream",
     "text": [
      " 36%|█████████████▋                        | 3835/10638 [04:29<09:50, 11.53it/s]"
     ]
    },
    {
     "name": "stdout",
     "output_type": "stream",
     "text": [
      "3\n",
      "Another Candidate\n",
      "3\n",
      "Another Candidate\n",
      "3\n"
     ]
    },
    {
     "name": "stderr",
     "output_type": "stream",
     "text": [
      "\r",
      " 36%|█████████████▋                        | 3837/10638 [04:30<09:35, 11.82it/s]"
     ]
    },
    {
     "name": "stdout",
     "output_type": "stream",
     "text": [
      "Another Candidate\n",
      "3\n",
      "Another Candidate\n",
      "3\n",
      "Another Candidate\n",
      "3\n"
     ]
    },
    {
     "name": "stderr",
     "output_type": "stream",
     "text": [
      " 36%|█████████████▋                        | 3841/10638 [04:30<09:13, 12.29it/s]"
     ]
    },
    {
     "name": "stdout",
     "output_type": "stream",
     "text": [
      "Another Candidate\n",
      "3\n",
      "Another Candidate\n",
      "3\n",
      "Another Candidate\n",
      "3\n"
     ]
    },
    {
     "name": "stderr",
     "output_type": "stream",
     "text": [
      "\r",
      " 36%|█████████████▋                        | 3843/10638 [04:30<09:31, 11.89it/s]"
     ]
    },
    {
     "name": "stdout",
     "output_type": "stream",
     "text": [
      "Another Candidate\n",
      "3\n",
      "Another Candidate\n",
      "3\n"
     ]
    },
    {
     "name": "stderr",
     "output_type": "stream",
     "text": [
      "\r",
      " 36%|█████████████▋                        | 3845/10638 [04:30<10:22, 10.91it/s]"
     ]
    },
    {
     "name": "stdout",
     "output_type": "stream",
     "text": [
      "Another Candidate\n",
      "3\n",
      "Another Candidate\n",
      "3\n"
     ]
    },
    {
     "name": "stderr",
     "output_type": "stream",
     "text": [
      "\r",
      " 36%|█████████████▋                        | 3847/10638 [04:30<10:24, 10.88it/s]"
     ]
    },
    {
     "name": "stdout",
     "output_type": "stream",
     "text": [
      "Another Candidate\n",
      "3\n",
      "Another Candidate\n",
      "3\n",
      "Another Candidate\n"
     ]
    },
    {
     "name": "stderr",
     "output_type": "stream",
     "text": [
      "\r",
      " 36%|█████████████▋                        | 3849/10638 [04:31<10:47, 10.49it/s]"
     ]
    },
    {
     "name": "stdout",
     "output_type": "stream",
     "text": [
      "3\n",
      "Another Candidate\n",
      "3\n",
      "Another Candidate\n",
      "3\n"
     ]
    },
    {
     "name": "stderr",
     "output_type": "stream",
     "text": [
      " 36%|█████████████▊                        | 3853/10638 [04:31<09:36, 11.78it/s]"
     ]
    },
    {
     "name": "stdout",
     "output_type": "stream",
     "text": [
      "Another Candidate\n",
      "3\n",
      "Another Candidate\n",
      "3\n",
      "Another Candidate\n",
      "2\n"
     ]
    },
    {
     "name": "stderr",
     "output_type": "stream",
     "text": [
      " 36%|█████████████▊                        | 3865/10638 [04:31<03:48, 29.58it/s]"
     ]
    },
    {
     "name": "stdout",
     "output_type": "stream",
     "text": [
      "2\n",
      "Unique\n",
      "Unique\n",
      "Unique\n",
      "Unique\n",
      "Unique\n",
      "Unique\n",
      "Unique\n",
      "Unique\n",
      "3\n",
      "Another Candidate\n",
      "3\n",
      "Another Candidate\n",
      "3\n",
      "Another Candidate\n",
      "3\n",
      "Another Candidate\n",
      "3\n",
      "Another Candidate\n",
      "3\n"
     ]
    },
    {
     "name": "stderr",
     "output_type": "stream",
     "text": [
      "\r",
      " 36%|█████████████▊                        | 3869/10638 [04:31<05:05, 22.15it/s]"
     ]
    },
    {
     "name": "stdout",
     "output_type": "stream",
     "text": [
      "Another Candidate\n",
      "3\n",
      "Another Candidate\n",
      "3\n",
      "Another Candidate\n",
      "3\n"
     ]
    },
    {
     "name": "stderr",
     "output_type": "stream",
     "text": [
      "\r",
      " 36%|█████████████▊                        | 3872/10638 [04:32<05:47, 19.46it/s]"
     ]
    },
    {
     "name": "stdout",
     "output_type": "stream",
     "text": [
      "Another Candidate\n",
      "3\n",
      "Another Candidate\n",
      "3\n",
      "Another Candidate\n",
      "3\n"
     ]
    },
    {
     "name": "stderr",
     "output_type": "stream",
     "text": [
      " 36%|█████████████▊                        | 3877/10638 [04:32<06:43, 16.75it/s]"
     ]
    },
    {
     "name": "stdout",
     "output_type": "stream",
     "text": [
      "Another Candidate\n",
      "3\n",
      "Another Candidate\n",
      "3\n",
      "Another Candidate\n",
      "3\n"
     ]
    },
    {
     "name": "stderr",
     "output_type": "stream",
     "text": [
      "\r",
      " 36%|█████████████▊                        | 3879/10638 [04:32<07:02, 15.99it/s]"
     ]
    },
    {
     "name": "stdout",
     "output_type": "stream",
     "text": [
      "Another Candidate\n",
      "3\n",
      "Another Candidate\n",
      "2\n",
      "2\n",
      "2\n"
     ]
    },
    {
     "name": "stderr",
     "output_type": "stream",
     "text": [
      " 37%|█████████████▉                        | 3885/10638 [04:33<06:27, 17.42it/s]"
     ]
    },
    {
     "name": "stdout",
     "output_type": "stream",
     "text": [
      "Unique\n",
      "2\n",
      "Another Candidate\n",
      "2\n",
      "Another Candidate\n",
      "2\n"
     ]
    },
    {
     "name": "stderr",
     "output_type": "stream",
     "text": [
      "\r",
      " 37%|█████████████▉                        | 3887/10638 [04:33<07:02, 15.97it/s]"
     ]
    },
    {
     "name": "stdout",
     "output_type": "stream",
     "text": [
      "Another Candidate\n",
      "3\n",
      "Another Candidate\n",
      "3\n",
      "Another Candidate\n",
      "3\n"
     ]
    },
    {
     "name": "stderr",
     "output_type": "stream",
     "text": [
      " 37%|█████████████▉                        | 3891/10638 [04:33<07:55, 14.18it/s]"
     ]
    },
    {
     "name": "stdout",
     "output_type": "stream",
     "text": [
      "Another Candidate\n",
      "3\n",
      "Another Candidate\n",
      "3\n",
      "Another Candidate\n",
      "3\n"
     ]
    },
    {
     "name": "stderr",
     "output_type": "stream",
     "text": [
      "\r",
      " 37%|█████████████▉                        | 3893/10638 [04:33<08:47, 12.78it/s]"
     ]
    },
    {
     "name": "stdout",
     "output_type": "stream",
     "text": [
      "Another Candidate\n",
      "2\n",
      "Another Candidate\n",
      "2\n",
      "Another Candidate\n"
     ]
    },
    {
     "name": "stderr",
     "output_type": "stream",
     "text": [
      "\r",
      " 37%|█████████████▉                        | 3895/10638 [04:33<09:07, 12.32it/s]"
     ]
    },
    {
     "name": "stdout",
     "output_type": "stream",
     "text": [
      "2\n",
      "Another Candidate\n",
      "2\n",
      "Another Candidate\n",
      "2\n"
     ]
    },
    {
     "name": "stderr",
     "output_type": "stream",
     "text": [
      "\r",
      " 37%|█████████████▉                        | 3897/10638 [04:34<09:43, 11.55it/s]"
     ]
    },
    {
     "name": "stdout",
     "output_type": "stream",
     "text": [
      "Another Candidate\n",
      "2\n",
      "Another Candidate\n",
      "2\n"
     ]
    },
    {
     "name": "stderr",
     "output_type": "stream",
     "text": [
      "\r",
      " 37%|█████████████▉                        | 3899/10638 [04:34<10:06, 11.11it/s]"
     ]
    },
    {
     "name": "stdout",
     "output_type": "stream",
     "text": [
      "Another Candidate\n",
      "3\n",
      "Another Candidate\n",
      "3\n",
      "Another Candidate\n"
     ]
    },
    {
     "name": "stderr",
     "output_type": "stream",
     "text": [
      " 37%|█████████████▉                        | 3903/10638 [04:34<09:42, 11.57it/s]"
     ]
    },
    {
     "name": "stdout",
     "output_type": "stream",
     "text": [
      "3\n",
      "Another Candidate\n",
      "3\n",
      "Another Candidate\n",
      "3\n"
     ]
    },
    {
     "name": "stderr",
     "output_type": "stream",
     "text": [
      "\r",
      " 37%|█████████████▉                        | 3905/10638 [04:34<09:41, 11.59it/s]"
     ]
    },
    {
     "name": "stdout",
     "output_type": "stream",
     "text": [
      "Another Candidate\n",
      "3\n",
      "Another Candidate\n",
      "3\n",
      "Another Candidate\n"
     ]
    },
    {
     "name": "stderr",
     "output_type": "stream",
     "text": [
      "\r",
      " 37%|█████████████▉                        | 3907/10638 [04:34<09:48, 11.43it/s]"
     ]
    },
    {
     "name": "stdout",
     "output_type": "stream",
     "text": [
      "3\n",
      "Another Candidate\n",
      "3\n",
      "Another Candidate\n",
      "3\n"
     ]
    },
    {
     "name": "stderr",
     "output_type": "stream",
     "text": [
      " 37%|█████████████▉                        | 3911/10638 [04:35<09:19, 12.02it/s]"
     ]
    },
    {
     "name": "stdout",
     "output_type": "stream",
     "text": [
      "Another Candidate\n",
      "3\n",
      "Another Candidate\n",
      "3\n",
      "Another Candidate\n",
      "3\n"
     ]
    },
    {
     "name": "stderr",
     "output_type": "stream",
     "text": [
      "\r",
      " 37%|█████████████▉                        | 3913/10638 [04:35<09:12, 12.18it/s]"
     ]
    },
    {
     "name": "stdout",
     "output_type": "stream",
     "text": [
      "Another Candidate\n",
      "3\n",
      "Another Candidate\n",
      "3\n",
      "Another Candidate\n",
      "3\n"
     ]
    },
    {
     "name": "stderr",
     "output_type": "stream",
     "text": [
      "\r",
      " 37%|█████████████▉                        | 3915/10638 [04:35<09:01, 12.41it/s]"
     ]
    },
    {
     "name": "stdout",
     "output_type": "stream",
     "text": [
      "Another Candidate\n",
      "3\n",
      "Another Candidate\n",
      "3\n",
      "Another Candidate\n"
     ]
    },
    {
     "name": "stderr",
     "output_type": "stream",
     "text": [
      " 37%|█████████████▉                        | 3919/10638 [04:35<09:28, 11.81it/s]"
     ]
    },
    {
     "name": "stdout",
     "output_type": "stream",
     "text": [
      "3\n",
      "Another Candidate\n",
      "3\n",
      "Another Candidate\n",
      "3\n"
     ]
    },
    {
     "name": "stderr",
     "output_type": "stream",
     "text": [
      "\r",
      " 37%|██████████████                        | 3921/10638 [04:36<09:14, 12.12it/s]"
     ]
    },
    {
     "name": "stdout",
     "output_type": "stream",
     "text": [
      "Another Candidate\n",
      "3\n",
      "Another Candidate\n",
      "3\n",
      "Another Candidate\n",
      "3\n"
     ]
    },
    {
     "name": "stderr",
     "output_type": "stream",
     "text": [
      "\r",
      " 37%|██████████████                        | 3923/10638 [04:36<09:09, 12.21it/s]"
     ]
    },
    {
     "name": "stdout",
     "output_type": "stream",
     "text": [
      "Another Candidate\n",
      "3\n",
      "Another Candidate\n",
      "3\n",
      "Another Candidate\n"
     ]
    },
    {
     "name": "stderr",
     "output_type": "stream",
     "text": [
      " 37%|██████████████                        | 3927/10638 [04:36<09:28, 11.80it/s]"
     ]
    },
    {
     "name": "stdout",
     "output_type": "stream",
     "text": [
      "3\n",
      "Another Candidate\n",
      "3\n",
      "Another Candidate\n",
      "3\n"
     ]
    },
    {
     "name": "stderr",
     "output_type": "stream",
     "text": [
      "\r",
      " 37%|██████████████                        | 3929/10638 [04:36<09:28, 11.81it/s]"
     ]
    },
    {
     "name": "stdout",
     "output_type": "stream",
     "text": [
      "Another Candidate\n",
      "3\n",
      "Another Candidate\n",
      "2\n"
     ]
    },
    {
     "name": "stderr",
     "output_type": "stream",
     "text": [
      "\r",
      " 37%|██████████████                        | 3931/10638 [04:36<10:17, 10.86it/s]"
     ]
    },
    {
     "name": "stdout",
     "output_type": "stream",
     "text": [
      "Another Candidate\n",
      "3\n",
      "Another Candidate\n",
      "2\n",
      "2\n"
     ]
    },
    {
     "name": "stderr",
     "output_type": "stream",
     "text": [
      " 37%|██████████████                        | 3937/10638 [04:37<06:39, 16.79it/s]"
     ]
    },
    {
     "name": "stdout",
     "output_type": "stream",
     "text": [
      "Unique\n",
      "Unique\n",
      "2\n",
      "2\n",
      "2\n",
      "2\n"
     ]
    },
    {
     "name": "stderr",
     "output_type": "stream",
     "text": [
      "\r",
      " 37%|██████████████                        | 3939/10638 [04:37<07:26, 15.00it/s]"
     ]
    },
    {
     "name": "stdout",
     "output_type": "stream",
     "text": [
      "Another Candidate\n",
      "3\n",
      "Another Candidate\n",
      "Another Candidate\n",
      "3\n"
     ]
    },
    {
     "name": "stderr",
     "output_type": "stream",
     "text": [
      " 37%|██████████████                        | 3943/10638 [04:37<08:35, 12.99it/s]"
     ]
    },
    {
     "name": "stdout",
     "output_type": "stream",
     "text": [
      "3\n",
      "3\n",
      "Another Candidate\n",
      "2\n"
     ]
    },
    {
     "name": "stderr",
     "output_type": "stream",
     "text": [
      " 37%|██████████████                        | 3947/10638 [04:38<07:52, 14.16it/s]"
     ]
    },
    {
     "name": "stdout",
     "output_type": "stream",
     "text": [
      "2\n",
      "2\n",
      "2\n",
      "2\n"
     ]
    },
    {
     "name": "stderr",
     "output_type": "stream",
     "text": [
      " 37%|██████████████                        | 3951/10638 [04:38<07:24, 15.04it/s]"
     ]
    },
    {
     "name": "stdout",
     "output_type": "stream",
     "text": [
      "2\n",
      "2\n",
      "2\n",
      "2\n"
     ]
    },
    {
     "name": "stderr",
     "output_type": "stream",
     "text": [
      "\r",
      " 37%|██████████████▏                       | 3955/10638 [04:38<05:53, 18.91it/s]"
     ]
    },
    {
     "name": "stdout",
     "output_type": "stream",
     "text": [
      "Unique\n",
      "Unique\n",
      "3\n",
      "Another Candidate\n",
      "3\n",
      "Another Candidate\n",
      "2\n"
     ]
    },
    {
     "name": "stderr",
     "output_type": "stream",
     "text": [
      "\r",
      " 37%|██████████████▏                       | 3957/10638 [04:38<07:05, 15.69it/s]"
     ]
    },
    {
     "name": "stdout",
     "output_type": "stream",
     "text": [
      "Another Candidate\n",
      "2\n",
      "Another Candidate\n",
      "2\n"
     ]
    },
    {
     "name": "stderr",
     "output_type": "stream",
     "text": [
      "\r",
      " 37%|██████████████▏                       | 3959/10638 [04:38<08:57, 12.43it/s]"
     ]
    },
    {
     "name": "stdout",
     "output_type": "stream",
     "text": [
      "Another Candidate\n",
      "2\n",
      "Another Candidate\n",
      "2\n"
     ]
    },
    {
     "name": "stderr",
     "output_type": "stream",
     "text": [
      "\r",
      " 37%|██████████████▏                       | 3961/10638 [04:39<10:23, 10.70it/s]"
     ]
    },
    {
     "name": "stdout",
     "output_type": "stream",
     "text": [
      "Another Candidate\n",
      "2\n",
      "Another Candidate\n",
      "2\n"
     ]
    },
    {
     "name": "stderr",
     "output_type": "stream",
     "text": [
      "\r",
      " 37%|██████████████▏                       | 3963/10638 [04:39<11:12,  9.93it/s]"
     ]
    },
    {
     "name": "stdout",
     "output_type": "stream",
     "text": [
      "Another Candidate\n",
      "2\n",
      "Another Candidate\n",
      "2\n"
     ]
    },
    {
     "name": "stderr",
     "output_type": "stream",
     "text": [
      "\r",
      " 37%|██████████████▏                       | 3965/10638 [04:39<11:42,  9.49it/s]"
     ]
    },
    {
     "name": "stdout",
     "output_type": "stream",
     "text": [
      "Another Candidate\n",
      "2\n",
      "Another Candidate\n",
      "2\n"
     ]
    },
    {
     "name": "stderr",
     "output_type": "stream",
     "text": [
      "\r",
      " 37%|██████████████▏                       | 3967/10638 [04:39<12:06,  9.19it/s]"
     ]
    },
    {
     "name": "stdout",
     "output_type": "stream",
     "text": [
      "Another Candidate\n",
      "2\n",
      "Another Candidate\n",
      "2\n",
      "Another Candidate\n"
     ]
    },
    {
     "name": "stderr",
     "output_type": "stream",
     "text": [
      "\r",
      " 37%|██████████████▏                       | 3969/10638 [04:40<11:18,  9.83it/s]"
     ]
    },
    {
     "name": "stdout",
     "output_type": "stream",
     "text": [
      "2\n",
      "Another Candidate\n",
      "2\n",
      "Another Candidate\n"
     ]
    },
    {
     "name": "stderr",
     "output_type": "stream",
     "text": [
      " 37%|██████████████▏                       | 3973/10638 [04:40<10:46, 10.31it/s]"
     ]
    },
    {
     "name": "stdout",
     "output_type": "stream",
     "text": [
      "2\n",
      "Another Candidate\n",
      "2\n",
      "Another Candidate\n",
      "2\n"
     ]
    },
    {
     "name": "stderr",
     "output_type": "stream",
     "text": [
      "\r",
      " 37%|██████████████▏                       | 3975/10638 [04:40<10:32, 10.53it/s]"
     ]
    },
    {
     "name": "stdout",
     "output_type": "stream",
     "text": [
      "Another Candidate\n",
      "3\n",
      "Another Candidate\n",
      "3\n"
     ]
    },
    {
     "name": "stderr",
     "output_type": "stream",
     "text": [
      "\r",
      " 37%|██████████████▏                       | 3977/10638 [04:40<10:41, 10.39it/s]"
     ]
    },
    {
     "name": "stdout",
     "output_type": "stream",
     "text": [
      "Another Candidate\n",
      "3\n",
      "Another Candidate\n",
      "3\n",
      "Another Candidate\n"
     ]
    },
    {
     "name": "stderr",
     "output_type": "stream",
     "text": [
      "\r",
      " 37%|██████████████▏                       | 3979/10638 [04:40<10:21, 10.71it/s]"
     ]
    },
    {
     "name": "stdout",
     "output_type": "stream",
     "text": [
      "3\n",
      "Another Candidate\n",
      "3\n",
      "Another Candidate\n",
      "3\n"
     ]
    },
    {
     "name": "stderr",
     "output_type": "stream",
     "text": [
      " 37%|██████████████▏                       | 3983/10638 [04:41<09:49, 11.28it/s]"
     ]
    },
    {
     "name": "stdout",
     "output_type": "stream",
     "text": [
      "Another Candidate\n",
      "3\n",
      "Another Candidate\n",
      "3\n",
      "Another Candidate\n",
      "3\n"
     ]
    },
    {
     "name": "stderr",
     "output_type": "stream",
     "text": [
      "\r",
      " 37%|██████████████▏                       | 3985/10638 [04:41<09:37, 11.51it/s]"
     ]
    },
    {
     "name": "stdout",
     "output_type": "stream",
     "text": [
      "Another Candidate\n",
      "3\n",
      "Another Candidate\n",
      "3\n",
      "Another Candidate\n"
     ]
    },
    {
     "name": "stderr",
     "output_type": "stream",
     "text": [
      "\r",
      " 37%|██████████████▏                       | 3987/10638 [04:41<09:50, 11.26it/s]"
     ]
    },
    {
     "name": "stdout",
     "output_type": "stream",
     "text": [
      "3\n",
      "Another Candidate\n",
      "3\n",
      "Another Candidate\n",
      "3\n"
     ]
    },
    {
     "name": "stderr",
     "output_type": "stream",
     "text": [
      " 38%|██████████████▎                       | 3991/10638 [04:41<09:11, 12.04it/s]"
     ]
    },
    {
     "name": "stdout",
     "output_type": "stream",
     "text": [
      "Another Candidate\n",
      "3\n",
      "Another Candidate\n",
      "2\n",
      "3\n"
     ]
    },
    {
     "name": "stderr",
     "output_type": "stream",
     "text": [
      "\r",
      " 38%|██████████████▎                       | 3993/10638 [04:42<09:26, 11.72it/s]"
     ]
    },
    {
     "name": "stdout",
     "output_type": "stream",
     "text": [
      "Another Candidate\n",
      "3\n",
      "Another Candidate\n",
      "2\n",
      "2\n"
     ]
    },
    {
     "name": "stderr",
     "output_type": "stream",
     "text": [
      " 38%|██████████████▎                       | 3997/10638 [04:42<08:14, 13.44it/s]"
     ]
    },
    {
     "name": "stdout",
     "output_type": "stream",
     "text": [
      "2\n",
      "2\n",
      "2\n",
      "2\n"
     ]
    },
    {
     "name": "stderr",
     "output_type": "stream",
     "text": [
      " 38%|██████████████▎                       | 4001/10638 [04:42<07:44, 14.29it/s]"
     ]
    },
    {
     "name": "stdout",
     "output_type": "stream",
     "text": [
      "2\n",
      "2\n",
      "2\n",
      "2\n"
     ]
    },
    {
     "name": "stderr",
     "output_type": "stream",
     "text": [
      " 38%|██████████████▎                       | 4005/10638 [04:42<06:55, 15.97it/s]"
     ]
    },
    {
     "name": "stdout",
     "output_type": "stream",
     "text": [
      "2\n",
      "2\n",
      "2\n",
      "2\n"
     ]
    },
    {
     "name": "stderr",
     "output_type": "stream",
     "text": [
      " 38%|██████████████▎                       | 4009/10638 [04:43<07:38, 14.46it/s]"
     ]
    },
    {
     "name": "stdout",
     "output_type": "stream",
     "text": [
      "2\n",
      "2\n",
      "2\n"
     ]
    },
    {
     "name": "stderr",
     "output_type": "stream",
     "text": [
      "\r",
      " 38%|██████████████▎                       | 4011/10638 [04:43<07:46, 14.20it/s]"
     ]
    },
    {
     "name": "stdout",
     "output_type": "stream",
     "text": [
      "2\n",
      "2\n",
      "2\n"
     ]
    },
    {
     "name": "stderr",
     "output_type": "stream",
     "text": [
      " 38%|██████████████▎                       | 4015/10638 [04:43<07:21, 15.02it/s]"
     ]
    },
    {
     "name": "stdout",
     "output_type": "stream",
     "text": [
      "2\n",
      "2\n",
      "3\n",
      "Another Candidate\n"
     ]
    },
    {
     "name": "stderr",
     "output_type": "stream",
     "text": [
      "\r",
      " 38%|██████████████▎                       | 4017/10638 [04:43<08:06, 13.62it/s]"
     ]
    },
    {
     "name": "stdout",
     "output_type": "stream",
     "text": [
      "3\n",
      "Another Candidate\n",
      "2\n",
      "2\n"
     ]
    },
    {
     "name": "stderr",
     "output_type": "stream",
     "text": [
      " 38%|██████████████▎                       | 4021/10638 [04:43<07:21, 14.99it/s]"
     ]
    },
    {
     "name": "stdout",
     "output_type": "stream",
     "text": [
      "2\n",
      "2\n",
      "2\n"
     ]
    },
    {
     "name": "stderr",
     "output_type": "stream",
     "text": [
      " 38%|██████████████▍                       | 4025/10638 [04:44<07:19, 15.06it/s]"
     ]
    },
    {
     "name": "stdout",
     "output_type": "stream",
     "text": [
      "2\n",
      "2\n",
      "2\n",
      "2\n"
     ]
    },
    {
     "name": "stderr",
     "output_type": "stream",
     "text": [
      "\r",
      " 38%|██████████████▍                       | 4027/10638 [04:44<07:09, 15.40it/s]"
     ]
    },
    {
     "name": "stdout",
     "output_type": "stream",
     "text": [
      "2\n",
      "2\n",
      "2\n"
     ]
    },
    {
     "name": "stderr",
     "output_type": "stream",
     "text": [
      " 38%|██████████████▍                       | 4031/10638 [04:44<07:39, 14.38it/s]"
     ]
    },
    {
     "name": "stdout",
     "output_type": "stream",
     "text": [
      "2\n",
      "2\n",
      "2\n"
     ]
    },
    {
     "name": "stderr",
     "output_type": "stream",
     "text": [
      "\r",
      " 38%|██████████████▌                       | 4064/10638 [04:44<01:22, 79.74it/s]"
     ]
    },
    {
     "name": "stdout",
     "output_type": "stream",
     "text": [
      "Unique\n",
      "Unique\n",
      "Unique\n",
      "Unique\n",
      "Unique\n",
      "Unique\n",
      "Unique\n",
      "Unique\n",
      "Unique\n",
      "Unique\n",
      "Unique\n",
      "Unique\n",
      "Unique\n",
      "Unique\n",
      "Unique\n",
      "Unique\n",
      "Unique\n",
      "Unique\n",
      "Unique\n",
      "Unique\n",
      "Unique\n",
      "Unique\n",
      "Unique\n",
      "Unique\n",
      "Unique\n",
      "Unique\n",
      "Unique\n",
      "Unique\n",
      "Unique\n",
      "Unique\n",
      "Unique\n",
      "2\n",
      "2\n",
      "2\n",
      "2\n",
      "2\n",
      "2\n",
      "2\n",
      "2\n",
      "2\n"
     ]
    },
    {
     "name": "stderr",
     "output_type": "stream",
     "text": [
      "\r",
      " 38%|██████████████▌                       | 4072/10638 [04:45<02:19, 46.92it/s]"
     ]
    },
    {
     "name": "stdout",
     "output_type": "stream",
     "text": [
      "2\n",
      "2\n",
      "2\n",
      "2\n",
      "2\n"
     ]
    },
    {
     "name": "stderr",
     "output_type": "stream",
     "text": [
      "\r",
      " 38%|██████████████▌                       | 4078/10638 [04:45<02:54, 37.51it/s]"
     ]
    },
    {
     "name": "stdout",
     "output_type": "stream",
     "text": [
      "2\n",
      "2\n",
      "2\n",
      "2\n",
      "2\n"
     ]
    },
    {
     "name": "stderr",
     "output_type": "stream",
     "text": [
      "\r",
      " 38%|██████████████▌                       | 4083/10638 [04:45<03:22, 32.37it/s]"
     ]
    },
    {
     "name": "stdout",
     "output_type": "stream",
     "text": [
      "2\n",
      "2\n",
      "2\n",
      "2\n",
      "2\n"
     ]
    },
    {
     "name": "stderr",
     "output_type": "stream",
     "text": [
      " 38%|██████████████▌                       | 4091/10638 [04:46<04:05, 26.62it/s]"
     ]
    },
    {
     "name": "stdout",
     "output_type": "stream",
     "text": [
      "2\n",
      "2\n",
      "2\n",
      "2\n",
      "2\n"
     ]
    },
    {
     "name": "stderr",
     "output_type": "stream",
     "text": [
      "\r",
      " 38%|██████████████▌                       | 4094/10638 [04:46<04:26, 24.60it/s]"
     ]
    },
    {
     "name": "stdout",
     "output_type": "stream",
     "text": [
      "2\n",
      "2\n",
      "2\n",
      "2\n"
     ]
    },
    {
     "name": "stderr",
     "output_type": "stream",
     "text": [
      "\r",
      " 39%|██████████████▋                       | 4097/10638 [04:46<04:57, 21.95it/s]"
     ]
    },
    {
     "name": "stdout",
     "output_type": "stream",
     "text": [
      "2\n",
      "Another Candidate\n",
      "3\n",
      "Another Candidate\n",
      "3\n"
     ]
    },
    {
     "name": "stderr",
     "output_type": "stream",
     "text": [
      "\r",
      " 39%|██████████████▋                       | 4100/10638 [04:46<05:46, 18.89it/s]"
     ]
    },
    {
     "name": "stdout",
     "output_type": "stream",
     "text": [
      "Another Candidate\n",
      "2\n",
      "2\n",
      "2\n"
     ]
    },
    {
     "name": "stderr",
     "output_type": "stream",
     "text": [
      " 39%|██████████████▋                       | 4104/10638 [04:47<06:30, 16.73it/s]"
     ]
    },
    {
     "name": "stdout",
     "output_type": "stream",
     "text": [
      "2\n",
      "2\n",
      "2\n"
     ]
    },
    {
     "name": "stderr",
     "output_type": "stream",
     "text": [
      " 39%|██████████████▋                       | 4108/10638 [04:47<06:44, 16.13it/s]"
     ]
    },
    {
     "name": "stdout",
     "output_type": "stream",
     "text": [
      "2\n",
      "2\n",
      "2\n",
      "2\n"
     ]
    },
    {
     "name": "stderr",
     "output_type": "stream",
     "text": [
      "\r",
      " 39%|██████████████▋                       | 4110/10638 [04:47<06:53, 15.80it/s]"
     ]
    },
    {
     "name": "stdout",
     "output_type": "stream",
     "text": [
      "2\n",
      "2\n",
      "2\n"
     ]
    },
    {
     "name": "stderr",
     "output_type": "stream",
     "text": [
      " 39%|██████████████▋                       | 4114/10638 [04:47<07:28, 14.55it/s]"
     ]
    },
    {
     "name": "stdout",
     "output_type": "stream",
     "text": [
      "2\n",
      "2\n",
      "2\n"
     ]
    },
    {
     "name": "stderr",
     "output_type": "stream",
     "text": [
      "\r",
      " 39%|██████████████▋                       | 4116/10638 [04:47<08:41, 12.51it/s]"
     ]
    },
    {
     "name": "stdout",
     "output_type": "stream",
     "text": [
      "2\n",
      "2\n"
     ]
    },
    {
     "name": "stderr",
     "output_type": "stream",
     "text": [
      " 39%|██████████████▋                       | 4120/10638 [04:48<07:56, 13.67it/s]"
     ]
    },
    {
     "name": "stdout",
     "output_type": "stream",
     "text": [
      "2\n",
      "2\n",
      "2\n",
      "2\n"
     ]
    },
    {
     "name": "stderr",
     "output_type": "stream",
     "text": [
      "\r",
      " 39%|██████████████▋                       | 4123/10638 [04:48<07:11, 15.11it/s]"
     ]
    },
    {
     "name": "stdout",
     "output_type": "stream",
     "text": [
      "Unique\n",
      "2\n",
      "Another Candidate\n",
      "2\n",
      "Another Candidate\n",
      "2\n"
     ]
    },
    {
     "name": "stderr",
     "output_type": "stream",
     "text": [
      "\r",
      " 39%|██████████████▋                       | 4125/10638 [04:48<08:40, 12.52it/s]"
     ]
    },
    {
     "name": "stdout",
     "output_type": "stream",
     "text": [
      "Another Candidate\n",
      "2\n",
      "Another Candidate\n"
     ]
    },
    {
     "name": "stderr",
     "output_type": "stream",
     "text": [
      "\r",
      " 39%|██████████████▋                       | 4127/10638 [04:48<11:05,  9.78it/s]"
     ]
    },
    {
     "name": "stdout",
     "output_type": "stream",
     "text": [
      "2\n",
      "Another Candidate\n",
      "2\n",
      "Another Candidate\n",
      "2\n",
      "Another Candidate\n"
     ]
    },
    {
     "name": "stderr",
     "output_type": "stream",
     "text": [
      " 39%|██████████████▊                       | 4130/10638 [04:49<13:51,  7.82it/s]"
     ]
    },
    {
     "name": "stdout",
     "output_type": "stream",
     "text": [
      "3\n",
      "Another Candidate\n",
      "Another Candidate\n",
      "3\n"
     ]
    },
    {
     "name": "stderr",
     "output_type": "stream",
     "text": [
      "\r",
      " 39%|██████████████▊                       | 4131/10638 [04:49<16:15,  6.67it/s]"
     ]
    },
    {
     "name": "stdout",
     "output_type": "stream",
     "text": [
      "Another Candidate\n",
      "Another Candidate\n",
      "2\n"
     ]
    },
    {
     "name": "stderr",
     "output_type": "stream",
     "text": [
      "\r",
      " 39%|██████████████▊                       | 4132/10638 [04:49<16:36,  6.53it/s]"
     ]
    },
    {
     "name": "stdout",
     "output_type": "stream",
     "text": [
      "Another Candidate\n",
      "2\n",
      "Another Candidate\n"
     ]
    },
    {
     "name": "stderr",
     "output_type": "stream",
     "text": [
      " 39%|██████████████▊                       | 4134/10638 [04:50<16:37,  6.52it/s]"
     ]
    },
    {
     "name": "stdout",
     "output_type": "stream",
     "text": [
      "2\n",
      "Another Candidate\n",
      "2\n"
     ]
    },
    {
     "name": "stderr",
     "output_type": "stream",
     "text": [
      " 39%|██████████████▊                       | 4136/10638 [04:50<15:26,  7.02it/s]"
     ]
    },
    {
     "name": "stdout",
     "output_type": "stream",
     "text": [
      "Another Candidate\n",
      "2\n",
      "Another Candidate\n",
      "2\n"
     ]
    },
    {
     "name": "stderr",
     "output_type": "stream",
     "text": [
      "\r",
      " 39%|██████████████▊                       | 4137/10638 [04:50<15:02,  7.20it/s]"
     ]
    },
    {
     "name": "stdout",
     "output_type": "stream",
     "text": [
      "Another Candidate\n",
      "2\n",
      "Another Candidate\n"
     ]
    },
    {
     "name": "stderr",
     "output_type": "stream",
     "text": [
      " 39%|██████████████▊                       | 4139/10638 [04:50<14:40,  7.38it/s]"
     ]
    },
    {
     "name": "stdout",
     "output_type": "stream",
     "text": [
      "2\n",
      "Another Candidate\n",
      "2\n",
      "Another Candidate\n"
     ]
    },
    {
     "name": "stderr",
     "output_type": "stream",
     "text": [
      " 39%|██████████████▊                       | 4141/10638 [04:51<13:35,  7.97it/s]"
     ]
    },
    {
     "name": "stdout",
     "output_type": "stream",
     "text": [
      "2\n",
      "Another Candidate\n",
      "2\n",
      "Another Candidate\n"
     ]
    },
    {
     "name": "stderr",
     "output_type": "stream",
     "text": [
      " 39%|██████████████▊                       | 4143/10638 [04:51<13:12,  8.19it/s]"
     ]
    },
    {
     "name": "stdout",
     "output_type": "stream",
     "text": [
      "2\n",
      "Another Candidate\n",
      "2\n",
      "Another Candidate\n"
     ]
    },
    {
     "name": "stderr",
     "output_type": "stream",
     "text": [
      " 39%|██████████████▊                       | 4145/10638 [04:51<13:44,  7.88it/s]"
     ]
    },
    {
     "name": "stdout",
     "output_type": "stream",
     "text": [
      "2\n",
      "Another Candidate\n",
      "2\n"
     ]
    },
    {
     "name": "stderr",
     "output_type": "stream",
     "text": [
      " 39%|██████████████▊                       | 4147/10638 [04:51<13:08,  8.23it/s]"
     ]
    },
    {
     "name": "stdout",
     "output_type": "stream",
     "text": [
      "Another Candidate\n",
      "2\n",
      "Another Candidate\n",
      "2\n"
     ]
    },
    {
     "name": "stderr",
     "output_type": "stream",
     "text": [
      " 39%|██████████████▊                       | 4149/10638 [04:52<12:57,  8.34it/s]"
     ]
    },
    {
     "name": "stdout",
     "output_type": "stream",
     "text": [
      "Another Candidate\n",
      "2\n",
      "Another Candidate\n",
      "2\n"
     ]
    },
    {
     "name": "stderr",
     "output_type": "stream",
     "text": [
      " 39%|██████████████▊                       | 4151/10638 [04:52<13:27,  8.03it/s]"
     ]
    },
    {
     "name": "stdout",
     "output_type": "stream",
     "text": [
      "Another Candidate\n",
      "2\n",
      "Another Candidate\n",
      "2\n"
     ]
    },
    {
     "name": "stderr",
     "output_type": "stream",
     "text": [
      " 39%|██████████████▊                       | 4153/10638 [04:52<12:37,  8.56it/s]"
     ]
    },
    {
     "name": "stdout",
     "output_type": "stream",
     "text": [
      "Another Candidate\n",
      "2\n",
      "Another Candidate\n",
      "2\n"
     ]
    },
    {
     "name": "stderr",
     "output_type": "stream",
     "text": [
      " 39%|██████████████▊                       | 4155/10638 [04:52<12:12,  8.85it/s]"
     ]
    },
    {
     "name": "stdout",
     "output_type": "stream",
     "text": [
      "Another Candidate\n",
      "2\n",
      "Another Candidate\n",
      "3\n",
      "Another Candidate\n"
     ]
    },
    {
     "name": "stderr",
     "output_type": "stream",
     "text": [
      " 39%|██████████████▊                       | 4157/10638 [04:53<14:35,  7.40it/s]"
     ]
    },
    {
     "name": "stdout",
     "output_type": "stream",
     "text": [
      "Another Candidate\n",
      "3\n",
      "Another Candidate\n",
      "Another Candidate\n",
      "3\n"
     ]
    },
    {
     "name": "stderr",
     "output_type": "stream",
     "text": [
      "\r",
      " 39%|██████████████▊                       | 4158/10638 [04:53<15:30,  6.97it/s]"
     ]
    },
    {
     "name": "stdout",
     "output_type": "stream",
     "text": [
      "Another Candidate\n",
      "Another Candidate\n",
      "3\n",
      "Another Candidate\n"
     ]
    },
    {
     "name": "stderr",
     "output_type": "stream",
     "text": [
      " 39%|██████████████▊                       | 4160/10638 [04:53<14:53,  7.25it/s]"
     ]
    },
    {
     "name": "stdout",
     "output_type": "stream",
     "text": [
      "Another Candidate\n",
      "3\n",
      "Another Candidate\n",
      "Another Candidate\n",
      "3\n"
     ]
    },
    {
     "name": "stderr",
     "output_type": "stream",
     "text": [
      " 39%|██████████████▊                       | 4162/10638 [04:53<13:25,  8.04it/s]"
     ]
    },
    {
     "name": "stdout",
     "output_type": "stream",
     "text": [
      "Another Candidate\n",
      "Another Candidate\n",
      "3\n",
      "Another Candidate\n",
      "Another Candidate\n",
      "3\n"
     ]
    },
    {
     "name": "stderr",
     "output_type": "stream",
     "text": [
      "\r",
      " 39%|██████████████▊                       | 4163/10638 [04:53<14:05,  7.66it/s]"
     ]
    },
    {
     "name": "stdout",
     "output_type": "stream",
     "text": [
      "Another Candidate\n",
      "Another Candidate\n",
      "3\n",
      "Another Candidate\n",
      "Another Candidate\n"
     ]
    },
    {
     "name": "stderr",
     "output_type": "stream",
     "text": [
      " 39%|██████████████▉                       | 4165/10638 [04:54<14:34,  7.40it/s]"
     ]
    },
    {
     "name": "stdout",
     "output_type": "stream",
     "text": [
      "3\n",
      "Another Candidate\n",
      "Another Candidate\n",
      "3\n",
      "Another Candidate\n"
     ]
    },
    {
     "name": "stderr",
     "output_type": "stream",
     "text": [
      " 39%|██████████████▉                       | 4167/10638 [04:54<13:23,  8.06it/s]"
     ]
    },
    {
     "name": "stdout",
     "output_type": "stream",
     "text": [
      "Another Candidate\n",
      "3\n",
      "Another Candidate\n",
      "Another Candidate\n",
      "3\n",
      "Another Candidate\n"
     ]
    },
    {
     "name": "stderr",
     "output_type": "stream",
     "text": [
      " 39%|██████████████▉                       | 4169/10638 [04:54<13:43,  7.85it/s]"
     ]
    },
    {
     "name": "stdout",
     "output_type": "stream",
     "text": [
      "Another Candidate\n",
      "3\n",
      "Another Candidate\n",
      "Another Candidate\n",
      "3\n"
     ]
    },
    {
     "name": "stderr",
     "output_type": "stream",
     "text": [
      " 39%|██████████████▉                       | 4171/10638 [04:54<13:18,  8.10it/s]"
     ]
    },
    {
     "name": "stdout",
     "output_type": "stream",
     "text": [
      "Another Candidate\n",
      "Another Candidate\n",
      "3\n",
      "Another Candidate\n",
      "Another Candidate\n",
      "3\n"
     ]
    },
    {
     "name": "stderr",
     "output_type": "stream",
     "text": [
      " 39%|██████████████▉                       | 4173/10638 [04:55<13:19,  8.08it/s]"
     ]
    },
    {
     "name": "stdout",
     "output_type": "stream",
     "text": [
      "Another Candidate\n",
      "Another Candidate\n",
      "3\n",
      "Another Candidate\n",
      "Another Candidate\n",
      "3\n"
     ]
    },
    {
     "name": "stderr",
     "output_type": "stream",
     "text": [
      " 39%|██████████████▉                       | 4175/10638 [04:55<12:32,  8.58it/s]"
     ]
    },
    {
     "name": "stdout",
     "output_type": "stream",
     "text": [
      "Another Candidate\n",
      "Another Candidate\n",
      "3\n",
      "Another Candidate\n",
      "Another Candidate\n",
      "3\n"
     ]
    },
    {
     "name": "stderr",
     "output_type": "stream",
     "text": [
      " 39%|██████████████▉                       | 4178/10638 [04:55<09:35, 11.22it/s]"
     ]
    },
    {
     "name": "stdout",
     "output_type": "stream",
     "text": [
      "Another Candidate\n",
      "Another Candidate\n",
      "2\n",
      "2\n",
      "2\n"
     ]
    },
    {
     "name": "stderr",
     "output_type": "stream",
     "text": [
      " 39%|██████████████▉                       | 4182/10638 [04:55<07:04, 15.22it/s]"
     ]
    },
    {
     "name": "stdout",
     "output_type": "stream",
     "text": [
      "3\n",
      "3\n",
      "3\n",
      "3\n"
     ]
    },
    {
     "name": "stderr",
     "output_type": "stream",
     "text": [
      " 39%|██████████████▉                       | 4186/10638 [04:55<06:12, 17.31it/s]"
     ]
    },
    {
     "name": "stdout",
     "output_type": "stream",
     "text": [
      "3\n",
      "3\n",
      "3\n",
      "3\n"
     ]
    },
    {
     "name": "stderr",
     "output_type": "stream",
     "text": [
      "\r",
      " 39%|██████████████▉                       | 4188/10638 [04:56<05:57, 18.06it/s]"
     ]
    },
    {
     "name": "stdout",
     "output_type": "stream",
     "text": [
      "3\n",
      "3\n",
      "3\n",
      "3\n"
     ]
    },
    {
     "name": "stderr",
     "output_type": "stream",
     "text": [
      " 39%|██████████████▉                       | 4193/10638 [04:56<06:13, 17.26it/s]"
     ]
    },
    {
     "name": "stdout",
     "output_type": "stream",
     "text": [
      "3\n",
      "3\n",
      "3\n",
      "3\n"
     ]
    },
    {
     "name": "stderr",
     "output_type": "stream",
     "text": [
      " 39%|██████████████▉                       | 4197/10638 [04:56<06:15, 17.16it/s]"
     ]
    },
    {
     "name": "stdout",
     "output_type": "stream",
     "text": [
      "3\n",
      "3\n",
      "3\n",
      "3\n"
     ]
    },
    {
     "name": "stderr",
     "output_type": "stream",
     "text": [
      " 39%|███████████████                       | 4201/10638 [04:56<05:55, 18.08it/s]"
     ]
    },
    {
     "name": "stdout",
     "output_type": "stream",
     "text": [
      "3\n",
      "3\n",
      "3\n",
      "3\n"
     ]
    },
    {
     "name": "stderr",
     "output_type": "stream",
     "text": [
      " 40%|███████████████                       | 4205/10638 [04:57<06:03, 17.71it/s]"
     ]
    },
    {
     "name": "stdout",
     "output_type": "stream",
     "text": [
      "3\n",
      "3\n",
      "3\n",
      "2\n"
     ]
    },
    {
     "name": "stderr",
     "output_type": "stream",
     "text": [
      " 40%|███████████████                       | 4209/10638 [04:57<06:21, 16.84it/s]"
     ]
    },
    {
     "name": "stdout",
     "output_type": "stream",
     "text": [
      "2\n",
      "2\n",
      "2\n",
      "2\n"
     ]
    },
    {
     "name": "stderr",
     "output_type": "stream",
     "text": [
      " 40%|███████████████                       | 4213/10638 [04:57<06:04, 17.61it/s]"
     ]
    },
    {
     "name": "stdout",
     "output_type": "stream",
     "text": [
      "2\n",
      "2\n",
      "2\n",
      "2\n"
     ]
    },
    {
     "name": "stderr",
     "output_type": "stream",
     "text": [
      " 40%|███████████████                       | 4217/10638 [04:57<06:29, 16.47it/s]"
     ]
    },
    {
     "name": "stdout",
     "output_type": "stream",
     "text": [
      "3\n",
      "2\n",
      "Another Candidate\n",
      "2\n",
      "Another Candidate\n"
     ]
    },
    {
     "name": "stderr",
     "output_type": "stream",
     "text": [
      "\r",
      " 40%|███████████████                       | 4219/10638 [04:57<07:04, 15.14it/s]"
     ]
    },
    {
     "name": "stdout",
     "output_type": "stream",
     "text": [
      "2\n",
      "Another Candidate\n",
      "3\n",
      "Another Candidate\n",
      "Another Candidate\n",
      "3\n"
     ]
    },
    {
     "name": "stderr",
     "output_type": "stream",
     "text": [
      "\r",
      " 40%|███████████████                       | 4221/10638 [04:58<08:49, 12.12it/s]"
     ]
    },
    {
     "name": "stdout",
     "output_type": "stream",
     "text": [
      "Another Candidate\n",
      "Another Candidate\n",
      "3\n",
      "Another Candidate\n",
      "Another Candidate\n",
      "3\n"
     ]
    },
    {
     "name": "stderr",
     "output_type": "stream",
     "text": [
      "\r",
      " 40%|███████████████                       | 4223/10638 [04:58<09:44, 10.98it/s]"
     ]
    },
    {
     "name": "stdout",
     "output_type": "stream",
     "text": [
      "Another Candidate\n",
      "Another Candidate\n",
      "3\n",
      "Another Candidate\n",
      "Another Candidate\n"
     ]
    },
    {
     "name": "stderr",
     "output_type": "stream",
     "text": [
      "\r",
      " 40%|███████████████                       | 4225/10638 [04:58<10:59,  9.72it/s]"
     ]
    },
    {
     "name": "stdout",
     "output_type": "stream",
     "text": [
      "3\n",
      "Another Candidate\n",
      "Another Candidate\n",
      "3\n",
      "Another Candidate\n",
      "Another Candidate\n"
     ]
    },
    {
     "name": "stderr",
     "output_type": "stream",
     "text": [
      "\r",
      " 40%|███████████████                       | 4227/10638 [04:58<11:45,  9.09it/s]"
     ]
    },
    {
     "name": "stdout",
     "output_type": "stream",
     "text": [
      "3\n",
      "Another Candidate\n",
      "Another Candidate\n",
      "3\n",
      "Another Candidate\n"
     ]
    },
    {
     "name": "stderr",
     "output_type": "stream",
     "text": [
      " 40%|███████████████                       | 4229/10638 [04:59<12:47,  8.35it/s]"
     ]
    },
    {
     "name": "stdout",
     "output_type": "stream",
     "text": [
      "Another Candidate\n",
      "3\n",
      "Another Candidate\n",
      "Another Candidate\n",
      "3\n"
     ]
    },
    {
     "name": "stderr",
     "output_type": "stream",
     "text": [
      " 40%|███████████████                       | 4231/10638 [04:59<12:43,  8.40it/s]"
     ]
    },
    {
     "name": "stdout",
     "output_type": "stream",
     "text": [
      "Another Candidate\n",
      "Another Candidate\n",
      "3\n",
      "Another Candidate\n",
      "Another Candidate\n",
      "3\n"
     ]
    },
    {
     "name": "stderr",
     "output_type": "stream",
     "text": [
      " 40%|███████████████                       | 4233/10638 [04:59<12:02,  8.86it/s]"
     ]
    },
    {
     "name": "stdout",
     "output_type": "stream",
     "text": [
      "Another Candidate\n",
      "Another Candidate\n",
      "3\n",
      "Another Candidate\n",
      "Another Candidate\n",
      "3\n"
     ]
    },
    {
     "name": "stderr",
     "output_type": "stream",
     "text": [
      " 40%|███████████████▏                      | 4235/10638 [04:59<12:15,  8.71it/s]"
     ]
    },
    {
     "name": "stdout",
     "output_type": "stream",
     "text": [
      "Another Candidate\n",
      "Another Candidate\n",
      "3\n",
      "Another Candidate\n",
      "Another Candidate\n",
      "3\n"
     ]
    },
    {
     "name": "stderr",
     "output_type": "stream",
     "text": [
      " 40%|███████████████▏                      | 4237/10638 [05:00<12:43,  8.38it/s]"
     ]
    },
    {
     "name": "stdout",
     "output_type": "stream",
     "text": [
      "Another Candidate\n",
      "Another Candidate\n",
      "3\n",
      "Another Candidate\n",
      "Another Candidate\n",
      "3\n"
     ]
    },
    {
     "name": "stderr",
     "output_type": "stream",
     "text": [
      " 40%|███████████████▏                      | 4239/10638 [05:00<12:47,  8.34it/s]"
     ]
    },
    {
     "name": "stdout",
     "output_type": "stream",
     "text": [
      "Another Candidate\n",
      "Another Candidate\n",
      "3\n",
      "Another Candidate\n",
      "Another Candidate\n",
      "3\n"
     ]
    },
    {
     "name": "stderr",
     "output_type": "stream",
     "text": [
      " 40%|███████████████▏                      | 4241/10638 [05:00<12:09,  8.77it/s]"
     ]
    },
    {
     "name": "stdout",
     "output_type": "stream",
     "text": [
      "Another Candidate\n",
      "Another Candidate\n",
      "3\n",
      "Another Candidate\n",
      "Another Candidate\n",
      "3\n"
     ]
    },
    {
     "name": "stderr",
     "output_type": "stream",
     "text": [
      " 40%|███████████████▏                      | 4243/10638 [05:00<11:44,  9.08it/s]"
     ]
    },
    {
     "name": "stdout",
     "output_type": "stream",
     "text": [
      "Another Candidate\n",
      "Another Candidate\n",
      "3\n",
      "Another Candidate\n",
      "Another Candidate\n",
      "3\n"
     ]
    },
    {
     "name": "stderr",
     "output_type": "stream",
     "text": [
      " 40%|███████████████▏                      | 4245/10638 [05:00<11:35,  9.20it/s]"
     ]
    },
    {
     "name": "stdout",
     "output_type": "stream",
     "text": [
      "Another Candidate\n",
      "Another Candidate\n",
      "3\n",
      "Another Candidate\n",
      "Another Candidate\n",
      "2\n"
     ]
    },
    {
     "name": "stderr",
     "output_type": "stream",
     "text": [
      "\r",
      " 40%|███████████████▏                      | 4246/10638 [05:01<11:36,  9.17it/s]"
     ]
    },
    {
     "name": "stdout",
     "output_type": "stream",
     "text": [
      "Another Candidate\n",
      "2\n",
      "Another Candidate\n",
      "2\n",
      "Another Candidate\n"
     ]
    },
    {
     "name": "stderr",
     "output_type": "stream",
     "text": [
      " 40%|███████████████▏                      | 4250/10638 [05:01<09:47, 10.87it/s]"
     ]
    },
    {
     "name": "stdout",
     "output_type": "stream",
     "text": [
      "2\n",
      "Another Candidate\n",
      "2\n",
      "Another Candidate\n",
      "2\n"
     ]
    },
    {
     "name": "stderr",
     "output_type": "stream",
     "text": [
      "\r",
      " 40%|███████████████▏                      | 4252/10638 [05:01<09:47, 10.88it/s]"
     ]
    },
    {
     "name": "stdout",
     "output_type": "stream",
     "text": [
      "Another Candidate\n",
      "2\n",
      "Another Candidate\n",
      "2\n",
      "Another Candidate\n"
     ]
    },
    {
     "name": "stderr",
     "output_type": "stream",
     "text": [
      "\r",
      " 40%|███████████████▏                      | 4254/10638 [05:01<10:11, 10.44it/s]"
     ]
    },
    {
     "name": "stdout",
     "output_type": "stream",
     "text": [
      "3\n",
      "Another Candidate\n",
      "Another Candidate\n",
      "3\n",
      "Another Candidate\n"
     ]
    },
    {
     "name": "stderr",
     "output_type": "stream",
     "text": [
      "\r",
      " 40%|███████████████▏                      | 4256/10638 [05:02<11:13,  9.47it/s]"
     ]
    },
    {
     "name": "stdout",
     "output_type": "stream",
     "text": [
      "Another Candidate\n",
      "3\n",
      "Another Candidate\n",
      "Another Candidate\n",
      "3\n"
     ]
    },
    {
     "name": "stderr",
     "output_type": "stream",
     "text": [
      " 40%|███████████████▏                      | 4258/10638 [05:02<11:27,  9.27it/s]"
     ]
    },
    {
     "name": "stdout",
     "output_type": "stream",
     "text": [
      "Another Candidate\n",
      "Another Candidate\n",
      "3\n",
      "Another Candidate\n",
      "Another Candidate\n",
      "3\n"
     ]
    },
    {
     "name": "stderr",
     "output_type": "stream",
     "text": [
      " 40%|███████████████▏                      | 4260/10638 [05:02<11:33,  9.19it/s]"
     ]
    },
    {
     "name": "stdout",
     "output_type": "stream",
     "text": [
      "Another Candidate\n",
      "Another Candidate\n",
      "3\n",
      "Another Candidate\n",
      "Another Candidate\n",
      "3\n"
     ]
    },
    {
     "name": "stderr",
     "output_type": "stream",
     "text": [
      "\r",
      " 40%|███████████████▏                      | 4261/10638 [05:02<11:37,  9.15it/s]"
     ]
    },
    {
     "name": "stdout",
     "output_type": "stream",
     "text": [
      "Another Candidate\n",
      "Another Candidate\n",
      "3\n",
      "Another Candidate\n",
      "Another Candidate\n"
     ]
    },
    {
     "name": "stderr",
     "output_type": "stream",
     "text": [
      " 40%|███████████████▏                      | 4263/10638 [05:02<13:17,  8.00it/s]"
     ]
    },
    {
     "name": "stdout",
     "output_type": "stream",
     "text": [
      "3\n",
      "Another Candidate\n",
      "Another Candidate\n",
      "3\n",
      "Another Candidate\n"
     ]
    },
    {
     "name": "stderr",
     "output_type": "stream",
     "text": [
      " 40%|███████████████▏                      | 4265/10638 [05:03<12:18,  8.63it/s]"
     ]
    },
    {
     "name": "stdout",
     "output_type": "stream",
     "text": [
      "Another Candidate\n",
      "3\n",
      "Another Candidate\n",
      "Another Candidate\n",
      "3\n",
      "Another Candidate\n"
     ]
    },
    {
     "name": "stderr",
     "output_type": "stream",
     "text": [
      " 40%|███████████████▏                      | 4267/10638 [05:03<12:06,  8.76it/s]"
     ]
    },
    {
     "name": "stdout",
     "output_type": "stream",
     "text": [
      "Another Candidate\n",
      "3\n",
      "Another Candidate\n",
      "Another Candidate\n",
      "3\n",
      "Another Candidate\n"
     ]
    },
    {
     "name": "stderr",
     "output_type": "stream",
     "text": [
      " 40%|███████████████▏                      | 4269/10638 [05:03<13:20,  7.95it/s]"
     ]
    },
    {
     "name": "stdout",
     "output_type": "stream",
     "text": [
      "Another Candidate\n",
      "3\n",
      "Another Candidate\n",
      "Another Candidate\n",
      "3\n"
     ]
    },
    {
     "name": "stderr",
     "output_type": "stream",
     "text": [
      " 40%|███████████████▎                      | 4271/10638 [05:03<12:25,  8.55it/s]"
     ]
    },
    {
     "name": "stdout",
     "output_type": "stream",
     "text": [
      "Another Candidate\n",
      "Another Candidate\n",
      "3\n",
      "Another Candidate\n",
      "Another Candidate\n",
      "3\n"
     ]
    },
    {
     "name": "stderr",
     "output_type": "stream",
     "text": [
      " 40%|███████████████▎                      | 4273/10638 [05:04<12:33,  8.45it/s]"
     ]
    },
    {
     "name": "stdout",
     "output_type": "stream",
     "text": [
      "Another Candidate\n",
      "Another Candidate\n",
      "3\n",
      "Another Candidate\n",
      "Another Candidate\n",
      "3\n"
     ]
    },
    {
     "name": "stderr",
     "output_type": "stream",
     "text": [
      "\r",
      " 40%|███████████████▎                      | 4274/10638 [05:04<12:15,  8.66it/s]"
     ]
    },
    {
     "name": "stdout",
     "output_type": "stream",
     "text": [
      "Another Candidate\n",
      "Another Candidate\n",
      "3\n",
      "Another Candidate\n",
      "Another Candidate\n"
     ]
    },
    {
     "name": "stderr",
     "output_type": "stream",
     "text": [
      " 40%|███████████████▎                      | 4276/10638 [05:04<14:31,  7.30it/s]"
     ]
    },
    {
     "name": "stdout",
     "output_type": "stream",
     "text": [
      "3\n",
      "Another Candidate\n",
      "Another Candidate\n",
      "2\n"
     ]
    },
    {
     "name": "stderr",
     "output_type": "stream",
     "text": [
      " 40%|███████████████▎                      | 4278/10638 [05:04<13:30,  7.84it/s]"
     ]
    },
    {
     "name": "stdout",
     "output_type": "stream",
     "text": [
      "Another Candidate\n",
      "2\n",
      "Another Candidate\n",
      "2\n"
     ]
    },
    {
     "name": "stderr",
     "output_type": "stream",
     "text": [
      " 40%|███████████████▎                      | 4284/10638 [05:04<05:50, 18.11it/s]"
     ]
    },
    {
     "name": "stdout",
     "output_type": "stream",
     "text": [
      "Another Candidate\n",
      "Unique\n",
      "Unique\n",
      "Unique\n",
      "Unique\n",
      "3\n",
      "Another Candidate\n",
      "Another Candidate\n",
      "3\n"
     ]
    },
    {
     "name": "stderr",
     "output_type": "stream",
     "text": [
      "\r",
      " 40%|███████████████▎                      | 4286/10638 [05:05<07:34, 13.97it/s]"
     ]
    },
    {
     "name": "stdout",
     "output_type": "stream",
     "text": [
      "Another Candidate\n",
      "Another Candidate\n",
      "3\n",
      "Another Candidate\n",
      "Another Candidate\n",
      "3\n",
      "Another Candidate\n",
      "Another Candidate\n",
      "3\n",
      "Another Candidate\n",
      "Another Candidate\n"
     ]
    },
    {
     "name": "stderr",
     "output_type": "stream",
     "text": [
      "\r",
      " 40%|███████████████▎                      | 4288/10638 [05:05<09:22, 11.29it/s]"
     ]
    },
    {
     "name": "stdout",
     "output_type": "stream",
     "text": [
      "3\n",
      "Another Candidate\n",
      "Another Candidate\n",
      "3\n",
      "Another Candidate\n",
      "Another Candidate\n"
     ]
    },
    {
     "name": "stderr",
     "output_type": "stream",
     "text": [
      "\r",
      " 40%|███████████████▎                      | 4290/10638 [05:05<10:10, 10.39it/s]"
     ]
    },
    {
     "name": "stdout",
     "output_type": "stream",
     "text": [
      "3\n",
      "Another Candidate\n",
      "Another Candidate\n",
      "3\n",
      "Another Candidate\n"
     ]
    },
    {
     "name": "stderr",
     "output_type": "stream",
     "text": [
      "\r",
      " 40%|███████████████▎                      | 4292/10638 [05:05<11:22,  9.30it/s]"
     ]
    },
    {
     "name": "stdout",
     "output_type": "stream",
     "text": [
      "Another Candidate\n",
      "3\n",
      "Another Candidate\n",
      "Another Candidate\n",
      "3\n"
     ]
    },
    {
     "name": "stderr",
     "output_type": "stream",
     "text": [
      "\r",
      " 40%|███████████████▎                      | 4294/10638 [05:06<11:34,  9.14it/s]"
     ]
    },
    {
     "name": "stdout",
     "output_type": "stream",
     "text": [
      "Another Candidate\n",
      "Another Candidate\n",
      "3\n",
      "Another Candidate\n",
      "Another Candidate\n"
     ]
    },
    {
     "name": "stderr",
     "output_type": "stream",
     "text": [
      " 40%|███████████████▎                      | 4296/10638 [05:06<13:30,  7.83it/s]"
     ]
    },
    {
     "name": "stdout",
     "output_type": "stream",
     "text": [
      "3\n",
      "Another Candidate\n",
      "Another Candidate\n",
      "2\n"
     ]
    },
    {
     "name": "stderr",
     "output_type": "stream",
     "text": [
      "\r",
      " 40%|███████████████▎                      | 4298/10638 [05:06<12:13,  8.64it/s]"
     ]
    },
    {
     "name": "stdout",
     "output_type": "stream",
     "text": [
      "Another Candidate\n",
      "2\n",
      "Another Candidate\n",
      "2\n",
      "Another Candidate\n"
     ]
    },
    {
     "name": "stderr",
     "output_type": "stream",
     "text": [
      "\r",
      " 40%|███████████████▎                      | 4300/10638 [05:06<11:40,  9.04it/s]"
     ]
    },
    {
     "name": "stdout",
     "output_type": "stream",
     "text": [
      "3\n",
      "Another Candidate\n",
      "Another Candidate\n",
      "3\n",
      "Another Candidate\n",
      "Another Candidate\n"
     ]
    },
    {
     "name": "stderr",
     "output_type": "stream",
     "text": [
      " 40%|███████████████▎                      | 4302/10638 [05:07<11:52,  8.89it/s]"
     ]
    },
    {
     "name": "stdout",
     "output_type": "stream",
     "text": [
      "3\n",
      "Another Candidate\n",
      "Another Candidate\n",
      "3\n",
      "Another Candidate\n"
     ]
    },
    {
     "name": "stderr",
     "output_type": "stream",
     "text": [
      " 40%|███████████████▎                      | 4304/10638 [05:07<12:20,  8.55it/s]"
     ]
    },
    {
     "name": "stdout",
     "output_type": "stream",
     "text": [
      "Another Candidate\n",
      "3\n",
      "Another Candidate\n",
      "Another Candidate\n",
      "3\n"
     ]
    },
    {
     "name": "stderr",
     "output_type": "stream",
     "text": [
      " 40%|███████████████▍                      | 4306/10638 [05:07<12:05,  8.73it/s]"
     ]
    },
    {
     "name": "stdout",
     "output_type": "stream",
     "text": [
      "Another Candidate\n",
      "Another Candidate\n",
      "3\n",
      "Another Candidate\n",
      "Another Candidate\n",
      "3\n"
     ]
    },
    {
     "name": "stderr",
     "output_type": "stream",
     "text": [
      " 40%|███████████████▍                      | 4308/10638 [05:07<11:57,  8.82it/s]"
     ]
    },
    {
     "name": "stdout",
     "output_type": "stream",
     "text": [
      "Another Candidate\n",
      "Another Candidate\n",
      "3\n",
      "Another Candidate\n",
      "Another Candidate\n",
      "3\n"
     ]
    },
    {
     "name": "stderr",
     "output_type": "stream",
     "text": [
      " 41%|███████████████▍                      | 4310/10638 [05:08<12:01,  8.77it/s]"
     ]
    },
    {
     "name": "stdout",
     "output_type": "stream",
     "text": [
      "Another Candidate\n",
      "Another Candidate\n",
      "3\n",
      "Another Candidate\n",
      "Another Candidate\n",
      "3\n"
     ]
    },
    {
     "name": "stderr",
     "output_type": "stream",
     "text": [
      "\r",
      " 41%|███████████████▍                      | 4312/10638 [05:08<09:59, 10.56it/s]"
     ]
    },
    {
     "name": "stdout",
     "output_type": "stream",
     "text": [
      "Another Candidate\n",
      "3\n",
      "Another Candidate\n",
      "3\n",
      "Another Candidate\n",
      "3\n"
     ]
    },
    {
     "name": "stderr",
     "output_type": "stream",
     "text": [
      " 41%|███████████████▍                      | 4316/10638 [05:08<08:39, 12.16it/s]"
     ]
    },
    {
     "name": "stdout",
     "output_type": "stream",
     "text": [
      "Another Candidate\n",
      "3\n",
      "Another Candidate\n",
      "3\n",
      "Another Candidate\n",
      "3\n"
     ]
    },
    {
     "name": "stderr",
     "output_type": "stream",
     "text": [
      "\r",
      " 41%|███████████████▍                      | 4318/10638 [05:08<08:22, 12.57it/s]"
     ]
    },
    {
     "name": "stdout",
     "output_type": "stream",
     "text": [
      "Another Candidate\n",
      "3\n",
      "Another Candidate\n",
      "3\n",
      "Another Candidate\n",
      "Unique\n",
      "3\n"
     ]
    },
    {
     "name": "stderr",
     "output_type": "stream",
     "text": [
      "\r",
      " 41%|███████████████▍                      | 4321/10638 [05:08<07:58, 13.20it/s]"
     ]
    },
    {
     "name": "stdout",
     "output_type": "stream",
     "text": [
      "Another Candidate\n",
      "Another Candidate\n",
      "3\n",
      "Another Candidate\n",
      "Another Candidate\n"
     ]
    },
    {
     "name": "stderr",
     "output_type": "stream",
     "text": [
      "\r",
      " 41%|███████████████▍                      | 4323/10638 [05:09<10:26, 10.08it/s]"
     ]
    },
    {
     "name": "stdout",
     "output_type": "stream",
     "text": [
      "3\n",
      "Another Candidate\n",
      "Another Candidate\n",
      "3\n",
      "Another Candidate\n",
      "Another Candidate\n",
      "3\n",
      "Another Candidate\n",
      "Another Candidate\n"
     ]
    },
    {
     "name": "stderr",
     "output_type": "stream",
     "text": [
      " 41%|███████████████▍                      | 4326/10638 [05:09<11:36,  9.06it/s]"
     ]
    },
    {
     "name": "stdout",
     "output_type": "stream",
     "text": [
      "3\n",
      "Another Candidate\n",
      "Another Candidate\n",
      "3\n",
      "Another Candidate\n",
      "Another Candidate\n"
     ]
    },
    {
     "name": "stderr",
     "output_type": "stream",
     "text": [
      " 41%|███████████████▍                      | 4328/10638 [05:09<11:46,  8.93it/s]"
     ]
    },
    {
     "name": "stdout",
     "output_type": "stream",
     "text": [
      "3\n",
      "Another Candidate\n",
      "Another Candidate\n",
      "3\n",
      "Another Candidate\n",
      "Another Candidate\n"
     ]
    },
    {
     "name": "stderr",
     "output_type": "stream",
     "text": [
      " 41%|███████████████▍                      | 4330/10638 [05:09<11:33,  9.09it/s]"
     ]
    },
    {
     "name": "stdout",
     "output_type": "stream",
     "text": [
      "3\n",
      "Another Candidate\n",
      "Another Candidate\n",
      "3\n",
      "Another Candidate\n",
      "Another Candidate\n"
     ]
    },
    {
     "name": "stderr",
     "output_type": "stream",
     "text": [
      " 41%|███████████████▍                      | 4332/10638 [05:10<11:57,  8.79it/s]"
     ]
    },
    {
     "name": "stdout",
     "output_type": "stream",
     "text": [
      "3\n",
      "Another Candidate\n",
      "Another Candidate\n",
      "3\n",
      "Another Candidate\n",
      "Another Candidate\n"
     ]
    },
    {
     "name": "stderr",
     "output_type": "stream",
     "text": [
      " 41%|███████████████▍                      | 4334/10638 [05:10<12:01,  8.74it/s]"
     ]
    },
    {
     "name": "stdout",
     "output_type": "stream",
     "text": [
      "3\n",
      "Another Candidate\n",
      "Another Candidate\n",
      "3\n",
      "Another Candidate\n",
      "Another Candidate\n"
     ]
    },
    {
     "name": "stderr",
     "output_type": "stream",
     "text": [
      " 41%|███████████████▍                      | 4336/10638 [05:10<12:09,  8.64it/s]"
     ]
    },
    {
     "name": "stdout",
     "output_type": "stream",
     "text": [
      "3\n",
      "Another Candidate\n",
      "Another Candidate\n",
      "2\n",
      "Another Candidate\n"
     ]
    },
    {
     "name": "stderr",
     "output_type": "stream",
     "text": [
      "\r",
      " 41%|███████████████▍                      | 4338/10638 [05:10<10:33,  9.94it/s]"
     ]
    },
    {
     "name": "stdout",
     "output_type": "stream",
     "text": [
      "2\n",
      "Another Candidate\n",
      "2\n",
      "Another Candidate\n",
      "3\n"
     ]
    },
    {
     "name": "stderr",
     "output_type": "stream",
     "text": [
      " 41%|███████████████▌                      | 4342/10638 [05:11<08:58, 11.68it/s]"
     ]
    },
    {
     "name": "stdout",
     "output_type": "stream",
     "text": [
      "Another Candidate\n",
      "3\n",
      "Another Candidate\n",
      "3\n",
      "Another Candidate\n",
      "3\n"
     ]
    },
    {
     "name": "stderr",
     "output_type": "stream",
     "text": [
      "\r",
      " 41%|███████████████▌                      | 4344/10638 [05:11<08:31, 12.29it/s]"
     ]
    },
    {
     "name": "stdout",
     "output_type": "stream",
     "text": [
      "Another Candidate\n",
      "3\n",
      "Another Candidate\n",
      "3\n",
      "Another Candidate\n",
      "3\n"
     ]
    },
    {
     "name": "stderr",
     "output_type": "stream",
     "text": [
      " 41%|███████████████▌                      | 4348/10638 [05:11<08:10, 12.81it/s]"
     ]
    },
    {
     "name": "stdout",
     "output_type": "stream",
     "text": [
      "Another Candidate\n",
      "3\n",
      "Another Candidate\n",
      "3\n",
      "Another Candidate\n",
      "3\n"
     ]
    },
    {
     "name": "stderr",
     "output_type": "stream",
     "text": [
      "\r",
      " 41%|███████████████▌                      | 4350/10638 [05:11<08:06, 12.93it/s]"
     ]
    },
    {
     "name": "stdout",
     "output_type": "stream",
     "text": [
      "Another Candidate\n",
      "3\n",
      "Another Candidate\n",
      "3\n",
      "Another Candidate\n",
      "3\n"
     ]
    },
    {
     "name": "stderr",
     "output_type": "stream",
     "text": [
      " 41%|███████████████▌                      | 4354/10638 [05:12<07:58, 13.14it/s]"
     ]
    },
    {
     "name": "stdout",
     "output_type": "stream",
     "text": [
      "Another Candidate\n",
      "3\n",
      "Another Candidate\n",
      "3\n",
      "Another Candidate\n",
      "3\n"
     ]
    },
    {
     "name": "stderr",
     "output_type": "stream",
     "text": [
      "\r",
      " 41%|███████████████▌                      | 4356/10638 [05:12<07:53, 13.26it/s]"
     ]
    },
    {
     "name": "stdout",
     "output_type": "stream",
     "text": [
      "Another Candidate\n",
      "3\n",
      "Another Candidate\n",
      "3\n",
      "Another Candidate\n",
      "3\n"
     ]
    },
    {
     "name": "stderr",
     "output_type": "stream",
     "text": [
      " 41%|███████████████▌                      | 4360/10638 [05:12<07:54, 13.23it/s]"
     ]
    },
    {
     "name": "stdout",
     "output_type": "stream",
     "text": [
      "Another Candidate\n",
      "3\n",
      "Another Candidate\n",
      "3\n",
      "Another Candidate\n",
      "3\n"
     ]
    },
    {
     "name": "stderr",
     "output_type": "stream",
     "text": [
      "\r",
      " 41%|███████████████▌                      | 4362/10638 [05:12<07:51, 13.32it/s]"
     ]
    },
    {
     "name": "stdout",
     "output_type": "stream",
     "text": [
      "Another Candidate\n",
      "3\n",
      "Another Candidate\n",
      "3\n",
      "Another Candidate\n",
      "3\n"
     ]
    },
    {
     "name": "stderr",
     "output_type": "stream",
     "text": [
      " 41%|███████████████▌                      | 4366/10638 [05:12<07:43, 13.52it/s]"
     ]
    },
    {
     "name": "stdout",
     "output_type": "stream",
     "text": [
      "Another Candidate\n",
      "3\n",
      "Another Candidate\n",
      "3\n",
      "Another Candidate\n",
      "3\n"
     ]
    },
    {
     "name": "stderr",
     "output_type": "stream",
     "text": [
      "\r",
      " 41%|███████████████▌                      | 4368/10638 [05:13<07:39, 13.63it/s]"
     ]
    },
    {
     "name": "stdout",
     "output_type": "stream",
     "text": [
      "Another Candidate\n",
      "3\n",
      "Another Candidate\n",
      "3\n",
      "Another Candidate\n",
      "3\n"
     ]
    },
    {
     "name": "stderr",
     "output_type": "stream",
     "text": [
      " 41%|███████████████▌                      | 4372/10638 [05:13<08:02, 12.99it/s]"
     ]
    },
    {
     "name": "stdout",
     "output_type": "stream",
     "text": [
      "Another Candidate\n",
      "3\n",
      "Another Candidate\n",
      "2\n",
      "Another Candidate\n",
      "2\n"
     ]
    },
    {
     "name": "stderr",
     "output_type": "stream",
     "text": [
      "\r",
      " 41%|███████████████▌                      | 4374/10638 [05:13<08:12, 12.72it/s]"
     ]
    },
    {
     "name": "stdout",
     "output_type": "stream",
     "text": [
      "Another Candidate\n",
      "2\n",
      "Another Candidate\n",
      "3\n",
      "Another Candidate\n",
      "3\n"
     ]
    },
    {
     "name": "stderr",
     "output_type": "stream",
     "text": [
      " 41%|███████████████▋                      | 4378/10638 [05:13<07:59, 13.05it/s]"
     ]
    },
    {
     "name": "stdout",
     "output_type": "stream",
     "text": [
      "Another Candidate\n",
      "3\n",
      "Another Candidate\n",
      "3\n",
      "Another Candidate\n",
      "3\n"
     ]
    },
    {
     "name": "stderr",
     "output_type": "stream",
     "text": [
      "\r",
      " 41%|███████████████▋                      | 4380/10638 [05:14<07:51, 13.27it/s]"
     ]
    },
    {
     "name": "stdout",
     "output_type": "stream",
     "text": [
      "Another Candidate\n",
      "3\n",
      "Another Candidate\n",
      "3\n",
      "Another Candidate\n"
     ]
    },
    {
     "name": "stderr",
     "output_type": "stream",
     "text": [
      " 41%|███████████████▋                      | 4384/10638 [05:14<07:25, 14.05it/s]"
     ]
    },
    {
     "name": "stdout",
     "output_type": "stream",
     "text": [
      "2\n",
      "2\n",
      "2\n",
      "2\n"
     ]
    },
    {
     "name": "stderr",
     "output_type": "stream",
     "text": [
      " 41%|███████████████▋                      | 4388/10638 [05:14<07:09, 14.56it/s]"
     ]
    },
    {
     "name": "stdout",
     "output_type": "stream",
     "text": [
      "2\n",
      "2\n",
      "2\n"
     ]
    },
    {
     "name": "stderr",
     "output_type": "stream",
     "text": [
      "\r",
      " 41%|███████████████▋                      | 4390/10638 [05:14<06:47, 15.34it/s]"
     ]
    },
    {
     "name": "stdout",
     "output_type": "stream",
     "text": [
      "2\n",
      "2\n",
      "2\n",
      "Unique\n",
      "Unique\n",
      "Unique\n",
      "2\n"
     ]
    },
    {
     "name": "stderr",
     "output_type": "stream",
     "text": [
      " 41%|███████████████▋                      | 4398/10638 [05:14<05:03, 20.57it/s]"
     ]
    },
    {
     "name": "stdout",
     "output_type": "stream",
     "text": [
      "3\n",
      "3\n",
      "3\n",
      "3\n"
     ]
    },
    {
     "name": "stderr",
     "output_type": "stream",
     "text": [
      "\r",
      " 41%|███████████████▋                      | 4401/10638 [05:15<05:24, 19.20it/s]"
     ]
    },
    {
     "name": "stdout",
     "output_type": "stream",
     "text": [
      "3\n",
      "3\n",
      "3\n",
      "3\n"
     ]
    },
    {
     "name": "stderr",
     "output_type": "stream",
     "text": [
      " 41%|███████████████▋                      | 4406/10638 [05:15<05:59, 17.33it/s]"
     ]
    },
    {
     "name": "stdout",
     "output_type": "stream",
     "text": [
      "3\n",
      "3\n",
      "3\n",
      "3\n"
     ]
    },
    {
     "name": "stderr",
     "output_type": "stream",
     "text": [
      " 41%|███████████████▊                      | 4410/10638 [05:15<05:53, 17.61it/s]"
     ]
    },
    {
     "name": "stdout",
     "output_type": "stream",
     "text": [
      "3\n",
      "3\n",
      "3\n",
      "3\n"
     ]
    },
    {
     "name": "stderr",
     "output_type": "stream",
     "text": [
      " 41%|███████████████▊                      | 4414/10638 [05:15<06:14, 16.63it/s]"
     ]
    },
    {
     "name": "stdout",
     "output_type": "stream",
     "text": [
      "3\n",
      "3\n",
      "3\n",
      "3\n"
     ]
    },
    {
     "name": "stderr",
     "output_type": "stream",
     "text": [
      " 42%|███████████████▊                      | 4418/10638 [05:16<06:09, 16.82it/s]"
     ]
    },
    {
     "name": "stdout",
     "output_type": "stream",
     "text": [
      "3\n",
      "3\n",
      "3\n",
      "3\n"
     ]
    },
    {
     "name": "stderr",
     "output_type": "stream",
     "text": [
      " 42%|███████████████▊                      | 4422/10638 [05:16<06:05, 17.02it/s]"
     ]
    },
    {
     "name": "stdout",
     "output_type": "stream",
     "text": [
      "2\n",
      "2\n",
      "2\n",
      "2\n"
     ]
    },
    {
     "name": "stderr",
     "output_type": "stream",
     "text": [
      " 42%|███████████████▊                      | 4426/10638 [05:16<06:12, 16.66it/s]"
     ]
    },
    {
     "name": "stdout",
     "output_type": "stream",
     "text": [
      "2\n",
      "2\n",
      "2\n",
      "2\n"
     ]
    },
    {
     "name": "stderr",
     "output_type": "stream",
     "text": [
      "\r",
      " 42%|███████████████▊                      | 4432/10638 [05:16<03:55, 26.32it/s]"
     ]
    },
    {
     "name": "stdout",
     "output_type": "stream",
     "text": [
      "Unique\n",
      "Unique\n",
      "Unique\n",
      "Unique\n",
      "2\n",
      "2\n",
      "2\n",
      "2\n"
     ]
    },
    {
     "name": "stderr",
     "output_type": "stream",
     "text": [
      " 42%|███████████████▊                      | 4438/10638 [05:17<05:01, 20.54it/s]"
     ]
    },
    {
     "name": "stdout",
     "output_type": "stream",
     "text": [
      "2\n",
      "2\n",
      "2\n",
      "2\n"
     ]
    },
    {
     "name": "stderr",
     "output_type": "stream",
     "text": [
      "\r",
      " 42%|███████████████▊                      | 4441/10638 [05:17<05:12, 19.82it/s]"
     ]
    },
    {
     "name": "stdout",
     "output_type": "stream",
     "text": [
      "3\n",
      "3\n",
      "3\n",
      "2\n"
     ]
    },
    {
     "name": "stderr",
     "output_type": "stream",
     "text": [
      "\r",
      " 42%|███████████████▊                      | 4444/10638 [05:17<05:34, 18.51it/s]"
     ]
    },
    {
     "name": "stdout",
     "output_type": "stream",
     "text": [
      "2\n",
      "2\n",
      "2\n"
     ]
    },
    {
     "name": "stderr",
     "output_type": "stream",
     "text": [
      " 42%|███████████████▉                      | 4448/10638 [05:17<06:03, 17.03it/s]"
     ]
    },
    {
     "name": "stdout",
     "output_type": "stream",
     "text": [
      "2\n",
      "3\n",
      "3\n",
      "3\n"
     ]
    },
    {
     "name": "stderr",
     "output_type": "stream",
     "text": [
      " 42%|███████████████▉                      | 4452/10638 [05:18<06:09, 16.75it/s]"
     ]
    },
    {
     "name": "stdout",
     "output_type": "stream",
     "text": [
      "3\n",
      "3\n",
      "3\n",
      "3\n"
     ]
    },
    {
     "name": "stderr",
     "output_type": "stream",
     "text": [
      " 42%|███████████████▉                      | 4457/10638 [05:18<05:36, 18.39it/s]"
     ]
    },
    {
     "name": "stdout",
     "output_type": "stream",
     "text": [
      "3\n",
      "3\n",
      "3\n",
      "2\n",
      "2\n"
     ]
    },
    {
     "name": "stderr",
     "output_type": "stream",
     "text": [
      "\r",
      " 42%|███████████████▉                      | 4460/10638 [05:18<05:32, 18.60it/s]"
     ]
    },
    {
     "name": "stdout",
     "output_type": "stream",
     "text": [
      "2\n",
      "2\n",
      "2\n",
      "2\n"
     ]
    },
    {
     "name": "stderr",
     "output_type": "stream",
     "text": [
      " 42%|███████████████▉                      | 4465/10638 [05:18<05:22, 19.14it/s]"
     ]
    },
    {
     "name": "stdout",
     "output_type": "stream",
     "text": [
      "2\n",
      "2\n",
      "2\n",
      "2\n"
     ]
    },
    {
     "name": "stderr",
     "output_type": "stream",
     "text": [
      " 42%|███████████████▉                      | 4470/10638 [05:18<05:34, 18.45it/s]"
     ]
    },
    {
     "name": "stdout",
     "output_type": "stream",
     "text": [
      "2\n",
      "2\n",
      "2\n",
      "2\n"
     ]
    },
    {
     "name": "stderr",
     "output_type": "stream",
     "text": [
      "\r",
      " 42%|███████████████▉                      | 4473/10638 [05:19<05:22, 19.13it/s]"
     ]
    },
    {
     "name": "stdout",
     "output_type": "stream",
     "text": [
      "2\n",
      "2\n",
      "2\n",
      "2\n",
      "2\n"
     ]
    },
    {
     "name": "stderr",
     "output_type": "stream",
     "text": [
      " 42%|███████████████▉                      | 4478/10638 [05:19<05:14, 19.57it/s]"
     ]
    },
    {
     "name": "stdout",
     "output_type": "stream",
     "text": [
      "2\n",
      "3\n",
      "3\n",
      "3\n",
      "3\n"
     ]
    },
    {
     "name": "stderr",
     "output_type": "stream",
     "text": [
      " 42%|████████████████                      | 4483/10638 [05:19<05:13, 19.64it/s]"
     ]
    },
    {
     "name": "stdout",
     "output_type": "stream",
     "text": [
      "3\n",
      "3\n",
      "3\n",
      "3\n"
     ]
    },
    {
     "name": "stderr",
     "output_type": "stream",
     "text": [
      " 42%|████████████████                      | 4487/10638 [05:19<05:16, 19.46it/s]"
     ]
    },
    {
     "name": "stdout",
     "output_type": "stream",
     "text": [
      "3\n",
      "3\n",
      "3\n",
      "3\n"
     ]
    },
    {
     "name": "stderr",
     "output_type": "stream",
     "text": [
      " 42%|████████████████                      | 4492/10638 [05:20<05:09, 19.83it/s]"
     ]
    },
    {
     "name": "stdout",
     "output_type": "stream",
     "text": [
      "3\n",
      "3\n",
      "3\n",
      "2\n"
     ]
    },
    {
     "name": "stderr",
     "output_type": "stream",
     "text": [
      " 42%|████████████████                      | 4496/10638 [05:20<05:28, 18.69it/s]"
     ]
    },
    {
     "name": "stdout",
     "output_type": "stream",
     "text": [
      "2\n",
      "2\n",
      "2\n",
      "2\n"
     ]
    },
    {
     "name": "stderr",
     "output_type": "stream",
     "text": [
      " 42%|████████████████                      | 4500/10638 [05:20<05:43, 17.85it/s]"
     ]
    },
    {
     "name": "stdout",
     "output_type": "stream",
     "text": [
      "2\n",
      "2\n",
      "2\n",
      "2\n"
     ]
    },
    {
     "name": "stderr",
     "output_type": "stream",
     "text": [
      "\r",
      " 42%|████████████████                      | 4510/10638 [05:20<02:40, 38.22it/s]"
     ]
    },
    {
     "name": "stdout",
     "output_type": "stream",
     "text": [
      "Unique\n",
      "Unique\n",
      "Unique\n",
      "Unique\n",
      "Unique\n",
      "Unique\n",
      "Unique\n",
      "Unique\n",
      "2\n",
      "2\n",
      "2\n",
      "3\n"
     ]
    },
    {
     "name": "stderr",
     "output_type": "stream",
     "text": [
      "\r",
      " 42%|████████████████                      | 4514/10638 [05:20<03:48, 26.79it/s]"
     ]
    },
    {
     "name": "stdout",
     "output_type": "stream",
     "text": [
      "Another Candidate\n",
      "3\n",
      "Another Candidate\n",
      "3\n",
      "Another Candidate\n",
      "3\n",
      "Another Candidate\n",
      "2\n",
      "Another Candidate\n",
      "2\n",
      "Another Candidate\n"
     ]
    },
    {
     "name": "stderr",
     "output_type": "stream",
     "text": [
      "\r",
      " 42%|████████████████▏                     | 4518/10638 [05:21<05:19, 19.14it/s]"
     ]
    },
    {
     "name": "stdout",
     "output_type": "stream",
     "text": [
      "2\n",
      "Another Candidate\n",
      "2\n",
      "Another Candidate\n",
      "3\n"
     ]
    },
    {
     "name": "stderr",
     "output_type": "stream",
     "text": [
      "\r",
      " 42%|████████████████▏                     | 4521/10638 [05:21<06:10, 16.52it/s]"
     ]
    },
    {
     "name": "stdout",
     "output_type": "stream",
     "text": [
      "Another Candidate\n",
      "3\n",
      "Another Candidate\n",
      "3\n",
      "Another Candidate\n",
      "3\n"
     ]
    },
    {
     "name": "stderr",
     "output_type": "stream",
     "text": [
      " 43%|████████████████▏                     | 4526/10638 [05:21<06:50, 14.90it/s]"
     ]
    },
    {
     "name": "stdout",
     "output_type": "stream",
     "text": [
      "Another Candidate\n",
      "3\n",
      "Another Candidate\n",
      "3\n",
      "Another Candidate\n",
      "3\n"
     ]
    },
    {
     "name": "stderr",
     "output_type": "stream",
     "text": [
      "\r",
      " 43%|████████████████▏                     | 4528/10638 [05:22<07:03, 14.43it/s]"
     ]
    },
    {
     "name": "stdout",
     "output_type": "stream",
     "text": [
      "Another Candidate\n",
      "3\n",
      "Another Candidate\n",
      "3\n",
      "Another Candidate\n",
      "3\n"
     ]
    },
    {
     "name": "stderr",
     "output_type": "stream",
     "text": [
      " 43%|████████████████▏                     | 4532/10638 [05:22<07:17, 13.95it/s]"
     ]
    },
    {
     "name": "stdout",
     "output_type": "stream",
     "text": [
      "Another Candidate\n",
      "3\n",
      "Another Candidate\n",
      "3\n",
      "Another Candidate\n",
      "3\n"
     ]
    },
    {
     "name": "stderr",
     "output_type": "stream",
     "text": [
      "\r",
      " 43%|████████████████▏                     | 4534/10638 [05:22<07:18, 13.92it/s]"
     ]
    },
    {
     "name": "stdout",
     "output_type": "stream",
     "text": [
      "Another Candidate\n",
      "3\n",
      "Another Candidate\n",
      "3\n",
      "Another Candidate\n",
      "3\n"
     ]
    },
    {
     "name": "stderr",
     "output_type": "stream",
     "text": [
      " 43%|████████████████▏                     | 4538/10638 [05:22<07:30, 13.53it/s]"
     ]
    },
    {
     "name": "stdout",
     "output_type": "stream",
     "text": [
      "Another Candidate\n",
      "3\n",
      "Another Candidate\n",
      "3\n",
      "Another Candidate\n",
      "3\n"
     ]
    },
    {
     "name": "stderr",
     "output_type": "stream",
     "text": [
      "\r",
      " 43%|████████████████▏                     | 4540/10638 [05:22<07:36, 13.36it/s]"
     ]
    },
    {
     "name": "stdout",
     "output_type": "stream",
     "text": [
      "Another Candidate\n",
      "3\n",
      "Another Candidate\n",
      "3\n",
      "Another Candidate\n",
      "3\n"
     ]
    },
    {
     "name": "stderr",
     "output_type": "stream",
     "text": [
      " 43%|████████████████▏                     | 4544/10638 [05:23<07:39, 13.26it/s]"
     ]
    },
    {
     "name": "stdout",
     "output_type": "stream",
     "text": [
      "Another Candidate\n",
      "3\n",
      "Another Candidate\n",
      "3\n",
      "Another Candidate\n",
      "3\n"
     ]
    },
    {
     "name": "stderr",
     "output_type": "stream",
     "text": [
      "\r",
      " 43%|████████████████▏                     | 4546/10638 [05:23<08:11, 12.40it/s]"
     ]
    },
    {
     "name": "stdout",
     "output_type": "stream",
     "text": [
      "Another Candidate\n",
      "2\n",
      "Another Candidate\n",
      "2\n"
     ]
    },
    {
     "name": "stderr",
     "output_type": "stream",
     "text": [
      "\r",
      " 43%|████████████████▏                     | 4548/10638 [05:23<08:47, 11.55it/s]"
     ]
    },
    {
     "name": "stdout",
     "output_type": "stream",
     "text": [
      "Another Candidate\n",
      "3\n",
      "Another Candidate\n",
      "3\n",
      "Another Candidate\n",
      "2\n"
     ]
    },
    {
     "name": "stderr",
     "output_type": "stream",
     "text": [
      "\r",
      " 43%|████████████████▎                     | 4550/10638 [05:23<08:56, 11.36it/s]"
     ]
    },
    {
     "name": "stdout",
     "output_type": "stream",
     "text": [
      "Another Candidate\n",
      "2\n",
      "Another Candidate\n",
      "2\n"
     ]
    },
    {
     "name": "stderr",
     "output_type": "stream",
     "text": [
      " 43%|████████████████▎                     | 4556/10638 [05:24<06:36, 15.33it/s]"
     ]
    },
    {
     "name": "stdout",
     "output_type": "stream",
     "text": [
      "Another Candidate\n",
      "Unique\n",
      "Unique\n",
      "Unique\n",
      "2\n",
      "Another Candidate\n",
      "2\n"
     ]
    },
    {
     "name": "stderr",
     "output_type": "stream",
     "text": [
      "\r",
      " 43%|████████████████▎                     | 4558/10638 [05:24<07:49, 12.94it/s]"
     ]
    },
    {
     "name": "stdout",
     "output_type": "stream",
     "text": [
      "Another Candidate\n",
      "2\n",
      "Another Candidate\n",
      "2\n"
     ]
    },
    {
     "name": "stderr",
     "output_type": "stream",
     "text": [
      "\r",
      " 43%|████████████████▎                     | 4560/10638 [05:24<09:10, 11.03it/s]"
     ]
    },
    {
     "name": "stdout",
     "output_type": "stream",
     "text": [
      "Another Candidate\n",
      "2\n",
      "Another Candidate\n",
      "2\n"
     ]
    },
    {
     "name": "stderr",
     "output_type": "stream",
     "text": [
      "\r",
      " 43%|████████████████▎                     | 4562/10638 [05:24<09:53, 10.24it/s]"
     ]
    },
    {
     "name": "stdout",
     "output_type": "stream",
     "text": [
      "Another Candidate\n",
      "2\n",
      "Another Candidate\n",
      "2\n"
     ]
    },
    {
     "name": "stderr",
     "output_type": "stream",
     "text": [
      "\r",
      " 43%|████████████████▎                     | 4564/10638 [05:25<10:14,  9.89it/s]"
     ]
    },
    {
     "name": "stdout",
     "output_type": "stream",
     "text": [
      "Another Candidate\n",
      "2\n",
      "Another Candidate\n",
      "2\n"
     ]
    },
    {
     "name": "stderr",
     "output_type": "stream",
     "text": [
      "\r",
      " 43%|████████████████▎                     | 4566/10638 [05:25<10:02, 10.08it/s]"
     ]
    },
    {
     "name": "stdout",
     "output_type": "stream",
     "text": [
      "Another Candidate\n",
      "2\n",
      "Another Candidate\n",
      "2\n",
      "Another Candidate\n"
     ]
    },
    {
     "name": "stderr",
     "output_type": "stream",
     "text": [
      "\r",
      " 43%|████████████████▎                     | 4568/10638 [05:25<09:54, 10.22it/s]"
     ]
    },
    {
     "name": "stdout",
     "output_type": "stream",
     "text": [
      "2\n",
      "Another Candidate\n",
      "2\n",
      "Another Candidate\n",
      "2\n"
     ]
    },
    {
     "name": "stderr",
     "output_type": "stream",
     "text": [
      "\r",
      " 43%|████████████████▎                     | 4570/10638 [05:25<09:23, 10.76it/s]"
     ]
    },
    {
     "name": "stdout",
     "output_type": "stream",
     "text": [
      "Another Candidate\n",
      "2\n",
      "Another Candidate\n",
      "2\n",
      "Another Candidate\n"
     ]
    },
    {
     "name": "stderr",
     "output_type": "stream",
     "text": [
      " 43%|████████████████▎                     | 4574/10638 [05:26<09:43, 10.39it/s]"
     ]
    },
    {
     "name": "stdout",
     "output_type": "stream",
     "text": [
      "2\n",
      "Another Candidate\n",
      "2\n",
      "Another Candidate\n",
      "2\n"
     ]
    },
    {
     "name": "stderr",
     "output_type": "stream",
     "text": [
      "\r",
      " 43%|████████████████▎                     | 4576/10638 [05:26<09:47, 10.32it/s]"
     ]
    },
    {
     "name": "stdout",
     "output_type": "stream",
     "text": [
      "Another Candidate\n",
      "2\n",
      "Another Candidate\n",
      "2\n"
     ]
    },
    {
     "name": "stderr",
     "output_type": "stream",
     "text": [
      "\r",
      " 43%|████████████████▎                     | 4578/10638 [05:26<09:40, 10.45it/s]"
     ]
    },
    {
     "name": "stdout",
     "output_type": "stream",
     "text": [
      "Another Candidate\n",
      "2\n",
      "Another Candidate\n",
      "2\n",
      "Another Candidate\n"
     ]
    },
    {
     "name": "stderr",
     "output_type": "stream",
     "text": [
      "\r",
      " 43%|████████████████▎                     | 4580/10638 [05:26<10:19,  9.78it/s]"
     ]
    },
    {
     "name": "stdout",
     "output_type": "stream",
     "text": [
      "2\n",
      "Another Candidate\n",
      "2\n",
      "Another Candidate\n"
     ]
    },
    {
     "name": "stderr",
     "output_type": "stream",
     "text": [
      " 43%|████████████████▍                     | 4586/10638 [05:26<05:44, 17.59it/s]"
     ]
    },
    {
     "name": "stdout",
     "output_type": "stream",
     "text": [
      "Unique\n",
      "Unique\n",
      "Unique\n",
      "Unique\n",
      "2\n",
      "Another Candidate\n",
      "2\n",
      "Another Candidate\n",
      "2\n",
      "Another Candidate\n",
      "3\n",
      "Another Candidate\n",
      "Another Candidate\n"
     ]
    },
    {
     "name": "stderr",
     "output_type": "stream",
     "text": [
      "\r",
      " 43%|████████████████▍                     | 4589/10638 [05:27<07:52, 12.81it/s]"
     ]
    },
    {
     "name": "stdout",
     "output_type": "stream",
     "text": [
      "3\n",
      "Another Candidate\n",
      "Another Candidate\n",
      "3\n",
      "Another Candidate\n",
      "Another Candidate\n"
     ]
    },
    {
     "name": "stderr",
     "output_type": "stream",
     "text": [
      "\r",
      " 43%|████████████████▍                     | 4591/10638 [05:27<08:45, 11.51it/s]"
     ]
    },
    {
     "name": "stdout",
     "output_type": "stream",
     "text": [
      "3\n",
      "Another Candidate\n",
      "Another Candidate\n",
      "3\n"
     ]
    },
    {
     "name": "stderr",
     "output_type": "stream",
     "text": [
      "\r",
      " 43%|████████████████▍                     | 4593/10638 [05:27<09:57, 10.12it/s]"
     ]
    },
    {
     "name": "stdout",
     "output_type": "stream",
     "text": [
      "Another Candidate\n",
      "Another Candidate\n",
      "3\n",
      "Another Candidate\n",
      "Another Candidate\n",
      "3\n"
     ]
    },
    {
     "name": "stderr",
     "output_type": "stream",
     "text": [
      "\r",
      " 43%|████████████████▍                     | 4595/10638 [05:27<10:28,  9.61it/s]"
     ]
    },
    {
     "name": "stdout",
     "output_type": "stream",
     "text": [
      "Another Candidate\n",
      "Another Candidate\n",
      "3\n",
      "Another Candidate\n",
      "Another Candidate\n"
     ]
    },
    {
     "name": "stderr",
     "output_type": "stream",
     "text": [
      "\r",
      " 43%|████████████████▍                     | 4597/10638 [05:28<11:05,  9.08it/s]"
     ]
    },
    {
     "name": "stdout",
     "output_type": "stream",
     "text": [
      "3\n",
      "Another Candidate\n",
      "Another Candidate\n",
      "3\n",
      "Another Candidate\n",
      "Another Candidate\n"
     ]
    },
    {
     "name": "stderr",
     "output_type": "stream",
     "text": [
      "\r",
      " 43%|████████████████▍                     | 4599/10638 [05:28<11:05,  9.07it/s]"
     ]
    },
    {
     "name": "stdout",
     "output_type": "stream",
     "text": [
      "3\n",
      "Another Candidate\n",
      "Another Candidate\n",
      "2\n",
      "Another Candidate\n",
      "2\n"
     ]
    },
    {
     "name": "stderr",
     "output_type": "stream",
     "text": [
      " 43%|████████████████▍                     | 4603/10638 [05:28<09:38, 10.44it/s]"
     ]
    },
    {
     "name": "stdout",
     "output_type": "stream",
     "text": [
      "Another Candidate\n",
      "2\n",
      "Another Candidate\n",
      "2\n",
      "Another Candidate\n",
      "Unique\n",
      "Unique\n",
      "2\n"
     ]
    },
    {
     "name": "stderr",
     "output_type": "stream",
     "text": [
      "\r",
      " 43%|████████████████▍                     | 4607/10638 [05:28<07:11, 13.98it/s]"
     ]
    },
    {
     "name": "stdout",
     "output_type": "stream",
     "text": [
      "Another Candidate\n",
      "2\n",
      "Another Candidate\n",
      "2\n",
      "Another Candidate\n"
     ]
    },
    {
     "name": "stderr",
     "output_type": "stream",
     "text": [
      "\r",
      " 43%|████████████████▍                     | 4609/10638 [05:29<07:50, 12.81it/s]"
     ]
    },
    {
     "name": "stdout",
     "output_type": "stream",
     "text": [
      "2\n",
      "Another Candidate\n",
      "3\n",
      "Another Candidate\n",
      "Another Candidate\n",
      "3\n"
     ]
    },
    {
     "name": "stderr",
     "output_type": "stream",
     "text": [
      "\r",
      " 43%|████████████████▍                     | 4611/10638 [05:29<08:36, 11.67it/s]"
     ]
    },
    {
     "name": "stdout",
     "output_type": "stream",
     "text": [
      "Another Candidate\n",
      "Another Candidate\n",
      "3\n",
      "Another Candidate\n",
      "Another Candidate\n",
      "3\n"
     ]
    },
    {
     "name": "stderr",
     "output_type": "stream",
     "text": [
      "\r",
      " 43%|████████████████▍                     | 4613/10638 [05:29<09:08, 10.99it/s]"
     ]
    },
    {
     "name": "stdout",
     "output_type": "stream",
     "text": [
      "Another Candidate\n",
      "Another Candidate\n",
      "3\n",
      "Another Candidate\n",
      "Another Candidate\n",
      "3\n"
     ]
    },
    {
     "name": "stderr",
     "output_type": "stream",
     "text": [
      "\r",
      " 43%|████████████████▍                     | 4615/10638 [05:29<09:39, 10.40it/s]"
     ]
    },
    {
     "name": "stdout",
     "output_type": "stream",
     "text": [
      "Another Candidate\n",
      "Another Candidate\n",
      "3\n",
      "Another Candidate\n",
      "Another Candidate\n",
      "3\n"
     ]
    },
    {
     "name": "stderr",
     "output_type": "stream",
     "text": [
      "\r",
      " 43%|████████████████▍                     | 4617/10638 [05:30<10:01, 10.01it/s]"
     ]
    },
    {
     "name": "stdout",
     "output_type": "stream",
     "text": [
      "Another Candidate\n",
      "Another Candidate\n",
      "3\n",
      "Another Candidate\n",
      "Another Candidate\n",
      "3\n"
     ]
    },
    {
     "name": "stderr",
     "output_type": "stream",
     "text": [
      " 43%|████████████████▌                     | 4620/10638 [05:30<10:40,  9.39it/s]"
     ]
    },
    {
     "name": "stdout",
     "output_type": "stream",
     "text": [
      "Another Candidate\n",
      "Another Candidate\n",
      "3\n",
      "Another Candidate\n",
      "Another Candidate\n",
      "3\n"
     ]
    },
    {
     "name": "stderr",
     "output_type": "stream",
     "text": [
      " 43%|████████████████▌                     | 4623/10638 [05:30<08:57, 11.20it/s]"
     ]
    },
    {
     "name": "stdout",
     "output_type": "stream",
     "text": [
      "Another Candidate\n",
      "Another Candidate\n",
      "Unique\n",
      "2\n",
      "Another Candidate\n",
      "Unique\n",
      "3\n"
     ]
    },
    {
     "name": "stderr",
     "output_type": "stream",
     "text": [
      "\r",
      " 43%|████████████████▌                     | 4626/10638 [05:30<07:26, 13.46it/s]"
     ]
    },
    {
     "name": "stdout",
     "output_type": "stream",
     "text": [
      "Another Candidate\n",
      "3\n",
      "Another Candidate\n",
      "3\n",
      "Another Candidate\n",
      "3\n"
     ]
    },
    {
     "name": "stderr",
     "output_type": "stream",
     "text": [
      " 44%|████████████████▌                     | 4630/10638 [05:31<07:16, 13.76it/s]"
     ]
    },
    {
     "name": "stdout",
     "output_type": "stream",
     "text": [
      "2\n",
      "3\n",
      "2\n",
      "3\n"
     ]
    },
    {
     "name": "stderr",
     "output_type": "stream",
     "text": [
      " 44%|████████████████▌                     | 4634/10638 [05:31<07:00, 14.28it/s]"
     ]
    },
    {
     "name": "stdout",
     "output_type": "stream",
     "text": [
      "2\n",
      "2\n",
      "Another Candidate\n",
      "3\n",
      "Another Candidate\n"
     ]
    },
    {
     "name": "stderr",
     "output_type": "stream",
     "text": [
      "\r",
      " 44%|████████████████▌                     | 4636/10638 [05:31<07:40, 13.02it/s]"
     ]
    },
    {
     "name": "stdout",
     "output_type": "stream",
     "text": [
      "2\n",
      "Another Candidate\n",
      "2\n",
      "Another Candidate\n"
     ]
    },
    {
     "name": "stderr",
     "output_type": "stream",
     "text": [
      "\r",
      " 44%|████████████████▌                     | 4638/10638 [05:31<08:21, 11.96it/s]"
     ]
    },
    {
     "name": "stdout",
     "output_type": "stream",
     "text": [
      "3\n",
      "Another Candidate\n",
      "Another Candidate\n",
      "3\n",
      "Another Candidate\n",
      "Another Candidate\n"
     ]
    },
    {
     "name": "stderr",
     "output_type": "stream",
     "text": [
      "\r",
      " 44%|████████████████▌                     | 4640/10638 [05:31<08:39, 11.56it/s]"
     ]
    },
    {
     "name": "stdout",
     "output_type": "stream",
     "text": [
      "3\n",
      "Another Candidate\n",
      "2\n",
      "Another Candidate\n",
      "2\n"
     ]
    },
    {
     "name": "stderr",
     "output_type": "stream",
     "text": [
      " 44%|████████████████▌                     | 4644/10638 [05:32<08:17, 12.05it/s]"
     ]
    },
    {
     "name": "stdout",
     "output_type": "stream",
     "text": [
      "Another Candidate\n",
      "2\n",
      "Another Candidate\n",
      "2\n",
      "Another Candidate\n",
      "2\n"
     ]
    },
    {
     "name": "stderr",
     "output_type": "stream",
     "text": [
      "\r",
      " 44%|████████████████▌                     | 4646/10638 [05:32<08:29, 11.76it/s]"
     ]
    },
    {
     "name": "stdout",
     "output_type": "stream",
     "text": [
      "Another Candidate\n",
      "2\n",
      "Another Candidate\n",
      "3\n",
      "Another Candidate\n"
     ]
    },
    {
     "name": "stderr",
     "output_type": "stream",
     "text": [
      "\r",
      " 44%|████████████████▌                     | 4648/10638 [05:32<09:13, 10.81it/s]"
     ]
    },
    {
     "name": "stdout",
     "output_type": "stream",
     "text": [
      "Another Candidate\n",
      "3\n",
      "Another Candidate\n",
      "Another Candidate\n",
      "3\n",
      "Another Candidate\n",
      "Another Candidate\n"
     ]
    },
    {
     "name": "stderr",
     "output_type": "stream",
     "text": [
      "\r",
      " 44%|████████████████▌                     | 4650/10638 [05:32<09:34, 10.42it/s]"
     ]
    },
    {
     "name": "stdout",
     "output_type": "stream",
     "text": [
      "3\n",
      "Another Candidate\n",
      "Another Candidate\n",
      "3\n",
      "Another Candidate\n",
      "Another Candidate\n"
     ]
    },
    {
     "name": "stderr",
     "output_type": "stream",
     "text": [
      "\r",
      " 44%|████████████████▌                     | 4652/10638 [05:33<10:18,  9.68it/s]"
     ]
    },
    {
     "name": "stdout",
     "output_type": "stream",
     "text": [
      "3\n",
      "Another Candidate\n",
      "Another Candidate\n",
      "3\n",
      "Another Candidate\n",
      "Another Candidate\n"
     ]
    },
    {
     "name": "stderr",
     "output_type": "stream",
     "text": [
      " 44%|████████████████▌                     | 4654/10638 [05:33<10:35,  9.42it/s]"
     ]
    },
    {
     "name": "stdout",
     "output_type": "stream",
     "text": [
      "3\n",
      "Another Candidate\n",
      "Another Candidate\n",
      "3\n",
      "Another Candidate\n",
      "Another Candidate\n"
     ]
    },
    {
     "name": "stderr",
     "output_type": "stream",
     "text": [
      " 44%|████████████████▋                     | 4657/10638 [05:33<09:37, 10.36it/s]"
     ]
    },
    {
     "name": "stdout",
     "output_type": "stream",
     "text": [
      "2\n",
      "Another Candidate\n",
      "3\n",
      "Another Candidate\n",
      "3\n",
      "Another Candidate\n"
     ]
    },
    {
     "name": "stderr",
     "output_type": "stream",
     "text": [
      "\r",
      " 44%|████████████████▋                     | 4659/10638 [05:33<08:52, 11.23it/s]"
     ]
    },
    {
     "name": "stdout",
     "output_type": "stream",
     "text": [
      "3\n",
      "Another Candidate\n",
      "3\n",
      "Another Candidate\n",
      "3\n",
      "Another Candidate\n"
     ]
    },
    {
     "name": "stderr",
     "output_type": "stream",
     "text": [
      " 44%|████████████████▋                     | 4663/10638 [05:33<08:02, 12.38it/s]"
     ]
    },
    {
     "name": "stdout",
     "output_type": "stream",
     "text": [
      "3\n",
      "Another Candidate\n",
      "3\n",
      "Another Candidate\n",
      "3\n",
      "Another Candidate\n"
     ]
    },
    {
     "name": "stderr",
     "output_type": "stream",
     "text": [
      "\r",
      " 44%|████████████████▋                     | 4665/10638 [05:34<07:29, 13.28it/s]"
     ]
    },
    {
     "name": "stdout",
     "output_type": "stream",
     "text": [
      "2\n",
      "2\n",
      "2\n",
      "Unique\n",
      "Unique\n",
      "Unique\n",
      "Unique\n",
      "2\n",
      "Another Candidate\n"
     ]
    },
    {
     "name": "stderr",
     "output_type": "stream",
     "text": [
      " 44%|████████████████▋                     | 4674/10638 [05:34<05:14, 18.94it/s]"
     ]
    },
    {
     "name": "stdout",
     "output_type": "stream",
     "text": [
      "3\n",
      "Another Candidate\n",
      "3\n",
      "Another Candidate\n",
      "2\n"
     ]
    },
    {
     "name": "stderr",
     "output_type": "stream",
     "text": [
      "\r",
      " 44%|████████████████▋                     | 4676/10638 [05:34<06:11, 16.03it/s]"
     ]
    },
    {
     "name": "stdout",
     "output_type": "stream",
     "text": [
      "Another Candidate\n",
      "2\n",
      "Another Candidate\n",
      "2\n",
      "Another Candidate\n"
     ]
    },
    {
     "name": "stderr",
     "output_type": "stream",
     "text": [
      "\r",
      " 44%|████████████████▋                     | 4678/10638 [05:34<06:41, 14.84it/s]"
     ]
    },
    {
     "name": "stdout",
     "output_type": "stream",
     "text": [
      "2\n",
      "Another Candidate\n",
      "2\n",
      "Another Candidate\n",
      "2\n"
     ]
    },
    {
     "name": "stderr",
     "output_type": "stream",
     "text": [
      "\r",
      " 44%|████████████████▋                     | 4680/10638 [05:35<07:16, 13.66it/s]"
     ]
    },
    {
     "name": "stdout",
     "output_type": "stream",
     "text": [
      "Another Candidate\n",
      "2\n",
      "Another Candidate\n",
      "2\n",
      "Another Candidate\n"
     ]
    },
    {
     "name": "stderr",
     "output_type": "stream",
     "text": [
      " 44%|████████████████▋                     | 4684/10638 [05:35<07:46, 12.75it/s]"
     ]
    },
    {
     "name": "stdout",
     "output_type": "stream",
     "text": [
      "2\n",
      "Another Candidate\n",
      "2\n",
      "Another Candidate\n",
      "2\n"
     ]
    },
    {
     "name": "stderr",
     "output_type": "stream",
     "text": [
      "\r",
      " 44%|████████████████▋                     | 4686/10638 [05:35<08:11, 12.10it/s]"
     ]
    },
    {
     "name": "stdout",
     "output_type": "stream",
     "text": [
      "Another Candidate\n",
      "2\n",
      "Another Candidate\n",
      "2\n",
      "Another Candidate\n"
     ]
    },
    {
     "name": "stderr",
     "output_type": "stream",
     "text": [
      "\r",
      " 44%|████████████████▋                     | 4688/10638 [05:35<08:07, 12.21it/s]"
     ]
    },
    {
     "name": "stdout",
     "output_type": "stream",
     "text": [
      "2\n",
      "Another Candidate\n",
      "2\n",
      "Another Candidate\n",
      "2\n"
     ]
    },
    {
     "name": "stderr",
     "output_type": "stream",
     "text": [
      "\r",
      " 44%|████████████████▊                     | 4690/10638 [05:35<08:30, 11.64it/s]"
     ]
    },
    {
     "name": "stdout",
     "output_type": "stream",
     "text": [
      "Another Candidate\n",
      "Unique\n",
      "Unique\n",
      "Unique\n",
      "Unique\n",
      "Unique\n",
      "Unique\n",
      "Unique\n",
      "Unique\n",
      "Unique\n",
      "Unique\n",
      "Unique\n",
      "Unique\n",
      "Unique\n",
      "Unique\n",
      "Unique\n",
      "Unique\n",
      "Unique\n",
      "Unique\n",
      "Unique\n",
      "Unique\n",
      "Unique\n",
      "Unique\n",
      "Unique\n",
      "Unique\n",
      "Unique\n",
      "Unique\n",
      "Unique\n",
      "Unique\n",
      "Unique\n",
      "Unique\n",
      "Unique\n",
      "Unique\n",
      "Unique\n",
      "Unique\n",
      "Unique\n",
      "Unique\n",
      "Unique\n",
      "Unique\n",
      "Unique\n",
      "Unique\n",
      "Unique\n",
      "Unique\n",
      "Unique\n",
      "Unique\n",
      "Unique\n",
      "Unique\n",
      "Unique\n",
      "Unique\n",
      "Unique\n",
      "Unique\n",
      "Unique\n",
      "Unique\n",
      "Unique\n",
      "Unique\n",
      "Unique\n",
      "Unique\n",
      "Unique\n",
      "Unique\n",
      "Unique\n",
      "Unique\n",
      "Unique\n",
      "Unique\n",
      "Unique\n",
      "Unique\n",
      "Unique\n",
      "Unique\n",
      "Unique\n",
      "Unique\n",
      "Unique\n",
      "Unique\n",
      "Unique\n",
      "Unique\n",
      "Unique\n",
      "Unique\n",
      "Unique\n",
      "Unique\n",
      "Unique\n",
      "Unique\n",
      "Unique\n",
      "Unique\n",
      "Unique\n",
      "Unique\n",
      "Unique\n",
      "Unique\n",
      "Unique\n",
      "Unique\n",
      "Unique\n",
      "Unique\n",
      "Unique\n",
      "Unique\n",
      "Unique\n",
      "Unique\n",
      "Unique\n",
      "Unique\n",
      "Unique\n",
      "Unique\n",
      "Unique\n",
      "Unique\n",
      "Unique\n",
      "Unique\n",
      "Unique\n",
      "Unique\n",
      "Unique\n",
      "2\n",
      "Another Candidate\n"
     ]
    },
    {
     "name": "stderr",
     "output_type": "stream",
     "text": [
      "\r",
      " 45%|████████████████▋                    | 4794/10638 [05:36<00:29, 195.15it/s]"
     ]
    },
    {
     "name": "stdout",
     "output_type": "stream",
     "text": [
      "Unique\n",
      "2\n",
      "Another Candidate\n",
      "2\n",
      "Another Candidate\n",
      "Unique\n",
      "2\n"
     ]
    },
    {
     "name": "stderr",
     "output_type": "stream",
     "text": [
      "\r",
      " 45%|████████████████▊                    | 4817/10638 [05:36<00:44, 129.50it/s]"
     ]
    },
    {
     "name": "stdout",
     "output_type": "stream",
     "text": [
      "Another Candidate\n",
      "Unique\n",
      "2\n",
      "Unique\n",
      "Unique\n",
      "Unique\n",
      "Unique\n",
      "Unique\n",
      "Unique\n",
      "Unique\n",
      "Unique\n",
      "Unique\n",
      "Unique\n",
      "Unique\n",
      "Unique\n",
      "Unique\n",
      "Unique\n",
      "Unique\n",
      "Unique\n",
      "Unique\n",
      "Unique\n",
      "Unique\n",
      "Unique\n",
      "Unique\n",
      "Unique\n",
      "Unique\n",
      "Unique\n",
      "Unique\n",
      "Unique\n",
      "Unique\n",
      "Unique\n",
      "Unique\n",
      "Unique\n",
      "Unique\n",
      "Unique\n",
      "Unique\n",
      "Unique\n",
      "Unique\n",
      "Unique\n",
      "Unique\n",
      "Unique\n",
      "Unique\n",
      "Unique\n",
      "Unique\n",
      "Unique\n",
      "Unique\n",
      "Unique\n",
      "Unique\n",
      "Unique\n",
      "Unique\n",
      "Unique\n",
      "Unique\n",
      "Unique\n",
      "Unique\n",
      "Unique\n",
      "Unique\n",
      "Unique\n",
      "Unique\n",
      "Unique\n",
      "Unique\n",
      "Unique\n",
      "Unique\n",
      "Unique\n",
      "Unique\n",
      "Unique\n",
      "Unique\n",
      "Unique\n",
      "Unique\n",
      "Unique\n",
      "Unique\n",
      "Unique\n",
      "Unique\n",
      "Unique\n",
      "Unique\n",
      "Unique\n",
      "Unique\n",
      "Unique\n",
      "Unique\n",
      "Unique\n",
      "Unique\n",
      "Unique\n",
      "Unique\n",
      "Unique\n",
      "Unique\n",
      "Unique\n",
      "Unique\n",
      "Unique\n",
      "Unique\n",
      "3\n",
      "Another Candidate\n",
      "Another Candidate\n"
     ]
    },
    {
     "name": "stderr",
     "output_type": "stream",
     "text": [
      "\r",
      " 46%|████████████████▉                    | 4887/10638 [05:36<00:28, 202.66it/s]"
     ]
    },
    {
     "name": "stdout",
     "output_type": "stream",
     "text": [
      "3\n",
      "Another Candidate\n",
      "Another Candidate\n",
      "3\n",
      "Another Candidate\n",
      "Another Candidate\n",
      "3\n",
      "Another Candidate\n",
      "Another Candidate\n",
      "2\n",
      "Another Candidate\n",
      "3\n",
      "Another Candidate\n",
      "Another Candidate\n",
      "2\n",
      "Another Candidate\n",
      "2\n",
      "Another Candidate\n",
      "3\n",
      "Another Candidate\n",
      "Another Candidate\n",
      "2\n",
      "Another Candidate\n",
      "Unique\n",
      "2\n",
      "Another Candidate\n",
      "2\n",
      "Another Candidate\n",
      "Unique\n",
      "3\n",
      "Another Candidate\n",
      "Another Candidate\n",
      "3\n",
      "Another Candidate\n",
      "Another Candidate\n",
      "2\n",
      "Another Candidate\n",
      "3\n",
      "Another Candidate\n",
      "Another Candidate\n",
      "2\n",
      "Another Candidate\n",
      "2\n",
      "Another Candidate\n",
      "3\n",
      "Another Candidate\n",
      "Another Candidate\n",
      "3\n",
      "Another Candidate\n",
      "Another Candidate\n",
      "3\n",
      "Another Candidate\n",
      "Another Candidate\n",
      "2\n",
      "Another Candidate\n",
      "3\n",
      "Another Candidate\n",
      "Another Candidate\n"
     ]
    },
    {
     "name": "stderr",
     "output_type": "stream",
     "text": [
      "\r",
      " 46%|█████████████████▌                    | 4914/10638 [05:38<02:07, 44.84it/s]"
     ]
    },
    {
     "name": "stdout",
     "output_type": "stream",
     "text": [
      "Unique\n",
      "3\n",
      "Unique\n",
      "Unique\n",
      "Unique\n",
      "Unique\n",
      "2\n",
      "2\n",
      "2\n",
      "2\n",
      "Unique\n",
      "2\n",
      "2\n",
      "2\n",
      "2\n",
      "2\n",
      "2\n",
      "2\n",
      "2\n",
      "Another Candidate\n"
     ]
    },
    {
     "name": "stderr",
     "output_type": "stream",
     "text": [
      "\r",
      " 46%|█████████████████▌                    | 4933/10638 [05:39<02:24, 39.58it/s]"
     ]
    },
    {
     "name": "stdout",
     "output_type": "stream",
     "text": [
      "2\n",
      "Another Candidate\n",
      "Unique\n",
      "Unique\n",
      "Unique\n",
      "Unique\n",
      "Unique\n",
      "2\n",
      "Another Candidate\n",
      "2\n",
      "Another Candidate\n",
      "2\n",
      "Another Candidate\n",
      "2\n",
      "Another Candidate\n"
     ]
    },
    {
     "name": "stderr",
     "output_type": "stream",
     "text": [
      "\r",
      " 47%|█████████████████▋                    | 4947/10638 [05:40<02:33, 37.16it/s]"
     ]
    },
    {
     "name": "stdout",
     "output_type": "stream",
     "text": [
      "Unique\n",
      "2\n",
      "Another Candidate\n",
      "Unique\n",
      "2\n",
      "Another Candidate\n",
      "Unique\n",
      "Unique\n",
      "Unique\n",
      "2\n",
      "Another Candidate\n",
      "2\n",
      "Another Candidate\n",
      "2\n",
      "Another Candidate\n",
      "2\n",
      "Another Candidate\n",
      "2\n",
      "Another Candidate\n",
      "2\n",
      "Another Candidate\n",
      "2\n",
      "Another Candidate\n",
      "2\n",
      "Another Candidate\n",
      "2\n",
      "Another Candidate\n",
      "2\n",
      "Another Candidate\n"
     ]
    },
    {
     "name": "stderr",
     "output_type": "stream",
     "text": [
      "\r",
      " 47%|█████████████████▋                    | 4958/10638 [05:41<03:26, 27.47it/s]"
     ]
    },
    {
     "name": "stdout",
     "output_type": "stream",
     "text": [
      "2\n",
      "Another Candidate\n",
      "Unique\n",
      "2\n",
      "Another Candidate\n",
      "2\n",
      "Another Candidate\n",
      "2\n",
      "Another Candidate\n",
      "2\n",
      "Another Candidate\n",
      "2\n",
      "Another Candidate\n",
      "2\n",
      "Another Candidate\n",
      "2\n"
     ]
    },
    {
     "name": "stderr",
     "output_type": "stream",
     "text": [
      "\r",
      " 47%|█████████████████▋                    | 4966/10638 [05:41<03:59, 23.73it/s]"
     ]
    },
    {
     "name": "stdout",
     "output_type": "stream",
     "text": [
      "Another Candidate\n",
      "2\n",
      "Another Candidate\n",
      "Unique\n",
      "2\n",
      "Another Candidate\n",
      "2\n",
      "Another Candidate\n",
      "2\n",
      "Another Candidate\n",
      "2\n"
     ]
    },
    {
     "name": "stderr",
     "output_type": "stream",
     "text": [
      " 47%|█████████████████▊                    | 4986/10638 [05:42<03:21, 28.02it/s]"
     ]
    },
    {
     "name": "stdout",
     "output_type": "stream",
     "text": [
      "Another Candidate\n",
      "Unique\n",
      "Unique\n",
      "Unique\n",
      "Unique\n",
      "Unique\n",
      "Unique\n",
      "Unique\n",
      "Unique\n",
      "Unique\n",
      "Unique\n",
      "Unique\n",
      "Unique\n",
      "Unique\n",
      "2\n",
      "Another Candidate\n",
      "2\n",
      "Another Candidate\n",
      "2\n",
      "Another Candidate\n",
      "2\n",
      "Another Candidate\n",
      "2\n",
      "Another Candidate\n",
      "2\n"
     ]
    },
    {
     "name": "stderr",
     "output_type": "stream",
     "text": [
      "\r",
      " 47%|█████████████████▊                    | 4993/10638 [05:43<04:28, 21.03it/s]"
     ]
    },
    {
     "name": "stdout",
     "output_type": "stream",
     "text": [
      "Another Candidate\n",
      "2\n",
      "Another Candidate\n",
      "Unique\n",
      "2\n",
      "Another Candidate\n",
      "2\n",
      "Another Candidate\n",
      "2\n"
     ]
    },
    {
     "name": "stderr",
     "output_type": "stream",
     "text": [
      "\r",
      " 47%|█████████████████▊                    | 4998/10638 [05:43<05:07, 18.31it/s]"
     ]
    },
    {
     "name": "stdout",
     "output_type": "stream",
     "text": [
      "Another Candidate\n",
      "2\n",
      "Another Candidate\n",
      "Unique\n",
      "Unique\n",
      "2\n",
      "Another Candidate\n"
     ]
    },
    {
     "name": "stderr",
     "output_type": "stream",
     "text": [
      "\r",
      " 47%|█████████████████▊                    | 5002/10638 [05:43<05:16, 17.79it/s]"
     ]
    },
    {
     "name": "stdout",
     "output_type": "stream",
     "text": [
      "2\n",
      "Another Candidate\n",
      "2\n",
      "Another Candidate\n",
      "2\n",
      "Another Candidate\n",
      "2\n",
      "Another Candidate\n",
      "2\n",
      "Another Candidate\n"
     ]
    },
    {
     "name": "stderr",
     "output_type": "stream",
     "text": [
      "\r",
      " 47%|█████████████████▉                    | 5005/10638 [05:44<05:47, 16.19it/s]"
     ]
    },
    {
     "name": "stdout",
     "output_type": "stream",
     "text": [
      "2\n",
      "Another Candidate\n",
      "2\n",
      "Another Candidate\n",
      "2\n"
     ]
    },
    {
     "name": "stderr",
     "output_type": "stream",
     "text": [
      " 47%|█████████████████▉                    | 5010/10638 [05:44<06:27, 14.52it/s]"
     ]
    },
    {
     "name": "stdout",
     "output_type": "stream",
     "text": [
      "Another Candidate\n",
      "2\n",
      "Another Candidate\n",
      "2\n",
      "Another Candidate\n",
      "2\n"
     ]
    },
    {
     "name": "stderr",
     "output_type": "stream",
     "text": [
      "\r",
      " 47%|█████████████████▉                    | 5012/10638 [05:44<06:43, 13.93it/s]"
     ]
    },
    {
     "name": "stdout",
     "output_type": "stream",
     "text": [
      "Another Candidate\n",
      "2\n",
      "Another Candidate\n",
      "2\n",
      "Another Candidate\n"
     ]
    },
    {
     "name": "stderr",
     "output_type": "stream",
     "text": [
      "\r",
      " 47%|█████████████████▉                    | 5014/10638 [05:44<06:55, 13.53it/s]"
     ]
    },
    {
     "name": "stdout",
     "output_type": "stream",
     "text": [
      "2\n",
      "Another Candidate\n",
      "2\n",
      "Another Candidate\n",
      "Unique\n",
      "Unique\n",
      "Unique\n",
      "Unique\n",
      "Unique\n",
      "2\n"
     ]
    },
    {
     "name": "stderr",
     "output_type": "stream",
     "text": [
      "\r",
      " 47%|█████████████████▉                    | 5021/10638 [05:45<04:41, 19.92it/s]"
     ]
    },
    {
     "name": "stdout",
     "output_type": "stream",
     "text": [
      "Another Candidate\n",
      "2\n",
      "Another Candidate\n",
      "2\n",
      "Another Candidate\n"
     ]
    },
    {
     "name": "stderr",
     "output_type": "stream",
     "text": [
      "\r",
      " 47%|█████████████████▉                    | 5024/10638 [05:45<05:31, 16.94it/s]"
     ]
    },
    {
     "name": "stdout",
     "output_type": "stream",
     "text": [
      "2\n",
      "Another Candidate\n",
      "2\n",
      "Another Candidate\n",
      "2\n"
     ]
    },
    {
     "name": "stderr",
     "output_type": "stream",
     "text": [
      " 47%|█████████████████▉                    | 5028/10638 [05:45<05:53, 15.86it/s]"
     ]
    },
    {
     "name": "stdout",
     "output_type": "stream",
     "text": [
      "Another Candidate\n",
      "2\n",
      "2\n",
      "2\n"
     ]
    },
    {
     "name": "stderr",
     "output_type": "stream",
     "text": [
      " 47%|█████████████████▉                    | 5032/10638 [05:45<05:26, 17.17it/s]"
     ]
    },
    {
     "name": "stdout",
     "output_type": "stream",
     "text": [
      "2\n",
      "2\n",
      "2\n",
      "Unique\n",
      "2\n"
     ]
    },
    {
     "name": "stderr",
     "output_type": "stream",
     "text": [
      " 47%|█████████████████▉                    | 5038/10638 [05:45<04:13, 22.12it/s]"
     ]
    },
    {
     "name": "stdout",
     "output_type": "stream",
     "text": [
      "2\n",
      "2\n",
      "2\n",
      "Unique\n",
      "2\n"
     ]
    },
    {
     "name": "stderr",
     "output_type": "stream",
     "text": [
      "\r",
      " 47%|██████████████████                    | 5041/10638 [05:46<04:22, 21.29it/s]"
     ]
    },
    {
     "name": "stdout",
     "output_type": "stream",
     "text": [
      "2\n",
      "2\n",
      "2\n",
      "2\n",
      "2\n"
     ]
    },
    {
     "name": "stderr",
     "output_type": "stream",
     "text": [
      " 54%|███████████████████▎                | 5716/10638 [05:46<00:03, 1328.30it/s]"
     ]
    },
    {
     "name": "stdout",
     "output_type": "stream",
     "text": [
      "Unique\n",
      "Unique\n",
      "Unique\n",
      "Unique\n",
      "Unique\n",
      "Unique\n",
      "Unique\n",
      "Unique\n",
      "Unique\n",
      "Unique\n",
      "Unique\n",
      "Unique\n",
      "Unique\n",
      "Unique\n",
      "Unique\n",
      "Unique\n",
      "Unique\n",
      "Unique\n",
      "Unique\n",
      "Unique\n",
      "Unique\n",
      "Unique\n",
      "Unique\n",
      "Unique\n",
      "Unique\n",
      "Unique\n",
      "Unique\n",
      "Unique\n",
      "Unique\n",
      "Unique\n",
      "Unique\n",
      "Unique\n",
      "Unique\n",
      "Unique\n",
      "Unique\n",
      "Unique\n",
      "Unique\n",
      "Unique\n",
      "Unique\n",
      "Unique\n",
      "Unique\n",
      "Unique\n",
      "Unique\n",
      "Unique\n",
      "Unique\n",
      "Unique\n",
      "Unique\n",
      "Unique\n",
      "Unique\n",
      "Unique\n",
      "Unique\n",
      "Unique\n",
      "Unique\n",
      "Unique\n",
      "Unique\n",
      "Unique\n",
      "Unique\n",
      "Unique\n",
      "Unique\n",
      "Unique\n",
      "Unique\n",
      "Unique\n",
      "Unique\n",
      "Unique\n",
      "Unique\n",
      "Unique\n",
      "Unique\n",
      "Unique\n",
      "Unique\n",
      "Unique\n",
      "Unique\n",
      "Unique\n",
      "Unique\n",
      "Unique\n",
      "Unique\n",
      "Unique\n",
      "Unique\n",
      "Unique\n",
      "Unique\n",
      "Unique\n",
      "Unique\n",
      "Unique\n",
      "Unique\n",
      "Unique\n",
      "Unique\n",
      "Unique\n",
      "Unique\n",
      "Unique\n",
      "Unique\n",
      "Unique\n",
      "Unique\n",
      "Unique\n",
      "Unique\n",
      "Unique\n",
      "Unique\n",
      "Unique\n",
      "Unique\n",
      "Unique\n",
      "Unique\n",
      "Unique\n",
      "Unique\n",
      "Unique\n",
      "Unique\n",
      "Unique\n",
      "Unique\n",
      "Unique\n",
      "Unique\n",
      "Unique\n",
      "Unique\n",
      "Unique\n",
      "Unique\n",
      "Unique\n",
      "Unique\n",
      "Unique\n",
      "Unique\n",
      "Unique\n",
      "Unique\n",
      "Unique\n",
      "Unique\n",
      "Unique\n",
      "Unique\n",
      "Unique\n",
      "Unique\n",
      "Unique\n",
      "Unique\n",
      "Unique\n",
      "Unique\n",
      "Unique\n",
      "Unique\n",
      "Unique\n",
      "Unique\n",
      "Unique\n",
      "Unique\n",
      "Unique\n",
      "Unique\n",
      "Unique\n",
      "Unique\n",
      "Unique\n",
      "Unique\n",
      "Unique\n",
      "Unique\n",
      "Unique\n",
      "Unique\n",
      "Unique\n",
      "Unique\n",
      "Unique\n",
      "Unique\n",
      "Unique\n",
      "Unique\n",
      "Unique\n",
      "Unique\n",
      "Unique\n",
      "Unique\n",
      "Unique\n",
      "Unique\n",
      "Unique\n",
      "Unique\n",
      "Unique\n",
      "Unique\n",
      "Unique\n",
      "Unique\n",
      "Unique\n",
      "Unique\n",
      "Unique\n",
      "Unique\n",
      "Unique\n",
      "Unique\n",
      "Unique\n",
      "Unique\n",
      "Unique\n",
      "Unique\n",
      "Unique\n",
      "Unique\n",
      "Unique\n",
      "Unique\n",
      "Unique\n",
      "Unique\n",
      "Unique\n",
      "Unique\n",
      "Unique\n",
      "Unique\n",
      "Unique\n",
      "Unique\n",
      "Unique\n",
      "Unique\n",
      "Unique\n",
      "Unique\n",
      "Unique\n",
      "Unique\n",
      "Unique\n",
      "Unique\n",
      "Unique\n",
      "Unique\n",
      "Unique\n",
      "Unique\n",
      "Unique\n",
      "Unique\n",
      "Unique\n",
      "Unique\n",
      "Unique\n",
      "Unique\n",
      "Unique\n",
      "Unique\n",
      "Unique\n",
      "Unique\n",
      "Unique\n",
      "Unique\n",
      "Unique\n",
      "Unique\n",
      "Unique\n",
      "Unique\n",
      "Unique\n",
      "Unique\n",
      "Unique\n",
      "Unique\n",
      "Unique\n",
      "Unique\n",
      "Unique\n",
      "Unique\n",
      "Unique\n",
      "Unique\n",
      "Unique\n",
      "Unique\n",
      "Unique\n",
      "Unique\n",
      "Unique\n",
      "Unique\n",
      "Unique\n",
      "Unique\n",
      "Unique\n",
      "Unique\n",
      "Unique\n",
      "Unique\n",
      "Unique\n",
      "Unique\n",
      "Unique\n",
      "Unique\n",
      "Unique\n",
      "Unique\n",
      "Unique\n",
      "Unique\n",
      "Unique\n",
      "Unique\n",
      "Unique\n",
      "Unique\n",
      "Unique\n",
      "Unique\n",
      "Unique\n",
      "Unique\n",
      "Unique\n",
      "Unique\n",
      "Unique\n",
      "Unique\n",
      "Unique\n",
      "Unique\n",
      "Unique\n",
      "Unique\n",
      "Unique\n",
      "Unique\n",
      "Unique\n",
      "Unique\n",
      "Unique\n",
      "Unique\n",
      "Unique\n",
      "Unique\n",
      "Unique\n",
      "Unique\n",
      "Unique\n",
      "Unique\n",
      "Unique\n",
      "Unique\n",
      "Unique\n",
      "Unique\n",
      "Unique\n",
      "Unique\n",
      "Unique\n",
      "Unique\n",
      "Unique\n",
      "Unique\n",
      "Unique\n",
      "Unique\n",
      "Unique\n",
      "Unique\n",
      "Unique\n",
      "Unique\n",
      "Unique\n",
      "Unique\n",
      "Unique\n",
      "Unique\n",
      "Unique\n",
      "Unique\n",
      "Unique\n",
      "Unique\n",
      "Unique\n",
      "Unique\n",
      "Unique\n",
      "Unique\n",
      "Unique\n",
      "Unique\n",
      "Unique\n",
      "Unique\n",
      "Unique\n",
      "Unique\n",
      "Unique\n",
      "Unique\n",
      "Unique\n",
      "Unique\n",
      "Unique\n",
      "Unique\n",
      "Unique\n",
      "Unique\n",
      "Unique\n",
      "Unique\n",
      "Unique\n",
      "Unique\n",
      "Unique\n",
      "Unique\n",
      "Unique\n",
      "Unique\n",
      "Unique\n",
      "Unique\n",
      "Unique\n",
      "Unique\n",
      "Unique\n",
      "Unique\n",
      "Unique\n",
      "Unique\n",
      "Unique\n",
      "Unique\n",
      "Unique\n",
      "Unique\n",
      "Unique\n",
      "Unique\n",
      "Unique\n",
      "Unique\n",
      "Unique\n",
      "Unique\n",
      "Unique\n",
      "Unique\n",
      "Unique\n",
      "Unique\n",
      "Unique\n",
      "Unique\n",
      "Unique\n",
      "Unique\n",
      "Unique\n",
      "Unique\n",
      "Unique\n",
      "Unique\n",
      "Unique\n",
      "Unique\n",
      "Unique\n",
      "Unique\n",
      "Unique\n",
      "Unique\n",
      "Unique\n",
      "Unique\n",
      "Unique\n",
      "Unique\n",
      "Unique\n",
      "Unique\n",
      "Unique\n",
      "Unique\n",
      "Unique\n",
      "Unique\n",
      "Unique\n",
      "Unique\n",
      "Unique\n",
      "Unique\n",
      "Unique\n",
      "Unique\n",
      "Unique\n",
      "Unique\n",
      "Unique\n",
      "Unique\n",
      "Unique\n",
      "Unique\n",
      "Unique\n",
      "Unique\n",
      "Unique\n",
      "Unique\n",
      "Unique\n",
      "Unique\n",
      "Unique\n",
      "Unique\n",
      "Unique\n",
      "Unique\n",
      "Unique\n",
      "Unique\n",
      "Unique\n",
      "Unique\n",
      "Unique\n",
      "Unique\n",
      "Unique\n",
      "Unique\n",
      "Unique\n",
      "Unique\n",
      "Unique\n",
      "Unique\n",
      "Unique\n",
      "Unique\n",
      "Unique\n",
      "Unique\n",
      "Unique\n",
      "Unique\n",
      "Unique\n",
      "Unique\n",
      "Unique\n",
      "Unique\n",
      "Unique\n",
      "Unique\n",
      "Unique\n",
      "Unique\n",
      "Unique\n",
      "Unique\n",
      "Unique\n",
      "Unique\n",
      "Unique\n",
      "Unique\n",
      "Unique\n",
      "Unique\n",
      "Unique\n",
      "Unique\n",
      "Unique\n",
      "Unique\n",
      "Unique\n",
      "Unique\n",
      "Unique\n",
      "Unique\n",
      "Unique\n",
      "Unique\n",
      "Unique\n",
      "Unique\n",
      "Unique\n",
      "Unique\n",
      "Unique\n",
      "Unique\n",
      "Unique\n",
      "Unique\n",
      "Unique\n",
      "Unique\n",
      "Unique\n",
      "Unique\n",
      "Unique\n",
      "Unique\n",
      "Unique\n",
      "Unique\n",
      "Unique\n",
      "Unique\n",
      "Unique\n",
      "Unique\n",
      "Unique\n",
      "Unique\n",
      "Unique\n",
      "Unique\n",
      "Unique\n",
      "Unique\n",
      "Unique\n",
      "Unique\n",
      "Unique\n",
      "Unique\n",
      "Unique\n",
      "Unique\n",
      "Unique\n",
      "Unique\n",
      "Unique\n",
      "Unique\n",
      "Unique\n",
      "Unique\n",
      "Unique\n",
      "Unique\n",
      "Unique\n",
      "Unique\n",
      "Unique\n",
      "Unique\n",
      "Unique\n",
      "Unique\n",
      "Unique\n",
      "Unique\n",
      "Unique\n",
      "Unique\n",
      "Unique\n",
      "Unique\n",
      "Unique\n",
      "Unique\n",
      "Unique\n",
      "Unique\n",
      "Unique\n",
      "Unique\n",
      "Unique\n",
      "Unique\n",
      "Unique\n",
      "Unique\n",
      "Unique\n",
      "Unique\n",
      "Unique\n",
      "Unique\n",
      "Unique\n",
      "Unique\n",
      "Unique\n",
      "Unique\n",
      "Unique\n",
      "Unique\n",
      "Unique\n",
      "Unique\n",
      "Unique\n",
      "Unique\n",
      "Unique\n",
      "Unique\n",
      "Unique\n",
      "Unique\n",
      "Unique\n",
      "Unique\n",
      "Unique\n",
      "Unique\n",
      "Unique\n",
      "Unique\n",
      "Unique\n",
      "Unique\n",
      "Unique\n",
      "Unique\n",
      "Unique\n",
      "Unique\n",
      "Unique\n",
      "Unique\n",
      "Unique\n",
      "Unique\n",
      "Unique\n",
      "Unique\n",
      "Unique\n",
      "Unique\n",
      "Unique\n",
      "Unique\n",
      "Unique\n",
      "Unique\n",
      "Unique\n",
      "Unique\n",
      "Unique\n",
      "Unique\n",
      "Unique\n",
      "Unique\n",
      "Unique\n",
      "Unique\n",
      "Unique\n",
      "Unique\n",
      "Unique\n",
      "Unique\n",
      "Unique\n",
      "Unique\n",
      "Unique\n",
      "Unique\n",
      "Unique\n",
      "Unique\n",
      "Unique\n",
      "Unique\n",
      "Unique\n",
      "Unique\n",
      "Unique\n",
      "Unique\n",
      "Unique\n",
      "Unique\n",
      "Unique\n",
      "Unique\n",
      "Unique\n",
      "Unique\n",
      "Unique\n",
      "Unique\n",
      "Unique\n",
      "Unique\n",
      "Unique\n",
      "Unique\n",
      "Unique\n",
      "Unique\n",
      "Unique\n",
      "Unique\n",
      "Unique\n",
      "Unique\n",
      "Unique\n",
      "Unique\n",
      "Unique\n",
      "Unique\n",
      "Unique\n",
      "Unique\n",
      "Unique\n",
      "Unique\n",
      "Unique\n",
      "Unique\n",
      "Unique\n",
      "Unique\n",
      "Unique\n",
      "Unique\n",
      "Unique\n",
      "Unique\n",
      "Unique\n",
      "Unique\n",
      "Unique\n",
      "Unique\n",
      "Unique\n",
      "Unique\n",
      "Unique\n",
      "Unique\n",
      "Unique\n",
      "Unique\n",
      "Unique\n",
      "Unique\n",
      "Unique\n",
      "Unique\n",
      "Unique\n",
      "Unique\n",
      "Unique\n",
      "Unique\n",
      "Unique\n",
      "Unique\n",
      "Unique\n",
      "Unique\n",
      "Unique\n",
      "Unique\n",
      "Unique\n",
      "Unique\n",
      "Unique\n",
      "Unique\n",
      "Unique\n",
      "Unique\n",
      "Unique\n",
      "Unique\n",
      "Unique\n",
      "Unique\n",
      "Unique\n",
      "Unique\n",
      "Unique\n",
      "Unique\n",
      "Unique\n",
      "Unique\n",
      "Unique\n",
      "Unique\n",
      "Unique\n",
      "Unique\n",
      "Unique\n",
      "Unique\n",
      "Unique\n",
      "Unique\n",
      "Unique\n",
      "Unique\n",
      "Unique\n",
      "Unique\n",
      "Unique\n",
      "Unique\n",
      "Unique\n",
      "Unique\n",
      "Unique\n",
      "Unique\n",
      "Unique\n",
      "Unique\n",
      "Unique\n",
      "Unique\n",
      "Unique\n",
      "Unique\n",
      "Unique\n",
      "Unique\n",
      "Unique\n",
      "Unique\n",
      "Unique\n",
      "Unique\n",
      "Unique\n",
      "Unique\n",
      "Unique\n",
      "Unique\n",
      "Unique\n",
      "Unique\n",
      "Unique\n",
      "Unique\n",
      "2\n",
      "Unique\n",
      "Unique\n",
      "Unique\n",
      "Unique\n",
      "Unique\n",
      "Unique\n",
      "Unique\n",
      "Unique\n",
      "Unique\n",
      "Unique\n",
      "Unique\n",
      "Unique\n",
      "Unique\n",
      "Unique\n",
      "Unique\n",
      "Unique\n",
      "Unique\n",
      "Unique\n",
      "Unique\n",
      "Unique\n",
      "Unique\n",
      "Unique\n",
      "Unique\n",
      "Unique\n",
      "Unique\n",
      "Unique\n",
      "Unique\n",
      "Unique\n",
      "Unique\n",
      "Unique\n",
      "Unique\n",
      "Unique\n",
      "Unique\n",
      "Unique\n",
      "Unique\n",
      "Unique\n",
      "Unique\n",
      "Unique\n",
      "Unique\n",
      "Unique\n",
      "Unique\n",
      "Unique\n",
      "Unique\n",
      "Unique\n",
      "Unique\n",
      "Unique\n",
      "Unique\n",
      "Unique\n",
      "Unique\n",
      "Unique\n",
      "Unique\n",
      "Unique\n",
      "Unique\n",
      "Unique\n",
      "Unique\n",
      "Unique\n",
      "Unique\n",
      "Unique\n",
      "Unique\n",
      "Unique\n",
      "Unique\n",
      "Unique\n",
      "Unique\n",
      "Unique\n",
      "Unique\n",
      "Unique\n",
      "Unique\n",
      "Unique\n",
      "Unique\n",
      "Unique\n",
      "Unique\n",
      "Unique\n",
      "Unique\n",
      "Unique\n",
      "Unique\n",
      "Unique\n",
      "Unique\n",
      "Unique\n",
      "Unique\n",
      "Unique\n",
      "Unique\n",
      "Unique\n",
      "Unique\n",
      "Unique\n",
      "Unique\n",
      "Unique\n",
      "Unique\n",
      "Unique\n",
      "Unique\n",
      "Unique\n",
      "Unique\n",
      "Unique\n",
      "Unique\n",
      "Unique\n",
      "Unique\n",
      "Unique\n",
      "Unique\n",
      "Unique\n",
      "Unique\n",
      "Unique\n",
      "Unique\n",
      "Unique\n",
      "Unique\n",
      "Unique\n",
      "Unique\n",
      "Unique\n",
      "Unique\n",
      "Unique\n",
      "Unique\n",
      "Unique\n",
      "Unique\n",
      "Unique\n",
      "Unique\n",
      "Unique\n",
      "Unique\n",
      "Unique\n",
      "Unique\n",
      "Unique\n",
      "Unique\n",
      "Unique\n",
      "Unique\n",
      "Unique\n",
      "Unique\n",
      "Unique\n",
      "Unique\n",
      "Unique\n",
      "Unique\n",
      "Unique\n",
      "Unique\n",
      "Unique\n",
      "Unique\n",
      "Unique\n",
      "Unique\n",
      "Unique\n",
      "Unique\n",
      "Unique\n",
      "Unique\n",
      "Unique\n",
      "Unique\n",
      "Unique\n",
      "Unique\n",
      "Unique\n",
      "Unique\n",
      "Unique\n",
      "Unique\n",
      "Unique\n",
      "Unique\n",
      "Unique\n",
      "Unique\n",
      "Unique\n",
      "Unique\n",
      "Unique\n",
      "Unique\n",
      "Unique\n",
      "Unique\n",
      "Unique\n",
      "Unique\n",
      "Unique\n",
      "Unique\n",
      "Unique\n",
      "Unique\n",
      "Unique\n",
      "Unique\n",
      "Unique\n",
      "Unique\n",
      "Unique\n",
      "Unique\n",
      "Unique\n",
      "Unique\n",
      "Unique\n",
      "Unique\n",
      "Unique\n",
      "Unique\n",
      "Unique\n",
      "Unique\n",
      "Unique\n",
      "Unique\n",
      "Unique\n",
      "Unique\n",
      "Unique\n",
      "Unique\n",
      "Unique\n",
      "Unique\n",
      "Unique\n",
      "Unique\n",
      "Unique\n",
      "Unique\n",
      "Unique\n",
      "Unique\n",
      "Unique\n",
      "Unique\n",
      "Unique\n",
      "Unique\n",
      "Unique\n",
      "Unique\n",
      "Unique\n",
      "Unique\n",
      "Unique\n",
      "Unique\n",
      "Unique\n",
      "Unique\n",
      "Unique\n",
      "Unique\n",
      "Unique\n",
      "Unique\n",
      "Unique\n",
      "Unique\n",
      "Unique\n",
      "Unique\n",
      "Unique\n",
      "Unique\n",
      "Unique\n",
      "Unique\n",
      "Unique\n",
      "Unique\n",
      "Unique\n",
      "Unique\n",
      "Unique\n",
      "Unique\n",
      "Unique\n",
      "Unique\n",
      "Unique\n",
      "Unique\n",
      "Unique\n",
      "Unique\n",
      "Unique\n",
      "Unique\n",
      "Unique\n",
      "Unique\n",
      "Unique\n",
      "Unique\n",
      "Unique\n",
      "Unique\n",
      "Unique\n",
      "Unique\n",
      "Unique\n",
      "Unique\n",
      "Unique\n",
      "Unique\n",
      "Unique\n",
      "Unique\n",
      "Unique\n",
      "Unique\n",
      "Unique\n",
      "Unique\n",
      "Unique\n",
      "Unique\n",
      "Unique\n",
      "Unique\n",
      "Unique\n",
      "Unique\n",
      "Unique\n",
      "Unique\n",
      "Unique\n",
      "Unique\n",
      "Unique\n",
      "Unique\n",
      "Unique\n",
      "Unique\n",
      "Unique\n",
      "Unique\n",
      "Unique\n",
      "Unique\n",
      "Unique\n",
      "Unique\n",
      "Unique\n"
     ]
    },
    {
     "name": "stderr",
     "output_type": "stream",
     "text": [
      "\r",
      " 62%|██████████████████████▎             | 6593/10638 [05:46<00:01, 2604.61it/s]"
     ]
    },
    {
     "name": "stdout",
     "output_type": "stream",
     "text": [
      "Unique\n",
      "Unique\n",
      "Unique\n",
      "Unique\n",
      "Unique\n",
      "Unique\n",
      "Unique\n",
      "Unique\n",
      "Unique\n",
      "Unique\n",
      "Unique\n",
      "Unique\n",
      "Unique\n",
      "Unique\n",
      "Unique\n",
      "Unique\n",
      "Unique\n",
      "Unique\n",
      "Unique\n",
      "Unique\n",
      "Unique\n",
      "Unique\n",
      "Unique\n",
      "Unique\n",
      "Unique\n",
      "Unique\n",
      "Unique\n",
      "Unique\n",
      "Unique\n",
      "Unique\n",
      "Unique\n",
      "Unique\n",
      "Unique\n",
      "Unique\n",
      "Unique\n",
      "Unique\n",
      "Unique\n",
      "Unique\n",
      "Unique\n",
      "Unique\n",
      "Unique\n",
      "Unique\n",
      "Unique\n",
      "Unique\n",
      "Unique\n",
      "Unique\n",
      "Unique\n",
      "Unique\n",
      "Unique\n",
      "Unique\n",
      "Unique\n",
      "Unique\n",
      "Unique\n",
      "Unique\n",
      "Unique\n",
      "Unique\n",
      "Unique\n",
      "Unique\n",
      "Unique\n",
      "Unique\n",
      "Unique\n",
      "Unique\n",
      "Unique\n",
      "Unique\n",
      "Unique\n",
      "Unique\n",
      "Unique\n",
      "Unique\n",
      "Unique\n",
      "Unique\n",
      "Unique\n",
      "Unique\n",
      "Unique\n",
      "Unique\n",
      "Unique\n",
      "Unique\n",
      "Unique\n",
      "Unique\n",
      "Unique\n",
      "Unique\n",
      "Unique\n",
      "Unique\n",
      "Unique\n",
      "Unique\n",
      "Unique\n",
      "Unique\n",
      "Unique\n",
      "Unique\n",
      "Unique\n",
      "Unique\n",
      "Unique\n",
      "Unique\n",
      "Unique\n",
      "Unique\n",
      "Unique\n",
      "Unique\n",
      "Unique\n",
      "Unique\n",
      "Unique\n",
      "Unique\n",
      "Unique\n",
      "Unique\n",
      "Unique\n",
      "Unique\n",
      "Unique\n",
      "Unique\n",
      "Unique\n",
      "Unique\n",
      "Unique\n",
      "Unique\n",
      "Unique\n",
      "Unique\n",
      "Unique\n",
      "Unique\n",
      "Unique\n",
      "Unique\n",
      "Unique\n",
      "Unique\n",
      "Unique\n",
      "Unique\n",
      "Unique\n",
      "Unique\n",
      "Unique\n",
      "Unique\n",
      "Unique\n",
      "Unique\n",
      "Unique\n",
      "Unique\n",
      "Unique\n",
      "Unique\n",
      "Unique\n",
      "Unique\n",
      "Unique\n",
      "Unique\n",
      "Unique\n",
      "Unique\n",
      "Unique\n",
      "Unique\n",
      "Unique\n",
      "Unique\n",
      "Unique\n",
      "Unique\n",
      "Unique\n",
      "Unique\n",
      "Unique\n",
      "Unique\n",
      "Unique\n",
      "Unique\n",
      "Unique\n",
      "Unique\n",
      "Unique\n",
      "Unique\n",
      "Unique\n",
      "Unique\n",
      "Unique\n",
      "Unique\n",
      "Unique\n",
      "Unique\n",
      "Unique\n",
      "Unique\n",
      "Unique\n",
      "Unique\n",
      "Unique\n",
      "Unique\n",
      "Unique\n",
      "Unique\n",
      "Unique\n",
      "Unique\n",
      "Unique\n",
      "Unique\n",
      "Unique\n",
      "Unique\n",
      "Unique\n",
      "Unique\n",
      "Unique\n",
      "Unique\n",
      "Unique\n",
      "Unique\n",
      "Unique\n",
      "Unique\n",
      "Unique\n",
      "Unique\n",
      "Unique\n",
      "Unique\n",
      "Unique\n",
      "Unique\n",
      "Unique\n",
      "Unique\n",
      "Unique\n",
      "Unique\n",
      "Unique\n",
      "Unique\n",
      "Unique\n",
      "Unique\n",
      "Unique\n",
      "Unique\n",
      "Unique\n",
      "Unique\n",
      "Unique\n",
      "Unique\n",
      "Unique\n",
      "Unique\n",
      "Unique\n",
      "Unique\n",
      "Unique\n",
      "Unique\n",
      "Unique\n",
      "Unique\n",
      "Unique\n",
      "Unique\n",
      "Unique\n",
      "Unique\n",
      "Unique\n",
      "Unique\n",
      "Unique\n",
      "Unique\n",
      "Unique\n",
      "Unique\n",
      "Unique\n",
      "Unique\n",
      "Unique\n",
      "Unique\n",
      "Unique\n",
      "Unique\n",
      "Unique\n",
      "Unique\n",
      "Unique\n",
      "Unique\n",
      "Unique\n",
      "Unique\n",
      "Unique\n",
      "Unique\n",
      "Unique\n",
      "Unique\n",
      "Unique\n",
      "Unique\n",
      "Unique\n",
      "Unique\n",
      "Unique\n",
      "Unique\n",
      "Unique\n",
      "Unique\n",
      "Unique\n",
      "Unique\n",
      "Unique\n",
      "Unique\n",
      "Unique\n",
      "Unique\n",
      "Unique\n",
      "Unique\n",
      "Unique\n",
      "Unique\n",
      "Unique\n",
      "Unique\n",
      "Unique\n",
      "Unique\n",
      "Unique\n",
      "Unique\n",
      "Unique\n",
      "Unique\n",
      "Unique\n",
      "Unique\n",
      "Unique\n",
      "Unique\n",
      "Unique\n",
      "Unique\n",
      "Unique\n",
      "Unique\n",
      "Unique\n",
      "Unique\n",
      "Unique\n",
      "Unique\n",
      "Unique\n",
      "Unique\n",
      "Unique\n",
      "Unique\n",
      "Unique\n",
      "Unique\n",
      "Unique\n",
      "Unique\n",
      "Unique\n",
      "Unique\n",
      "Unique\n",
      "Unique\n",
      "Unique\n",
      "Unique\n",
      "Unique\n",
      "Unique\n",
      "Unique\n",
      "Unique\n",
      "Unique\n",
      "Unique\n",
      "Unique\n",
      "Unique\n",
      "Unique\n",
      "Unique\n",
      "Unique\n",
      "Unique\n",
      "Unique\n",
      "Unique\n",
      "Unique\n",
      "Unique\n",
      "Unique\n",
      "Unique\n",
      "Unique\n",
      "Unique\n",
      "Unique\n",
      "Unique\n",
      "Unique\n",
      "Unique\n",
      "Unique\n",
      "Unique\n",
      "Unique\n",
      "Unique\n",
      "Unique\n",
      "Unique\n",
      "Unique\n",
      "Unique\n",
      "Unique\n",
      "Unique\n",
      "Unique\n",
      "Unique\n",
      "Unique\n",
      "Unique\n",
      "Unique\n",
      "Unique\n",
      "Unique\n",
      "Unique\n",
      "Unique\n",
      "Unique\n",
      "Unique\n",
      "Unique\n",
      "Unique\n",
      "Unique\n",
      "Unique\n",
      "Unique\n",
      "Unique\n",
      "Unique\n",
      "Unique\n",
      "Unique\n",
      "Unique\n",
      "Unique\n",
      "Unique\n",
      "Unique\n",
      "Unique\n",
      "Unique\n",
      "Unique\n",
      "Unique\n",
      "Unique\n",
      "Unique\n",
      "Unique\n",
      "Unique\n",
      "Unique\n",
      "Unique\n",
      "Unique\n",
      "Unique\n",
      "Unique\n",
      "Unique\n",
      "Unique\n",
      "Unique\n",
      "Unique\n",
      "Unique\n",
      "Unique\n",
      "Unique\n",
      "Unique\n",
      "Unique\n",
      "Unique\n",
      "Unique\n",
      "Unique\n",
      "Unique\n",
      "Unique\n",
      "Unique\n",
      "Unique\n",
      "Unique\n",
      "Unique\n",
      "Unique\n",
      "Unique\n",
      "Unique\n",
      "Unique\n",
      "Unique\n",
      "Unique\n",
      "Unique\n",
      "Unique\n",
      "Unique\n",
      "Unique\n",
      "Unique\n",
      "Unique\n",
      "Unique\n",
      "Unique\n",
      "Unique\n",
      "Unique\n",
      "Unique\n",
      "Unique\n",
      "Unique\n",
      "Unique\n",
      "Unique\n",
      "Unique\n",
      "Unique\n",
      "Unique\n",
      "Unique\n",
      "Unique\n",
      "Unique\n",
      "Unique\n",
      "Unique\n",
      "Unique\n",
      "Unique\n",
      "Unique\n",
      "Unique\n",
      "Unique\n",
      "Unique\n",
      "Unique\n",
      "Unique\n",
      "Unique\n",
      "Unique\n",
      "Unique\n",
      "Unique\n",
      "Unique\n",
      "Unique\n",
      "Unique\n",
      "Unique\n",
      "Unique\n",
      "Unique\n",
      "Unique\n",
      "Unique\n",
      "Unique\n",
      "Unique\n",
      "Unique\n",
      "Unique\n",
      "Unique\n",
      "Unique\n",
      "Unique\n",
      "Unique\n",
      "Unique\n",
      "Unique\n",
      "Unique\n",
      "Unique\n",
      "Unique\n",
      "Unique\n",
      "Unique\n",
      "Unique\n",
      "Unique\n",
      "Unique\n",
      "Unique\n",
      "Unique\n",
      "Unique\n",
      "Unique\n",
      "Unique\n",
      "Unique\n",
      "Unique\n",
      "Unique\n",
      "Unique\n",
      "Unique\n",
      "Unique\n",
      "Unique\n",
      "Unique\n",
      "Unique\n",
      "Unique\n",
      "Unique\n",
      "Unique\n",
      "Unique\n",
      "Unique\n",
      "Unique\n",
      "Unique\n",
      "Unique\n",
      "Unique\n",
      "Unique\n",
      "Unique\n",
      "Unique\n",
      "Unique\n",
      "Unique\n",
      "Unique\n",
      "Unique\n",
      "Unique\n",
      "Unique\n",
      "Unique\n",
      "Unique\n",
      "Unique\n",
      "Unique\n",
      "Unique\n",
      "Unique\n",
      "Unique\n",
      "Unique\n",
      "Unique\n",
      "Unique\n",
      "Unique\n",
      "Unique\n",
      "Unique\n",
      "Unique\n",
      "Unique\n",
      "Unique\n",
      "Unique\n",
      "Unique\n",
      "Unique\n",
      "Unique\n",
      "Unique\n",
      "Unique\n",
      "Unique\n",
      "Unique\n",
      "Unique\n",
      "Unique\n",
      "Unique\n",
      "Unique\n",
      "Unique\n",
      "Unique\n",
      "Unique\n",
      "Unique\n",
      "Unique\n",
      "Unique\n",
      "Unique\n",
      "Unique\n",
      "Unique\n",
      "Unique\n",
      "Unique\n",
      "Unique\n",
      "Unique\n",
      "Unique\n",
      "Unique\n",
      "Unique\n",
      "Unique\n",
      "Unique\n",
      "Unique\n",
      "Unique\n",
      "Unique\n",
      "Unique\n",
      "Unique\n",
      "Unique\n",
      "Unique\n",
      "Unique\n",
      "Unique\n",
      "Unique\n",
      "Unique\n",
      "Unique\n",
      "Unique\n",
      "Unique\n",
      "Unique\n",
      "Unique\n",
      "Unique\n",
      "Unique\n",
      "Unique\n",
      "Unique\n",
      "Unique\n",
      "Unique\n",
      "Unique\n",
      "Unique\n",
      "Unique\n",
      "Unique\n",
      "Unique\n",
      "Unique\n",
      "Unique\n",
      "Unique\n",
      "Unique\n",
      "Unique\n",
      "Unique\n",
      "Unique\n",
      "Unique\n",
      "Unique\n",
      "Unique\n",
      "Unique\n",
      "Unique\n",
      "Unique\n",
      "Unique\n",
      "Unique\n",
      "Unique\n",
      "Unique\n",
      "Unique\n",
      "Unique\n",
      "Unique\n",
      "Unique\n",
      "Unique\n",
      "Unique\n",
      "Unique\n",
      "Unique\n",
      "Unique\n",
      "Unique\n",
      "Unique\n",
      "Unique\n",
      "Unique\n",
      "Unique\n",
      "Unique\n",
      "Unique\n",
      "Unique\n",
      "Unique\n",
      "Unique\n",
      "Unique\n",
      "Unique\n",
      "Unique\n",
      "Unique\n",
      "Unique\n",
      "Unique\n",
      "Unique\n",
      "Unique\n",
      "Unique\n",
      "Unique\n",
      "Unique\n",
      "Unique\n",
      "Unique\n",
      "Unique\n",
      "Unique\n",
      "Unique\n",
      "Unique\n",
      "Unique\n",
      "Unique\n",
      "Unique\n",
      "Unique\n",
      "Unique\n",
      "Unique\n",
      "Unique\n",
      "Unique\n",
      "Unique\n",
      "Unique\n",
      "2\n",
      "Another Candidate\n",
      "Unique\n",
      "Unique\n",
      "Unique\n",
      "Unique\n",
      "Unique\n",
      "Unique\n",
      "Unique\n",
      "Unique\n",
      "Unique\n",
      "Unique\n",
      "Unique\n",
      "Unique\n",
      "Unique\n",
      "Unique\n",
      "Unique\n",
      "Unique\n",
      "Unique\n",
      "Unique\n",
      "Unique\n",
      "Unique\n",
      "Unique\n",
      "Unique\n",
      "Unique\n",
      "Unique\n",
      "Unique\n",
      "Unique\n",
      "Unique\n",
      "Unique\n",
      "Unique\n",
      "Unique\n",
      "Unique\n",
      "Unique\n",
      "Unique\n",
      "Unique\n",
      "Unique\n",
      "Unique\n",
      "Unique\n",
      "Unique\n",
      "Unique\n",
      "Unique\n",
      "Unique\n",
      "Unique\n",
      "Unique\n",
      "Unique\n",
      "Unique\n",
      "Unique\n",
      "Unique\n",
      "Unique\n",
      "Unique\n",
      "Unique\n",
      "Unique\n",
      "Unique\n",
      "Unique\n",
      "Unique\n",
      "Unique\n",
      "Unique\n",
      "Unique\n",
      "Unique\n",
      "Unique\n",
      "Unique\n",
      "Unique\n",
      "Unique\n",
      "Unique\n",
      "Unique\n",
      "Unique\n",
      "Unique\n",
      "Unique\n",
      "Unique\n",
      "Unique\n",
      "Unique\n",
      "Unique\n",
      "Unique\n",
      "Unique\n",
      "Unique\n",
      "Unique\n",
      "Unique\n",
      "Unique\n",
      "Unique\n",
      "Unique\n",
      "Unique\n",
      "Unique\n",
      "Unique\n",
      "Unique\n",
      "Unique\n",
      "Unique\n",
      "Unique\n",
      "Unique\n",
      "Unique\n",
      "Unique\n",
      "Unique\n",
      "Unique\n",
      "Unique\n",
      "Unique\n",
      "Unique\n",
      "Unique\n",
      "Unique\n",
      "Unique\n",
      "Unique\n",
      "Unique\n",
      "Unique\n",
      "Unique\n",
      "Unique\n",
      "Unique\n",
      "Unique\n",
      "Unique\n",
      "Unique\n",
      "Unique\n",
      "Unique\n",
      "Unique\n",
      "Unique\n",
      "Unique\n",
      "Unique\n",
      "Unique\n",
      "Unique\n",
      "Unique\n",
      "Unique\n",
      "Unique\n",
      "Unique\n",
      "Unique\n",
      "Unique\n",
      "Unique\n",
      "Unique\n",
      "Unique\n",
      "Unique\n",
      "Unique\n",
      "Unique\n",
      "Unique\n",
      "Unique\n",
      "Unique\n",
      "Unique\n",
      "Unique\n",
      "Unique\n",
      "Unique\n",
      "Unique\n",
      "Unique\n",
      "Unique\n",
      "Unique\n",
      "Unique\n",
      "Unique\n",
      "Unique\n",
      "Unique\n",
      "Unique\n",
      "Unique\n",
      "Unique\n",
      "Unique\n",
      "Unique\n",
      "Unique\n",
      "Unique\n",
      "Unique\n",
      "Unique\n",
      "Unique\n",
      "Unique\n",
      "Unique\n",
      "Unique\n",
      "Unique\n",
      "Unique\n",
      "Unique\n",
      "Unique\n",
      "Unique\n",
      "Unique\n",
      "Unique\n",
      "Unique\n",
      "Unique\n",
      "Unique\n",
      "Unique\n",
      "Unique\n",
      "Unique\n",
      "Unique\n",
      "Unique\n",
      "Unique\n",
      "Unique\n",
      "Unique\n",
      "Unique\n",
      "Unique\n",
      "Unique\n",
      "Unique\n",
      "Unique\n",
      "Unique\n",
      "Unique\n",
      "Unique\n",
      "Unique\n",
      "Unique\n",
      "Unique\n",
      "Unique\n",
      "Unique\n",
      "Unique\n",
      "Unique\n",
      "Unique\n",
      "Unique\n",
      "Unique\n",
      "Unique\n",
      "Unique\n",
      "Unique\n",
      "Unique\n",
      "Unique\n",
      "Unique\n",
      "Unique\n",
      "Unique\n",
      "Unique\n",
      "Unique\n",
      "Unique\n",
      "Unique\n",
      "Unique\n",
      "Unique\n",
      "Unique\n",
      "Unique\n",
      "Unique\n",
      "Unique\n",
      "Unique\n",
      "Unique\n",
      "Unique\n",
      "Unique\n",
      "Unique\n",
      "Unique\n",
      "Unique\n",
      "Unique\n",
      "Unique\n",
      "Unique\n",
      "Unique\n",
      "Unique\n",
      "Unique\n",
      "Unique\n",
      "Unique\n",
      "Unique\n",
      "Unique\n",
      "Unique\n",
      "Unique\n",
      "Unique\n",
      "Unique\n",
      "Unique\n",
      "Unique\n",
      "Unique\n",
      "Unique\n",
      "Unique\n",
      "Unique\n",
      "Unique\n",
      "Unique\n",
      "Unique\n",
      "Unique\n",
      "Unique\n",
      "Unique\n",
      "Unique\n",
      "Unique\n",
      "Unique\n",
      "Unique\n",
      "Unique\n",
      "Unique\n",
      "Unique\n",
      "Unique\n",
      "Unique\n",
      "Unique\n",
      "Unique\n",
      "Unique\n",
      "Unique\n",
      "Unique\n",
      "Unique\n",
      "Unique\n",
      "Unique\n",
      "Unique\n",
      "Unique\n",
      "Unique\n",
      "Unique\n",
      "Unique\n",
      "Unique\n",
      "Unique\n",
      "Unique\n",
      "Unique\n",
      "Unique\n",
      "Unique\n",
      "Unique\n",
      "Unique\n",
      "Unique\n",
      "Unique\n",
      "Unique\n",
      "Unique\n",
      "Unique\n",
      "Unique\n",
      "Unique\n",
      "Unique\n",
      "Unique\n",
      "Unique\n",
      "Unique\n",
      "Unique\n",
      "Unique\n",
      "Unique\n",
      "Unique\n",
      "Unique\n",
      "Unique\n",
      "Unique\n",
      "Unique\n",
      "Unique\n",
      "Unique\n",
      "Unique\n",
      "Unique\n",
      "Unique\n",
      "Unique\n",
      "Unique\n",
      "Unique\n",
      "Unique\n",
      "Unique\n",
      "Unique\n",
      "Unique\n",
      "Unique\n",
      "Unique\n",
      "Unique\n",
      "Unique\n",
      "Unique\n",
      "Unique\n",
      "Unique\n",
      "Unique\n",
      "Unique\n",
      "Unique\n",
      "Unique\n",
      "Unique\n",
      "Unique\n",
      "Unique\n",
      "Unique\n",
      "Unique\n",
      "Unique\n",
      "Unique\n",
      "Unique\n",
      "Unique\n",
      "Unique\n",
      "Unique\n",
      "Unique\n",
      "Unique\n",
      "Unique\n",
      "Unique\n",
      "Unique\n",
      "Unique\n",
      "Unique\n",
      "Unique\n",
      "Unique\n",
      "Unique\n",
      "Unique\n",
      "Unique\n",
      "Unique\n",
      "Unique\n",
      "Unique\n",
      "Unique\n",
      "Unique\n",
      "Unique\n",
      "Unique\n",
      "Unique\n",
      "Unique\n",
      "Unique\n",
      "Unique\n",
      "Unique\n",
      "Unique\n",
      "Unique\n",
      "Unique\n",
      "Unique\n",
      "Unique\n",
      "Unique\n",
      "Unique\n",
      "Unique\n",
      "Unique\n",
      "Unique\n",
      "Unique\n",
      "Unique\n",
      "Unique\n",
      "Unique\n",
      "Unique\n",
      "Unique\n",
      "Unique\n",
      "Unique\n",
      "Unique\n",
      "Unique\n",
      "Unique\n",
      "Unique\n",
      "Unique\n",
      "Unique\n",
      "Unique\n",
      "Unique\n",
      "Unique\n",
      "Unique\n",
      "Unique\n",
      "Unique\n",
      "Unique\n",
      "Unique\n",
      "Unique\n",
      "Unique\n",
      "Unique\n",
      "Unique\n",
      "Unique\n",
      "Unique\n",
      "Unique\n",
      "Unique\n",
      "Unique\n",
      "Unique\n",
      "Unique\n",
      "Unique\n",
      "Unique\n",
      "Unique\n",
      "Unique\n",
      "Unique\n",
      "Unique\n",
      "Unique\n",
      "Unique\n",
      "Unique\n",
      "Unique\n",
      "Unique\n",
      "Unique\n",
      "Unique\n",
      "Unique\n",
      "Unique\n",
      "Unique\n",
      "Unique\n",
      "Unique\n",
      "Unique\n",
      "Unique\n",
      "Unique\n",
      "Unique\n",
      "Unique\n",
      "Unique\n",
      "Unique\n",
      "Unique\n",
      "Unique\n",
      "Unique\n",
      "Unique\n",
      "Unique\n",
      "Unique\n",
      "Unique\n",
      "Unique\n",
      "Unique\n",
      "Unique\n",
      "Unique\n",
      "Unique\n",
      "Unique\n",
      "Unique\n",
      "Unique\n",
      "Unique\n",
      "Unique\n",
      "Unique\n",
      "Unique\n",
      "Unique\n",
      "Unique\n",
      "Unique\n",
      "Unique\n",
      "Unique\n",
      "Unique\n",
      "Unique\n",
      "Unique\n",
      "Unique\n",
      "Unique\n",
      "Unique\n",
      "Unique\n",
      "Unique\n",
      "Unique\n",
      "Unique\n",
      "Unique\n",
      "Unique\n",
      "Unique\n",
      "Unique\n",
      "Unique\n",
      "Unique\n",
      "Unique\n",
      "Unique\n",
      "Unique\n",
      "Unique\n",
      "Unique\n",
      "Unique\n",
      "Unique\n",
      "Unique\n",
      "Unique\n",
      "Unique\n",
      "Unique\n",
      "Unique\n",
      "Unique\n",
      "Unique\n",
      "Unique\n",
      "Unique\n",
      "Unique\n",
      "Unique\n",
      "Unique\n",
      "Unique\n",
      "Unique\n",
      "Unique\n",
      "Unique\n",
      "Unique\n",
      "Unique\n",
      "Unique\n",
      "Unique\n",
      "Unique\n",
      "Unique\n",
      "Unique\n",
      "Unique\n",
      "Unique\n",
      "Unique\n",
      "Unique\n",
      "Unique\n",
      "Unique\n",
      "Unique\n",
      "Unique\n",
      "Unique\n",
      "Unique\n",
      "Unique\n",
      "Unique\n",
      "Unique\n",
      "Unique\n",
      "Unique\n",
      "Unique\n",
      "Unique\n",
      "Unique\n",
      "Unique\n",
      "Unique\n",
      "Unique\n",
      "Unique\n",
      "Unique\n",
      "Unique\n",
      "Unique\n",
      "Unique\n",
      "Unique\n",
      "Unique\n",
      "Unique\n",
      "Unique\n",
      "Unique\n",
      "Unique\n",
      "Unique\n",
      "Unique\n",
      "Unique\n",
      "Unique\n",
      "Unique\n",
      "Unique\n",
      "Unique\n",
      "Unique\n",
      "Unique\n",
      "Unique\n",
      "Unique\n",
      "Unique\n",
      "Unique\n",
      "Unique\n",
      "Unique\n",
      "Unique\n",
      "Unique\n",
      "Unique\n",
      "Unique\n",
      "Unique\n",
      "Unique\n",
      "Unique\n",
      "Unique\n",
      "Unique\n",
      "Unique\n",
      "Unique\n",
      "Unique\n",
      "Unique\n",
      "Unique\n",
      "Unique\n",
      "Unique\n",
      "Unique\n",
      "Unique\n",
      "Unique\n",
      "Unique\n",
      "Unique\n",
      "Unique\n",
      "Unique\n",
      "Unique\n",
      "Unique\n",
      "Unique\n",
      "Unique\n",
      "Unique\n",
      "Unique\n",
      "Unique\n",
      "Unique\n",
      "Unique\n",
      "2\n"
     ]
    },
    {
     "name": "stderr",
     "output_type": "stream",
     "text": [
      "\r",
      " 67%|████████████████████████▎           | 7173/10638 [05:46<00:01, 2833.11it/s]"
     ]
    },
    {
     "name": "stdout",
     "output_type": "stream",
     "text": [
      "Unique\n",
      "Unique\n",
      "Unique\n",
      "Unique\n",
      "Unique\n",
      "Unique\n",
      "Unique\n",
      "Unique\n",
      "Unique\n",
      "Unique\n",
      "Unique\n",
      "Unique\n",
      "Unique\n",
      "2\n",
      "Unique\n",
      "Unique\n",
      "Unique\n",
      "Unique\n",
      "Unique\n",
      "Unique\n",
      "Unique\n",
      "Unique\n",
      "Unique\n",
      "Unique\n",
      "Unique\n",
      "Unique\n",
      "Unique\n",
      "Unique\n",
      "Unique\n",
      "Unique\n",
      "Unique\n",
      "Unique\n",
      "Unique\n",
      "Unique\n",
      "Unique\n",
      "Unique\n",
      "Unique\n",
      "Unique\n",
      "Unique\n",
      "Unique\n",
      "Unique\n",
      "Unique\n",
      "Unique\n",
      "Unique\n",
      "Unique\n",
      "Unique\n",
      "Unique\n",
      "Unique\n",
      "Unique\n",
      "Unique\n",
      "Unique\n",
      "Unique\n",
      "Unique\n",
      "Unique\n",
      "Unique\n",
      "Unique\n",
      "Unique\n",
      "Unique\n",
      "Unique\n",
      "Unique\n",
      "Unique\n",
      "Unique\n",
      "Unique\n",
      "Unique\n",
      "Unique\n",
      "Unique\n",
      "Unique\n",
      "Unique\n",
      "Unique\n",
      "Unique\n",
      "Unique\n",
      "Unique\n",
      "Unique\n",
      "Unique\n",
      "Unique\n",
      "Unique\n",
      "Unique\n",
      "Unique\n",
      "Unique\n",
      "Unique\n",
      "2\n",
      "Unique\n",
      "Unique\n",
      "Unique\n",
      "Unique\n",
      "Unique\n",
      "Unique\n",
      "Unique\n",
      "Unique\n",
      "Unique\n",
      "Unique\n",
      "Unique\n",
      "Unique\n",
      "Unique\n",
      "Unique\n",
      "Unique\n",
      "Unique\n",
      "Unique\n",
      "Unique\n",
      "Unique\n",
      "2\n",
      "Unique\n",
      "Unique\n",
      "Unique\n",
      "Unique\n",
      "Unique\n",
      "Unique\n",
      "Unique\n",
      "Unique\n",
      "Unique\n",
      "Unique\n",
      "Unique\n",
      "2\n",
      "Another Candidate\n",
      "Unique\n",
      "Unique\n",
      "Unique\n",
      "Unique\n",
      "Unique\n",
      "Unique\n",
      "Unique\n",
      "Unique\n",
      "Unique\n",
      "2\n",
      "Another Candidate\n",
      "Unique\n",
      "Unique\n",
      "Unique\n",
      "Unique\n",
      "Unique\n",
      "Unique\n",
      "Unique\n",
      "2\n",
      "Unique\n",
      "Unique\n",
      "Unique\n",
      "Unique\n",
      "Unique\n",
      "Unique\n",
      "Unique\n",
      "Unique\n",
      "Unique\n",
      "Unique\n",
      "Unique\n",
      "Unique\n",
      "Unique\n",
      "Unique\n",
      "Unique\n",
      "Unique\n",
      "Unique\n",
      "Unique\n",
      "2\n",
      "Another Candidate\n",
      "Unique\n",
      "Unique\n",
      "Unique\n",
      "Unique\n",
      "Unique\n",
      "Unique\n",
      "Unique\n",
      "Unique\n",
      "Unique\n",
      "2\n",
      "Unique\n",
      "Unique\n",
      "Unique\n",
      "Unique\n",
      "Unique\n",
      "Unique\n",
      "Unique\n",
      "Unique\n",
      "2\n",
      "Another Candidate\n",
      "Unique\n",
      "Unique\n",
      "Unique\n",
      "Unique\n",
      "Unique\n",
      "Unique\n",
      "Unique\n",
      "Unique\n",
      "Unique\n",
      "Unique\n",
      "2\n",
      "Another Candidate\n",
      "Unique\n",
      "Unique\n",
      "Unique\n",
      "Unique\n",
      "Unique\n",
      "Unique\n",
      "Unique\n",
      "Unique\n",
      "Unique\n",
      "Unique\n",
      "Unique\n",
      "Unique\n",
      "Unique\n",
      "Unique\n",
      "Unique\n",
      "Unique\n",
      "2\n",
      "Another Candidate\n",
      "Unique\n",
      "Unique\n",
      "Unique\n",
      "Unique\n",
      "Unique\n",
      "Unique\n",
      "Unique\n",
      "Unique\n",
      "Unique\n",
      "Unique\n",
      "Unique\n",
      "Unique\n",
      "Unique\n",
      "Unique\n",
      "Unique\n",
      "Unique\n",
      "Unique\n",
      "2\n",
      "Another Candidate\n",
      "Unique\n",
      "Unique\n",
      "Unique\n",
      "Unique\n",
      "Unique\n",
      "Unique\n",
      "Unique\n",
      "Unique\n",
      "Unique\n",
      "Unique\n",
      "Unique\n",
      "Unique\n",
      "Unique\n",
      "Unique\n",
      "Unique\n",
      "Unique\n",
      "2\n",
      "Another Candidate\n",
      "Unique\n",
      "Unique\n",
      "Unique\n",
      "Unique\n",
      "Unique\n",
      "Unique\n",
      "Unique\n",
      "Unique\n",
      "Unique\n",
      "Unique\n",
      "2\n",
      "Another Candidate\n",
      "Unique\n",
      "Unique\n",
      "Unique\n",
      "2\n",
      "Another Candidate\n",
      "Unique\n",
      "Unique\n",
      "Unique\n",
      "Unique\n",
      "Unique\n",
      "Unique\n",
      "Unique\n",
      "Unique\n",
      "Unique\n",
      "2\n",
      "Another Candidate\n",
      "Unique\n",
      "Unique\n",
      "Unique\n",
      "Unique\n",
      "Unique\n",
      "Unique\n",
      "Unique\n",
      "Unique\n",
      "2\n",
      "Another Candidate\n",
      "Unique\n",
      "Unique\n",
      "Unique\n",
      "Unique\n",
      "Unique\n",
      "Unique\n",
      "Unique\n",
      "Unique\n",
      "Unique\n",
      "Unique\n",
      "2\n"
     ]
    },
    {
     "name": "stderr",
     "output_type": "stream",
     "text": [
      " 72%|██████████████████████████▌          | 7632/10638 [05:48<00:03, 770.64it/s]"
     ]
    },
    {
     "name": "stdout",
     "output_type": "stream",
     "text": [
      "Another Candidate\n",
      "Unique\n",
      "Unique\n",
      "Unique\n",
      "Unique\n",
      "Unique\n",
      "Unique\n",
      "Unique\n",
      "Unique\n",
      "Unique\n",
      "Unique\n",
      "Unique\n",
      "Unique\n",
      "Unique\n",
      "Unique\n",
      "Unique\n",
      "Unique\n",
      "Unique\n",
      "Unique\n",
      "Unique\n",
      "Unique\n",
      "Unique\n",
      "Unique\n",
      "2\n",
      "Another Candidate\n",
      "Unique\n",
      "Unique\n",
      "Unique\n",
      "Unique\n",
      "Unique\n",
      "Unique\n",
      "Unique\n",
      "Unique\n",
      "Unique\n",
      "Unique\n",
      "Unique\n",
      "Unique\n",
      "Unique\n",
      "Unique\n",
      "Unique\n",
      "Unique\n",
      "Unique\n",
      "Unique\n",
      "Unique\n",
      "Unique\n",
      "Unique\n",
      "Unique\n",
      "Unique\n",
      "Unique\n",
      "Unique\n",
      "Unique\n",
      "Unique\n",
      "Unique\n",
      "Unique\n",
      "Unique\n",
      "Unique\n",
      "Unique\n",
      "Unique\n",
      "Unique\n",
      "Unique\n",
      "Unique\n",
      "Unique\n",
      "Unique\n",
      "Unique\n",
      "Unique\n",
      "Unique\n",
      "Unique\n",
      "Unique\n",
      "Unique\n",
      "Unique\n",
      "Unique\n",
      "Unique\n",
      "Unique\n",
      "Unique\n",
      "Unique\n",
      "Unique\n",
      "Unique\n",
      "Unique\n",
      "Unique\n",
      "Unique\n",
      "Unique\n",
      "Unique\n",
      "Unique\n",
      "Unique\n",
      "Unique\n",
      "Unique\n",
      "Unique\n",
      "Unique\n",
      "Unique\n",
      "Unique\n",
      "Unique\n",
      "Unique\n",
      "Unique\n",
      "Unique\n",
      "Unique\n",
      "Unique\n",
      "Unique\n",
      "Unique\n",
      "Unique\n",
      "Unique\n",
      "Unique\n",
      "Unique\n",
      "Unique\n",
      "Unique\n",
      "Unique\n",
      "Unique\n",
      "Unique\n",
      "Unique\n",
      "Unique\n",
      "Unique\n",
      "Unique\n",
      "Unique\n",
      "Unique\n",
      "Unique\n",
      "Unique\n",
      "Unique\n",
      "Unique\n",
      "Unique\n",
      "Unique\n",
      "Unique\n",
      "Unique\n",
      "Unique\n",
      "Unique\n",
      "Unique\n",
      "Unique\n",
      "Unique\n",
      "Unique\n",
      "Unique\n",
      "Unique\n",
      "Unique\n",
      "Unique\n",
      "Unique\n",
      "Unique\n",
      "Unique\n",
      "Unique\n",
      "Unique\n",
      "Unique\n",
      "Unique\n",
      "Unique\n",
      "Unique\n",
      "Unique\n",
      "Unique\n",
      "Unique\n",
      "Unique\n",
      "Unique\n",
      "Unique\n",
      "Unique\n",
      "Unique\n",
      "Unique\n",
      "Unique\n",
      "Unique\n",
      "Unique\n",
      "Unique\n",
      "Unique\n",
      "Unique\n",
      "Unique\n",
      "Unique\n",
      "Unique\n",
      "Unique\n",
      "Unique\n",
      "Unique\n",
      "Unique\n",
      "Unique\n",
      "Unique\n",
      "Unique\n",
      "Unique\n",
      "Unique\n",
      "Unique\n",
      "Unique\n",
      "Unique\n",
      "Unique\n",
      "Unique\n",
      "Unique\n",
      "Unique\n",
      "Unique\n",
      "Unique\n",
      "Unique\n",
      "Unique\n",
      "Unique\n",
      "Unique\n",
      "Unique\n",
      "Unique\n",
      "Unique\n",
      "Unique\n",
      "Unique\n",
      "Unique\n",
      "Unique\n",
      "Unique\n",
      "Unique\n",
      "Unique\n",
      "Unique\n",
      "Unique\n",
      "Unique\n",
      "Unique\n",
      "Unique\n",
      "Unique\n",
      "Unique\n",
      "Unique\n",
      "Unique\n",
      "Unique\n",
      "Unique\n",
      "Unique\n",
      "Unique\n",
      "Unique\n",
      "Unique\n",
      "Unique\n",
      "Unique\n",
      "Unique\n",
      "Unique\n",
      "Unique\n",
      "Unique\n",
      "Unique\n",
      "Unique\n",
      "Unique\n",
      "Unique\n",
      "Unique\n",
      "Unique\n",
      "Unique\n",
      "Unique\n",
      "Unique\n",
      "Unique\n",
      "Unique\n",
      "Unique\n",
      "Unique\n",
      "Unique\n",
      "Unique\n",
      "Unique\n",
      "Unique\n",
      "Unique\n",
      "Unique\n",
      "Unique\n",
      "Unique\n",
      "Unique\n",
      "Unique\n",
      "Unique\n",
      "Unique\n",
      "Unique\n",
      "Unique\n",
      "Unique\n",
      "Unique\n",
      "Unique\n",
      "Unique\n",
      "Unique\n",
      "Unique\n",
      "Unique\n",
      "Unique\n",
      "Unique\n",
      "Unique\n",
      "Unique\n",
      "Unique\n",
      "Unique\n",
      "Unique\n",
      "Unique\n",
      "Unique\n",
      "Unique\n",
      "Unique\n",
      "Unique\n",
      "Unique\n",
      "Unique\n",
      "Unique\n",
      "Unique\n",
      "Unique\n",
      "Unique\n",
      "Unique\n",
      "Unique\n",
      "Unique\n",
      "Unique\n",
      "Unique\n",
      "Unique\n",
      "Unique\n",
      "Unique\n",
      "Unique\n",
      "Unique\n",
      "Unique\n",
      "Unique\n",
      "Unique\n",
      "Unique\n",
      "Unique\n",
      "Unique\n",
      "Unique\n",
      "Unique\n",
      "Unique\n",
      "Unique\n",
      "Unique\n",
      "Unique\n",
      "Unique\n",
      "Unique\n",
      "Unique\n",
      "Unique\n",
      "Unique\n",
      "Unique\n",
      "Unique\n",
      "Unique\n",
      "Unique\n",
      "Unique\n",
      "Unique\n",
      "Unique\n",
      "Unique\n",
      "Unique\n",
      "Unique\n",
      "Unique\n",
      "Unique\n",
      "Unique\n",
      "Unique\n",
      "Unique\n",
      "Unique\n",
      "Unique\n",
      "Unique\n",
      "Unique\n",
      "Unique\n",
      "Unique\n",
      "Unique\n",
      "Unique\n",
      "Unique\n",
      "Unique\n",
      "Unique\n",
      "Unique\n",
      "Unique\n",
      "Unique\n",
      "Unique\n",
      "Unique\n",
      "Unique\n",
      "Unique\n",
      "Unique\n",
      "Unique\n",
      "Unique\n",
      "Unique\n",
      "Unique\n",
      "Unique\n",
      "Unique\n",
      "Unique\n",
      "Unique\n",
      "Unique\n",
      "Unique\n",
      "Unique\n",
      "Unique\n",
      "Unique\n",
      "Unique\n",
      "Unique\n",
      "Unique\n",
      "Unique\n",
      "Unique\n",
      "Unique\n",
      "Unique\n",
      "Unique\n",
      "Unique\n",
      "Unique\n",
      "Unique\n",
      "Unique\n",
      "Unique\n",
      "Unique\n",
      "Unique\n",
      "Unique\n",
      "Unique\n",
      "Unique\n",
      "Unique\n",
      "Unique\n",
      "Unique\n",
      "Unique\n",
      "Unique\n",
      "Unique\n",
      "Unique\n",
      "Unique\n",
      "Unique\n",
      "Unique\n",
      "Unique\n",
      "Unique\n",
      "Unique\n",
      "Unique\n",
      "Unique\n",
      "Unique\n",
      "Unique\n",
      "Unique\n",
      "Unique\n",
      "Unique\n",
      "Unique\n",
      "Unique\n",
      "Unique\n",
      "Unique\n",
      "Unique\n",
      "Unique\n",
      "Unique\n",
      "Unique\n",
      "Unique\n",
      "Unique\n",
      "Unique\n",
      "Unique\n",
      "Unique\n",
      "Unique\n",
      "Unique\n",
      "Unique\n",
      "Unique\n",
      "Unique\n",
      "Unique\n",
      "Unique\n",
      "Unique\n",
      "Unique\n",
      "Unique\n",
      "Unique\n",
      "Unique\n",
      "Unique\n",
      "Unique\n",
      "Unique\n",
      "Unique\n",
      "Unique\n",
      "Unique\n",
      "Unique\n",
      "Unique\n",
      "Unique\n",
      "Unique\n",
      "Unique\n",
      "Unique\n",
      "Unique\n",
      "Unique\n",
      "Unique\n",
      "Unique\n",
      "Unique\n",
      "2\n"
     ]
    },
    {
     "name": "stderr",
     "output_type": "stream",
     "text": [
      "\r",
      " 74%|███████████████████████████▎         | 7852/10638 [05:48<00:03, 853.76it/s]"
     ]
    },
    {
     "name": "stdout",
     "output_type": "stream",
     "text": [
      "Another Candidate\n",
      "Unique\n",
      "Unique\n",
      "Unique\n",
      "Unique\n",
      "Unique\n",
      "Unique\n",
      "Unique\n",
      "Unique\n",
      "Unique\n",
      "2\n",
      "Another Candidate\n",
      "Unique\n",
      "Unique\n",
      "Unique\n",
      "Unique\n",
      "Unique\n",
      "Unique\n",
      "Unique\n",
      "Unique\n",
      "Unique\n",
      "Unique\n",
      "Unique\n",
      "Unique\n",
      "Unique\n",
      "Unique\n",
      "Unique\n",
      "Unique\n",
      "Unique\n",
      "Unique\n",
      "Unique\n",
      "Unique\n",
      "Unique\n",
      "Unique\n",
      "Unique\n",
      "Unique\n",
      "Unique\n",
      "Unique\n",
      "Unique\n",
      "Unique\n",
      "Unique\n",
      "Unique\n",
      "Unique\n",
      "Unique\n",
      "Unique\n",
      "Unique\n",
      "Unique\n",
      "Unique\n",
      "Unique\n",
      "Unique\n",
      "Unique\n",
      "Unique\n",
      "2\n",
      "Another Candidate\n",
      "Unique\n",
      "Unique\n",
      "Unique\n",
      "Unique\n",
      "Unique\n",
      "Unique\n",
      "Unique\n",
      "Unique\n",
      "Unique\n",
      "Unique\n",
      "Unique\n",
      "Unique\n",
      "Unique\n",
      "Unique\n",
      "Unique\n",
      "Unique\n",
      "Unique\n",
      "Unique\n",
      "Unique\n",
      "Unique\n",
      "Unique\n",
      "Unique\n",
      "Unique\n",
      "Unique\n",
      "Unique\n",
      "Unique\n",
      "Unique\n",
      "Unique\n",
      "Unique\n",
      "Unique\n",
      "Unique\n",
      "Unique\n",
      "Unique\n",
      "Unique\n",
      "Unique\n",
      "Unique\n",
      "2\n",
      "Another Candidate\n",
      "Unique\n",
      "Unique\n",
      "Unique\n",
      "Unique\n",
      "Unique\n",
      "Unique\n",
      "Unique\n",
      "Unique\n",
      "Unique\n",
      "Unique\n",
      "Unique\n",
      "Unique\n",
      "Unique\n",
      "Unique\n",
      "Unique\n",
      "Unique\n",
      "Unique\n",
      "Unique\n",
      "Unique\n",
      "Unique\n",
      "Unique\n",
      "Unique\n",
      "Unique\n",
      "Unique\n",
      "Unique\n",
      "Unique\n",
      "Unique\n",
      "Unique\n",
      "Unique\n",
      "Unique\n",
      "2\n",
      "Unique\n",
      "Unique\n",
      "Unique\n",
      "Unique\n",
      "Unique\n",
      "Unique\n",
      "Unique\n",
      "Unique\n",
      "Unique\n",
      "Unique\n",
      "Unique\n",
      "Unique\n",
      "Unique\n",
      "Unique\n",
      "Unique\n",
      "Unique\n",
      "Unique\n",
      "Unique\n",
      "Unique\n",
      "Unique\n",
      "Unique\n",
      "Unique\n",
      "Unique\n",
      "Unique\n",
      "Unique\n",
      "Unique\n",
      "Unique\n",
      "Unique\n",
      "Unique\n",
      "Unique\n",
      "Unique\n",
      "Unique\n",
      "Unique\n",
      "Unique\n",
      "Unique\n",
      "Unique\n",
      "Unique\n",
      "Unique\n",
      "Unique\n",
      "Unique\n",
      "Unique\n",
      "Unique\n",
      "Unique\n",
      "2\n",
      "2\n",
      "2\n",
      "Unique\n",
      "Unique\n",
      "2\n",
      "Another Candidate\n",
      "Unique\n",
      "Unique\n",
      "Unique\n",
      "2\n",
      "Another Candidate\n"
     ]
    },
    {
     "name": "stderr",
     "output_type": "stream",
     "text": [
      "\r",
      " 75%|███████████████████████████▉         | 8024/10638 [05:49<00:04, 603.47it/s]"
     ]
    },
    {
     "name": "stdout",
     "output_type": "stream",
     "text": [
      "2\n",
      "Another Candidate\n",
      "Unique\n",
      "Unique\n",
      "2\n",
      "Another Candidate\n",
      "2\n",
      "2\n",
      "2\n",
      "2\n",
      "Unique\n",
      "Unique\n",
      "2\n",
      "2\n",
      "2\n",
      "Unique\n",
      "2\n",
      "2\n",
      "2\n",
      "2\n"
     ]
    },
    {
     "name": "stderr",
     "output_type": "stream",
     "text": [
      " 80%|█████████████████████████████▊       | 8562/10638 [05:50<00:03, 682.42it/s]"
     ]
    },
    {
     "name": "stdout",
     "output_type": "stream",
     "text": [
      "2\n",
      "Unique\n",
      "Unique\n",
      "Unique\n",
      "Unique\n",
      "Unique\n",
      "Unique\n",
      "Unique\n",
      "Unique\n",
      "Unique\n",
      "Unique\n",
      "Unique\n",
      "Unique\n",
      "Unique\n",
      "Unique\n",
      "Unique\n",
      "Unique\n",
      "Unique\n",
      "Unique\n",
      "Unique\n",
      "Unique\n",
      "Unique\n",
      "Unique\n",
      "Unique\n",
      "Unique\n",
      "Unique\n",
      "Unique\n",
      "Unique\n",
      "Unique\n",
      "Unique\n",
      "Unique\n",
      "Unique\n",
      "Unique\n",
      "Unique\n",
      "Unique\n",
      "Unique\n",
      "Unique\n",
      "Unique\n",
      "Unique\n",
      "Unique\n",
      "Unique\n",
      "Unique\n",
      "Unique\n",
      "Unique\n",
      "Unique\n",
      "Unique\n",
      "Unique\n",
      "Unique\n",
      "Unique\n",
      "Unique\n",
      "Unique\n",
      "Unique\n",
      "Unique\n",
      "Unique\n",
      "Unique\n",
      "Unique\n",
      "Unique\n",
      "Unique\n",
      "Unique\n",
      "Unique\n",
      "Unique\n",
      "Unique\n",
      "Unique\n",
      "Unique\n",
      "Unique\n",
      "Unique\n",
      "Unique\n",
      "Unique\n",
      "Unique\n",
      "Unique\n",
      "Unique\n",
      "Unique\n",
      "Unique\n",
      "Unique\n",
      "Unique\n",
      "Unique\n",
      "Unique\n",
      "Unique\n",
      "Unique\n",
      "Unique\n",
      "Unique\n",
      "Unique\n",
      "Unique\n",
      "Unique\n",
      "Unique\n",
      "Unique\n",
      "Unique\n",
      "Unique\n",
      "Unique\n",
      "Unique\n",
      "Unique\n",
      "Unique\n",
      "Unique\n",
      "Unique\n",
      "Unique\n",
      "Unique\n",
      "Unique\n",
      "Unique\n",
      "Unique\n",
      "Unique\n",
      "Unique\n",
      "Unique\n",
      "Unique\n",
      "Unique\n",
      "Unique\n",
      "Unique\n",
      "Unique\n",
      "Unique\n",
      "Unique\n",
      "Unique\n",
      "Unique\n",
      "Unique\n",
      "Unique\n",
      "Unique\n",
      "Unique\n",
      "Unique\n",
      "Unique\n",
      "Unique\n",
      "Unique\n",
      "Unique\n",
      "Unique\n",
      "Unique\n",
      "Unique\n",
      "Unique\n",
      "Unique\n",
      "Unique\n",
      "Unique\n",
      "Unique\n",
      "Unique\n",
      "Unique\n",
      "Unique\n",
      "Unique\n",
      "Unique\n",
      "Unique\n",
      "Unique\n",
      "Unique\n",
      "Unique\n",
      "Unique\n",
      "Unique\n",
      "Unique\n",
      "Unique\n",
      "Unique\n",
      "Unique\n",
      "Unique\n",
      "Unique\n",
      "Unique\n",
      "Unique\n",
      "Unique\n",
      "Unique\n",
      "Unique\n",
      "Unique\n",
      "Unique\n",
      "Unique\n",
      "Unique\n",
      "Unique\n",
      "Unique\n",
      "Unique\n",
      "Unique\n",
      "Unique\n",
      "Unique\n",
      "Unique\n",
      "Unique\n",
      "Unique\n",
      "Unique\n",
      "Unique\n",
      "Unique\n",
      "Unique\n",
      "Unique\n",
      "Unique\n",
      "Unique\n",
      "Unique\n",
      "Unique\n",
      "Unique\n",
      "Unique\n",
      "Unique\n",
      "Unique\n",
      "Unique\n",
      "Unique\n",
      "Unique\n",
      "Unique\n",
      "Unique\n",
      "Unique\n",
      "Unique\n",
      "Unique\n",
      "Unique\n",
      "Unique\n",
      "Unique\n",
      "Unique\n",
      "Unique\n",
      "Unique\n",
      "Unique\n",
      "Unique\n",
      "Unique\n",
      "Unique\n",
      "Unique\n",
      "Unique\n",
      "Unique\n",
      "Unique\n",
      "Unique\n",
      "Unique\n",
      "Unique\n",
      "Unique\n",
      "Unique\n",
      "Unique\n",
      "Unique\n",
      "Unique\n",
      "Unique\n",
      "Unique\n",
      "Unique\n",
      "Unique\n",
      "Unique\n",
      "Unique\n",
      "Unique\n",
      "Unique\n",
      "Unique\n",
      "Unique\n",
      "Unique\n",
      "Unique\n",
      "Unique\n",
      "Unique\n",
      "Unique\n",
      "Unique\n",
      "Unique\n",
      "Unique\n",
      "Unique\n",
      "Unique\n",
      "Unique\n",
      "Unique\n",
      "Unique\n",
      "Unique\n",
      "Unique\n",
      "Unique\n",
      "Unique\n",
      "Unique\n",
      "Unique\n",
      "Unique\n",
      "Unique\n",
      "Unique\n",
      "Unique\n",
      "Unique\n",
      "Unique\n",
      "Unique\n",
      "Unique\n",
      "Unique\n",
      "Unique\n",
      "Unique\n",
      "Unique\n",
      "Unique\n",
      "Unique\n",
      "Unique\n",
      "Unique\n",
      "Unique\n",
      "Unique\n",
      "Unique\n",
      "Unique\n",
      "Unique\n",
      "Unique\n",
      "Unique\n",
      "Unique\n",
      "Unique\n",
      "Unique\n",
      "Unique\n",
      "Unique\n",
      "Unique\n",
      "Unique\n",
      "Unique\n",
      "Unique\n",
      "Unique\n",
      "Unique\n",
      "Unique\n",
      "Unique\n",
      "Unique\n",
      "Unique\n",
      "Unique\n",
      "Unique\n",
      "Unique\n",
      "Unique\n",
      "Unique\n",
      "Unique\n",
      "Unique\n",
      "Unique\n",
      "Unique\n",
      "Unique\n",
      "Unique\n",
      "Unique\n",
      "Unique\n",
      "Unique\n",
      "Unique\n",
      "Unique\n",
      "Unique\n",
      "Unique\n",
      "Unique\n",
      "Unique\n",
      "Unique\n",
      "Unique\n",
      "Unique\n",
      "Unique\n",
      "Unique\n",
      "Unique\n",
      "Unique\n",
      "Unique\n",
      "Unique\n",
      "Unique\n",
      "Unique\n",
      "Unique\n",
      "Unique\n",
      "Unique\n",
      "Unique\n",
      "Unique\n",
      "Unique\n",
      "Unique\n",
      "Unique\n",
      "Unique\n",
      "Unique\n",
      "Unique\n",
      "Unique\n",
      "Unique\n",
      "Unique\n",
      "Unique\n",
      "Unique\n",
      "Unique\n",
      "Unique\n",
      "Unique\n",
      "Unique\n",
      "Unique\n",
      "Unique\n",
      "Unique\n",
      "Unique\n",
      "Unique\n",
      "Unique\n",
      "Unique\n",
      "Unique\n",
      "Unique\n",
      "Unique\n",
      "Unique\n",
      "Unique\n",
      "Unique\n",
      "Unique\n",
      "Unique\n",
      "Unique\n",
      "Unique\n",
      "Unique\n",
      "Unique\n",
      "Unique\n",
      "Unique\n",
      "Unique\n",
      "Unique\n",
      "Unique\n",
      "Unique\n",
      "Unique\n",
      "Unique\n",
      "Unique\n",
      "Unique\n",
      "Unique\n",
      "Unique\n",
      "Unique\n",
      "Unique\n",
      "Unique\n",
      "Unique\n",
      "Unique\n",
      "Unique\n",
      "Unique\n",
      "Unique\n",
      "Unique\n",
      "Unique\n",
      "Unique\n",
      "Unique\n",
      "Unique\n",
      "Unique\n",
      "Unique\n",
      "Unique\n",
      "Unique\n",
      "Unique\n",
      "Unique\n",
      "Unique\n",
      "Unique\n",
      "Unique\n",
      "Unique\n",
      "Unique\n",
      "Unique\n",
      "Unique\n",
      "Unique\n",
      "Unique\n",
      "Unique\n",
      "Unique\n",
      "Unique\n",
      "Unique\n",
      "Unique\n",
      "Unique\n",
      "Unique\n",
      "Unique\n",
      "Unique\n",
      "Unique\n",
      "Unique\n",
      "Unique\n",
      "Unique\n",
      "Unique\n",
      "Unique\n",
      "Unique\n",
      "Unique\n",
      "Unique\n",
      "Unique\n",
      "Unique\n",
      "Unique\n",
      "Unique\n",
      "Unique\n",
      "Unique\n",
      "Unique\n",
      "Unique\n",
      "Unique\n",
      "Unique\n",
      "Unique\n",
      "Unique\n",
      "Unique\n",
      "Unique\n",
      "Unique\n",
      "Unique\n",
      "Unique\n",
      "Unique\n",
      "Unique\n",
      "Unique\n",
      "Unique\n",
      "Unique\n",
      "Unique\n",
      "Unique\n",
      "Unique\n",
      "Unique\n",
      "Unique\n",
      "Unique\n",
      "Unique\n",
      "Unique\n",
      "Unique\n",
      "Unique\n",
      "Unique\n",
      "Unique\n",
      "Unique\n",
      "Unique\n",
      "Unique\n",
      "Unique\n",
      "Unique\n",
      "Unique\n",
      "Unique\n",
      "Unique\n",
      "Unique\n",
      "Unique\n",
      "Unique\n",
      "Unique\n",
      "Unique\n",
      "Unique\n",
      "Unique\n",
      "Unique\n",
      "Unique\n",
      "Unique\n",
      "Unique\n",
      "Unique\n",
      "Unique\n",
      "Unique\n",
      "Unique\n",
      "Unique\n",
      "Unique\n",
      "Unique\n",
      "Unique\n",
      "Unique\n",
      "Unique\n",
      "Unique\n",
      "Unique\n",
      "Unique\n",
      "Unique\n",
      "Unique\n",
      "Unique\n",
      "Unique\n",
      "Unique\n",
      "Unique\n",
      "Unique\n",
      "Unique\n",
      "Unique\n",
      "Unique\n",
      "Unique\n",
      "Unique\n",
      "Unique\n",
      "Unique\n",
      "Unique\n",
      "Unique\n",
      "Unique\n",
      "Unique\n",
      "Unique\n",
      "Unique\n",
      "Unique\n",
      "Unique\n",
      "Unique\n",
      "Unique\n",
      "Unique\n",
      "Unique\n",
      "Unique\n",
      "Unique\n",
      "Unique\n",
      "Unique\n",
      "Unique\n",
      "Unique\n",
      "Unique\n",
      "Unique\n",
      "Unique\n",
      "Unique\n",
      "Unique\n",
      "Unique\n",
      "Unique\n",
      "Unique\n",
      "Unique\n",
      "Unique\n",
      "Unique\n",
      "Unique\n",
      "Unique\n",
      "Unique\n",
      "Unique\n",
      "Unique\n",
      "Unique\n",
      "Unique\n",
      "Unique\n",
      "Unique\n",
      "2\n",
      "Unique\n",
      "Unique\n",
      "Unique\n",
      "Unique\n",
      "Unique\n",
      "Unique\n",
      "Unique\n",
      "Unique\n",
      "Unique\n",
      "Unique\n",
      "Unique\n",
      "Unique\n",
      "Unique\n",
      "Unique\n",
      "Unique\n",
      "Unique\n",
      "Unique\n",
      "Unique\n",
      "Unique\n",
      "Unique\n",
      "Unique\n",
      "Unique\n",
      "Unique\n",
      "Unique\n",
      "Unique\n",
      "Unique\n",
      "Unique\n",
      "Unique\n",
      "Unique\n",
      "Unique\n",
      "Unique\n",
      "Unique\n",
      "Unique\n",
      "Unique\n",
      "Unique\n",
      "Unique\n",
      "Unique\n",
      "Unique\n",
      "Unique\n",
      "Unique\n",
      "Unique\n",
      "Unique\n",
      "Unique\n",
      "Unique\n",
      "Unique\n",
      "Unique\n",
      "Unique\n",
      "Unique\n",
      "Unique\n",
      "Unique\n",
      "Unique\n",
      "Unique\n",
      "Unique\n",
      "Unique\n",
      "Unique\n",
      "Unique\n",
      "Unique\n",
      "Unique\n",
      "Unique\n",
      "Unique\n",
      "Unique\n",
      "Unique\n",
      "Unique\n",
      "Unique\n",
      "Unique\n",
      "2\n"
     ]
    },
    {
     "name": "stderr",
     "output_type": "stream",
     "text": [
      "\r",
      " 86%|██████████████████████████████▉     | 9143/10638 [05:50<00:01, 1101.94it/s]"
     ]
    },
    {
     "name": "stdout",
     "output_type": "stream",
     "text": [
      "Unique\n",
      "Unique\n",
      "Unique\n",
      "Unique\n",
      "Unique\n",
      "Unique\n",
      "Unique\n",
      "Unique\n",
      "Unique\n",
      "Unique\n",
      "Unique\n",
      "Unique\n",
      "Unique\n",
      "Unique\n",
      "Unique\n",
      "Unique\n",
      "Unique\n",
      "Unique\n",
      "Unique\n",
      "Unique\n",
      "Unique\n",
      "Unique\n",
      "Unique\n",
      "Unique\n",
      "Unique\n",
      "Unique\n",
      "Unique\n",
      "Unique\n",
      "Unique\n",
      "Unique\n",
      "Unique\n",
      "Unique\n",
      "Unique\n",
      "Unique\n",
      "Unique\n",
      "Unique\n",
      "Unique\n",
      "Unique\n",
      "Unique\n",
      "Unique\n",
      "Unique\n",
      "Unique\n",
      "Unique\n",
      "Unique\n",
      "Unique\n",
      "Unique\n",
      "Unique\n",
      "Unique\n",
      "Unique\n",
      "Unique\n",
      "Unique\n",
      "Unique\n",
      "Unique\n",
      "Unique\n",
      "Unique\n",
      "Unique\n",
      "Unique\n",
      "Unique\n",
      "Unique\n",
      "Unique\n",
      "Unique\n",
      "Unique\n",
      "Unique\n",
      "Unique\n",
      "Unique\n",
      "Unique\n",
      "Unique\n",
      "Unique\n",
      "Unique\n",
      "Unique\n",
      "Unique\n",
      "Unique\n",
      "Unique\n",
      "Unique\n",
      "Unique\n",
      "Unique\n",
      "Unique\n",
      "Unique\n",
      "Unique\n",
      "Unique\n",
      "Unique\n",
      "Unique\n",
      "Unique\n",
      "Unique\n",
      "Unique\n",
      "Unique\n",
      "Unique\n",
      "Unique\n",
      "Unique\n",
      "Unique\n",
      "Unique\n",
      "Unique\n",
      "Unique\n",
      "Unique\n",
      "Unique\n",
      "Unique\n",
      "Unique\n",
      "Unique\n",
      "Unique\n",
      "Unique\n",
      "Unique\n",
      "Unique\n",
      "Unique\n",
      "Unique\n",
      "Unique\n",
      "Unique\n",
      "Unique\n",
      "Unique\n",
      "Unique\n",
      "Unique\n",
      "Unique\n",
      "Unique\n",
      "Unique\n",
      "Unique\n",
      "Unique\n",
      "Unique\n",
      "Unique\n",
      "Unique\n",
      "Unique\n",
      "Unique\n",
      "Unique\n",
      "Unique\n",
      "Unique\n",
      "Unique\n",
      "Unique\n",
      "Unique\n",
      "Unique\n",
      "Unique\n",
      "Unique\n",
      "Unique\n",
      "Unique\n",
      "Unique\n",
      "Unique\n",
      "Unique\n",
      "Unique\n",
      "Unique\n",
      "Unique\n",
      "Unique\n",
      "Unique\n",
      "Unique\n",
      "Unique\n",
      "Unique\n",
      "Unique\n",
      "Unique\n",
      "Unique\n",
      "Unique\n",
      "Unique\n",
      "Unique\n",
      "Unique\n",
      "Unique\n",
      "Unique\n",
      "Unique\n",
      "Unique\n",
      "Unique\n",
      "Unique\n",
      "Unique\n",
      "Unique\n",
      "Unique\n",
      "Unique\n",
      "Unique\n",
      "Unique\n",
      "Unique\n",
      "Unique\n",
      "Unique\n",
      "Unique\n",
      "Unique\n",
      "Unique\n",
      "Unique\n",
      "Unique\n",
      "Unique\n",
      "Unique\n",
      "Unique\n",
      "Unique\n",
      "Unique\n",
      "Unique\n",
      "Unique\n",
      "Unique\n",
      "Unique\n",
      "Unique\n",
      "Unique\n",
      "Unique\n",
      "Unique\n",
      "Unique\n",
      "Unique\n",
      "Unique\n",
      "Unique\n",
      "Unique\n",
      "Unique\n",
      "Unique\n",
      "Unique\n",
      "Unique\n",
      "Unique\n",
      "Unique\n",
      "Unique\n",
      "Unique\n",
      "Unique\n",
      "Unique\n",
      "Unique\n",
      "Unique\n",
      "Unique\n",
      "Unique\n",
      "Unique\n",
      "Unique\n",
      "Unique\n",
      "Unique\n",
      "Unique\n",
      "Unique\n",
      "Unique\n",
      "Unique\n",
      "Unique\n",
      "Unique\n",
      "Unique\n",
      "Unique\n",
      "Unique\n",
      "Unique\n",
      "Unique\n",
      "Unique\n",
      "Unique\n",
      "Unique\n",
      "Unique\n",
      "Unique\n",
      "Unique\n",
      "Unique\n",
      "Unique\n",
      "Unique\n",
      "Unique\n",
      "Unique\n",
      "Unique\n",
      "Unique\n",
      "Unique\n",
      "Unique\n",
      "Unique\n",
      "Unique\n",
      "Unique\n",
      "Unique\n",
      "Unique\n",
      "Unique\n",
      "Unique\n",
      "Unique\n",
      "Unique\n",
      "Unique\n",
      "Unique\n",
      "Unique\n",
      "Unique\n",
      "Unique\n",
      "Unique\n",
      "Unique\n",
      "Unique\n",
      "Unique\n",
      "Unique\n",
      "Unique\n",
      "Unique\n",
      "Unique\n",
      "Unique\n",
      "Unique\n",
      "Unique\n",
      "Unique\n",
      "Unique\n",
      "Unique\n",
      "Unique\n",
      "Unique\n",
      "Unique\n",
      "Unique\n",
      "Unique\n",
      "Unique\n",
      "Unique\n",
      "Unique\n",
      "Unique\n",
      "Unique\n",
      "Unique\n",
      "Unique\n",
      "Unique\n",
      "Unique\n",
      "Unique\n",
      "Unique\n",
      "Unique\n",
      "Unique\n",
      "Unique\n",
      "Unique\n",
      "Unique\n",
      "Unique\n",
      "Unique\n",
      "Unique\n",
      "Unique\n",
      "Unique\n",
      "Unique\n",
      "Unique\n",
      "Unique\n",
      "Unique\n",
      "Unique\n",
      "Unique\n",
      "Unique\n",
      "Unique\n",
      "Unique\n",
      "Unique\n",
      "Unique\n",
      "Unique\n",
      "Unique\n",
      "Unique\n",
      "Unique\n",
      "Unique\n",
      "Unique\n",
      "Unique\n",
      "Unique\n",
      "Unique\n",
      "Unique\n",
      "Unique\n",
      "Unique\n",
      "Unique\n",
      "Unique\n",
      "Unique\n",
      "Unique\n",
      "Unique\n",
      "Unique\n",
      "Unique\n",
      "Unique\n",
      "Unique\n",
      "Unique\n",
      "Unique\n",
      "Unique\n",
      "Unique\n",
      "Unique\n",
      "Unique\n",
      "Unique\n",
      "Unique\n",
      "Unique\n",
      "Unique\n",
      "Unique\n",
      "Unique\n",
      "Unique\n",
      "Unique\n",
      "Unique\n",
      "Unique\n",
      "Unique\n",
      "Unique\n",
      "Unique\n",
      "Unique\n",
      "Unique\n",
      "Unique\n",
      "Unique\n",
      "Unique\n",
      "Unique\n",
      "Unique\n",
      "Unique\n",
      "Unique\n",
      "Unique\n",
      "Unique\n",
      "Unique\n",
      "Unique\n",
      "Unique\n",
      "Unique\n",
      "Unique\n",
      "Unique\n",
      "Unique\n",
      "Unique\n",
      "Unique\n",
      "Unique\n",
      "Unique\n",
      "Unique\n",
      "Unique\n",
      "Unique\n",
      "Unique\n",
      "Unique\n",
      "Unique\n",
      "Unique\n",
      "Unique\n",
      "Unique\n",
      "Unique\n",
      "Unique\n",
      "Unique\n",
      "Unique\n",
      "Unique\n",
      "Unique\n",
      "Unique\n",
      "Unique\n",
      "Unique\n",
      "Unique\n",
      "Unique\n",
      "Unique\n",
      "Unique\n",
      "Unique\n",
      "Unique\n",
      "Unique\n",
      "Unique\n",
      "Unique\n",
      "Unique\n",
      "Unique\n",
      "Unique\n",
      "Unique\n",
      "Unique\n",
      "Unique\n",
      "Unique\n",
      "Unique\n",
      "Unique\n",
      "Unique\n",
      "Unique\n",
      "Unique\n",
      "Unique\n",
      "Unique\n",
      "Unique\n",
      "Unique\n",
      "Unique\n",
      "Unique\n",
      "Unique\n",
      "Unique\n",
      "Unique\n",
      "Unique\n",
      "Unique\n",
      "Unique\n",
      "Unique\n",
      "Unique\n",
      "Unique\n",
      "Unique\n",
      "Unique\n",
      "Unique\n",
      "Unique\n",
      "Unique\n",
      "Unique\n",
      "Unique\n",
      "Unique\n",
      "Unique\n",
      "Unique\n",
      "Unique\n",
      "Unique\n",
      "Unique\n",
      "Unique\n",
      "Unique\n",
      "Unique\n",
      "Unique\n",
      "Unique\n",
      "Unique\n",
      "Unique\n",
      "Unique\n",
      "Unique\n",
      "Unique\n",
      "Unique\n",
      "Unique\n",
      "Unique\n",
      "Unique\n",
      "Unique\n",
      "Unique\n",
      "Unique\n",
      "Unique\n",
      "Unique\n",
      "Unique\n",
      "Unique\n",
      "Unique\n",
      "Unique\n",
      "Unique\n",
      "Unique\n",
      "Unique\n",
      "Unique\n",
      "Unique\n",
      "Unique\n",
      "Unique\n",
      "Unique\n",
      "Unique\n",
      "Unique\n",
      "Unique\n",
      "Unique\n",
      "Unique\n",
      "Unique\n",
      "Unique\n",
      "Unique\n",
      "Unique\n",
      "Unique\n",
      "Unique\n",
      "Unique\n",
      "Unique\n",
      "Unique\n",
      "Unique\n",
      "Unique\n",
      "Unique\n",
      "Unique\n",
      "Unique\n",
      "Unique\n",
      "Unique\n",
      "Unique\n",
      "Unique\n",
      "Unique\n",
      "Unique\n",
      "Unique\n",
      "Unique\n",
      "Unique\n",
      "Unique\n",
      "Unique\n",
      "Unique\n",
      "Unique\n",
      "Unique\n",
      "Unique\n",
      "Unique\n",
      "Unique\n",
      "Unique\n",
      "Unique\n",
      "Unique\n",
      "Unique\n",
      "Unique\n",
      "Unique\n",
      "Unique\n",
      "Unique\n",
      "Unique\n",
      "Unique\n",
      "Unique\n",
      "Unique\n",
      "Unique\n",
      "Unique\n",
      "Unique\n",
      "Unique\n",
      "Unique\n",
      "Unique\n",
      "Unique\n",
      "Unique\n",
      "Unique\n",
      "Unique\n",
      "2\n",
      "Unique\n",
      "Unique\n",
      "Unique\n",
      "Unique\n",
      "Unique\n",
      "Unique\n",
      "Unique\n",
      "Unique\n",
      "Unique\n",
      "Unique\n",
      "Unique\n",
      "Unique\n",
      "Unique\n",
      "Unique\n",
      "Unique\n",
      "Unique\n",
      "Unique\n",
      "Unique\n",
      "Unique\n",
      "Unique\n",
      "Unique\n",
      "Unique\n",
      "Unique\n",
      "Unique\n",
      "Unique\n",
      "Unique\n",
      "Unique\n",
      "Unique\n",
      "Unique\n",
      "Unique\n",
      "Unique\n",
      "Unique\n",
      "Unique\n",
      "Unique\n",
      "Unique\n",
      "Unique\n",
      "Unique\n",
      "Unique\n",
      "Unique\n",
      "Unique\n",
      "Unique\n",
      "Unique\n",
      "Unique\n",
      "Unique\n",
      "Unique\n",
      "Unique\n",
      "Unique\n",
      "Unique\n",
      "Unique\n",
      "Unique\n",
      "Unique\n",
      "Unique\n",
      "Unique\n",
      "Unique\n",
      "Unique\n",
      "Unique\n",
      "Unique\n",
      "Unique\n",
      "Unique\n",
      "Unique\n",
      "Unique\n",
      "Unique\n",
      "Unique\n",
      "Unique\n",
      "Unique\n",
      "Unique\n",
      "Unique\n",
      "Unique\n",
      "Unique\n",
      "Unique\n",
      "Unique\n",
      "Unique\n",
      "Unique\n",
      "Unique\n",
      "Unique\n",
      "Unique\n",
      "Unique\n",
      "Unique\n",
      "Unique\n",
      "Unique\n",
      "Unique\n",
      "Unique\n",
      "Unique\n",
      "Unique\n",
      "Unique\n",
      "Unique\n",
      "Unique\n",
      "Unique\n",
      "Unique\n",
      "Unique\n",
      "Unique\n",
      "Unique\n",
      "Unique\n",
      "Unique\n",
      "Unique\n",
      "Unique\n",
      "Unique\n",
      "Unique\n",
      "Unique\n",
      "Unique\n",
      "Unique\n",
      "Unique\n",
      "Unique\n",
      "Unique\n",
      "Unique\n",
      "Unique\n",
      "Unique\n",
      "Unique\n",
      "Unique\n",
      "Unique\n",
      "Unique\n",
      "Unique\n",
      "Unique\n",
      "Unique\n",
      "Unique\n",
      "Unique\n",
      "Unique\n",
      "Unique\n",
      "Unique\n",
      "Unique\n",
      "Unique\n",
      "Unique\n",
      "Unique\n",
      "Unique\n",
      "Unique\n",
      "Unique\n",
      "Unique\n",
      "Unique\n",
      "Unique\n",
      "Unique\n",
      "Unique\n",
      "Unique\n",
      "Unique\n",
      "Unique\n",
      "Unique\n",
      "Unique\n",
      "Unique\n",
      "Unique\n",
      "Unique\n",
      "Unique\n",
      "Unique\n",
      "Unique\n",
      "Unique\n",
      "Unique\n",
      "Unique\n",
      "Unique\n",
      "Unique\n",
      "Unique\n",
      "Unique\n",
      "Unique\n",
      "Unique\n",
      "Unique\n",
      "Unique\n",
      "Unique\n",
      "Unique\n",
      "Unique\n",
      "Unique\n",
      "Unique\n",
      "Unique\n",
      "Unique\n",
      "Unique\n",
      "Unique\n",
      "Unique\n",
      "Unique\n",
      "Unique\n",
      "Unique\n",
      "Unique\n",
      "Unique\n",
      "Unique\n",
      "Unique\n",
      "Unique\n",
      "Unique\n",
      "Unique\n",
      "Unique\n",
      "Unique\n",
      "Unique\n",
      "Unique\n",
      "Unique\n",
      "Unique\n",
      "Unique\n",
      "Unique\n",
      "Unique\n",
      "Unique\n",
      "Unique\n",
      "Unique\n",
      "Unique\n",
      "Unique\n",
      "Unique\n",
      "Unique\n",
      "Unique\n",
      "Unique\n",
      "Unique\n",
      "Unique\n",
      "Unique\n",
      "Unique\n",
      "Unique\n",
      "Unique\n",
      "Unique\n",
      "Unique\n",
      "Unique\n",
      "Unique\n",
      "Unique\n",
      "Unique\n",
      "Unique\n",
      "Unique\n",
      "Unique\n",
      "Unique\n",
      "Unique\n",
      "Unique\n",
      "Unique\n",
      "Unique\n",
      "Unique\n",
      "Unique\n",
      "Unique\n",
      "Unique\n",
      "Unique\n",
      "Unique\n",
      "Unique\n",
      "Unique\n",
      "Unique\n",
      "Unique\n",
      "Unique\n",
      "Unique\n",
      "Unique\n",
      "Unique\n",
      "Unique\n",
      "Unique\n",
      "Unique\n",
      "Unique\n",
      "Unique\n",
      "Unique\n",
      "Unique\n",
      "Unique\n",
      "Unique\n",
      "Unique\n",
      "Unique\n",
      "Unique\n",
      "Unique\n",
      "Unique\n",
      "Unique\n",
      "Unique\n",
      "Unique\n",
      "Unique\n",
      "Unique\n",
      "Unique\n",
      "Unique\n",
      "Unique\n",
      "Unique\n",
      "Unique\n",
      "2\n"
     ]
    },
    {
     "name": "stderr",
     "output_type": "stream",
     "text": [
      "\r",
      " 88%|███████████████████████████████▊    | 9393/10638 [05:50<00:01, 1221.90it/s]"
     ]
    },
    {
     "name": "stdout",
     "output_type": "stream",
     "text": [
      "Unique\n",
      "Unique\n",
      "Unique\n",
      "Unique\n",
      "Unique\n",
      "Unique\n",
      "Unique\n",
      "Unique\n",
      "Unique\n",
      "2\n",
      "Unique\n",
      "Unique\n",
      "Unique\n",
      "Unique\n",
      "Unique\n",
      "Unique\n",
      "Unique\n",
      "Unique\n",
      "2\n",
      "Unique\n",
      "Unique\n",
      "Unique\n",
      "Unique\n",
      "Unique\n",
      "2\n",
      "Unique\n",
      "Unique\n",
      "Unique\n",
      "Unique\n",
      "Unique\n",
      "Unique\n",
      "Unique\n",
      "Unique\n",
      "Unique\n",
      "Unique\n",
      "Unique\n",
      "Unique\n",
      "Unique\n",
      "Unique\n",
      "Unique\n",
      "Unique\n",
      "2\n",
      "Unique\n",
      "Unique\n",
      "Unique\n",
      "Unique\n",
      "Unique\n",
      "Unique\n",
      "Unique\n",
      "Unique\n",
      "Unique\n",
      "2\n",
      "Unique\n",
      "Unique\n",
      "Unique\n",
      "Unique\n",
      "Unique\n",
      "Unique\n",
      "Unique\n",
      "Unique\n",
      "2\n",
      "Unique\n",
      "Unique\n",
      "Unique\n",
      "Unique\n",
      "Unique\n",
      "Unique\n",
      "Unique\n",
      "Unique\n",
      "Unique\n",
      "Unique\n",
      "Unique\n",
      "2\n",
      "Unique\n",
      "Unique\n",
      "Unique\n",
      "Unique\n",
      "Unique\n",
      "Unique\n",
      "Unique\n",
      "Unique\n",
      "2\n",
      "Unique\n",
      "Unique\n",
      "Unique\n",
      "Unique\n",
      "Unique\n",
      "Unique\n",
      "Unique\n",
      "Unique\n",
      "Unique\n",
      "2\n",
      "Unique\n",
      "Unique\n",
      "Unique\n",
      "Unique\n",
      "Unique\n",
      "Unique\n",
      "Unique\n",
      "Unique\n",
      "2\n",
      "Unique\n",
      "Unique\n",
      "Unique\n",
      "Unique\n",
      "Unique\n",
      "Unique\n",
      "Unique\n",
      "2\n",
      "Unique\n",
      "Unique\n",
      "Unique\n",
      "Unique\n",
      "2\n",
      "Unique\n",
      "Unique\n",
      "Unique\n",
      "Unique\n",
      "Unique\n",
      "Unique\n",
      "Unique\n",
      "Unique\n",
      "Unique\n",
      "Unique\n",
      "Unique\n",
      "Unique\n",
      "Unique\n",
      "Unique\n",
      "Unique\n",
      "Unique\n",
      "Unique\n",
      "Unique\n",
      "Unique\n",
      "Unique\n",
      "Unique\n",
      "Unique\n",
      "Unique\n",
      "Unique\n",
      "Unique\n",
      "Unique\n",
      "2\n",
      "Unique\n",
      "Unique\n",
      "Unique\n",
      "Unique\n",
      "Unique\n",
      "Unique\n",
      "Unique\n",
      "Unique\n",
      "Unique\n",
      "Unique\n",
      "Unique\n",
      "Unique\n",
      "2\n",
      "Unique\n",
      "Unique\n",
      "Unique\n",
      "Unique\n",
      "Unique\n",
      "Unique\n",
      "Unique\n",
      "Unique\n",
      "Unique\n",
      "Unique\n",
      "Unique\n",
      "Unique\n",
      "Unique\n",
      "Unique\n",
      "Unique\n",
      "Unique\n",
      "Unique\n",
      "2\n",
      "Unique\n",
      "Unique\n",
      "Unique\n",
      "Unique\n",
      "Unique\n",
      "Unique\n",
      "Unique\n",
      "Unique\n",
      "Unique\n",
      "Unique\n",
      "Unique\n",
      "Unique\n",
      "Unique\n",
      "Unique\n",
      "Unique\n",
      "Unique\n",
      "2\n",
      "Unique\n",
      "Unique\n",
      "Unique\n",
      "Unique\n",
      "Unique\n",
      "Unique\n",
      "Unique\n",
      "Unique\n",
      "2\n"
     ]
    },
    {
     "name": "stderr",
     "output_type": "stream",
     "text": [
      "\r",
      " 90%|█████████████████████████████████▍   | 9611/10638 [05:51<00:02, 490.54it/s]"
     ]
    },
    {
     "name": "stdout",
     "output_type": "stream",
     "text": [
      "Unique\n",
      "Unique\n",
      "Unique\n",
      "Unique\n",
      "Unique\n",
      "Unique\n",
      "Unique\n",
      "Unique\n",
      "Unique\n",
      "2\n",
      "Unique\n",
      "Unique\n",
      "Unique\n",
      "Unique\n",
      "Unique\n",
      "Unique\n",
      "2\n",
      "Unique\n",
      "Unique\n",
      "Unique\n",
      "Unique\n",
      "Unique\n",
      "Unique\n",
      "Unique\n",
      "Unique\n",
      "Unique\n",
      "Unique\n",
      "Unique\n",
      "Unique\n",
      "Unique\n",
      "Unique\n",
      "Unique\n",
      "2\n",
      "Unique\n",
      "Unique\n",
      "Unique\n",
      "Unique\n",
      "Unique\n",
      "Unique\n",
      "Unique\n",
      "Unique\n",
      "Unique\n",
      "2\n",
      "Unique\n",
      "Unique\n",
      "Unique\n",
      "Unique\n",
      "Unique\n",
      "Unique\n",
      "Unique\n",
      "Unique\n",
      "Unique\n",
      "Unique\n",
      "Unique\n",
      "Unique\n",
      "Unique\n",
      "Unique\n",
      "Unique\n",
      "Unique\n",
      "Unique\n",
      "Unique\n",
      "Unique\n",
      "2\n",
      "Unique\n",
      "Unique\n",
      "Unique\n",
      "Unique\n",
      "Unique\n",
      "Unique\n",
      "Unique\n",
      "Unique\n",
      "2\n",
      "Unique\n",
      "Unique\n",
      "Unique\n",
      "Unique\n",
      "2\n",
      "Unique\n",
      "Unique\n",
      "Unique\n",
      "Unique\n",
      "Unique\n",
      "Unique\n",
      "2\n",
      "Unique\n",
      "Unique\n",
      "Unique\n",
      "Unique\n",
      "Unique\n",
      "Unique\n",
      "Unique\n",
      "Unique\n",
      "Unique\n",
      "Unique\n",
      "Unique\n",
      "Unique\n",
      "Unique\n",
      "Unique\n",
      "Unique\n",
      "2\n",
      "Unique\n",
      "Unique\n",
      "Unique\n",
      "Unique\n",
      "Unique\n",
      "Unique\n",
      "Unique\n",
      "Unique\n",
      "Unique\n",
      "Unique\n",
      "Unique\n",
      "Unique\n",
      "2\n",
      "Unique\n",
      "Unique\n",
      "Unique\n",
      "Unique\n",
      "2\n",
      "Unique\n",
      "Unique\n",
      "Unique\n",
      "Unique\n",
      "Unique\n",
      "Unique\n",
      "Unique\n",
      "Unique\n",
      "Unique\n",
      "2\n",
      "Unique\n",
      "Unique\n",
      "Unique\n",
      "Unique\n",
      "Unique\n",
      "Unique\n",
      "Unique\n",
      "Unique\n",
      "Unique\n",
      "2\n"
     ]
    },
    {
     "name": "stderr",
     "output_type": "stream",
     "text": [
      "\r",
      " 92%|█████████████████████████████████▉   | 9768/10638 [05:52<00:02, 359.83it/s]"
     ]
    },
    {
     "name": "stdout",
     "output_type": "stream",
     "text": [
      "2\n",
      "Unique\n",
      "Unique\n",
      "Unique\n",
      "Unique\n",
      "Unique\n",
      "Unique\n",
      "Unique\n",
      "Unique\n",
      "Unique\n",
      "2\n",
      "Unique\n",
      "Unique\n",
      "Unique\n",
      "Unique\n",
      "Unique\n",
      "Unique\n",
      "Unique\n",
      "Unique\n",
      "Unique\n",
      "Unique\n",
      "2\n",
      "Unique\n",
      "Unique\n",
      "Unique\n",
      "Unique\n",
      "Unique\n",
      "Unique\n",
      "Unique\n",
      "Unique\n",
      "Unique\n",
      "Unique\n",
      "Unique\n",
      "Unique\n",
      "Unique\n",
      "Unique\n",
      "Unique\n",
      "Unique\n",
      "Unique\n",
      "Unique\n",
      "Unique\n",
      "Unique\n",
      "Unique\n",
      "Unique\n",
      "Unique\n",
      "Unique\n",
      "Unique\n",
      "Unique\n",
      "Unique\n",
      "Unique\n",
      "Unique\n",
      "Unique\n",
      "Unique\n",
      "Unique\n",
      "Unique\n",
      "Unique\n",
      "Unique\n",
      "Unique\n",
      "Unique\n",
      "Unique\n",
      "Unique\n",
      "Unique\n",
      "Unique\n",
      "Unique\n",
      "Unique\n",
      "Unique\n",
      "Unique\n",
      "Unique\n",
      "Unique\n",
      "Unique\n",
      "Unique\n",
      "Unique\n",
      "Unique\n",
      "Unique\n",
      "Unique\n",
      "Unique\n",
      "Unique\n",
      "Unique\n",
      "Unique\n",
      "Unique\n",
      "Unique\n",
      "Unique\n",
      "Unique\n",
      "Unique\n",
      "Unique\n",
      "Unique\n",
      "Unique\n",
      "Unique\n",
      "Unique\n",
      "Unique\n",
      "Unique\n",
      "Unique\n",
      "Unique\n",
      "Unique\n",
      "Unique\n",
      "Unique\n",
      "Unique\n",
      "Unique\n",
      "Unique\n",
      "Unique\n",
      "Unique\n",
      "Unique\n",
      "Unique\n",
      "Unique\n",
      "Unique\n",
      "Unique\n",
      "Unique\n",
      "Unique\n",
      "Unique\n",
      "Unique\n",
      "Unique\n",
      "Unique\n",
      "Unique\n",
      "Unique\n",
      "Unique\n",
      "Unique\n",
      "Unique\n",
      "Unique\n",
      "Unique\n",
      "Unique\n",
      "Unique\n",
      "Unique\n",
      "Unique\n",
      "Unique\n",
      "Unique\n",
      "Unique\n",
      "Unique\n",
      "Unique\n",
      "Unique\n",
      "Unique\n",
      "Unique\n",
      "Unique\n",
      "Unique\n",
      "Unique\n",
      "Unique\n",
      "Unique\n",
      "Unique\n",
      "Unique\n",
      "Unique\n",
      "Unique\n",
      "Unique\n",
      "Unique\n",
      "Unique\n",
      "Unique\n",
      "Unique\n",
      "Unique\n",
      "Unique\n",
      "Unique\n",
      "Unique\n",
      "Unique\n",
      "Unique\n",
      "Unique\n",
      "Unique\n",
      "Unique\n",
      "Unique\n",
      "Unique\n",
      "Unique\n",
      "Unique\n",
      "Unique\n",
      "Unique\n",
      "Unique\n",
      "Unique\n",
      "Unique\n",
      "Unique\n",
      "Unique\n",
      "Unique\n",
      "Unique\n",
      "Unique\n",
      "Unique\n",
      "Unique\n",
      "Unique\n",
      "Unique\n",
      "Unique\n",
      "Unique\n",
      "Unique\n",
      "Unique\n",
      "Unique\n",
      "Unique\n",
      "Unique\n",
      "Unique\n",
      "Unique\n",
      "Unique\n",
      "Unique\n",
      "Unique\n",
      "Unique\n",
      "Unique\n",
      "Unique\n",
      "Unique\n",
      "Unique\n",
      "Unique\n",
      "Unique\n",
      "Unique\n",
      "Unique\n",
      "Unique\n",
      "Unique\n",
      "Unique\n",
      "Unique\n",
      "Unique\n",
      "Unique\n",
      "Unique\n",
      "Unique\n",
      "Unique\n",
      "Unique\n",
      "Unique\n",
      "Unique\n",
      "Unique\n",
      "Unique\n",
      "Unique\n",
      "Unique\n",
      "Unique\n",
      "Unique\n",
      "Unique\n",
      "Unique\n",
      "Unique\n",
      "Unique\n",
      "Unique\n",
      "Unique\n",
      "Unique\n",
      "Unique\n",
      "Unique\n",
      "Unique\n",
      "Unique\n",
      "Unique\n",
      "Unique\n",
      "Unique\n",
      "Unique\n",
      "Unique\n",
      "2\n"
     ]
    },
    {
     "name": "stderr",
     "output_type": "stream",
     "text": [
      "\r",
      " 94%|██████████████████████████████████▋  | 9984/10638 [05:52<00:01, 442.52it/s]"
     ]
    },
    {
     "name": "stdout",
     "output_type": "stream",
     "text": [
      "Unique\n",
      "Unique\n",
      "Unique\n",
      "Unique\n",
      "Unique\n",
      "Unique\n",
      "Unique\n",
      "Unique\n",
      "Unique\n",
      "Unique\n",
      "Unique\n",
      "Unique\n",
      "Unique\n",
      "Unique\n",
      "Unique\n",
      "Unique\n",
      "Unique\n",
      "Unique\n",
      "Unique\n",
      "Unique\n",
      "Unique\n",
      "Unique\n",
      "Unique\n",
      "Unique\n",
      "Unique\n",
      "Unique\n",
      "2\n",
      "Unique\n",
      "Unique\n",
      "Unique\n",
      "Unique\n",
      "Unique\n",
      "Unique\n",
      "Unique\n",
      "Unique\n",
      "Unique\n",
      "Unique\n",
      "Unique\n",
      "Unique\n",
      "Unique\n",
      "Unique\n",
      "Unique\n",
      "Unique\n",
      "Unique\n",
      "Unique\n",
      "Unique\n",
      "Unique\n",
      "Unique\n",
      "Unique\n",
      "Unique\n",
      "Unique\n",
      "Unique\n",
      "Unique\n",
      "Unique\n",
      "Unique\n",
      "Unique\n",
      "Unique\n",
      "Unique\n",
      "Unique\n",
      "Unique\n",
      "Unique\n",
      "Unique\n",
      "Unique\n",
      "Unique\n",
      "Unique\n",
      "Unique\n",
      "Unique\n",
      "Unique\n",
      "Unique\n",
      "Unique\n",
      "Unique\n",
      "2\n",
      "Unique\n",
      "Unique\n",
      "Unique\n",
      "Unique\n",
      "Unique\n",
      "Unique\n",
      "Unique\n",
      "Unique\n",
      "Unique\n",
      "Unique\n",
      "Unique\n",
      "Unique\n",
      "Unique\n",
      "Unique\n",
      "Unique\n",
      "Unique\n",
      "Unique\n",
      "Unique\n",
      "Unique\n",
      "Unique\n",
      "Unique\n",
      "Unique\n",
      "Unique\n",
      "Unique\n",
      "Unique\n",
      "Unique\n",
      "Unique\n",
      "Unique\n",
      "Unique\n",
      "Unique\n",
      "Unique\n",
      "Unique\n",
      "Unique\n",
      "Unique\n",
      "Unique\n",
      "Unique\n",
      "Unique\n",
      "Unique\n",
      "Unique\n",
      "Unique\n",
      "Unique\n",
      "Unique\n",
      "Unique\n",
      "Unique\n",
      "Unique\n",
      "Unique\n",
      "Unique\n",
      "Unique\n",
      "Unique\n",
      "Unique\n",
      "Unique\n",
      "Unique\n",
      "Unique\n",
      "2\n"
     ]
    },
    {
     "name": "stderr",
     "output_type": "stream",
     "text": [
      " 96%|██████████████████████████████████▌ | 10210/10638 [05:53<00:00, 529.43it/s]"
     ]
    },
    {
     "name": "stdout",
     "output_type": "stream",
     "text": [
      "Unique\n",
      "Unique\n",
      "Unique\n",
      "Unique\n",
      "Unique\n",
      "Unique\n",
      "Unique\n",
      "Unique\n",
      "Unique\n",
      "Unique\n",
      "Unique\n",
      "Unique\n",
      "Unique\n",
      "Unique\n",
      "Unique\n",
      "Unique\n",
      "Unique\n",
      "Unique\n",
      "Unique\n",
      "Unique\n",
      "Unique\n",
      "Unique\n",
      "Unique\n",
      "Unique\n",
      "Unique\n",
      "Unique\n",
      "Unique\n",
      "Unique\n",
      "Unique\n",
      "Unique\n",
      "Unique\n",
      "Unique\n",
      "Unique\n",
      "Unique\n",
      "Unique\n",
      "Unique\n",
      "Unique\n",
      "Unique\n",
      "Unique\n",
      "Unique\n",
      "Unique\n",
      "Unique\n",
      "Unique\n",
      "Unique\n",
      "Unique\n",
      "Unique\n",
      "Unique\n",
      "Unique\n",
      "Unique\n",
      "Unique\n",
      "Unique\n",
      "Unique\n",
      "Unique\n",
      "Unique\n",
      "Unique\n",
      "Unique\n",
      "Unique\n",
      "Unique\n",
      "Unique\n",
      "Unique\n",
      "Unique\n",
      "Unique\n",
      "Unique\n",
      "Unique\n",
      "Unique\n",
      "Unique\n",
      "Unique\n",
      "Unique\n",
      "Unique\n",
      "Unique\n",
      "Unique\n",
      "Unique\n",
      "Unique\n",
      "Unique\n",
      "Unique\n",
      "Unique\n",
      "Unique\n",
      "Unique\n",
      "Unique\n",
      "Unique\n",
      "Unique\n",
      "Unique\n",
      "Unique\n",
      "Unique\n",
      "Unique\n",
      "Unique\n",
      "Unique\n",
      "Unique\n",
      "Unique\n",
      "Unique\n",
      "Unique\n",
      "Unique\n",
      "Unique\n",
      "Unique\n",
      "Unique\n",
      "Unique\n",
      "Unique\n",
      "Unique\n",
      "Unique\n",
      "Unique\n",
      "Unique\n",
      "Unique\n",
      "Unique\n",
      "Unique\n",
      "Unique\n",
      "Unique\n",
      "Unique\n",
      "Unique\n",
      "Unique\n",
      "Unique\n",
      "Unique\n",
      "Unique\n",
      "Unique\n",
      "2\n",
      "Unique\n",
      "Unique\n",
      "Unique\n",
      "Unique\n",
      "Unique\n",
      "Unique\n",
      "Unique\n",
      "Unique\n",
      "Unique\n",
      "Unique\n",
      "Unique\n",
      "2\n",
      "Unique\n",
      "Unique\n",
      "Unique\n",
      "Unique\n",
      "Unique\n",
      "Unique\n",
      "Unique\n",
      "Unique\n",
      "Unique\n",
      "Unique\n",
      "Unique\n",
      "Unique\n",
      "Unique\n",
      "Unique\n",
      "Unique\n",
      "Unique\n",
      "Unique\n",
      "Unique\n",
      "Unique\n",
      "Unique\n",
      "Unique\n",
      "Unique\n",
      "Unique\n",
      "Unique\n",
      "Unique\n",
      "2\n",
      "Unique\n",
      "Unique\n",
      "Unique\n",
      "2\n",
      "Unique\n",
      "Unique\n",
      "Unique\n",
      "Unique\n",
      "Unique\n",
      "Unique\n",
      "Unique\n",
      "Unique\n",
      "Unique\n",
      "2\n",
      "Another Candidate\n",
      "Unique\n",
      "Unique\n",
      "Unique\n",
      "Unique\n",
      "Unique\n",
      "Unique\n",
      "Unique\n",
      "Unique\n",
      "2\n",
      "Another Candidate\n",
      "Unique\n",
      "Unique\n",
      "Unique\n",
      "Unique\n",
      "Unique\n",
      "Unique\n",
      "Unique\n",
      "Unique\n",
      "Unique\n",
      "2\n",
      "Another Candidate\n",
      "Unique\n",
      "Unique\n",
      "Unique\n",
      "Unique\n",
      "Unique\n",
      "Unique\n",
      "Unique\n",
      "Unique\n",
      "2\n",
      "Another Candidate\n",
      "Unique\n",
      "Unique\n",
      "Unique\n",
      "Unique\n",
      "Unique\n",
      "2\n",
      "Another Candidate\n",
      "Unique\n",
      "Unique\n",
      "Unique\n",
      "Unique\n",
      "Unique\n",
      "Unique\n",
      "Unique\n",
      "Unique\n",
      "2\n",
      "Another Candidate\n",
      "Unique\n",
      "Unique\n",
      "Unique\n",
      "Unique\n",
      "Unique\n",
      "Unique\n",
      "Unique\n",
      "Unique\n",
      "Unique\n",
      "Unique\n",
      "Unique\n",
      "Unique\n",
      "Unique\n",
      "Unique\n",
      "2\n"
     ]
    },
    {
     "name": "stderr",
     "output_type": "stream",
     "text": [
      "\r",
      " 97%|██████████████████████████████████▉ | 10314/10638 [05:54<00:01, 271.29it/s]"
     ]
    },
    {
     "name": "stdout",
     "output_type": "stream",
     "text": [
      "Another Candidate\n",
      "Unique\n",
      "Unique\n",
      "Unique\n",
      "Unique\n",
      "Unique\n",
      "Unique\n",
      "Unique\n",
      "Unique\n",
      "2\n",
      "Another Candidate\n",
      "Unique\n",
      "Unique\n",
      "Unique\n",
      "Unique\n",
      "Unique\n",
      "Unique\n",
      "Unique\n",
      "Unique\n",
      "Unique\n",
      "2\n",
      "Another Candidate\n",
      "Unique\n",
      "Unique\n",
      "Unique\n",
      "Unique\n",
      "Unique\n",
      "Unique\n",
      "Unique\n",
      "Unique\n",
      "2\n",
      "Another Candidate\n",
      "Unique\n",
      "Unique\n",
      "Unique\n",
      "Unique\n",
      "Unique\n",
      "Unique\n",
      "Unique\n",
      "Unique\n",
      "Unique\n",
      "2\n",
      "Another Candidate\n",
      "Unique\n",
      "Unique\n",
      "Unique\n",
      "Unique\n",
      "Unique\n",
      "Unique\n",
      "Unique\n",
      "Unique\n",
      "2\n",
      "Another Candidate\n",
      "Unique\n",
      "Unique\n",
      "Unique\n",
      "Unique\n",
      "2\n"
     ]
    },
    {
     "name": "stderr",
     "output_type": "stream",
     "text": [
      "\r",
      " 98%|███████████████████████████████████▏| 10389/10638 [05:55<00:01, 207.02it/s]"
     ]
    },
    {
     "name": "stdout",
     "output_type": "stream",
     "text": [
      "Another Candidate\n",
      "Unique\n",
      "Unique\n",
      "Unique\n",
      "Unique\n",
      "Unique\n",
      "Unique\n",
      "Unique\n",
      "Unique\n",
      "Unique\n",
      "2\n",
      "Another Candidate\n",
      "Unique\n",
      "Unique\n",
      "Unique\n",
      "Unique\n",
      "Unique\n",
      "Unique\n",
      "Unique\n",
      "Unique\n",
      "Unique\n",
      "Unique\n",
      "Unique\n",
      "Unique\n",
      "Unique\n",
      "Unique\n",
      "Unique\n",
      "Unique\n",
      "Unique\n",
      "Unique\n",
      "Unique\n",
      "Unique\n",
      "Unique\n",
      "Unique\n",
      "Unique\n",
      "Unique\n",
      "Unique\n",
      "Unique\n",
      "Unique\n",
      "Unique\n",
      "Unique\n",
      "Unique\n",
      "Unique\n",
      "Unique\n",
      "Unique\n",
      "Unique\n",
      "Unique\n",
      "Unique\n",
      "Unique\n",
      "Unique\n",
      "2\n",
      "Another Candidate\n",
      "Unique\n",
      "Unique\n",
      "Unique\n",
      "Unique\n",
      "Unique\n",
      "Unique\n",
      "Unique\n",
      "Unique\n",
      "Unique\n",
      "2\n",
      "Another Candidate\n",
      "Unique\n",
      "Unique\n",
      "Unique\n",
      "Unique\n",
      "Unique\n",
      "Unique\n",
      "2\n"
     ]
    },
    {
     "name": "stderr",
     "output_type": "stream",
     "text": [
      "100%|█████████████████████████████████████| 10638/10638 [05:55<00:00, 29.93it/s]"
     ]
    },
    {
     "name": "stdout",
     "output_type": "stream",
     "text": [
      "Another Candidate\n",
      "Unique\n",
      "Unique\n",
      "Unique\n",
      "Unique\n",
      "Unique\n",
      "Unique\n",
      "Unique\n",
      "Unique\n",
      "Unique\n",
      "Unique\n",
      "Unique\n",
      "Unique\n",
      "Unique\n",
      "Unique\n",
      "Unique\n",
      "Unique\n",
      "Unique\n",
      "Unique\n",
      "Unique\n",
      "Unique\n",
      "Unique\n",
      "Unique\n",
      "Unique\n",
      "Unique\n",
      "Unique\n",
      "Unique\n",
      "Unique\n",
      "Unique\n",
      "Unique\n",
      "Unique\n",
      "Unique\n",
      "Unique\n",
      "Unique\n",
      "Unique\n",
      "Unique\n",
      "Unique\n",
      "Unique\n",
      "Unique\n",
      "Unique\n",
      "Unique\n",
      "Unique\n",
      "Unique\n",
      "Unique\n",
      "Unique\n",
      "Unique\n",
      "Unique\n",
      "Unique\n",
      "Unique\n",
      "Unique\n",
      "Unique\n",
      "Unique\n",
      "Unique\n",
      "Unique\n",
      "Unique\n",
      "Unique\n",
      "Unique\n",
      "Unique\n",
      "Unique\n",
      "Unique\n",
      "Unique\n",
      "Unique\n",
      "Unique\n",
      "Unique\n",
      "Unique\n",
      "Unique\n",
      "Unique\n",
      "Unique\n",
      "Unique\n",
      "Unique\n",
      "Unique\n",
      "Unique\n",
      "Unique\n",
      "Unique\n",
      "Unique\n",
      "Unique\n",
      "Unique\n",
      "Unique\n",
      "Unique\n",
      "Unique\n",
      "Unique\n",
      "Unique\n",
      "Unique\n",
      "Unique\n",
      "Unique\n",
      "Unique\n",
      "Unique\n",
      "Unique\n",
      "Unique\n",
      "Unique\n",
      "Unique\n",
      "Unique\n",
      "Unique\n",
      "Unique\n",
      "Unique\n",
      "Unique\n",
      "Unique\n",
      "Unique\n",
      "Unique\n",
      "Unique\n",
      "Unique\n",
      "Unique\n",
      "Unique\n",
      "Unique\n",
      "Unique\n",
      "Unique\n",
      "Unique\n",
      "Unique\n",
      "Unique\n",
      "Unique\n",
      "Unique\n",
      "Unique\n",
      "Unique\n",
      "Unique\n",
      "Unique\n",
      "Unique\n",
      "Unique\n",
      "Unique\n",
      "Unique\n",
      "Unique\n",
      "Unique\n",
      "Unique\n",
      "Unique\n",
      "Unique\n",
      "Unique\n",
      "Unique\n",
      "Unique\n",
      "Unique\n",
      "Unique\n",
      "Unique\n",
      "Unique\n",
      "Unique\n",
      "Unique\n",
      "Unique\n",
      "Unique\n",
      "Unique\n",
      "Unique\n",
      "Unique\n",
      "Unique\n",
      "Unique\n",
      "Unique\n",
      "Unique\n",
      "Unique\n",
      "Unique\n",
      "Unique\n",
      "Unique\n",
      "Unique\n",
      "Unique\n",
      "Unique\n",
      "Unique\n",
      "Unique\n",
      "Unique\n",
      "Unique\n",
      "Unique\n",
      "Unique\n",
      "Unique\n",
      "Unique\n",
      "Unique\n",
      "Unique\n",
      "Unique\n",
      "Unique\n",
      "Unique\n",
      "Unique\n",
      "Unique\n",
      "Unique\n",
      "Unique\n",
      "Unique\n",
      "Unique\n",
      "Unique\n",
      "Unique\n",
      "Unique\n",
      "Unique\n",
      "Unique\n",
      "Unique\n",
      "Unique\n",
      "Unique\n",
      "Unique\n",
      "Unique\n",
      "Unique\n",
      "Unique\n",
      "Unique\n",
      "Unique\n",
      "Unique\n",
      "Unique\n",
      "Unique\n",
      "Unique\n",
      "Unique\n",
      "Unique\n",
      "Unique\n",
      "Unique\n",
      "Unique\n",
      "Unique\n",
      "Unique\n",
      "Unique\n",
      "Unique\n",
      "Unique\n",
      "Unique\n",
      "Unique\n",
      "Unique\n",
      "Unique\n",
      "Unique\n",
      "Unique\n",
      "Unique\n",
      "Unique\n",
      "Unique\n",
      "Unique\n",
      "Unique\n",
      "Unique\n",
      "Unique\n",
      "Unique\n",
      "Unique\n",
      "Unique\n",
      "Unique\n",
      "Unique\n"
     ]
    },
    {
     "name": "stderr",
     "output_type": "stream",
     "text": [
      "\n"
     ]
    }
   ],
   "source": [
    "from tqdm import tqdm\n",
    "\n",
    "imgs_path, labels, subjects = [], [], []\n",
    "\n",
    "for filepath in tqdm(glob.glob('data/Camera 1/train/*/*.jpg')):\n",
    "    parts = filepath.split('/')\n",
    "    filename = parts[-1]\n",
    "    label = int(parts[-2][-1])\n",
    "    \n",
    "    imgs_path.append(filepath)\n",
    "    labels.append(label)\n",
    "    \n",
    "    candidates = filename_to_filepath[filename]\n",
    "    if len(candidates) == 1:\n",
    "        print('Unique')\n",
    "        subjects.append(int(candidates[0].split('/')[-2]))\n",
    "            \n",
    "    else:\n",
    "        print(len(candidates))\n",
    "        img1 = cv.imread(filepath)\n",
    "        for i, candidate in enumerate(candidates):\n",
    "            img2 = cv.imread(candidate)\n",
    "            if (img1==img2).all():\n",
    "                subjects.append(int(candidate.split('/')[-2]))\n",
    "                break\n",
    "            else:\n",
    "                print('Another Candidate')\n",
    "                \n",
    "            if i == len(candidates) - 1:\n",
    "                raise ValueError"
   ]
  },
  {
   "cell_type": "code",
   "execution_count": null,
   "metadata": {},
   "outputs": [],
   "source": [
    "import pandas as pd\n",
    "\n",
    "df1_train = pd.DataFrame(data={'image_path': imgs_path, 'label': labels, 'subject': subjects})\n",
    "df1_train.head()"
   ]
  },
  {
   "cell_type": "code",
   "execution_count": null,
   "metadata": {},
   "outputs": [],
   "source": [
    "from collections import Counter\n",
    "Counter(df1_train.subject)"
   ]
  },
  {
   "cell_type": "code",
   "execution_count": null,
   "metadata": {},
   "outputs": [],
   "source": [
    "from tqdm import tqdm\n",
    "\n",
    "imgs_path, labels, subjects = [], [], []\n",
    "\n",
    "for filepath in tqdm(glob.glob('data/Camera 1/test/*/*.jpg')):\n",
    "    parts = filepath.split('/')\n",
    "    filename = parts[-1]\n",
    "    label = int(parts[-2][-1])\n",
    "    \n",
    "    imgs_path.append(filepath)\n",
    "    labels.append(label)\n",
    "    \n",
    "    candidates = filename_to_filepath[filename]\n",
    "    if len(candidates) == 1:\n",
    "        print('True')\n",
    "        subjects.append(int(candidates[0].split('/')[-2]))\n",
    "            \n",
    "    else:\n",
    "        img1 = cv.imread(filepath)\n",
    "        for i, candidate in enumerate(candidates):\n",
    "            img2 = cv.imread(candidate)\n",
    "            if (img1==img2).all():\n",
    "                subjects.append(int(candidate.split('/')[-2]))\n",
    "                break\n",
    "            else:\n",
    "                print('False')\n",
    "                \n",
    "            if i == len(candidates) - 1:\n",
    "                raise ValueError\n",
    "                \n",
    "df1_test = pd.DataFrame(data={'image_path': imgs_path, 'label': labels, 'subject': subjects})\n",
    "df1_test.head()"
   ]
  },
  {
   "cell_type": "code",
   "execution_count": null,
   "metadata": {},
   "outputs": [],
   "source": [
    "Counter(df1_test.subject)"
   ]
  },
  {
   "cell_type": "code",
   "execution_count": null,
   "metadata": {},
   "outputs": [],
   "source": [
    "df1_test.shape"
   ]
  },
  {
   "cell_type": "code",
   "execution_count": null,
   "metadata": {},
   "outputs": [],
   "source": [
    "imgs_path, labels, subjects = [], [], []\n",
    "\n",
    "for filepath in tqdm(glob.glob('data/Camera 2/train/*/*.jpg')):\n",
    "    parts = filepath.split('/')\n",
    "    filename = parts[-1]\n",
    "    subject = int(filename[:-8])\n",
    "    label = int(parts[-2][-1])\n",
    "    \n",
    "    imgs_path.append(filepath)\n",
    "    labels.append(label)\n",
    "    subjects.append(subject)\n",
    "    \n",
    "df2_train = pd.DataFrame(data={'image_path': imgs_path, 'label': labels, 'subject': subjects})\n",
    "df2_train.head()"
   ]
  },
  {
   "cell_type": "code",
   "execution_count": null,
   "metadata": {},
   "outputs": [],
   "source": [
    "Counter(df2_train.label)"
   ]
  },
  {
   "cell_type": "code",
   "execution_count": null,
   "metadata": {},
   "outputs": [],
   "source": [
    "imgs_path, labels, subjects = [], [], []\n",
    "\n",
    "for filepath in tqdm(glob.glob('data/Camera 2/test/*/*.jpg')):\n",
    "    parts = filepath.split('/')\n",
    "    filename = parts[-1]\n",
    "    subject = int(filename[:-8])\n",
    "    label = int(parts[-2][-1])\n",
    "    \n",
    "    imgs_path.append(filepath)\n",
    "    labels.append(label)\n",
    "    subjects.append(subject)\n",
    "    \n",
    "df2_test = pd.DataFrame(data={'image_path': imgs_path, 'label': labels, 'subject': subjects})\n",
    "df2_test.head()"
   ]
  },
  {
   "cell_type": "code",
   "execution_count": null,
   "metadata": {},
   "outputs": [],
   "source": [
    "Counter(df2_test.label)"
   ]
  },
  {
   "cell_type": "code",
   "execution_count": null,
   "metadata": {},
   "outputs": [],
   "source": [
    "df1_train['camera'] = 1\n",
    "df1_test['camera'] = 1\n",
    "df2_train['camera'] = 2\n",
    "df2_test['camera'] = 2\n",
    "\n",
    "df2_train['subject'] += 32\n",
    "df2_test['subject'] += 32"
   ]
  },
  {
   "cell_type": "code",
   "execution_count": null,
   "metadata": {},
   "outputs": [],
   "source": [
    "from sklearn.model_selection import GroupShuffleSplit\n",
    "\n",
    "gss = GroupShuffleSplit(n_splits=1, train_size=.8, random_state=42)\n",
    "for train_idx, test_idx in gss.split(df1_train, groups=df1_train.subject):\n",
    "    df1_val = df1_train.iloc[test_idx]\n",
    "    df1_train_final = df1_train.iloc[train_idx]"
   ]
  },
  {
   "cell_type": "code",
   "execution_count": null,
   "metadata": {},
   "outputs": [],
   "source": [
    "Counter(df1_train_final.subject)"
   ]
  },
  {
   "cell_type": "code",
   "execution_count": null,
   "metadata": {},
   "outputs": [],
   "source": [
    "for train_idx, test_idx in gss.split(df2_train, groups=df2_train.subject):\n",
    "    df2_val = df2_train.iloc[test_idx]\n",
    "    df2_train_final = df2_train.iloc[train_idx]"
   ]
  },
  {
   "cell_type": "code",
   "execution_count": null,
   "metadata": {},
   "outputs": [],
   "source": [
    "Counter(df2_test.subject)"
   ]
  },
  {
   "cell_type": "code",
   "execution_count": null,
   "metadata": {},
   "outputs": [],
   "source": [
    "df_train = df1_train_final.append(df2_train_final, ignore_index=True)\n",
    "df_val = df1_val.append(df2_val, ignore_index=True)\n",
    "df_test = df1_test.append(df2_test, ignore_index=True)"
   ]
  },
  {
   "cell_type": "code",
   "execution_count": null,
   "metadata": {},
   "outputs": [],
   "source": [
    "df_train.to_csv('data/train.csv', index=False)\n",
    "df_val.to_csv('data/val.csv', index=False)\n",
    "df_test.to_csv('data/test.csv', index=False)"
   ]
  },
  {
   "cell_type": "code",
   "execution_count": null,
   "metadata": {},
   "outputs": [],
   "source": [
    "all_images = glob.glob('data/*/*/*/*.jpg')"
   ]
  },
  {
   "cell_type": "code",
   "execution_count": null,
   "metadata": {},
   "outputs": [],
   "source": [
    "len(all_images)"
   ]
  },
  {
   "cell_type": "code",
   "execution_count": null,
   "metadata": {},
   "outputs": [],
   "source": [
    "all_images.sort()"
   ]
  },
  {
   "cell_type": "code",
   "execution_count": null,
   "metadata": {},
   "outputs": [],
   "source": [
    "df_images = list(df_train.image_path) + list(df_val.image_path) + list(df_test.image_path)"
   ]
  },
  {
   "cell_type": "code",
   "execution_count": null,
   "metadata": {},
   "outputs": [],
   "source": [
    "len(df_images)"
   ]
  },
  {
   "cell_type": "code",
   "execution_count": null,
   "metadata": {},
   "outputs": [],
   "source": [
    "df_images.sort()"
   ]
  },
  {
   "cell_type": "code",
   "execution_count": null,
   "metadata": {},
   "outputs": [],
   "source": [
    "for img1, img2 in tqdm(zip(all_images, df_images)):\n",
    "    if img1 != img2:\n",
    "        print('Error!')"
   ]
  },
  {
   "cell_type": "code",
   "execution_count": null,
   "metadata": {},
   "outputs": [],
   "source": []
  }
 ],
 "metadata": {
  "kernelspec": {
   "display_name": "venv",
   "language": "python",
   "name": "venv"
  },
  "language_info": {
   "codemirror_mode": {
    "name": "ipython",
    "version": 3
   },
   "file_extension": ".py",
   "mimetype": "text/x-python",
   "name": "python",
   "nbconvert_exporter": "python",
   "pygments_lexer": "ipython3",
   "version": "3.8.0"
  }
 },
 "nbformat": 4,
 "nbformat_minor": 4
}
