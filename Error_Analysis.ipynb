{
  "nbformat": 4,
  "nbformat_minor": 0,
  "metadata": {
    "colab": {
      "name": "Error_Analysis.ipynb",
      "provenance": []
    },
    "kernelspec": {
      "name": "python3",
      "display_name": "Python 3"
    },
    "language_info": {
      "name": "python"
    },
    "accelerator": "GPU",
    "widgets": {
      "application/vnd.jupyter.widget-state+json": {
        "9d02e4c0bfb24f97b85fdd9447d65b8f": {
          "model_module": "@jupyter-widgets/controls",
          "model_name": "HBoxModel",
          "model_module_version": "1.5.0",
          "state": {
            "_view_name": "HBoxView",
            "_dom_classes": [],
            "_model_name": "HBoxModel",
            "_view_module": "@jupyter-widgets/controls",
            "_model_module_version": "1.5.0",
            "_view_count": null,
            "_view_module_version": "1.5.0",
            "box_style": "",
            "layout": "IPY_MODEL_63ff6b465c564e90b79ad7ce87175ffa",
            "_model_module": "@jupyter-widgets/controls",
            "children": [
              "IPY_MODEL_0534a0a0cad94055baa7777819834d3f",
              "IPY_MODEL_90c82c6c9a854e968164ec151e3d93b9",
              "IPY_MODEL_ff77b00dc75241c7adec0a6e5695cd50"
            ]
          }
        },
        "63ff6b465c564e90b79ad7ce87175ffa": {
          "model_module": "@jupyter-widgets/base",
          "model_name": "LayoutModel",
          "model_module_version": "1.2.0",
          "state": {
            "_view_name": "LayoutView",
            "grid_template_rows": null,
            "right": null,
            "justify_content": null,
            "_view_module": "@jupyter-widgets/base",
            "overflow": null,
            "_model_module_version": "1.2.0",
            "_view_count": null,
            "flex_flow": "row wrap",
            "width": "100%",
            "min_width": null,
            "border": null,
            "align_items": null,
            "bottom": null,
            "_model_module": "@jupyter-widgets/base",
            "top": null,
            "grid_column": null,
            "overflow_y": null,
            "overflow_x": null,
            "grid_auto_flow": null,
            "grid_area": null,
            "grid_template_columns": null,
            "flex": null,
            "_model_name": "LayoutModel",
            "justify_items": null,
            "grid_row": null,
            "max_height": null,
            "align_content": null,
            "visibility": null,
            "align_self": null,
            "height": null,
            "min_height": null,
            "padding": null,
            "grid_auto_rows": null,
            "grid_gap": null,
            "max_width": null,
            "order": null,
            "_view_module_version": "1.2.0",
            "grid_template_areas": null,
            "object_position": null,
            "object_fit": null,
            "grid_auto_columns": null,
            "margin": null,
            "display": "inline-flex",
            "left": null
          }
        },
        "0534a0a0cad94055baa7777819834d3f": {
          "model_module": "@jupyter-widgets/controls",
          "model_name": "HTMLModel",
          "model_module_version": "1.5.0",
          "state": {
            "_view_name": "HTMLView",
            "style": "IPY_MODEL_58ec95de401f4b7f9b676b87cd0d730d",
            "_dom_classes": [],
            "description": "",
            "_model_name": "HTMLModel",
            "placeholder": "​",
            "_view_module": "@jupyter-widgets/controls",
            "_model_module_version": "1.5.0",
            "value": "Predicting:  97%",
            "_view_count": null,
            "_view_module_version": "1.5.0",
            "description_tooltip": null,
            "_model_module": "@jupyter-widgets/controls",
            "layout": "IPY_MODEL_0386532582494a48973d15ce8ea75a98"
          }
        },
        "90c82c6c9a854e968164ec151e3d93b9": {
          "model_module": "@jupyter-widgets/controls",
          "model_name": "FloatProgressModel",
          "model_module_version": "1.5.0",
          "state": {
            "_view_name": "ProgressView",
            "style": "IPY_MODEL_47d979b69940436f8beff33b69d16586",
            "_dom_classes": [],
            "description": "",
            "_model_name": "FloatProgressModel",
            "bar_style": "danger",
            "max": 1,
            "_view_module": "@jupyter-widgets/controls",
            "_model_module_version": "1.5.0",
            "value": 1,
            "_view_count": null,
            "_view_module_version": "1.5.0",
            "orientation": "horizontal",
            "min": 0,
            "description_tooltip": null,
            "_model_module": "@jupyter-widgets/controls",
            "layout": "IPY_MODEL_b3ea848bbfa747469e0060359b116714"
          }
        },
        "ff77b00dc75241c7adec0a6e5695cd50": {
          "model_module": "@jupyter-widgets/controls",
          "model_name": "HTMLModel",
          "model_module_version": "1.5.0",
          "state": {
            "_view_name": "HTMLView",
            "style": "IPY_MODEL_e03faa91e4384473abfe35ab77aa0581",
            "_dom_classes": [],
            "description": "",
            "_model_name": "HTMLModel",
            "placeholder": "​",
            "_view_module": "@jupyter-widgets/controls",
            "_model_module_version": "1.5.0",
            "value": " 220/226 [51:00&lt;01:23, 13.91s/it]",
            "_view_count": null,
            "_view_module_version": "1.5.0",
            "description_tooltip": null,
            "_model_module": "@jupyter-widgets/controls",
            "layout": "IPY_MODEL_1bc68407b5c44170a1ab6149f72e6f20"
          }
        },
        "58ec95de401f4b7f9b676b87cd0d730d": {
          "model_module": "@jupyter-widgets/controls",
          "model_name": "DescriptionStyleModel",
          "model_module_version": "1.5.0",
          "state": {
            "_view_name": "StyleView",
            "_model_name": "DescriptionStyleModel",
            "description_width": "",
            "_view_module": "@jupyter-widgets/base",
            "_model_module_version": "1.5.0",
            "_view_count": null,
            "_view_module_version": "1.2.0",
            "_model_module": "@jupyter-widgets/controls"
          }
        },
        "0386532582494a48973d15ce8ea75a98": {
          "model_module": "@jupyter-widgets/base",
          "model_name": "LayoutModel",
          "model_module_version": "1.2.0",
          "state": {
            "_view_name": "LayoutView",
            "grid_template_rows": null,
            "right": null,
            "justify_content": null,
            "_view_module": "@jupyter-widgets/base",
            "overflow": null,
            "_model_module_version": "1.2.0",
            "_view_count": null,
            "flex_flow": null,
            "width": null,
            "min_width": null,
            "border": null,
            "align_items": null,
            "bottom": null,
            "_model_module": "@jupyter-widgets/base",
            "top": null,
            "grid_column": null,
            "overflow_y": null,
            "overflow_x": null,
            "grid_auto_flow": null,
            "grid_area": null,
            "grid_template_columns": null,
            "flex": null,
            "_model_name": "LayoutModel",
            "justify_items": null,
            "grid_row": null,
            "max_height": null,
            "align_content": null,
            "visibility": null,
            "align_self": null,
            "height": null,
            "min_height": null,
            "padding": null,
            "grid_auto_rows": null,
            "grid_gap": null,
            "max_width": null,
            "order": null,
            "_view_module_version": "1.2.0",
            "grid_template_areas": null,
            "object_position": null,
            "object_fit": null,
            "grid_auto_columns": null,
            "margin": null,
            "display": null,
            "left": null
          }
        },
        "47d979b69940436f8beff33b69d16586": {
          "model_module": "@jupyter-widgets/controls",
          "model_name": "ProgressStyleModel",
          "model_module_version": "1.5.0",
          "state": {
            "_view_name": "StyleView",
            "_model_name": "ProgressStyleModel",
            "description_width": "",
            "_view_module": "@jupyter-widgets/base",
            "_model_module_version": "1.5.0",
            "_view_count": null,
            "_view_module_version": "1.2.0",
            "bar_color": null,
            "_model_module": "@jupyter-widgets/controls"
          }
        },
        "b3ea848bbfa747469e0060359b116714": {
          "model_module": "@jupyter-widgets/base",
          "model_name": "LayoutModel",
          "model_module_version": "1.2.0",
          "state": {
            "_view_name": "LayoutView",
            "grid_template_rows": null,
            "right": null,
            "justify_content": null,
            "_view_module": "@jupyter-widgets/base",
            "overflow": null,
            "_model_module_version": "1.2.0",
            "_view_count": null,
            "flex_flow": null,
            "width": null,
            "min_width": null,
            "border": null,
            "align_items": null,
            "bottom": null,
            "_model_module": "@jupyter-widgets/base",
            "top": null,
            "grid_column": null,
            "overflow_y": null,
            "overflow_x": null,
            "grid_auto_flow": null,
            "grid_area": null,
            "grid_template_columns": null,
            "flex": "2",
            "_model_name": "LayoutModel",
            "justify_items": null,
            "grid_row": null,
            "max_height": null,
            "align_content": null,
            "visibility": null,
            "align_self": null,
            "height": null,
            "min_height": null,
            "padding": null,
            "grid_auto_rows": null,
            "grid_gap": null,
            "max_width": null,
            "order": null,
            "_view_module_version": "1.2.0",
            "grid_template_areas": null,
            "object_position": null,
            "object_fit": null,
            "grid_auto_columns": null,
            "margin": null,
            "display": null,
            "left": null
          }
        },
        "e03faa91e4384473abfe35ab77aa0581": {
          "model_module": "@jupyter-widgets/controls",
          "model_name": "DescriptionStyleModel",
          "model_module_version": "1.5.0",
          "state": {
            "_view_name": "StyleView",
            "_model_name": "DescriptionStyleModel",
            "description_width": "",
            "_view_module": "@jupyter-widgets/base",
            "_model_module_version": "1.5.0",
            "_view_count": null,
            "_view_module_version": "1.2.0",
            "_model_module": "@jupyter-widgets/controls"
          }
        },
        "1bc68407b5c44170a1ab6149f72e6f20": {
          "model_module": "@jupyter-widgets/base",
          "model_name": "LayoutModel",
          "model_module_version": "1.2.0",
          "state": {
            "_view_name": "LayoutView",
            "grid_template_rows": null,
            "right": null,
            "justify_content": null,
            "_view_module": "@jupyter-widgets/base",
            "overflow": null,
            "_model_module_version": "1.2.0",
            "_view_count": null,
            "flex_flow": null,
            "width": null,
            "min_width": null,
            "border": null,
            "align_items": null,
            "bottom": null,
            "_model_module": "@jupyter-widgets/base",
            "top": null,
            "grid_column": null,
            "overflow_y": null,
            "overflow_x": null,
            "grid_auto_flow": null,
            "grid_area": null,
            "grid_template_columns": null,
            "flex": null,
            "_model_name": "LayoutModel",
            "justify_items": null,
            "grid_row": null,
            "max_height": null,
            "align_content": null,
            "visibility": null,
            "align_self": null,
            "height": null,
            "min_height": null,
            "padding": null,
            "grid_auto_rows": null,
            "grid_gap": null,
            "max_width": null,
            "order": null,
            "_view_module_version": "1.2.0",
            "grid_template_areas": null,
            "object_position": null,
            "object_fit": null,
            "grid_auto_columns": null,
            "margin": null,
            "display": null,
            "left": null
          }
        }
      }
    }
  },
  "cells": [
    {
      "cell_type": "code",
      "execution_count": 3,
      "metadata": {
        "colab": {
          "base_uri": "https://localhost:8080/"
        },
        "id": "lC7RaqDQZRY7",
        "outputId": "6da8f95d-221f-499a-b108-bed7a95dac84"
      },
      "outputs": [
        {
          "output_type": "stream",
          "name": "stdout",
          "text": [
            "Mounted at /content/drive\n"
          ]
        }
      ],
      "source": [
        "from google.colab import drive\n",
        "drive.mount('/content/drive')\n",
        "PATH = '/content/drive/MyDrive/mobile_net_t0-val_acc=0.7706.ckpt'\n"
      ]
    },
    {
      "cell_type": "code",
      "source": [
        "!pip install  pytorch_lightning torchmetrics"
      ],
      "metadata": {
        "id": "0P5aMkSKfFTK"
      },
      "execution_count": null,
      "outputs": []
    },
    {
      "cell_type": "code",
      "source": [
        "import pandas as pd\n",
        "import seaborn as sns\n",
        "import matplotlib.pyplot as plt\n",
        "import torch\n",
        "import torch.nn as nn\n",
        "import torchvision\n",
        "import torchmetrics\n",
        "import pytorch_lightning as pl\n",
        "from sklearn.metrics import accuracy_score, ConfusionMatrixDisplay\n",
        "import os\n",
        "import glob\n",
        "import shutil\n",
        "\n",
        "sns.set()"
      ],
      "metadata": {
        "id": "vYfvQcppbvB_"
      },
      "execution_count": 5,
      "outputs": []
    },
    {
      "cell_type": "code",
      "source": [
        "class Model(pl.LightningModule):\n",
        "    def __init__(self, output_units, dropout, learning_rate, freeze_base=False):\n",
        "        super().__init__()\n",
        "        self.base_model = torchvision.models.mobilenet_v2(pretrained=True)\n",
        "\n",
        "        if freeze_base:\n",
        "            for layer in self.base_model.features:\n",
        "                for param in layer:\n",
        "                    param.requires_grad = False\n",
        "\n",
        "        self.base_model.classifier[0] = nn.Dropout(p=dropout)\n",
        "        self.base_model.classifier[1] = torch.nn.Linear(in_features=1280, out_features=output_units)\n",
        "\n",
        "        self.criterion = nn.CrossEntropyLoss()\n",
        "        self.train_acc = torchmetrics.Accuracy()\n",
        "        self.val_acc = torchmetrics.Accuracy()\n",
        "\n",
        "        self.learning_rate = learning_rate\n",
        "        self.save_hyperparameters()\n",
        "\n",
        "    def forward(self, input_data):\n",
        "        return self.base_model(input_data)\n",
        "\n",
        "    def training_step(self, batch, batch_nb):\n",
        "        input_data, targets = batch\n",
        "        preds = self(input_data)\n",
        "        loss = self.criterion(preds, targets)\n",
        "        self.log('train_loss', loss)\n",
        "        self.train_acc(preds, targets)\n",
        "        self.log('train_acc', self.train_acc, on_step=True, on_epoch=False, prog_bar=True)\n",
        "\n",
        "        return loss\n",
        "\n",
        "    def validation_step(self, batch, batch_nb):\n",
        "        input_data, targets = batch\n",
        "        preds = self(input_data)\n",
        "        loss = self.criterion(preds, targets)\n",
        "        self.log('val_loss', loss, on_step=False, on_epoch=True, prog_bar=True)\n",
        "        self.val_acc(preds, targets)\n",
        "        self.log('val_acc', self.val_acc, on_step=False, on_epoch=True, prog_bar=True)\n",
        "\n",
        "    def test_step(self, batch, batch_nb):\n",
        "        self.validation_step(batch, batch_nb)\n",
        "\n",
        "    def predict_step(self, batch, batch_nb):\n",
        "        input_data, targets = batch\n",
        "        preds = self(input_data)\n",
        "        return torch.argmax(preds, dim=1)\n",
        "\n",
        "    def configure_optimizers(self):\n",
        "        return torch.optim.Adam(self.parameters(), lr=self.learning_rate)\n"
      ],
      "metadata": {
        "id": "7FQ1n2o4b2ll"
      },
      "execution_count": 6,
      "outputs": []
    },
    {
      "cell_type": "code",
      "source": [
        "#Load checkpoint\n",
        "NUM_CLASSES = 10\n",
        "#Load Trained Model\n",
        "model = Model.load_from_checkpoint(PATH)\n",
        "\n",
        "model.eval()"
      ],
      "metadata": {
        "id": "PWlFqWoHdNbA"
      },
      "execution_count": null,
      "outputs": []
    },
    {
      "cell_type": "code",
      "source": [
        "import torch.nn as nn\n",
        "import torch.optim as optim  \n",
        "import torchvision.transforms as transforms\n",
        "import torchvision\n",
        "import os\n",
        "from torchvision.io import decode_jpeg\n",
        "import pandas as pd\n",
        "import torch.nn.functional as F\n",
        "from torch.utils.data import Dataset, DataLoader\n",
        "from torchvision import datasets,models\n",
        "from torchvision.transforms import ToTensor\n",
        "import matplotlib.pyplot as plt\n",
        "from torchvision.io import read_image\n",
        "\n",
        "NUM_CLASSES = 10\n",
        "BATCH_SIZE = 32\n",
        "path = '/content/drive/MyDrive/dataset/'\n",
        "os.chdir(path)\n",
        "class CreateDataset(Dataset):\n",
        "    def __init__(self, df,transform=False):\n",
        "        self.df = df\n",
        "        self.transform = transform\n",
        "\n",
        "    def __len__(self):\n",
        "        return len(self.df)\n",
        "\n",
        "    def __getitem__(self, index):   \n",
        "        img_path = self.df.iloc[index, 0]\n",
        "        image = read_image(img_path) / 255.0\n",
        "        #print('/content/drive/MyDrive/dataset/'+img_path)\n",
        "        label = self.df.iloc[index, 1]\n",
        "\n",
        "        if self.transform:\n",
        "            image = self.transform(image)\n",
        "\n",
        "        return image, label\n",
        "################\n",
        "transformers = transforms.Compose([\n",
        "    transforms.Resize((224, 224)),\n",
        "    transforms.Normalize(mean=[0.485, 0.456, 0.406], std=[0.229, 0.224, 0.225]),\n",
        "])\n",
        "\n",
        "train_df = pd.read_csv(\"data/train.csv\")\n",
        "val_df = pd.read_csv(\"data/val.csv\")\n",
        "test_df = pd.read_csv(\"data/test.csv\")\n",
        "#print(val_df.head)\n",
        "\n",
        "train_dataset=CreateDataset(train_df, transformers)\n",
        "test_dataset=CreateDataset(test_df, transformers)\n",
        "val_dataset=CreateDataset(val_df, transformers)\n",
        "#####\n",
        "def data_loader(batch_size):\n",
        "  train_dataloader = DataLoader(dataset=train_dataset, batch_size=batch_size, shuffle=True)\n",
        "  test_dataloader = DataLoader(dataset=test_dataset, batch_size=batch_size,shuffle=False)\n",
        "  val_dataloader = DataLoader(dataset=val_dataset, batch_size=batch_size,shuffle=False)\n",
        "  return train_dataloader, test_dataloader, val_dataloader"
      ],
      "metadata": {
        "id": "uRaUah150PrH"
      },
      "execution_count": 8,
      "outputs": []
    },
    {
      "cell_type": "code",
      "source": [
        "from pytorch_lightning import Trainer\n",
        "train_dataloader, test_dataloader, val_dataloader = data_loader(BATCH_SIZE)\n",
        "trainer = pl.Trainer(gpus=1)\n",
        "y_pred = trainer.predict(model , dataloaders=val_dataloader)\n",
        "#trainer.test(model ,test_dataloaders=test_dataloader)\n",
        "\n"
      ],
      "metadata": {
        "colab": {
          "base_uri": "https://localhost:8080/",
          "height": 118,
          "referenced_widgets": [
            "9d02e4c0bfb24f97b85fdd9447d65b8f",
            "63ff6b465c564e90b79ad7ce87175ffa",
            "0534a0a0cad94055baa7777819834d3f",
            "90c82c6c9a854e968164ec151e3d93b9",
            "ff77b00dc75241c7adec0a6e5695cd50",
            "58ec95de401f4b7f9b676b87cd0d730d",
            "0386532582494a48973d15ce8ea75a98",
            "47d979b69940436f8beff33b69d16586",
            "b3ea848bbfa747469e0060359b116714",
            "e03faa91e4384473abfe35ab77aa0581",
            "1bc68407b5c44170a1ab6149f72e6f20"
          ]
        },
        "id": "M0FpEQRrlLw-",
        "outputId": "7ed97b84-a44a-436f-fcdc-3080571f5d61"
      },
      "execution_count": 9,
      "outputs": [
        {
          "output_type": "stream",
          "name": "stderr",
          "text": [
            "GPU available: True, used: True\n",
            "TPU available: False, using: 0 TPU cores\n",
            "IPU available: False, using: 0 IPUs\n",
            "LOCAL_RANK: 0 - CUDA_VISIBLE_DEVICES: [0]\n"
          ]
        },
        {
          "output_type": "display_data",
          "data": {
            "application/vnd.jupyter.widget-view+json": {
              "model_id": "9d02e4c0bfb24f97b85fdd9447d65b8f",
              "version_minor": 0,
              "version_major": 2
            },
            "text/plain": [
              "Predicting: 0it [00:00, ?it/s]"
            ]
          },
          "metadata": {}
        }
      ]
    },
    {
      "cell_type": "code",
      "source": [
        "y_pred_all = []\n",
        "for y in y_pred:\n",
        "  y_pred_all.extend(y.cpu().tolist())"
      ],
      "metadata": {
        "id": "0dDlzzNCIQtu"
      },
      "execution_count": 10,
      "outputs": []
    },
    {
      "cell_type": "code",
      "source": [
        "val_df['pred'] = y_pred_all\n",
        "\n",
        "val_df.to_csv('val_pred.csv', index=False)\n"
      ],
      "metadata": {
        "id": "YosvnLe9IcSu"
      },
      "execution_count": 11,
      "outputs": []
    },
    {
      "cell_type": "code",
      "source": [
        "val_pred_df = pd.read_csv('val_pred.csv')\n",
        "val_pred_df.head()"
      ],
      "metadata": {
        "colab": {
          "base_uri": "https://localhost:8080/",
          "height": 206
        },
        "id": "b9aclL5GItLc",
        "outputId": "dc98f9bc-7069-4bba-b468-12ecb8621486"
      },
      "execution_count": 12,
      "outputs": [
        {
          "output_type": "execute_result",
          "data": {
            "text/html": [
              "\n",
              "  <div id=\"df-0e822f49-2447-4825-8788-26a4668422de\">\n",
              "    <div class=\"colab-df-container\">\n",
              "      <div>\n",
              "<style scoped>\n",
              "    .dataframe tbody tr th:only-of-type {\n",
              "        vertical-align: middle;\n",
              "    }\n",
              "\n",
              "    .dataframe tbody tr th {\n",
              "        vertical-align: top;\n",
              "    }\n",
              "\n",
              "    .dataframe thead th {\n",
              "        text-align: right;\n",
              "    }\n",
              "</style>\n",
              "<table border=\"1\" class=\"dataframe\">\n",
              "  <thead>\n",
              "    <tr style=\"text-align: right;\">\n",
              "      <th></th>\n",
              "      <th>image_path</th>\n",
              "      <th>label</th>\n",
              "      <th>subject</th>\n",
              "      <th>source</th>\n",
              "      <th>pred</th>\n",
              "    </tr>\n",
              "  </thead>\n",
              "  <tbody>\n",
              "    <tr>\n",
              "      <th>0</th>\n",
              "      <td>data/Camera 1/train/c0/1589.jpg</td>\n",
              "      <td>0</td>\n",
              "      <td>p11</td>\n",
              "      <td>Camera 1</td>\n",
              "      <td>0</td>\n",
              "    </tr>\n",
              "    <tr>\n",
              "      <th>1</th>\n",
              "      <td>data/Camera 1/train/c0/1590.jpg</td>\n",
              "      <td>0</td>\n",
              "      <td>p11</td>\n",
              "      <td>Camera 1</td>\n",
              "      <td>0</td>\n",
              "    </tr>\n",
              "    <tr>\n",
              "      <th>2</th>\n",
              "      <td>data/Camera 1/train/c0/1592.jpg</td>\n",
              "      <td>0</td>\n",
              "      <td>p11</td>\n",
              "      <td>Camera 1</td>\n",
              "      <td>0</td>\n",
              "    </tr>\n",
              "    <tr>\n",
              "      <th>3</th>\n",
              "      <td>data/Camera 1/train/c0/1593.jpg</td>\n",
              "      <td>0</td>\n",
              "      <td>p11</td>\n",
              "      <td>Camera 1</td>\n",
              "      <td>0</td>\n",
              "    </tr>\n",
              "    <tr>\n",
              "      <th>4</th>\n",
              "      <td>data/Camera 1/train/c0/1594.jpg</td>\n",
              "      <td>0</td>\n",
              "      <td>p11</td>\n",
              "      <td>Camera 1</td>\n",
              "      <td>0</td>\n",
              "    </tr>\n",
              "  </tbody>\n",
              "</table>\n",
              "</div>\n",
              "      <button class=\"colab-df-convert\" onclick=\"convertToInteractive('df-0e822f49-2447-4825-8788-26a4668422de')\"\n",
              "              title=\"Convert this dataframe to an interactive table.\"\n",
              "              style=\"display:none;\">\n",
              "        \n",
              "  <svg xmlns=\"http://www.w3.org/2000/svg\" height=\"24px\"viewBox=\"0 0 24 24\"\n",
              "       width=\"24px\">\n",
              "    <path d=\"M0 0h24v24H0V0z\" fill=\"none\"/>\n",
              "    <path d=\"M18.56 5.44l.94 2.06.94-2.06 2.06-.94-2.06-.94-.94-2.06-.94 2.06-2.06.94zm-11 1L8.5 8.5l.94-2.06 2.06-.94-2.06-.94L8.5 2.5l-.94 2.06-2.06.94zm10 10l.94 2.06.94-2.06 2.06-.94-2.06-.94-.94-2.06-.94 2.06-2.06.94z\"/><path d=\"M17.41 7.96l-1.37-1.37c-.4-.4-.92-.59-1.43-.59-.52 0-1.04.2-1.43.59L10.3 9.45l-7.72 7.72c-.78.78-.78 2.05 0 2.83L4 21.41c.39.39.9.59 1.41.59.51 0 1.02-.2 1.41-.59l7.78-7.78 2.81-2.81c.8-.78.8-2.07 0-2.86zM5.41 20L4 18.59l7.72-7.72 1.47 1.35L5.41 20z\"/>\n",
              "  </svg>\n",
              "      </button>\n",
              "      \n",
              "  <style>\n",
              "    .colab-df-container {\n",
              "      display:flex;\n",
              "      flex-wrap:wrap;\n",
              "      gap: 12px;\n",
              "    }\n",
              "\n",
              "    .colab-df-convert {\n",
              "      background-color: #E8F0FE;\n",
              "      border: none;\n",
              "      border-radius: 50%;\n",
              "      cursor: pointer;\n",
              "      display: none;\n",
              "      fill: #1967D2;\n",
              "      height: 32px;\n",
              "      padding: 0 0 0 0;\n",
              "      width: 32px;\n",
              "    }\n",
              "\n",
              "    .colab-df-convert:hover {\n",
              "      background-color: #E2EBFA;\n",
              "      box-shadow: 0px 1px 2px rgba(60, 64, 67, 0.3), 0px 1px 3px 1px rgba(60, 64, 67, 0.15);\n",
              "      fill: #174EA6;\n",
              "    }\n",
              "\n",
              "    [theme=dark] .colab-df-convert {\n",
              "      background-color: #3B4455;\n",
              "      fill: #D2E3FC;\n",
              "    }\n",
              "\n",
              "    [theme=dark] .colab-df-convert:hover {\n",
              "      background-color: #434B5C;\n",
              "      box-shadow: 0px 1px 3px 1px rgba(0, 0, 0, 0.15);\n",
              "      filter: drop-shadow(0px 1px 2px rgba(0, 0, 0, 0.3));\n",
              "      fill: #FFFFFF;\n",
              "    }\n",
              "  </style>\n",
              "\n",
              "      <script>\n",
              "        const buttonEl =\n",
              "          document.querySelector('#df-0e822f49-2447-4825-8788-26a4668422de button.colab-df-convert');\n",
              "        buttonEl.style.display =\n",
              "          google.colab.kernel.accessAllowed ? 'block' : 'none';\n",
              "\n",
              "        async function convertToInteractive(key) {\n",
              "          const element = document.querySelector('#df-0e822f49-2447-4825-8788-26a4668422de');\n",
              "          const dataTable =\n",
              "            await google.colab.kernel.invokeFunction('convertToInteractive',\n",
              "                                                     [key], {});\n",
              "          if (!dataTable) return;\n",
              "\n",
              "          const docLinkHtml = 'Like what you see? Visit the ' +\n",
              "            '<a target=\"_blank\" href=https://colab.research.google.com/notebooks/data_table.ipynb>data table notebook</a>'\n",
              "            + ' to learn more about interactive tables.';\n",
              "          element.innerHTML = '';\n",
              "          dataTable['output_type'] = 'display_data';\n",
              "          await google.colab.output.renderOutput(dataTable, element);\n",
              "          const docLink = document.createElement('div');\n",
              "          docLink.innerHTML = docLinkHtml;\n",
              "          element.appendChild(docLink);\n",
              "        }\n",
              "      </script>\n",
              "    </div>\n",
              "  </div>\n",
              "  "
            ],
            "text/plain": [
              "                        image_path  label subject    source  pred\n",
              "0  data/Camera 1/train/c0/1589.jpg      0     p11  Camera 1     0\n",
              "1  data/Camera 1/train/c0/1590.jpg      0     p11  Camera 1     0\n",
              "2  data/Camera 1/train/c0/1592.jpg      0     p11  Camera 1     0\n",
              "3  data/Camera 1/train/c0/1593.jpg      0     p11  Camera 1     0\n",
              "4  data/Camera 1/train/c0/1594.jpg      0     p11  Camera 1     0"
            ]
          },
          "metadata": {},
          "execution_count": 12
        }
      ]
    },
    {
      "cell_type": "code",
      "source": [
        "from sklearn.metrics import accuracy_score, ConfusionMatrixDisplay\n",
        "\n",
        "accuracy_score(val_pred_df['label'], val_pred_df['pred'])"
      ],
      "metadata": {
        "colab": {
          "base_uri": "https://localhost:8080/"
        },
        "id": "RtGSc2QLJKzh",
        "outputId": "24e0122e-b2c4-44e8-e7ab-aafdd6b94a3f"
      },
      "execution_count": 13,
      "outputs": [
        {
          "output_type": "execute_result",
          "data": {
            "text/plain": [
              "0.7706167706167706"
            ]
          },
          "metadata": {},
          "execution_count": 13
        }
      ]
    },
    {
      "cell_type": "code",
      "source": [
        "labels = [\n",
        "    'safe driving',\n",
        "    'texting - right',\n",
        "    'talking on the phone - right',\n",
        "    'texting - left',\n",
        "    'talking on the phone - left',\n",
        "    'operating the radio',\n",
        "    'drinking',\n",
        "    'reaching behind',\n",
        "    'hair and makeup',\n",
        "    'talking to passenger'\n",
        "]\n",
        "\n",
        "fig, ax = plt.subplots(figsize=(10, 10))\n",
        "ConfusionMatrixDisplay.from_predictions(val_pred_df['label'], val_pred_df['pred'], \n",
        "                                        normalize='true', ax=ax, display_labels=labels,\n",
        "                                        xticks_rotation='vertical'\n",
        "                                       )\n",
        "ax.grid(False)\n",
        "plt.show()"
      ],
      "metadata": {
        "colab": {
          "base_uri": "https://localhost:8080/",
          "height": 704
        },
        "id": "Z4dAYoW2JTJt",
        "outputId": "a3f365e2-34f5-46ed-eb75-2db96428817d"
      },
      "execution_count": 14,
      "outputs": [
        {
          "output_type": "display_data",
          "data": {
            "image/png": "[encoded data removed]",
            "text/plain": [
              "<Figure size 720x720 with 2 Axes>"
            ]
          },
          "metadata": {}
        }
      ]
    },
    {
      "cell_type": "code",
      "source": [
        "val_pred_df['correct'] = (val_pred_df['label'] == val_pred_df['pred'])\n",
        "\n",
        "accuracy_per_class = val_pred_df.groupby(['label'])['correct'].mean()\n",
        "accuracy_per_class"
      ],
      "metadata": {
        "colab": {
          "base_uri": "https://localhost:8080/"
        },
        "id": "Kx7Ada4iJaJq",
        "outputId": "a6d6dbc8-9875-4e5c-ef90-13e12499cd4c"
      },
      "execution_count": 15,
      "outputs": [
        {
          "output_type": "execute_result",
          "data": {
            "text/plain": [
              "label\n",
              "0    0.712619\n",
              "1    0.658278\n",
              "2    0.670043\n",
              "3    0.773414\n",
              "4    0.867332\n",
              "5    0.953216\n",
              "6    0.875000\n",
              "7    0.939292\n",
              "8    0.687196\n",
              "9    0.652418\n",
              "Name: correct, dtype: float64"
            ]
          },
          "metadata": {},
          "execution_count": 15
        }
      ]
    },
    {
      "cell_type": "code",
      "source": [
        "sns.barplot(x=accuracy_per_class.index, y=accuracy_per_class)"
      ],
      "metadata": {
        "colab": {
          "base_uri": "https://localhost:8080/",
          "height": 306
        },
        "id": "AMxyrqDhJuPP",
        "outputId": "0116c257-400c-4bfc-dba6-3b637fe49166"
      },
      "execution_count": 16,
      "outputs": [
        {
          "output_type": "execute_result",
          "data": {
            "text/plain": [
              "<matplotlib.axes._subplots.AxesSubplot at 0x7f81e8e04a50>"
            ]
          },
          "metadata": {},
          "execution_count": 16
        },
        {
          "output_type": "display_data",
          "data": {
            "image/png": "[encoded data removed]",
            "text/plain": [
              "<Figure size 432x288 with 1 Axes>"
            ]
          },
          "metadata": {}
        }
      ]
    },
    {
      "cell_type": "code",
      "source": [
        "accuracy_per_subject = val_pred_df.groupby(['subject'], sort=True)['correct'].mean()\n",
        "subject_count = val_pred_df.groupby(['subject'], sort=True)['correct'].count()\n",
        "pd.DataFrame([subject_count, accuracy_per_subject])"
      ],
      "metadata": {
        "colab": {
          "base_uri": "https://localhost:8080/",
          "height": 112
        },
        "id": "fqMhn2XKJy6U",
        "outputId": "a8a6a2bb-efc2-4553-c834-8af07229cf93"
      },
      "execution_count": 17,
      "outputs": [
        {
          "output_type": "execute_result",
          "data": {
            "text/html": [
              "\n",
              "  <div id=\"df-5fd5b885-b00e-4c66-afae-e1944bd34aa3\">\n",
              "    <div class=\"colab-df-container\">\n",
              "      <div>\n",
              "<style scoped>\n",
              "    .dataframe tbody tr th:only-of-type {\n",
              "        vertical-align: middle;\n",
              "    }\n",
              "\n",
              "    .dataframe tbody tr th {\n",
              "        vertical-align: top;\n",
              "    }\n",
              "\n",
              "    .dataframe thead th {\n",
              "        text-align: right;\n",
              "    }\n",
              "</style>\n",
              "<table border=\"1\" class=\"dataframe\">\n",
              "  <thead>\n",
              "    <tr style=\"text-align: right;\">\n",
              "      <th>subject</th>\n",
              "      <th>p021</th>\n",
              "      <th>p024</th>\n",
              "      <th>p039</th>\n",
              "      <th>p042</th>\n",
              "      <th>p050</th>\n",
              "      <th>p11</th>\n",
              "      <th>p17</th>\n",
              "      <th>p27</th>\n",
              "      <th>p28</th>\n",
              "      <th>p29</th>\n",
              "      <th>p34</th>\n",
              "      <th>p35</th>\n",
              "      <th>p36</th>\n",
              "      <th>p41</th>\n",
              "    </tr>\n",
              "  </thead>\n",
              "  <tbody>\n",
              "    <tr>\n",
              "      <th>correct</th>\n",
              "      <td>1237.000000</td>\n",
              "      <td>1226.000000</td>\n",
              "      <td>651.000000</td>\n",
              "      <td>591.000000</td>\n",
              "      <td>790.000000</td>\n",
              "      <td>269.000000</td>\n",
              "      <td>346.000000</td>\n",
              "      <td>335.000000</td>\n",
              "      <td>531.000000</td>\n",
              "      <td>439.000000</td>\n",
              "      <td>200.00</td>\n",
              "      <td>200.00</td>\n",
              "      <td>200.000</td>\n",
              "      <td>200.00</td>\n",
              "    </tr>\n",
              "    <tr>\n",
              "      <th>correct</th>\n",
              "      <td>0.870655</td>\n",
              "      <td>0.806688</td>\n",
              "      <td>0.794163</td>\n",
              "      <td>0.927242</td>\n",
              "      <td>0.850633</td>\n",
              "      <td>0.724907</td>\n",
              "      <td>0.713873</td>\n",
              "      <td>0.408955</td>\n",
              "      <td>0.774011</td>\n",
              "      <td>0.510251</td>\n",
              "      <td>0.81</td>\n",
              "      <td>0.62</td>\n",
              "      <td>0.705</td>\n",
              "      <td>0.58</td>\n",
              "    </tr>\n",
              "  </tbody>\n",
              "</table>\n",
              "</div>\n",
              "      <button class=\"colab-df-convert\" onclick=\"convertToInteractive('df-5fd5b885-b00e-4c66-afae-e1944bd34aa3')\"\n",
              "              title=\"Convert this dataframe to an interactive table.\"\n",
              "              style=\"display:none;\">\n",
              "        \n",
              "  <svg xmlns=\"http://www.w3.org/2000/svg\" height=\"24px\"viewBox=\"0 0 24 24\"\n",
              "       width=\"24px\">\n",
              "    <path d=\"M0 0h24v24H0V0z\" fill=\"none\"/>\n",
              "    <path d=\"M18.56 5.44l.94 2.06.94-2.06 2.06-.94-2.06-.94-.94-2.06-.94 2.06-2.06.94zm-11 1L8.5 8.5l.94-2.06 2.06-.94-2.06-.94L8.5 2.5l-.94 2.06-2.06.94zm10 10l.94 2.06.94-2.06 2.06-.94-2.06-.94-.94-2.06-.94 2.06-2.06.94z\"/><path d=\"M17.41 7.96l-1.37-1.37c-.4-.4-.92-.59-1.43-.59-.52 0-1.04.2-1.43.59L10.3 9.45l-7.72 7.72c-.78.78-.78 2.05 0 2.83L4 21.41c.39.39.9.59 1.41.59.51 0 1.02-.2 1.41-.59l7.78-7.78 2.81-2.81c.8-.78.8-2.07 0-2.86zM5.41 20L4 18.59l7.72-7.72 1.47 1.35L5.41 20z\"/>\n",
              "  </svg>\n",
              "      </button>\n",
              "      \n",
              "  <style>\n",
              "    .colab-df-container {\n",
              "      display:flex;\n",
              "      flex-wrap:wrap;\n",
              "      gap: 12px;\n",
              "    }\n",
              "\n",
              "    .colab-df-convert {\n",
              "      background-color: #E8F0FE;\n",
              "      border: none;\n",
              "      border-radius: 50%;\n",
              "      cursor: pointer;\n",
              "      display: none;\n",
              "      fill: #1967D2;\n",
              "      height: 32px;\n",
              "      padding: 0 0 0 0;\n",
              "      width: 32px;\n",
              "    }\n",
              "\n",
              "    .colab-df-convert:hover {\n",
              "      background-color: #E2EBFA;\n",
              "      box-shadow: 0px 1px 2px rgba(60, 64, 67, 0.3), 0px 1px 3px 1px rgba(60, 64, 67, 0.15);\n",
              "      fill: #174EA6;\n",
              "    }\n",
              "\n",
              "    [theme=dark] .colab-df-convert {\n",
              "      background-color: #3B4455;\n",
              "      fill: #D2E3FC;\n",
              "    }\n",
              "\n",
              "    [theme=dark] .colab-df-convert:hover {\n",
              "      background-color: #434B5C;\n",
              "      box-shadow: 0px 1px 3px 1px rgba(0, 0, 0, 0.15);\n",
              "      filter: drop-shadow(0px 1px 2px rgba(0, 0, 0, 0.3));\n",
              "      fill: #FFFFFF;\n",
              "    }\n",
              "  </style>\n",
              "\n",
              "      <script>\n",
              "        const buttonEl =\n",
              "          document.querySelector('#df-5fd5b885-b00e-4c66-afae-e1944bd34aa3 button.colab-df-convert');\n",
              "        buttonEl.style.display =\n",
              "          google.colab.kernel.accessAllowed ? 'block' : 'none';\n",
              "\n",
              "        async function convertToInteractive(key) {\n",
              "          const element = document.querySelector('#df-5fd5b885-b00e-4c66-afae-e1944bd34aa3');\n",
              "          const dataTable =\n",
              "            await google.colab.kernel.invokeFunction('convertToInteractive',\n",
              "                                                     [key], {});\n",
              "          if (!dataTable) return;\n",
              "\n",
              "          const docLinkHtml = 'Like what you see? Visit the ' +\n",
              "            '<a target=\"_blank\" href=https://colab.research.google.com/notebooks/data_table.ipynb>data table notebook</a>'\n",
              "            + ' to learn more about interactive tables.';\n",
              "          element.innerHTML = '';\n",
              "          dataTable['output_type'] = 'display_data';\n",
              "          await google.colab.output.renderOutput(dataTable, element);\n",
              "          const docLink = document.createElement('div');\n",
              "          docLink.innerHTML = docLinkHtml;\n",
              "          element.appendChild(docLink);\n",
              "        }\n",
              "      </script>\n",
              "    </div>\n",
              "  </div>\n",
              "  "
            ],
            "text/plain": [
              "subject         p021         p024        p039  ...     p35      p36     p41\n",
              "correct  1237.000000  1226.000000  651.000000  ...  200.00  200.000  200.00\n",
              "correct     0.870655     0.806688    0.794163  ...    0.62    0.705    0.58\n",
              "\n",
              "[2 rows x 14 columns]"
            ]
          },
          "metadata": {},
          "execution_count": 17
        }
      ]
    },
    {
      "cell_type": "code",
      "source": [
        "plt.figure(figsize=(15, 10))\n",
        "sns.barplot(x=accuracy_per_subject.index, y=accuracy_per_subject)\n",
        "plt.show()"
      ],
      "metadata": {
        "colab": {
          "base_uri": "https://localhost:8080/",
          "height": 611
        },
        "id": "_QdeYtpNJ4i2",
        "outputId": "197187a4-d2d2-4978-d93f-bab5e4339d1d"
      },
      "execution_count": 18,
      "outputs": [
        {
          "output_type": "display_data",
          "data": {
            "image/png": "[encoded data removed]",
            "text/plain": [
              "<Figure size 1080x720 with 1 Axes>"
            ]
          },
          "metadata": {}
        }
      ]
    },
    {
      "cell_type": "code",
      "source": [
        "accuracy_per_source = val_pred_df.groupby(['source'])['correct'].mean()\n",
        "accuracy_per_source"
      ],
      "metadata": {
        "colab": {
          "base_uri": "https://localhost:8080/"
        },
        "id": "zCu-YmMFJ9ZB",
        "outputId": "74f61e91-2f6c-4cfe-edd6-2d48ea7e56b2"
      },
      "execution_count": 19,
      "outputs": [
        {
          "output_type": "execute_result",
          "data": {
            "text/plain": [
              "source\n",
              "Camera 1     0.632292\n",
              "Camera 2     0.678750\n",
              "StateFarm    0.846051\n",
              "Name: correct, dtype: float64"
            ]
          },
          "metadata": {},
          "execution_count": 19
        }
      ]
    },
    {
      "cell_type": "code",
      "source": [
        "sns.barplot(x=accuracy_per_source.index, y=accuracy_per_source)\n",
        "plt.show()"
      ],
      "metadata": {
        "colab": {
          "base_uri": "https://localhost:8080/",
          "height": 285
        },
        "id": "VMDGesPcKA9o",
        "outputId": "272d8232-7c53-49a0-af84-72c6a4a9bab4"
      },
      "execution_count": 20,
      "outputs": [
        {
          "output_type": "display_data",
          "data": {
            "image/png": "[encoded data removed]",
            "text/plain": [
              "<Figure size 432x288 with 1 Axes>"
            ]
          },
          "metadata": {}
        }
      ]
    },
    {
      "cell_type": "code",
      "source": [
        ""
      ],
      "metadata": {
        "id": "J65hRnvOb37H"
      },
      "execution_count": 31,
      "outputs": []
    },
    {
      "cell_type": "code",
      "source": [
        "import glob\n",
        "import shutil\n",
        "import os\n",
        "\n",
        "src_dir = '/content/drive/MyDrive/dataset/'\n",
        "#os.chdir(path)\n",
        "dst_dir = \"/content/drive/MyDrive/dataset/MissClassified\"\n",
        "\n",
        "#val_pred_df[val_pred_df['correct'] == False]\n",
        "miss =val_pred_df[val_pred_df['correct'] == False]\n",
        "print(miss)\n",
        "for p in miss['image_path']:\n",
        "  for f in glob.iglob(os.path.join(src_dir,p )):\n",
        "    shutil.copy(f, dst_dir)\n"
      ],
      "metadata": {
        "colab": {
          "base_uri": "https://localhost:8080/"
        },
        "id": "fpSAlxTDcCif",
        "outputId": "b82d4dc0-ba5e-4536-e45d-768fb1e54ab1"
      },
      "execution_count": 50,
      "outputs": [
        {
          "output_type": "stream",
          "name": "stdout",
          "text": [
            "                           image_path  label  ... correct missclassified\n",
            "102   data/Camera 1/train/c0/2307.jpg    0.0  ...   False           True\n",
            "117   data/Camera 1/train/c0/2346.jpg    0.0  ...   False           True\n",
            "133   data/Camera 1/train/c0/2371.jpg    0.0  ...   False           True\n",
            "137   data/Camera 1/train/c0/2376.jpg    0.0  ...   False           True\n",
            "138   data/Camera 1/train/c0/2377.jpg    0.0  ...   False           True\n",
            "...                               ...    ...  ...     ...            ...\n",
            "7201  data/StateFarm/c9/img_96579.jpg    9.0  ...   False           True\n",
            "7206  data/StateFarm/c9/img_97863.jpg    9.0  ...   False           True\n",
            "7208  data/StateFarm/c9/img_98296.jpg    9.0  ...   False           True\n",
            "7212  data/StateFarm/c9/img_99733.jpg    9.0  ...   False           True\n",
            "7213  data/StateFarm/c9/img_99801.jpg    9.0  ...   False           True\n",
            "\n",
            "[1655 rows x 7 columns]\n"
          ]
        }
      ]
    }
  ]
}