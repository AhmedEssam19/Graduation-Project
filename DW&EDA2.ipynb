{
 "cells": [
  {
   "cell_type": "code",
   "execution_count": 1,
   "metadata": {},
   "outputs": [],
   "source": [
    "import pandas as pd\n",
    "\n",
    "train_df = pd.read_csv('data/train.csv')\n",
    "val_df = pd.read_csv('data/val.csv')\n",
    "test_df = pd.read_csv('data/test.csv')"
   ]
  },
  {
   "cell_type": "code",
   "execution_count": 2,
   "metadata": {},
   "outputs": [
    {
     "data": {
      "text/plain": [
       "14478"
      ]
     },
     "execution_count": 2,
     "metadata": {},
     "output_type": "execute_result"
    }
   ],
   "source": [
    "df1 = train_df.append(val_df, ignore_index=True).append(test_df, ignore_index=True)\n",
    "\n",
    "len(df1)"
   ]
  },
  {
   "cell_type": "code",
   "execution_count": 3,
   "metadata": {},
   "outputs": [
    {
     "data": {
      "text/html": [
       "<div>\n",
       "<style scoped>\n",
       "    .dataframe tbody tr th:only-of-type {\n",
       "        vertical-align: middle;\n",
       "    }\n",
       "\n",
       "    .dataframe tbody tr th {\n",
       "        vertical-align: top;\n",
       "    }\n",
       "\n",
       "    .dataframe thead th {\n",
       "        text-align: right;\n",
       "    }\n",
       "</style>\n",
       "<table border=\"1\" class=\"dataframe\">\n",
       "  <thead>\n",
       "    <tr style=\"text-align: right;\">\n",
       "      <th></th>\n",
       "      <th>image_path</th>\n",
       "      <th>label</th>\n",
       "      <th>subject</th>\n",
       "      <th>source</th>\n",
       "    </tr>\n",
       "  </thead>\n",
       "  <tbody>\n",
       "    <tr>\n",
       "      <th>0</th>\n",
       "      <td>data/Camera 1/train/c0/1000.jpg</td>\n",
       "      <td>0</td>\n",
       "      <td>7</td>\n",
       "      <td>1</td>\n",
       "    </tr>\n",
       "    <tr>\n",
       "      <th>1</th>\n",
       "      <td>data/Camera 1/train/c0/1001.jpg</td>\n",
       "      <td>0</td>\n",
       "      <td>7</td>\n",
       "      <td>1</td>\n",
       "    </tr>\n",
       "    <tr>\n",
       "      <th>2</th>\n",
       "      <td>data/Camera 1/train/c0/1002.jpg</td>\n",
       "      <td>0</td>\n",
       "      <td>7</td>\n",
       "      <td>1</td>\n",
       "    </tr>\n",
       "    <tr>\n",
       "      <th>3</th>\n",
       "      <td>data/Camera 1/train/c0/1003.jpg</td>\n",
       "      <td>0</td>\n",
       "      <td>7</td>\n",
       "      <td>1</td>\n",
       "    </tr>\n",
       "    <tr>\n",
       "      <th>4</th>\n",
       "      <td>data/Camera 1/train/c0/1004.jpg</td>\n",
       "      <td>0</td>\n",
       "      <td>7</td>\n",
       "      <td>1</td>\n",
       "    </tr>\n",
       "  </tbody>\n",
       "</table>\n",
       "</div>"
      ],
      "text/plain": [
       "                        image_path  label  subject  source\n",
       "0  data/Camera 1/train/c0/1000.jpg      0        7       1\n",
       "1  data/Camera 1/train/c0/1001.jpg      0        7       1\n",
       "2  data/Camera 1/train/c0/1002.jpg      0        7       1\n",
       "3  data/Camera 1/train/c0/1003.jpg      0        7       1\n",
       "4  data/Camera 1/train/c0/1004.jpg      0        7       1"
      ]
     },
     "execution_count": 3,
     "metadata": {},
     "output_type": "execute_result"
    }
   ],
   "source": [
    "df1.rename(columns={'camera': 'source'}, inplace=True)\n",
    "df1.head()"
   ]
  },
  {
   "cell_type": "code",
   "execution_count": 4,
   "metadata": {},
   "outputs": [
    {
     "name": "stdout",
     "output_type": "stream",
     "text": [
      "<class 'pandas.core.frame.DataFrame'>\n",
      "RangeIndex: 14478 entries, 0 to 14477\n",
      "Data columns (total 4 columns):\n",
      " #   Column      Non-Null Count  Dtype \n",
      "---  ------      --------------  ----- \n",
      " 0   image_path  14478 non-null  object\n",
      " 1   label       14478 non-null  int64 \n",
      " 2   subject     14478 non-null  object\n",
      " 3   source      14478 non-null  int64 \n",
      "dtypes: int64(2), object(2)\n",
      "memory usage: 452.6+ KB\n"
     ]
    }
   ],
   "source": [
    "df1['subject'] = df1.subject.astype(str)\n",
    "df1.info()"
   ]
  },
  {
   "cell_type": "code",
   "execution_count": 5,
   "metadata": {},
   "outputs": [
    {
     "data": {
      "text/html": [
       "<div>\n",
       "<style scoped>\n",
       "    .dataframe tbody tr th:only-of-type {\n",
       "        vertical-align: middle;\n",
       "    }\n",
       "\n",
       "    .dataframe tbody tr th {\n",
       "        vertical-align: top;\n",
       "    }\n",
       "\n",
       "    .dataframe thead th {\n",
       "        text-align: right;\n",
       "    }\n",
       "</style>\n",
       "<table border=\"1\" class=\"dataframe\">\n",
       "  <thead>\n",
       "    <tr style=\"text-align: right;\">\n",
       "      <th></th>\n",
       "      <th>image_path</th>\n",
       "      <th>label</th>\n",
       "      <th>subject</th>\n",
       "      <th>source</th>\n",
       "    </tr>\n",
       "  </thead>\n",
       "  <tbody>\n",
       "    <tr>\n",
       "      <th>0</th>\n",
       "      <td>data/Camera 1/train/c0/1000.jpg</td>\n",
       "      <td>0</td>\n",
       "      <td>p7</td>\n",
       "      <td>Camera 1</td>\n",
       "    </tr>\n",
       "    <tr>\n",
       "      <th>1</th>\n",
       "      <td>data/Camera 1/train/c0/1001.jpg</td>\n",
       "      <td>0</td>\n",
       "      <td>p7</td>\n",
       "      <td>Camera 1</td>\n",
       "    </tr>\n",
       "    <tr>\n",
       "      <th>2</th>\n",
       "      <td>data/Camera 1/train/c0/1002.jpg</td>\n",
       "      <td>0</td>\n",
       "      <td>p7</td>\n",
       "      <td>Camera 1</td>\n",
       "    </tr>\n",
       "    <tr>\n",
       "      <th>3</th>\n",
       "      <td>data/Camera 1/train/c0/1003.jpg</td>\n",
       "      <td>0</td>\n",
       "      <td>p7</td>\n",
       "      <td>Camera 1</td>\n",
       "    </tr>\n",
       "    <tr>\n",
       "      <th>4</th>\n",
       "      <td>data/Camera 1/train/c0/1004.jpg</td>\n",
       "      <td>0</td>\n",
       "      <td>p7</td>\n",
       "      <td>Camera 1</td>\n",
       "    </tr>\n",
       "  </tbody>\n",
       "</table>\n",
       "</div>"
      ],
      "text/plain": [
       "                        image_path  label subject    source\n",
       "0  data/Camera 1/train/c0/1000.jpg      0      p7  Camera 1\n",
       "1  data/Camera 1/train/c0/1001.jpg      0      p7  Camera 1\n",
       "2  data/Camera 1/train/c0/1002.jpg      0      p7  Camera 1\n",
       "3  data/Camera 1/train/c0/1003.jpg      0      p7  Camera 1\n",
       "4  data/Camera 1/train/c0/1004.jpg      0      p7  Camera 1"
      ]
     },
     "execution_count": 5,
     "metadata": {},
     "output_type": "execute_result"
    }
   ],
   "source": [
    "df1.loc[df1.source == 1, 'source'] = 'Camera 1'\n",
    "df1.loc[df1.source == 2, 'source'] = 'Camera 2'\n",
    "df1['subject'] = 'p' + df1.subject\n",
    "df1.head()"
   ]
  },
  {
   "cell_type": "code",
   "execution_count": 6,
   "metadata": {},
   "outputs": [
    {
     "data": {
      "text/html": [
       "<div>\n",
       "<style scoped>\n",
       "    .dataframe tbody tr th:only-of-type {\n",
       "        vertical-align: middle;\n",
       "    }\n",
       "\n",
       "    .dataframe tbody tr th {\n",
       "        vertical-align: top;\n",
       "    }\n",
       "\n",
       "    .dataframe thead th {\n",
       "        text-align: right;\n",
       "    }\n",
       "</style>\n",
       "<table border=\"1\" class=\"dataframe\">\n",
       "  <thead>\n",
       "    <tr style=\"text-align: right;\">\n",
       "      <th></th>\n",
       "      <th>image_path</th>\n",
       "      <th>label</th>\n",
       "    </tr>\n",
       "  </thead>\n",
       "  <tbody>\n",
       "    <tr>\n",
       "      <th>0</th>\n",
       "      <td>data/StateFarm/c0/img_100026.jpg</td>\n",
       "      <td>0</td>\n",
       "    </tr>\n",
       "    <tr>\n",
       "      <th>1</th>\n",
       "      <td>data/StateFarm/c0/img_10003.jpg</td>\n",
       "      <td>0</td>\n",
       "    </tr>\n",
       "    <tr>\n",
       "      <th>2</th>\n",
       "      <td>data/StateFarm/c0/img_100050.jpg</td>\n",
       "      <td>0</td>\n",
       "    </tr>\n",
       "    <tr>\n",
       "      <th>3</th>\n",
       "      <td>data/StateFarm/c0/img_100074.jpg</td>\n",
       "      <td>0</td>\n",
       "    </tr>\n",
       "    <tr>\n",
       "      <th>4</th>\n",
       "      <td>data/StateFarm/c0/img_10012.jpg</td>\n",
       "      <td>0</td>\n",
       "    </tr>\n",
       "  </tbody>\n",
       "</table>\n",
       "</div>"
      ],
      "text/plain": [
       "                         image_path  label\n",
       "0  data/StateFarm/c0/img_100026.jpg      0\n",
       "1   data/StateFarm/c0/img_10003.jpg      0\n",
       "2  data/StateFarm/c0/img_100050.jpg      0\n",
       "3  data/StateFarm/c0/img_100074.jpg      0\n",
       "4   data/StateFarm/c0/img_10012.jpg      0"
      ]
     },
     "execution_count": 6,
     "metadata": {},
     "output_type": "execute_result"
    }
   ],
   "source": [
    "import glob\n",
    "\n",
    "df2 = []\n",
    "for filepath in glob.glob('data/StateFarm/*/*'):\n",
    "    classId = filepath.split('/')[-2][1:]\n",
    "    df2.append({\n",
    "        'image_path': filepath,\n",
    "        'label': int(classId)\n",
    "    })\n",
    "    \n",
    "df2 = pd.DataFrame(df2)\n",
    "df2.head()"
   ]
  },
  {
   "cell_type": "code",
   "execution_count": 7,
   "metadata": {},
   "outputs": [],
   "source": [
    "subjects = pd.read_csv('data/driver_imgs_list.csv')"
   ]
  },
  {
   "cell_type": "code",
   "execution_count": 8,
   "metadata": {},
   "outputs": [
    {
     "data": {
      "text/html": [
       "<div>\n",
       "<style scoped>\n",
       "    .dataframe tbody tr th:only-of-type {\n",
       "        vertical-align: middle;\n",
       "    }\n",
       "\n",
       "    .dataframe tbody tr th {\n",
       "        vertical-align: top;\n",
       "    }\n",
       "\n",
       "    .dataframe thead th {\n",
       "        text-align: right;\n",
       "    }\n",
       "</style>\n",
       "<table border=\"1\" class=\"dataframe\">\n",
       "  <thead>\n",
       "    <tr style=\"text-align: right;\">\n",
       "      <th></th>\n",
       "      <th>subject</th>\n",
       "      <th>classname</th>\n",
       "      <th>img</th>\n",
       "    </tr>\n",
       "  </thead>\n",
       "  <tbody>\n",
       "    <tr>\n",
       "      <th>0</th>\n",
       "      <td>p002</td>\n",
       "      <td>c0</td>\n",
       "      <td>img_44733.jpg</td>\n",
       "    </tr>\n",
       "    <tr>\n",
       "      <th>1</th>\n",
       "      <td>p002</td>\n",
       "      <td>c0</td>\n",
       "      <td>img_72999.jpg</td>\n",
       "    </tr>\n",
       "    <tr>\n",
       "      <th>2</th>\n",
       "      <td>p002</td>\n",
       "      <td>c0</td>\n",
       "      <td>img_25094.jpg</td>\n",
       "    </tr>\n",
       "    <tr>\n",
       "      <th>3</th>\n",
       "      <td>p002</td>\n",
       "      <td>c0</td>\n",
       "      <td>img_69092.jpg</td>\n",
       "    </tr>\n",
       "    <tr>\n",
       "      <th>4</th>\n",
       "      <td>p002</td>\n",
       "      <td>c0</td>\n",
       "      <td>img_92629.jpg</td>\n",
       "    </tr>\n",
       "  </tbody>\n",
       "</table>\n",
       "</div>"
      ],
      "text/plain": [
       "  subject classname            img\n",
       "0    p002        c0  img_44733.jpg\n",
       "1    p002        c0  img_72999.jpg\n",
       "2    p002        c0  img_25094.jpg\n",
       "3    p002        c0  img_69092.jpg\n",
       "4    p002        c0  img_92629.jpg"
      ]
     },
     "execution_count": 8,
     "metadata": {},
     "output_type": "execute_result"
    }
   ],
   "source": [
    "subjects.head()"
   ]
  },
  {
   "cell_type": "code",
   "execution_count": 9,
   "metadata": {},
   "outputs": [
    {
     "data": {
      "text/html": [
       "<div>\n",
       "<style scoped>\n",
       "    .dataframe tbody tr th:only-of-type {\n",
       "        vertical-align: middle;\n",
       "    }\n",
       "\n",
       "    .dataframe tbody tr th {\n",
       "        vertical-align: top;\n",
       "    }\n",
       "\n",
       "    .dataframe thead th {\n",
       "        text-align: right;\n",
       "    }\n",
       "</style>\n",
       "<table border=\"1\" class=\"dataframe\">\n",
       "  <thead>\n",
       "    <tr style=\"text-align: right;\">\n",
       "      <th></th>\n",
       "      <th>subject</th>\n",
       "      <th>classname</th>\n",
       "      <th>img</th>\n",
       "    </tr>\n",
       "  </thead>\n",
       "  <tbody>\n",
       "    <tr>\n",
       "      <th>0</th>\n",
       "      <td>p002</td>\n",
       "      <td>c0</td>\n",
       "      <td>data/StateFarm/c0/img_44733.jpg</td>\n",
       "    </tr>\n",
       "    <tr>\n",
       "      <th>1</th>\n",
       "      <td>p002</td>\n",
       "      <td>c0</td>\n",
       "      <td>data/StateFarm/c0/img_72999.jpg</td>\n",
       "    </tr>\n",
       "    <tr>\n",
       "      <th>2</th>\n",
       "      <td>p002</td>\n",
       "      <td>c0</td>\n",
       "      <td>data/StateFarm/c0/img_25094.jpg</td>\n",
       "    </tr>\n",
       "    <tr>\n",
       "      <th>3</th>\n",
       "      <td>p002</td>\n",
       "      <td>c0</td>\n",
       "      <td>data/StateFarm/c0/img_69092.jpg</td>\n",
       "    </tr>\n",
       "    <tr>\n",
       "      <th>4</th>\n",
       "      <td>p002</td>\n",
       "      <td>c0</td>\n",
       "      <td>data/StateFarm/c0/img_92629.jpg</td>\n",
       "    </tr>\n",
       "  </tbody>\n",
       "</table>\n",
       "</div>"
      ],
      "text/plain": [
       "  subject classname                              img\n",
       "0    p002        c0  data/StateFarm/c0/img_44733.jpg\n",
       "1    p002        c0  data/StateFarm/c0/img_72999.jpg\n",
       "2    p002        c0  data/StateFarm/c0/img_25094.jpg\n",
       "3    p002        c0  data/StateFarm/c0/img_69092.jpg\n",
       "4    p002        c0  data/StateFarm/c0/img_92629.jpg"
      ]
     },
     "execution_count": 9,
     "metadata": {},
     "output_type": "execute_result"
    }
   ],
   "source": [
    "subjects['img'] = 'data/StateFarm/' + subjects.classname + '/' + subjects.img\n",
    "\n",
    "subjects.head()"
   ]
  },
  {
   "cell_type": "code",
   "execution_count": 10,
   "metadata": {},
   "outputs": [
    {
     "data": {
      "text/html": [
       "<div>\n",
       "<style scoped>\n",
       "    .dataframe tbody tr th:only-of-type {\n",
       "        vertical-align: middle;\n",
       "    }\n",
       "\n",
       "    .dataframe tbody tr th {\n",
       "        vertical-align: top;\n",
       "    }\n",
       "\n",
       "    .dataframe thead th {\n",
       "        text-align: right;\n",
       "    }\n",
       "</style>\n",
       "<table border=\"1\" class=\"dataframe\">\n",
       "  <thead>\n",
       "    <tr style=\"text-align: right;\">\n",
       "      <th></th>\n",
       "      <th>image_path</th>\n",
       "      <th>label</th>\n",
       "      <th>subject</th>\n",
       "      <th>classname</th>\n",
       "      <th>img</th>\n",
       "    </tr>\n",
       "  </thead>\n",
       "  <tbody>\n",
       "    <tr>\n",
       "      <th>0</th>\n",
       "      <td>data/StateFarm/c0/img_100026.jpg</td>\n",
       "      <td>0</td>\n",
       "      <td>p015</td>\n",
       "      <td>c0</td>\n",
       "      <td>data/StateFarm/c0/img_100026.jpg</td>\n",
       "    </tr>\n",
       "    <tr>\n",
       "      <th>1</th>\n",
       "      <td>data/StateFarm/c0/img_10003.jpg</td>\n",
       "      <td>0</td>\n",
       "      <td>p022</td>\n",
       "      <td>c0</td>\n",
       "      <td>data/StateFarm/c0/img_10003.jpg</td>\n",
       "    </tr>\n",
       "    <tr>\n",
       "      <th>2</th>\n",
       "      <td>data/StateFarm/c0/img_100050.jpg</td>\n",
       "      <td>0</td>\n",
       "      <td>p022</td>\n",
       "      <td>c0</td>\n",
       "      <td>data/StateFarm/c0/img_100050.jpg</td>\n",
       "    </tr>\n",
       "    <tr>\n",
       "      <th>3</th>\n",
       "      <td>data/StateFarm/c0/img_100074.jpg</td>\n",
       "      <td>0</td>\n",
       "      <td>p051</td>\n",
       "      <td>c0</td>\n",
       "      <td>data/StateFarm/c0/img_100074.jpg</td>\n",
       "    </tr>\n",
       "    <tr>\n",
       "      <th>4</th>\n",
       "      <td>data/StateFarm/c0/img_10012.jpg</td>\n",
       "      <td>0</td>\n",
       "      <td>p002</td>\n",
       "      <td>c0</td>\n",
       "      <td>data/StateFarm/c0/img_10012.jpg</td>\n",
       "    </tr>\n",
       "  </tbody>\n",
       "</table>\n",
       "</div>"
      ],
      "text/plain": [
       "                         image_path  label subject classname  \\\n",
       "0  data/StateFarm/c0/img_100026.jpg      0    p015        c0   \n",
       "1   data/StateFarm/c0/img_10003.jpg      0    p022        c0   \n",
       "2  data/StateFarm/c0/img_100050.jpg      0    p022        c0   \n",
       "3  data/StateFarm/c0/img_100074.jpg      0    p051        c0   \n",
       "4   data/StateFarm/c0/img_10012.jpg      0    p002        c0   \n",
       "\n",
       "                                img  \n",
       "0  data/StateFarm/c0/img_100026.jpg  \n",
       "1   data/StateFarm/c0/img_10003.jpg  \n",
       "2  data/StateFarm/c0/img_100050.jpg  \n",
       "3  data/StateFarm/c0/img_100074.jpg  \n",
       "4   data/StateFarm/c0/img_10012.jpg  "
      ]
     },
     "execution_count": 10,
     "metadata": {},
     "output_type": "execute_result"
    }
   ],
   "source": [
    "df2 = pd.merge(df2, subjects, left_on='image_path', right_on='img', sort=False)\n",
    "\n",
    "df2.head()"
   ]
  },
  {
   "cell_type": "code",
   "execution_count": 11,
   "metadata": {},
   "outputs": [
    {
     "data": {
      "text/html": [
       "<div>\n",
       "<style scoped>\n",
       "    .dataframe tbody tr th:only-of-type {\n",
       "        vertical-align: middle;\n",
       "    }\n",
       "\n",
       "    .dataframe tbody tr th {\n",
       "        vertical-align: top;\n",
       "    }\n",
       "\n",
       "    .dataframe thead th {\n",
       "        text-align: right;\n",
       "    }\n",
       "</style>\n",
       "<table border=\"1\" class=\"dataframe\">\n",
       "  <thead>\n",
       "    <tr style=\"text-align: right;\">\n",
       "      <th></th>\n",
       "      <th>image_path</th>\n",
       "      <th>label</th>\n",
       "      <th>subject</th>\n",
       "      <th>source</th>\n",
       "    </tr>\n",
       "  </thead>\n",
       "  <tbody>\n",
       "    <tr>\n",
       "      <th>0</th>\n",
       "      <td>data/StateFarm/c0/img_100026.jpg</td>\n",
       "      <td>0</td>\n",
       "      <td>p015</td>\n",
       "      <td>StateFarm</td>\n",
       "    </tr>\n",
       "    <tr>\n",
       "      <th>1</th>\n",
       "      <td>data/StateFarm/c0/img_10003.jpg</td>\n",
       "      <td>0</td>\n",
       "      <td>p022</td>\n",
       "      <td>StateFarm</td>\n",
       "    </tr>\n",
       "    <tr>\n",
       "      <th>2</th>\n",
       "      <td>data/StateFarm/c0/img_100050.jpg</td>\n",
       "      <td>0</td>\n",
       "      <td>p022</td>\n",
       "      <td>StateFarm</td>\n",
       "    </tr>\n",
       "    <tr>\n",
       "      <th>3</th>\n",
       "      <td>data/StateFarm/c0/img_100074.jpg</td>\n",
       "      <td>0</td>\n",
       "      <td>p051</td>\n",
       "      <td>StateFarm</td>\n",
       "    </tr>\n",
       "    <tr>\n",
       "      <th>4</th>\n",
       "      <td>data/StateFarm/c0/img_10012.jpg</td>\n",
       "      <td>0</td>\n",
       "      <td>p002</td>\n",
       "      <td>StateFarm</td>\n",
       "    </tr>\n",
       "  </tbody>\n",
       "</table>\n",
       "</div>"
      ],
      "text/plain": [
       "                         image_path  label subject     source\n",
       "0  data/StateFarm/c0/img_100026.jpg      0    p015  StateFarm\n",
       "1   data/StateFarm/c0/img_10003.jpg      0    p022  StateFarm\n",
       "2  data/StateFarm/c0/img_100050.jpg      0    p022  StateFarm\n",
       "3  data/StateFarm/c0/img_100074.jpg      0    p051  StateFarm\n",
       "4   data/StateFarm/c0/img_10012.jpg      0    p002  StateFarm"
      ]
     },
     "execution_count": 11,
     "metadata": {},
     "output_type": "execute_result"
    }
   ],
   "source": [
    "df2 = df2[['image_path', 'label', 'subject']]\n",
    "df2['source'] = 'StateFarm'\n",
    "\n",
    "df2.head()"
   ]
  },
  {
   "cell_type": "code",
   "execution_count": 12,
   "metadata": {},
   "outputs": [
    {
     "name": "stdout",
     "output_type": "stream",
     "text": [
      "<class 'pandas.core.frame.DataFrame'>\n",
      "Int64Index: 36902 entries, 0 to 22423\n",
      "Data columns (total 4 columns):\n",
      " #   Column      Non-Null Count  Dtype \n",
      "---  ------      --------------  ----- \n",
      " 0   image_path  36902 non-null  object\n",
      " 1   label       36902 non-null  int64 \n",
      " 2   subject     36902 non-null  object\n",
      " 3   source      36902 non-null  object\n",
      "dtypes: int64(1), object(3)\n",
      "memory usage: 1.4+ MB\n"
     ]
    }
   ],
   "source": [
    "df = df1.append(df2)\n",
    "\n",
    "df.info()"
   ]
  },
  {
   "cell_type": "code",
   "execution_count": 13,
   "metadata": {},
   "outputs": [
    {
     "data": {
      "text/plain": [
       "array(['p7', 'p8', 'p11', 'p12', 'p14', 'p15', 'p16', 'p17', 'p18', 'p19',\n",
       "       'p20', 'p21', 'p27', 'p23', 'p24', 'p25', 'p2', 'p3', 'p4', 'p5',\n",
       "       'p6', 'p28', 'p32', 'p42', 'p44', 'p34', 'p35', 'p36', 'p37',\n",
       "       'p40', 'p9', 'p10', 'p13', 'p22', 'p26', 'p1', 'p43', 'p33', 'p29',\n",
       "       'p30', 'p31', 'p45', 'p38', 'p39', 'p41', 'p015', 'p022', 'p051',\n",
       "       'p002', 'p042', 'p050', 'p021', 'p014', 'p026', 'p072', 'p045',\n",
       "       'p064', 'p075', 'p012', 'p052', 'p047', 'p039', 'p061', 'p035',\n",
       "       'p041', 'p081', 'p024', 'p049', 'p016', 'p066', 'p056'],\n",
       "      dtype=object)"
      ]
     },
     "execution_count": 13,
     "metadata": {},
     "output_type": "execute_result"
    }
   ],
   "source": [
    "df.subject.unique()"
   ]
  },
  {
   "cell_type": "code",
   "execution_count": 14,
   "metadata": {},
   "outputs": [],
   "source": [
    "from sklearn.model_selection import GroupShuffleSplit\n",
    "\n",
    "gss = GroupShuffleSplit(n_splits=1, train_size=.6, random_state=42)\n",
    "\n",
    "for train_idx, val_test_idx in gss.split(df, groups=df.subject):\n",
    "    val_test_df = df.iloc[val_test_idx]\n",
    "    train_df = df.iloc[train_idx]"
   ]
  },
  {
   "cell_type": "code",
   "execution_count": 15,
   "metadata": {},
   "outputs": [],
   "source": [
    "gss = GroupShuffleSplit(n_splits=1, train_size=.5, random_state=42)\n",
    "\n",
    "for val_idx, test_idx in gss.split(val_test_df, groups=val_test_df.subject):\n",
    "    test_df = df.iloc[test_idx]\n",
    "    val_df = df.iloc[val_idx]"
   ]
  },
  {
   "cell_type": "code",
   "execution_count": 16,
   "metadata": {},
   "outputs": [],
   "source": [
    "import matplotlib.pyplot as plt\n",
    "import seaborn as sns\n",
    "\n",
    "sns.set()\n",
    "\n",
    "\n",
    "def explore(df):\n",
    "    plt.figure(figsize=(15, 10))\n",
    "    # class distribution\n",
    "    sns.countplot(x='label', data=df)\n",
    "    plt.title(f'Class Distribution')\n",
    "    plt.show()"
   ]
  },
  {
   "cell_type": "code",
   "execution_count": 17,
   "metadata": {},
   "outputs": [
    {
     "data": {
      "image/png": "[encoded data removed]",
      "text/plain": [
       "<Figure size 1080x720 with 1 Axes>"
      ]
     },
     "metadata": {},
     "output_type": "display_data"
    }
   ],
   "source": [
    "explore(train_df)"
   ]
  },
  {
   "cell_type": "code",
   "execution_count": 18,
   "metadata": {},
   "outputs": [
    {
     "data": {
      "image/png": "[encoded data removed]",
      "text/plain": [
       "<Figure size 1080x720 with 1 Axes>"
      ]
     },
     "metadata": {},
     "output_type": "display_data"
    }
   ],
   "source": [
    "explore(val_df)"
   ]
  },
  {
   "cell_type": "code",
   "execution_count": 19,
   "metadata": {},
   "outputs": [
    {
     "data": {
      "image/png": "[encoded data removed]",
      "text/plain": [
       "<Figure size 1080x720 with 1 Axes>"
      ]
     },
     "metadata": {},
     "output_type": "display_data"
    }
   ],
   "source": [
    "explore(test_df)"
   ]
  },
  {
   "cell_type": "code",
   "execution_count": 20,
   "metadata": {},
   "outputs": [],
   "source": [
    "train_df.to_csv('train.csv', index=False)\n",
    "val_df.to_csv('val.csv', index=False)\n",
    "test_df.to_csv('test.csv', index=False)"
   ]
  },
  {
   "cell_type": "code",
   "execution_count": null,
   "metadata": {},
   "outputs": [],
   "source": []
  }
 ],
 "metadata": {
  "kernelspec": {
   "display_name": "venv",
   "language": "python",
   "name": "venv"
  },
  "language_info": {
   "codemirror_mode": {
    "name": "ipython",
    "version": 3
   },
   "file_extension": ".py",
   "mimetype": "text/x-python",
   "name": "python",
   "nbconvert_exporter": "python",
   "pygments_lexer": "ipython3",
   "version": "3.8.0"
  }
 },
 "nbformat": 4,
 "nbformat_minor": 4
}
