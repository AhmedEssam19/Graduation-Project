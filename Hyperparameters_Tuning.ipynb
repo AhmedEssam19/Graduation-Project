{
  "nbformat": 4,
  "nbformat_minor": 0,
  "metadata": {
    "colab": {
      "name": "Hyperparameters Tuning.ipynb",
      "provenance": [],
      "collapsed_sections": [],
      "authorship_tag": "ABX9TyN5KCnte7ZL0yW+e2X6rSCI",
      "include_colab_link": true
    },
    "kernelspec": {
      "name": "python3",
      "display_name": "Python 3"
    },
    "language_info": {
      "name": "python"
    },
    "accelerator": "GPU",
    "widgets": {
      "application/vnd.jupyter.widget-state+json": {
        "c94d531fdbdd4f63bccb7038d18cc997": {
          "model_module": "@jupyter-widgets/controls",
          "model_name": "HBoxModel",
          "model_module_version": "1.5.0",
          "state": {
            "_view_name": "HBoxView",
            "_dom_classes": [],
            "_model_name": "HBoxModel",
            "_view_module": "@jupyter-widgets/controls",
            "_model_module_version": "1.5.0",
            "_view_count": null,
            "_view_module_version": "1.5.0",
            "box_style": "",
            "layout": "IPY_MODEL_6538f7f141324065bf6181de40229019",
            "_model_module": "@jupyter-widgets/controls",
            "children": [
              "IPY_MODEL_f6b5290ac95b460894579ce830dd41a1",
              "IPY_MODEL_a279c58a36514a00b661110e8a649425",
              "IPY_MODEL_5606cf53f88b4222800033af4fa7967f"
            ]
          }
        },
        "6538f7f141324065bf6181de40229019": {
          "model_module": "@jupyter-widgets/base",
          "model_name": "LayoutModel",
          "model_module_version": "1.2.0",
          "state": {
            "_view_name": "LayoutView",
            "grid_template_rows": null,
            "right": null,
            "justify_content": null,
            "_view_module": "@jupyter-widgets/base",
            "overflow": null,
            "_model_module_version": "1.2.0",
            "_view_count": null,
            "flex_flow": "row wrap",
            "width": "100%",
            "min_width": null,
            "border": null,
            "align_items": null,
            "bottom": null,
            "_model_module": "@jupyter-widgets/base",
            "top": null,
            "grid_column": null,
            "overflow_y": null,
            "overflow_x": null,
            "grid_auto_flow": null,
            "grid_area": null,
            "grid_template_columns": null,
            "flex": null,
            "_model_name": "LayoutModel",
            "justify_items": null,
            "grid_row": null,
            "max_height": null,
            "align_content": null,
            "visibility": null,
            "align_self": null,
            "height": null,
            "min_height": null,
            "padding": null,
            "grid_auto_rows": null,
            "grid_gap": null,
            "max_width": null,
            "order": null,
            "_view_module_version": "1.2.0",
            "grid_template_areas": null,
            "object_position": null,
            "object_fit": null,
            "grid_auto_columns": null,
            "margin": null,
            "display": "inline-flex",
            "left": null
          }
        },
        "f6b5290ac95b460894579ce830dd41a1": {
          "model_module": "@jupyter-widgets/controls",
          "model_name": "HTMLModel",
          "model_module_version": "1.5.0",
          "state": {
            "_view_name": "HTMLView",
            "style": "IPY_MODEL_9712cfba83254d559758bad12970c971",
            "_dom_classes": [],
            "description": "",
            "_model_name": "HTMLModel",
            "placeholder": "​",
            "_view_module": "@jupyter-widgets/controls",
            "_model_module_version": "1.5.0",
            "value": "Validation sanity check: 100%",
            "_view_count": null,
            "_view_module_version": "1.5.0",
            "description_tooltip": null,
            "_model_module": "@jupyter-widgets/controls",
            "layout": "IPY_MODEL_6f3bf3db7f0b4bdfba51152a8eeb0dff"
          }
        },
        "a279c58a36514a00b661110e8a649425": {
          "model_module": "@jupyter-widgets/controls",
          "model_name": "FloatProgressModel",
          "model_module_version": "1.5.0",
          "state": {
            "_view_name": "ProgressView",
            "style": "IPY_MODEL_c54fd2d32e1b452894591fb707ea1f71",
            "_dom_classes": [],
            "description": "",
            "_model_name": "FloatProgressModel",
            "bar_style": "",
            "max": 2,
            "_view_module": "@jupyter-widgets/controls",
            "_model_module_version": "1.5.0",
            "value": 2,
            "_view_count": null,
            "_view_module_version": "1.5.0",
            "orientation": "horizontal",
            "min": 0,
            "description_tooltip": null,
            "_model_module": "@jupyter-widgets/controls",
            "layout": "IPY_MODEL_be90cf3d5d854126a4ca28d8d57db4a2"
          }
        },
        "5606cf53f88b4222800033af4fa7967f": {
          "model_module": "@jupyter-widgets/controls",
          "model_name": "HTMLModel",
          "model_module_version": "1.5.0",
          "state": {
            "_view_name": "HTMLView",
            "style": "IPY_MODEL_65bc0b85ab794436ac4c5128329f907e",
            "_dom_classes": [],
            "description": "",
            "_model_name": "HTMLModel",
            "placeholder": "​",
            "_view_module": "@jupyter-widgets/controls",
            "_model_module_version": "1.5.0",
            "value": " 2/2 [00:58&lt;00:00, 29.43s/it]",
            "_view_count": null,
            "_view_module_version": "1.5.0",
            "description_tooltip": null,
            "_model_module": "@jupyter-widgets/controls",
            "layout": "IPY_MODEL_543f9b75a7ae411f8e24e93fb1283a7e"
          }
        },
        "9712cfba83254d559758bad12970c971": {
          "model_module": "@jupyter-widgets/controls",
          "model_name": "DescriptionStyleModel",
          "model_module_version": "1.5.0",
          "state": {
            "_view_name": "StyleView",
            "_model_name": "DescriptionStyleModel",
            "description_width": "",
            "_view_module": "@jupyter-widgets/base",
            "_model_module_version": "1.5.0",
            "_view_count": null,
            "_view_module_version": "1.2.0",
            "_model_module": "@jupyter-widgets/controls"
          }
        },
        "6f3bf3db7f0b4bdfba51152a8eeb0dff": {
          "model_module": "@jupyter-widgets/base",
          "model_name": "LayoutModel",
          "model_module_version": "1.2.0",
          "state": {
            "_view_name": "LayoutView",
            "grid_template_rows": null,
            "right": null,
            "justify_content": null,
            "_view_module": "@jupyter-widgets/base",
            "overflow": null,
            "_model_module_version": "1.2.0",
            "_view_count": null,
            "flex_flow": null,
            "width": null,
            "min_width": null,
            "border": null,
            "align_items": null,
            "bottom": null,
            "_model_module": "@jupyter-widgets/base",
            "top": null,
            "grid_column": null,
            "overflow_y": null,
            "overflow_x": null,
            "grid_auto_flow": null,
            "grid_area": null,
            "grid_template_columns": null,
            "flex": null,
            "_model_name": "LayoutModel",
            "justify_items": null,
            "grid_row": null,
            "max_height": null,
            "align_content": null,
            "visibility": null,
            "align_self": null,
            "height": null,
            "min_height": null,
            "padding": null,
            "grid_auto_rows": null,
            "grid_gap": null,
            "max_width": null,
            "order": null,
            "_view_module_version": "1.2.0",
            "grid_template_areas": null,
            "object_position": null,
            "object_fit": null,
            "grid_auto_columns": null,
            "margin": null,
            "display": null,
            "left": null
          }
        },
        "c54fd2d32e1b452894591fb707ea1f71": {
          "model_module": "@jupyter-widgets/controls",
          "model_name": "ProgressStyleModel",
          "model_module_version": "1.5.0",
          "state": {
            "_view_name": "StyleView",
            "_model_name": "ProgressStyleModel",
            "description_width": "",
            "_view_module": "@jupyter-widgets/base",
            "_model_module_version": "1.5.0",
            "_view_count": null,
            "_view_module_version": "1.2.0",
            "bar_color": null,
            "_model_module": "@jupyter-widgets/controls"
          }
        },
        "be90cf3d5d854126a4ca28d8d57db4a2": {
          "model_module": "@jupyter-widgets/base",
          "model_name": "LayoutModel",
          "model_module_version": "1.2.0",
          "state": {
            "_view_name": "LayoutView",
            "grid_template_rows": null,
            "right": null,
            "justify_content": null,
            "_view_module": "@jupyter-widgets/base",
            "overflow": null,
            "_model_module_version": "1.2.0",
            "_view_count": null,
            "flex_flow": null,
            "width": null,
            "min_width": null,
            "border": null,
            "align_items": null,
            "bottom": null,
            "_model_module": "@jupyter-widgets/base",
            "top": null,
            "grid_column": null,
            "overflow_y": null,
            "overflow_x": null,
            "grid_auto_flow": null,
            "grid_area": null,
            "grid_template_columns": null,
            "flex": "2",
            "_model_name": "LayoutModel",
            "justify_items": null,
            "grid_row": null,
            "max_height": null,
            "align_content": null,
            "visibility": null,
            "align_self": null,
            "height": null,
            "min_height": null,
            "padding": null,
            "grid_auto_rows": null,
            "grid_gap": null,
            "max_width": null,
            "order": null,
            "_view_module_version": "1.2.0",
            "grid_template_areas": null,
            "object_position": null,
            "object_fit": null,
            "grid_auto_columns": null,
            "margin": null,
            "display": null,
            "left": null
          }
        },
        "65bc0b85ab794436ac4c5128329f907e": {
          "model_module": "@jupyter-widgets/controls",
          "model_name": "DescriptionStyleModel",
          "model_module_version": "1.5.0",
          "state": {
            "_view_name": "StyleView",
            "_model_name": "DescriptionStyleModel",
            "description_width": "",
            "_view_module": "@jupyter-widgets/base",
            "_model_module_version": "1.5.0",
            "_view_count": null,
            "_view_module_version": "1.2.0",
            "_model_module": "@jupyter-widgets/controls"
          }
        },
        "543f9b75a7ae411f8e24e93fb1283a7e": {
          "model_module": "@jupyter-widgets/base",
          "model_name": "LayoutModel",
          "model_module_version": "1.2.0",
          "state": {
            "_view_name": "LayoutView",
            "grid_template_rows": null,
            "right": null,
            "justify_content": null,
            "_view_module": "@jupyter-widgets/base",
            "overflow": null,
            "_model_module_version": "1.2.0",
            "_view_count": null,
            "flex_flow": null,
            "width": null,
            "min_width": null,
            "border": null,
            "align_items": null,
            "bottom": null,
            "_model_module": "@jupyter-widgets/base",
            "top": null,
            "grid_column": null,
            "overflow_y": null,
            "overflow_x": null,
            "grid_auto_flow": null,
            "grid_area": null,
            "grid_template_columns": null,
            "flex": null,
            "_model_name": "LayoutModel",
            "justify_items": null,
            "grid_row": null,
            "max_height": null,
            "align_content": null,
            "visibility": null,
            "align_self": null,
            "height": null,
            "min_height": null,
            "padding": null,
            "grid_auto_rows": null,
            "grid_gap": null,
            "max_width": null,
            "order": null,
            "_view_module_version": "1.2.0",
            "grid_template_areas": null,
            "object_position": null,
            "object_fit": null,
            "grid_auto_columns": null,
            "margin": null,
            "display": null,
            "left": null
          }
        },
        "b82cfa3b5b214bf78d4ef1cc97a59d17": {
          "model_module": "@jupyter-widgets/controls",
          "model_name": "HBoxModel",
          "model_module_version": "1.5.0",
          "state": {
            "_view_name": "HBoxView",
            "_dom_classes": [],
            "_model_name": "HBoxModel",
            "_view_module": "@jupyter-widgets/controls",
            "_model_module_version": "1.5.0",
            "_view_count": null,
            "_view_module_version": "1.5.0",
            "box_style": "",
            "layout": "IPY_MODEL_e2b746d88bfd4d74920d3a1cd142dad6",
            "_model_module": "@jupyter-widgets/controls",
            "children": [
              "IPY_MODEL_8d5eb1683693441298519a0d3ea87277",
              "IPY_MODEL_1770d275e13641b598f1feecdbb57df9",
              "IPY_MODEL_d4d0ac28f95c4b51b5544ba6bf5728b7"
            ]
          }
        },
        "e2b746d88bfd4d74920d3a1cd142dad6": {
          "model_module": "@jupyter-widgets/base",
          "model_name": "LayoutModel",
          "model_module_version": "1.2.0",
          "state": {
            "_view_name": "LayoutView",
            "grid_template_rows": null,
            "right": null,
            "justify_content": null,
            "_view_module": "@jupyter-widgets/base",
            "overflow": null,
            "_model_module_version": "1.2.0",
            "_view_count": null,
            "flex_flow": "row wrap",
            "width": "100%",
            "min_width": null,
            "border": null,
            "align_items": null,
            "bottom": null,
            "_model_module": "@jupyter-widgets/base",
            "top": null,
            "grid_column": null,
            "overflow_y": null,
            "overflow_x": null,
            "grid_auto_flow": null,
            "grid_area": null,
            "grid_template_columns": null,
            "flex": null,
            "_model_name": "LayoutModel",
            "justify_items": null,
            "grid_row": null,
            "max_height": null,
            "align_content": null,
            "visibility": null,
            "align_self": null,
            "height": null,
            "min_height": null,
            "padding": null,
            "grid_auto_rows": null,
            "grid_gap": null,
            "max_width": null,
            "order": null,
            "_view_module_version": "1.2.0",
            "grid_template_areas": null,
            "object_position": null,
            "object_fit": null,
            "grid_auto_columns": null,
            "margin": null,
            "display": "inline-flex",
            "left": null
          }
        },
        "8d5eb1683693441298519a0d3ea87277": {
          "model_module": "@jupyter-widgets/controls",
          "model_name": "HTMLModel",
          "model_module_version": "1.5.0",
          "state": {
            "_view_name": "HTMLView",
            "style": "IPY_MODEL_b811f5d4a21046069798293e5062ad9e",
            "_dom_classes": [],
            "description": "",
            "_model_name": "HTMLModel",
            "placeholder": "​",
            "_view_module": "@jupyter-widgets/controls",
            "_model_module_version": "1.5.0",
            "value": "Epoch 0:   0%",
            "_view_count": null,
            "_view_module_version": "1.5.0",
            "description_tooltip": null,
            "_model_module": "@jupyter-widgets/controls",
            "layout": "IPY_MODEL_d1ad7bc933c94d62add0032c8a82804d"
          }
        },
        "1770d275e13641b598f1feecdbb57df9": {
          "model_module": "@jupyter-widgets/controls",
          "model_name": "FloatProgressModel",
          "model_module_version": "1.5.0",
          "state": {
            "_view_name": "ProgressView",
            "style": "IPY_MODEL_56b7bfd87d0c4570bc93b5a1863ee7da",
            "_dom_classes": [],
            "description": "",
            "_model_name": "FloatProgressModel",
            "bar_style": "",
            "max": 229,
            "_view_module": "@jupyter-widgets/controls",
            "_model_module_version": "1.5.0",
            "value": 0,
            "_view_count": null,
            "_view_module_version": "1.5.0",
            "orientation": "horizontal",
            "min": 0,
            "description_tooltip": null,
            "_model_module": "@jupyter-widgets/controls",
            "layout": "IPY_MODEL_6af1097b87ca4174a6d9debf8d16d24f"
          }
        },
        "d4d0ac28f95c4b51b5544ba6bf5728b7": {
          "model_module": "@jupyter-widgets/controls",
          "model_name": "HTMLModel",
          "model_module_version": "1.5.0",
          "state": {
            "_view_name": "HTMLView",
            "style": "IPY_MODEL_46c1da8d29c742158adfb4db7777836f",
            "_dom_classes": [],
            "description": "",
            "_model_name": "HTMLModel",
            "placeholder": "​",
            "_view_module": "@jupyter-widgets/controls",
            "_model_module_version": "1.5.0",
            "value": " 0/229 [00:00&lt;?, ?it/s]",
            "_view_count": null,
            "_view_module_version": "1.5.0",
            "description_tooltip": null,
            "_model_module": "@jupyter-widgets/controls",
            "layout": "IPY_MODEL_6cf808fca2914371807e8c32d903810a"
          }
        },
        "b811f5d4a21046069798293e5062ad9e": {
          "model_module": "@jupyter-widgets/controls",
          "model_name": "DescriptionStyleModel",
          "model_module_version": "1.5.0",
          "state": {
            "_view_name": "StyleView",
            "_model_name": "DescriptionStyleModel",
            "description_width": "",
            "_view_module": "@jupyter-widgets/base",
            "_model_module_version": "1.5.0",
            "_view_count": null,
            "_view_module_version": "1.2.0",
            "_model_module": "@jupyter-widgets/controls"
          }
        },
        "d1ad7bc933c94d62add0032c8a82804d": {
          "model_module": "@jupyter-widgets/base",
          "model_name": "LayoutModel",
          "model_module_version": "1.2.0",
          "state": {
            "_view_name": "LayoutView",
            "grid_template_rows": null,
            "right": null,
            "justify_content": null,
            "_view_module": "@jupyter-widgets/base",
            "overflow": null,
            "_model_module_version": "1.2.0",
            "_view_count": null,
            "flex_flow": null,
            "width": null,
            "min_width": null,
            "border": null,
            "align_items": null,
            "bottom": null,
            "_model_module": "@jupyter-widgets/base",
            "top": null,
            "grid_column": null,
            "overflow_y": null,
            "overflow_x": null,
            "grid_auto_flow": null,
            "grid_area": null,
            "grid_template_columns": null,
            "flex": null,
            "_model_name": "LayoutModel",
            "justify_items": null,
            "grid_row": null,
            "max_height": null,
            "align_content": null,
            "visibility": null,
            "align_self": null,
            "height": null,
            "min_height": null,
            "padding": null,
            "grid_auto_rows": null,
            "grid_gap": null,
            "max_width": null,
            "order": null,
            "_view_module_version": "1.2.0",
            "grid_template_areas": null,
            "object_position": null,
            "object_fit": null,
            "grid_auto_columns": null,
            "margin": null,
            "display": null,
            "left": null
          }
        },
        "56b7bfd87d0c4570bc93b5a1863ee7da": {
          "model_module": "@jupyter-widgets/controls",
          "model_name": "ProgressStyleModel",
          "model_module_version": "1.5.0",
          "state": {
            "_view_name": "StyleView",
            "_model_name": "ProgressStyleModel",
            "description_width": "",
            "_view_module": "@jupyter-widgets/base",
            "_model_module_version": "1.5.0",
            "_view_count": null,
            "_view_module_version": "1.2.0",
            "bar_color": null,
            "_model_module": "@jupyter-widgets/controls"
          }
        },
        "6af1097b87ca4174a6d9debf8d16d24f": {
          "model_module": "@jupyter-widgets/base",
          "model_name": "LayoutModel",
          "model_module_version": "1.2.0",
          "state": {
            "_view_name": "LayoutView",
            "grid_template_rows": null,
            "right": null,
            "justify_content": null,
            "_view_module": "@jupyter-widgets/base",
            "overflow": null,
            "_model_module_version": "1.2.0",
            "_view_count": null,
            "flex_flow": null,
            "width": null,
            "min_width": null,
            "border": null,
            "align_items": null,
            "bottom": null,
            "_model_module": "@jupyter-widgets/base",
            "top": null,
            "grid_column": null,
            "overflow_y": null,
            "overflow_x": null,
            "grid_auto_flow": null,
            "grid_area": null,
            "grid_template_columns": null,
            "flex": "2",
            "_model_name": "LayoutModel",
            "justify_items": null,
            "grid_row": null,
            "max_height": null,
            "align_content": null,
            "visibility": null,
            "align_self": null,
            "height": null,
            "min_height": null,
            "padding": null,
            "grid_auto_rows": null,
            "grid_gap": null,
            "max_width": null,
            "order": null,
            "_view_module_version": "1.2.0",
            "grid_template_areas": null,
            "object_position": null,
            "object_fit": null,
            "grid_auto_columns": null,
            "margin": null,
            "display": null,
            "left": null
          }
        },
        "46c1da8d29c742158adfb4db7777836f": {
          "model_module": "@jupyter-widgets/controls",
          "model_name": "DescriptionStyleModel",
          "model_module_version": "1.5.0",
          "state": {
            "_view_name": "StyleView",
            "_model_name": "DescriptionStyleModel",
            "description_width": "",
            "_view_module": "@jupyter-widgets/base",
            "_model_module_version": "1.5.0",
            "_view_count": null,
            "_view_module_version": "1.2.0",
            "_model_module": "@jupyter-widgets/controls"
          }
        },
        "6cf808fca2914371807e8c32d903810a": {
          "model_module": "@jupyter-widgets/base",
          "model_name": "LayoutModel",
          "model_module_version": "1.2.0",
          "state": {
            "_view_name": "LayoutView",
            "grid_template_rows": null,
            "right": null,
            "justify_content": null,
            "_view_module": "@jupyter-widgets/base",
            "overflow": null,
            "_model_module_version": "1.2.0",
            "_view_count": null,
            "flex_flow": null,
            "width": null,
            "min_width": null,
            "border": null,
            "align_items": null,
            "bottom": null,
            "_model_module": "@jupyter-widgets/base",
            "top": null,
            "grid_column": null,
            "overflow_y": null,
            "overflow_x": null,
            "grid_auto_flow": null,
            "grid_area": null,
            "grid_template_columns": null,
            "flex": null,
            "_model_name": "LayoutModel",
            "justify_items": null,
            "grid_row": null,
            "max_height": null,
            "align_content": null,
            "visibility": null,
            "align_self": null,
            "height": null,
            "min_height": null,
            "padding": null,
            "grid_auto_rows": null,
            "grid_gap": null,
            "max_width": null,
            "order": null,
            "_view_module_version": "1.2.0",
            "grid_template_areas": null,
            "object_position": null,
            "object_fit": null,
            "grid_auto_columns": null,
            "margin": null,
            "display": null,
            "left": null
          }
        }
      }
    }
  },
  "cells": [
    {
      "cell_type": "markdown",
      "metadata": {
        "id": "view-in-github",
        "colab_type": "text"
      },
      "source": [
        "<a href=\"https://colab.research.google.com/github/AhmedEssam19/Graduation-Project/blob/Hyperparameter-Tuning/Hyperparameters_Tuning.ipynb\" target=\"_parent\"><img src=\"https://colab.research.google.com/assets/colab-badge.svg\" alt=\"Open In Colab\"/></a>"
      ]
    },
    {
      "cell_type": "code",
      "source": [
        "from google.colab import drive\n",
        "drive.mount('/content/drive/',force_remount=True)"
      ],
      "metadata": {
        "colab": {
          "base_uri": "https://localhost:8080/"
        },
        "id": "kegeM-Kn_j-9",
        "outputId": "18f77cb8-ca78-450f-cae8-6a122bdc3d8c"
      },
      "execution_count": 1,
      "outputs": [
        {
          "output_type": "stream",
          "name": "stdout",
          "text": [
            "Mounted at /content/drive/\n"
          ]
        }
      ]
    },
    {
      "cell_type": "code",
      "source": [
        "!unzip '/content/drive/MyDrive/Colab Notebooks/data.zip' -d '/content/'"
      ],
      "metadata": {
        "id": "8Ooan6d4Lgmz"
      },
      "execution_count": null,
      "outputs": []
    },
    {
      "cell_type": "code",
      "execution_count": null,
      "metadata": {
        "id": "nLKBVgCzpYbh"
      },
      "outputs": [],
      "source": [
        "pip install torch torchvision pytorch-lightning"
      ]
    },
    {
      "cell_type": "code",
      "source": [
        "!pip install wandb --upgrade"
      ],
      "metadata": {
        "id": "FqdipjEznx_p"
      },
      "execution_count": null,
      "outputs": []
    },
    {
      "cell_type": "code",
      "source": [
        "import wandb\n",
        "\n",
        "wandb.login()"
      ],
      "metadata": {
        "id": "Lc9E9E4-n5BH"
      },
      "execution_count": null,
      "outputs": []
    },
    {
      "cell_type": "code",
      "source": [
        "import torch\n",
        "import torch.nn as nn\n",
        "import torch.optim as optim  \n",
        "import torchvision.transforms as transforms\n",
        "import torchvision\n",
        "import os\n",
        "from torchvision.io import decode_jpeg\n",
        "import pandas as pd\n",
        "import torch.nn.functional as F\n",
        "from torch.utils.data import Dataset, DataLoader, TensorDataset\n",
        "from torchvision import datasets,models\n",
        "from torchvision.transforms import ToTensor\n",
        "import matplotlib.pyplot as plt\n",
        "from torchvision.io import read_image\n",
        "import pytorch_lightning as pl\n",
        "import torchmetrics\n",
        "from torch import nn\n",
        "import math\n",
        "from pytorch_lightning.loggers import TensorBoardLogger, WandbLogger"
      ],
      "metadata": {
        "id": "0O9vcHPMpc5p"
      },
      "execution_count": 15,
      "outputs": []
    },
    {
      "cell_type": "code",
      "source": [
        "NUM_CLASSES = 10\n",
        "BATCH_SIZE = 32\n",
        "\n",
        "data_dir = '/content/data/'\n",
        "ckpt_dir = '/content/results/checkpoints/'\n",
        "log_dir = '/content/results/logs/'\n",
        "submission_dir = '/content/results/submissions/'"
      ],
      "metadata": {
        "id": "El5YyoW2LlpD"
      },
      "execution_count": 8,
      "outputs": []
    },
    {
      "cell_type": "code",
      "source": [
        "class CreateDataset(Dataset):\n",
        "    def __init__(self, df,transform=False):\n",
        "        self.df = df\n",
        "        self.transform = transform\n",
        "\n",
        "    def __len__(self):\n",
        "        return len(self.df)\n",
        "\n",
        "    def __getitem__(self, index):   \n",
        "        img_path = self.df.iloc[index, 0]\n",
        "        image = read_image(img_path) / 255.0\n",
        "        label = self.df.iloc[index, 1]\n",
        "\n",
        "        if self.transform:\n",
        "            image = self.transform(image)\n",
        "\n",
        "        return image, label"
      ],
      "metadata": {
        "id": "ntwXIWSNLotK"
      },
      "execution_count": 9,
      "outputs": []
    },
    {
      "cell_type": "code",
      "source": [
        "transformers = transforms.Compose([\n",
        "    transforms.Resize((224, 224)),\n",
        "    transforms.Normalize(mean=[0.485, 0.456, 0.406], std=[0.229, 0.224, 0.225]),\n",
        "])"
      ],
      "metadata": {
        "id": "T7hRfvrIOymm"
      },
      "execution_count": 10,
      "outputs": []
    },
    {
      "cell_type": "code",
      "source": [
        "#search space\n",
        "import math\n",
        "\n",
        "sweep_config = {\n",
        "    'method': 'random',\n",
        "    'metric':{\n",
        "      'name': 'loss',\n",
        "      'goal': 'minimize'   \n",
        "      },\n",
        "    'parameters':{\n",
        "        'learning_rate':{\n",
        "            #'values':[1e-5,1e-4,1e-3,1e-2,1e-1],\n",
        "            'distribution': 'uniform',\n",
        "            'min': 0,\n",
        "            'max': 0.1\n",
        "            },\n",
        "        'dropout':{\n",
        "            #'values':[0.1,0.15,0.2,0.25],\n",
        "            'distribution': 'uniform',\n",
        "            'min': 0,\n",
        "            'max': 0.3\n",
        "            },\n",
        "        'batch_size':{\n",
        "            #'values':[16,32,64,128],\n",
        "            'distribution': 'q_log_uniform',\n",
        "            'q': 1,\n",
        "            'min': math.log(32),\n",
        "            'max': math.log(256),\n",
        "            }\n",
        "    }\n",
        "}"
      ],
      "metadata": {
        "id": "LiuJ4QKvG9qq"
      },
      "execution_count": 11,
      "outputs": []
    },
    {
      "cell_type": "code",
      "source": [
        "import pprint\n",
        "\n",
        "pprint.pprint(sweep_config)"
      ],
      "metadata": {
        "colab": {
          "base_uri": "https://localhost:8080/"
        },
        "id": "tRfpSHV-oR4-",
        "outputId": "74527dd5-a2a6-4cbd-f2bc-e697a3660d19"
      },
      "execution_count": 12,
      "outputs": [
        {
          "output_type": "stream",
          "name": "stdout",
          "text": [
            "{'method': 'random',\n",
            " 'metric': {'goal': 'minimize', 'name': 'loss'},\n",
            " 'parameters': {'batch_size': {'distribution': 'q_log_uniform',\n",
            "                               'max': 5.545177444479562,\n",
            "                               'min': 3.4657359027997265,\n",
            "                               'q': 1},\n",
            "                'dropout': {'distribution': 'uniform', 'max': 0.3, 'min': 0},\n",
            "                'learning_rate': {'distribution': 'uniform',\n",
            "                                  'max': 0.1,\n",
            "                                  'min': 0}}}\n"
          ]
        }
      ]
    },
    {
      "cell_type": "code",
      "source": [
        "class DistractionDataModule(pl.LightningDataModule):\n",
        "  def __init__(self, data_dir, batch_size):\n",
        "        super().__init__()\n",
        "        self.data_dir = data_dir\n",
        "        self.batch_size = batch_size\n",
        "\n",
        "  def setup(self,stage=None):\n",
        "        train_df = pd.read_csv(self.data_dir+\"train.csv\")\n",
        "        self.train_set = CreateDataset(train_df,transformers)\n",
        "\n",
        "        val_df = pd.read_csv(self.data_dir+\"val.csv\")\n",
        "        self.val_set = CreateDataset(val_df,transformers)\n",
        "\n",
        "        test_df = pd.read_csv(self.data_dir+\"test.csv\")\n",
        "        self.test_set = CreateDataset(test_df,transformers)\n",
        "\n",
        "  def train_dataloader(self):\n",
        "        return DataLoader(self.train_set, self.batch_size, shuffle=True)\n",
        "\n",
        "  def val_dataloader(self):\n",
        "        return DataLoader(self.val_set, self.batch_size, shuffle=False)\n",
        "    \n",
        "  def test_dataloader(self):\n",
        "        return DataLoader(self.test_set, self.batch_size, shuffle=False)"
      ],
      "metadata": {
        "id": "9cxhGTnkUUDH"
      },
      "execution_count": 13,
      "outputs": []
    },
    {
      "cell_type": "code",
      "source": [
        "class Model(pl.LightningModule):\n",
        "    def __init__(self, output_units, learning_rate, dropout, freeze_base=False):\n",
        "        super().__init__()\n",
        "        self.base_model = torchvision.models.resnet50(pretrained=True)\n",
        "        \n",
        "        freezing_layers = [\n",
        "            self.base_model.conv1,\n",
        "            self.base_model.bn1,\n",
        "            self.base_model.layer1,\n",
        "            self.base_model.layer2,\n",
        "        ]\n",
        "        for layer in freezing_layers:\n",
        "          for param in layer.parameters():\n",
        "            param.requires_grad = False\n",
        "    \n",
        "                \n",
        "        self.base_model.fc = torch.nn.Linear(in_features=self.base_model.fc.in_features, out_features=500)\n",
        "        self.dropout = torch.nn.Dropout(p=dropout)\n",
        "        self.clf = torch.nn.Linear(in_features=500, out_features=output_units)\n",
        "        \n",
        "        self.criterion = nn.CrossEntropyLoss()\n",
        "        self.train_acc = torchmetrics.Accuracy()\n",
        "        self.val_acc = torchmetrics.Accuracy()\n",
        "\n",
        "        self.learning_rate = learning_rate\n",
        "        self.save_hyperparameters()\n",
        "        \n",
        "    def forward(self, input_data):\n",
        "        features = self.base_model(input_data)\n",
        "        features = self.dropout(features)\n",
        "        return self.clf(features)\n",
        "\n",
        "    def training_step(self, batch, batch_nb):\n",
        "        input_data, targets = batch\n",
        "        preds = self(input_data)\n",
        "        loss = self.criterion(preds, targets)\n",
        "        self.log('train_loss', loss)\n",
        "        self.train_acc(preds, targets)\n",
        "        self.log('train_acc', self.train_acc, on_step=True, on_epoch=False, prog_bar=True)\n",
        "        wandb.log({\"train_loss\": loss})\n",
        "        return loss\n",
        "    \n",
        "    def validation_step(self, batch, batch_nb):\n",
        "        input_data, targets = batch\n",
        "        preds = self(input_data)\n",
        "        loss = self.criterion(preds, targets)\n",
        "        self.log('val_loss', loss, on_step=False, on_epoch=True, prog_bar=True)\n",
        "        self.val_acc(preds, targets)\n",
        "        self.log('val_acc', self.val_acc, on_step=False, on_epoch=True, prog_bar=True)\n",
        "\n",
        "    def test_step(self, batch, batch_nb):\n",
        "        self.validation_step(batch, batch_nb)\n",
        "        \n",
        "    def predict_step(self, batch, batch_nb):\n",
        "        input_data, targets = batch\n",
        "        preds = self(input_data)\n",
        "        return torch.argmax(preds, dim=1)\n",
        "    \n",
        "    def configure_optimizers(self):\n",
        "        return torch.optim.AdamW(self.parameters(), lr=self.learning_rate, weight_decay=0)"
      ],
      "metadata": {
        "id": "POuznoADpgsC"
      },
      "execution_count": 14,
      "outputs": []
    },
    {
      "cell_type": "code",
      "source": [
        "def train(config={\"learning_rate\": 1e-5, \"batch_size\": 16, \"dropout\": 0.2}):\n",
        "    # Initialize a new wandb run\n",
        "    with wandb.init(job_type=\"train\",config=config) as run :\n",
        "        # If called by wandb.agent, as below,\n",
        "        # this config will be set by Sweep Controller\n",
        "        config = run.config\n",
        "\n",
        "        # set up W&B logger\n",
        "        wandb_logger = WandbLogger(experiment=run, log_model=True)\n",
        "\n",
        "        # setup data\n",
        "        dm = DistractionDataModule(data_dir,config.batch_size)\n",
        "        dm.setup()\n",
        "\n",
        "        # setup model\n",
        "        model = Model(NUM_CLASSES,config.learning_rate,config.dropout)\n",
        "\n",
        "        callbacks = [\n",
        "          pl.callbacks.ModelCheckpoint(monitor='val_acc', dirpath=ckpt_dir, verbose=True, mode='max', filename='resnet50-t3-{val_acc:.4f}'),\n",
        "          pl.callbacks.EarlyStopping(monitor='val_acc', patience=20, verbose=True, mode='max')\n",
        "        ]\n",
        "\n",
        "        gpus = 1 if torch.cuda.is_available() else 0\n",
        "\n",
        "        # setup Trainer\n",
        "        trainer = pl.Trainer(\n",
        "            logger=wandb_logger,    # W&B integration\n",
        "            gpus=gpus,                # use all GPU's\n",
        "            max_epochs=2,            # number of epochs\n",
        "            callbacks=callbacks\n",
        "            )\n",
        "\n",
        "        # train\n",
        "        trainer.fit(model, dm.train_dataloader(), dm.val_dataloader())"
      ],
      "metadata": {
        "id": "Bl1R-y4zooj9"
      },
      "execution_count": 19,
      "outputs": []
    },
    {
      "cell_type": "code",
      "source": [
        "sweep_id = wandb.sweep(sweep_config, project=\"distraction\")"
      ],
      "metadata": {
        "colab": {
          "base_uri": "https://localhost:8080/"
        },
        "id": "YOljBI22oiO9",
        "outputId": "912777e6-bc1e-43c4-b5da-0a9f67936dcb"
      },
      "execution_count": 17,
      "outputs": [
        {
          "output_type": "stream",
          "name": "stdout",
          "text": [
            "Create sweep with ID: abthe5m2\n",
            "Sweep URL: https://wandb.ai/youssef-mostafa/distraction/sweeps/abthe5m2\n"
          ]
        }
      ]
    },
    {
      "cell_type": "code",
      "source": [
        "wandb.agent(sweep_id, function=train)"
      ],
      "metadata": {
        "colab": {
          "base_uri": "https://localhost:8080/",
          "height": 518,
          "referenced_widgets": [
            "c94d531fdbdd4f63bccb7038d18cc997",
            "6538f7f141324065bf6181de40229019",
            "f6b5290ac95b460894579ce830dd41a1",
            "a279c58a36514a00b661110e8a649425",
            "5606cf53f88b4222800033af4fa7967f",
            "9712cfba83254d559758bad12970c971",
            "6f3bf3db7f0b4bdfba51152a8eeb0dff",
            "c54fd2d32e1b452894591fb707ea1f71",
            "be90cf3d5d854126a4ca28d8d57db4a2",
            "65bc0b85ab794436ac4c5128329f907e",
            "543f9b75a7ae411f8e24e93fb1283a7e",
            "b82cfa3b5b214bf78d4ef1cc97a59d17",
            "e2b746d88bfd4d74920d3a1cd142dad6",
            "8d5eb1683693441298519a0d3ea87277",
            "1770d275e13641b598f1feecdbb57df9",
            "d4d0ac28f95c4b51b5544ba6bf5728b7",
            "b811f5d4a21046069798293e5062ad9e",
            "d1ad7bc933c94d62add0032c8a82804d",
            "56b7bfd87d0c4570bc93b5a1863ee7da",
            "6af1097b87ca4174a6d9debf8d16d24f",
            "46c1da8d29c742158adfb4db7777836f",
            "6cf808fca2914371807e8c32d903810a"
          ]
        },
        "id": "KxOknvKxotDm",
        "outputId": "3568585b-9aae-4001-a79e-9a1b903243bd"
      },
      "execution_count": null,
      "outputs": [
        {
          "output_type": "stream",
          "name": "stderr",
          "text": [
            "\u001b[34m\u001b[1mwandb\u001b[0m: Agent Starting Run: e5zrp4gx with config:\n",
            "\u001b[34m\u001b[1mwandb\u001b[0m: \tbatch_size: 128\n",
            "\u001b[34m\u001b[1mwandb\u001b[0m: \tdropout: 0.14948090757121912\n",
            "\u001b[34m\u001b[1mwandb\u001b[0m: \tlearning_rate: 0.061384109053975656\n"
          ]
        },
        {
          "output_type": "display_data",
          "data": {
            "text/html": [
              "Tracking run with wandb version 0.12.11"
            ],
            "text/plain": [
              "<IPython.core.display.HTML object>"
            ]
          },
          "metadata": {}
        },
        {
          "output_type": "display_data",
          "data": {
            "text/html": [
              "Run data is saved locally in <code>/content/wandb/run-20220303_122549-e5zrp4gx</code>"
            ],
            "text/plain": [
              "<IPython.core.display.HTML object>"
            ]
          },
          "metadata": {}
        },
        {
          "output_type": "display_data",
          "data": {
            "text/html": [
              "Syncing run <strong><a href=\"https://wandb.ai/youssef-mostafa/distraction/runs/e5zrp4gx\" target=\"_blank\">sandy-sweep-2</a></strong> to <a href=\"https://wandb.ai/youssef-mostafa/distraction\" target=\"_blank\">Weights & Biases</a> (<a href=\"https://wandb.me/run\" target=\"_blank\">docs</a>)<br/>Sweep page:  <a href=\"https://wandb.ai/youssef-mostafa/distraction/sweeps/abthe5m2\" target=\"_blank\">https://wandb.ai/youssef-mostafa/distraction/sweeps/abthe5m2</a>"
            ],
            "text/plain": [
              "<IPython.core.display.HTML object>"
            ]
          },
          "metadata": {}
        },
        {
          "output_type": "stream",
          "name": "stderr",
          "text": [
            "GPU available: False, used: False\n",
            "TPU available: False, using: 0 TPU cores\n",
            "IPU available: False, using: 0 IPUs\n",
            "\u001b[34m\u001b[1mwandb\u001b[0m: \u001b[33mWARNING\u001b[0m Config item 'learning_rate' was locked by 'sweep' (ignored update).\n",
            "\u001b[34m\u001b[1mwandb\u001b[0m: \u001b[33mWARNING\u001b[0m Config item 'dropout' was locked by 'sweep' (ignored update).\n",
            "\n",
            "  | Name       | Type             | Params\n",
            "------------------------------------------------\n",
            "0 | base_model | ResNet           | 24.5 M\n",
            "1 | dropout    | Dropout          | 0     \n",
            "2 | clf        | Linear           | 5.0 K \n",
            "3 | criterion  | CrossEntropyLoss | 0     \n",
            "4 | train_acc  | Accuracy         | 0     \n",
            "5 | val_acc    | Accuracy         | 0     \n",
            "------------------------------------------------\n",
            "23.1 M    Trainable params\n",
            "1.4 M     Non-trainable params\n",
            "24.5 M    Total params\n",
            "98.150    Total estimated model params size (MB)\n"
          ]
        },
        {
          "output_type": "display_data",
          "data": {
            "application/vnd.jupyter.widget-view+json": {
              "model_id": "c94d531fdbdd4f63bccb7038d18cc997",
              "version_minor": 0,
              "version_major": 2
            },
            "text/plain": [
              "Validation sanity check: 0it [00:00, ?it/s]"
            ]
          },
          "metadata": {}
        },
        {
          "output_type": "display_data",
          "data": {
            "application/vnd.jupyter.widget-view+json": {
              "model_id": "b82cfa3b5b214bf78d4ef1cc97a59d17",
              "version_minor": 0,
              "version_major": 2
            },
            "text/plain": [
              "Training: 0it [00:00, ?it/s]"
            ]
          },
          "metadata": {}
        }
      ]
    }
  ]
}